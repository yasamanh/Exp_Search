{
 "cells": [
  {
   "cell_type": "code",
   "execution_count": 229,
   "metadata": {
    "collapsed": true
   },
   "outputs": [],
   "source": [
    "import json\n",
    "f1 = open(\"/Users/alinamazi/Data/results/Feb/Followers/ua_account_feb.json\",'r')\n",
    "f2 = open(\"/Users/alinamazi/Data/results/March/Followers/ua_account_marchw12.json\",'r')\n",
    "f3 = open(\"/Users/alinamazi/Data/results/March/Followers/ua_account_marchw3.json\",'r')\n",
    "f4 = open(\"/Users/alinamazi/Data/results/March/Followers/ua_account_march.json\",'r')\n",
    "f5 = open(\"/Users/alinamazi/Data/results/April/Followers/ua_account_1.json\")\n",
    "out = open(\"/Users/alinamazi/Data/results/April/Followers/ua_account_feb_april.json\",'w')\n",
    "\n",
    "data1 = json.load(f1)\n",
    "data2 = json.load(f2)\n",
    "data3 = json.load(f3)\n",
    "data4 = json.load(f4)\n",
    "data5 = json.load(f5)\n",
    "\n",
    "new_data = {}\n",
    "new_data[\"tweets\"] = data1['tweets'] + data2['tweets'] + data3['tweets'] + data4['tweets'] + data5['tweets']\n",
    "\n",
    "out.write(json.dumps(new_data))\n",
    "out.close()"
   ]
  },
  {
   "cell_type": "code",
   "execution_count": 230,
   "metadata": {},
   "outputs": [
    {
     "name": "stdout",
     "output_type": "stream",
     "text": [
      "395\n"
     ]
    },
    {
     "data": {
      "text/plain": [
       "['tweets']"
      ]
     },
     "execution_count": 230,
     "metadata": {},
     "output_type": "execute_result"
    }
   ],
   "source": [
    "print len(new_data['tweets'])\n",
    "new_data.keys()"
   ]
  },
  {
   "cell_type": "code",
   "execution_count": 189,
   "metadata": {},
   "outputs": [
    {
     "data": {
      "text/plain": [
       "u'CBSMiami'"
      ]
     },
     "execution_count": 189,
     "metadata": {},
     "output_type": "execute_result"
    }
   ],
   "source": [
    "json_data['tweets'][0]['user']['screen_name']"
   ]
  },
  {
   "cell_type": "code",
   "execution_count": 12,
   "metadata": {},
   "outputs": [
    {
     "data": {
      "text/plain": [
       "251"
      ]
     },
     "execution_count": 12,
     "metadata": {},
     "output_type": "execute_result"
    }
   ],
   "source": [
    "json_data['tweets'][0]['user']['followers_count']"
   ]
  },
  {
   "cell_type": "code",
   "execution_count": 231,
   "metadata": {},
   "outputs": [
    {
     "name": "stdout",
     "output_type": "stream",
     "text": [
      "395 395\n"
     ]
    }
   ],
   "source": [
    "count = 0\n",
    "followers_list = []\n",
    "fav_list = []\n",
    "fr_list = []\n",
    "time_list = []\n",
    "screen_name = []\n",
    "for d in new_data['tweets']:\n",
    "    if 'user' in d:\n",
    "        #if d['user']['screen_name'] == 'united':\n",
    "            count += 1\n",
    "            fr_list.append(d['user']['friends_count'])\n",
    "            fav_list.append(d['user']['favourites_count'])\n",
    "            followers_list.append(d['user']['followers_count'])\n",
    "            time_list.append(d['created_at'])\n",
    "\n",
    "print (\"%s %s\" %( len(time_list), len(followers_list)))"
   ]
  },
  {
   "cell_type": "code",
   "execution_count": 202,
   "metadata": {},
   "outputs": [
    {
     "data": {
      "text/plain": [
       "[64653, 256, 7938, 18, 866, 179, 1096, 5371, 894, 1]"
      ]
     },
     "execution_count": 202,
     "metadata": {},
     "output_type": "execute_result"
    }
   ],
   "source": [
    "followers_list[:10],fav_list[:10],fr_list[:10]"
   ]
  },
  {
   "cell_type": "code",
   "execution_count": 228,
   "metadata": {},
   "outputs": [
    {
     "name": "stdout",
     "output_type": "stream",
     "text": [
      "('start reading file: ', 'statuses.log.2017-02-13-15.gz')\n",
      "<type 'exceptions.ValueError'>\n",
      "('start reading file: ', 'statuses.log.2017-02-13-16.gz')\n",
      "('done with file: ', 'statuses.log.2017-02-13-16.gz', ' This file takes 64.1381828785 seconds')\n",
      "('start reading file: ', 'statuses.log.2017-02-13-17.gz')\n",
      "<type 'exceptions.ValueError'>\n",
      "('start reading file: ', 'statuses.log.2017-02-13-18.gz')\n",
      "('done with file: ', 'statuses.log.2017-02-13-18.gz', ' This file takes 67.6184511185 seconds')\n",
      "('start reading file: ', 'statuses.log.2017-02-13-19.gz')\n",
      "('done with file: ', 'statuses.log.2017-02-13-19.gz', ' This file takes 64.7286949158 seconds')\n",
      "('start reading file: ', 'statuses.log.2017-02-13-20.gz')\n",
      "<type 'exceptions.ValueError'>\n",
      "('start reading file: ', 'statuses.log.2017-02-13-21.gz')\n",
      "('done with file: ', 'statuses.log.2017-02-13-21.gz', ' This file takes 67.2160441875 seconds')\n",
      "('start reading file: ', 'statuses.log.2017-02-13-22.gz')\n",
      "('done with file: ', 'statuses.log.2017-02-13-22.gz', ' This file takes 75.6914401054 seconds')\n",
      "('start reading file: ', 'statuses.log.2017-02-13-23.gz')\n",
      "('done with file: ', 'statuses.log.2017-02-13-23.gz', ' This file takes 68.2399611473 seconds')\n",
      "('start reading file: ', 'statuses.log.2017-02-14-00.gz')\n",
      "('done with file: ', 'statuses.log.2017-02-14-00.gz', ' This file takes 62.0656940937 seconds')\n",
      "('start reading file: ', 'statuses.log.2017-02-14-01.gz')\n",
      "<type 'exceptions.ValueError'>\n",
      "('start reading file: ', 'statuses.log.2017-02-14-02.gz')\n",
      "('done with file: ', 'statuses.log.2017-02-14-02.gz', ' This file takes 54.0232441425 seconds')\n",
      "('start reading file: ', 'statuses.log.2017-02-14-03.gz')\n",
      "('done with file: ', 'statuses.log.2017-02-14-03.gz', ' This file takes 56.4457249641 seconds')\n",
      "('start reading file: ', 'statuses.log.2017-02-14-04.gz')\n",
      "('done with file: ', 'statuses.log.2017-02-14-04.gz', ' This file takes 59.656842947 seconds')\n",
      "('start reading file: ', 'statuses.log.2017-02-14-05.gz')\n",
      "('done with file: ', 'statuses.log.2017-02-14-05.gz', ' This file takes 65.0737149715 seconds')\n",
      "('start reading file: ', 'statuses.log.2017-02-14-06.gz')\n",
      "('done with file: ', 'statuses.log.2017-02-14-06.gz', ' This file takes 72.0538468361 seconds')\n",
      "('start reading file: ', 'statuses.log.2017-02-14-07.gz')\n",
      "('done with file: ', 'statuses.log.2017-02-14-07.gz', ' This file takes 81.2193920612 seconds')\n",
      "('start reading file: ', 'statuses.log.2017-02-14-08.gz')\n",
      "('done with file: ', 'statuses.log.2017-02-14-08.gz', ' This file takes 87.9191939831 seconds')\n",
      "('start reading file: ', 'statuses.log.2017-02-14-09.gz')\n",
      "('done with file: ', 'statuses.log.2017-02-14-09.gz', ' This file takes 89.9489519596 seconds')\n",
      "('start reading file: ', 'statuses.log.2017-02-14-09bis.gz')\n",
      "<type 'exceptions.ValueError'>\n",
      "('start reading file: ', 'statuses.log.2017-02-14-10.gz')\n",
      "<type 'exceptions.ValueError'>\n",
      "('start reading file: ', 'statuses.log.2017-02-14-11.gz')\n",
      "<type 'exceptions.ValueError'>\n",
      "('start reading file: ', 'statuses.log.2017-02-14-12.gz')\n",
      "<type 'exceptions.ValueError'>\n",
      "('start reading file: ', 'statuses.log.2017-02-14-13.gz')\n",
      "<type 'exceptions.ValueError'>\n",
      "('start reading file: ', 'statuses.log.2017-02-14-14.gz')\n",
      "('done with file: ', 'statuses.log.2017-02-14-14.gz', ' This file takes 64.0131549835 seconds')\n",
      "('start reading file: ', 'statuses.log.2017-02-14-15.gz')\n",
      "('done with file: ', 'statuses.log.2017-02-14-15.gz', ' This file takes 65.8634660244 seconds')\n",
      "('start reading file: ', 'statuses.log.2017-02-14-16.gz')\n",
      "('done with file: ', 'statuses.log.2017-02-14-16.gz', ' This file takes 69.5076799393 seconds')\n",
      "('start reading file: ', 'statuses.log.2017-02-14-17.gz')\n",
      "('done with file: ', 'statuses.log.2017-02-14-17.gz', ' This file takes 72.0481529236 seconds')\n",
      "('start reading file: ', 'statuses.log.2017-02-14-18.gz')\n",
      "('done with file: ', 'statuses.log.2017-02-14-18.gz', ' This file takes 62.9294970036 seconds')\n",
      "('start reading file: ', 'statuses.log.2017-02-14-19.gz')\n",
      "('done with file: ', 'statuses.log.2017-02-14-19.gz', ' This file takes 58.992538929 seconds')\n",
      "('start reading file: ', 'statuses.log.2017-02-14-20.gz')\n",
      "('done with file: ', 'statuses.log.2017-02-14-20.gz', ' This file takes 59.3531739712 seconds')\n",
      "('start reading file: ', 'statuses.log.2017-02-14-21.gz')\n",
      "('done with file: ', 'statuses.log.2017-02-14-21.gz', ' This file takes 61.6234219074 seconds')\n",
      "('start reading file: ', 'statuses.log.2017-02-14-22.gz')\n",
      "('done with file: ', 'statuses.log.2017-02-14-22.gz', ' This file takes 66.2539219856 seconds')\n",
      "('start reading file: ', 'statuses.log.2017-02-14-23.gz')\n",
      "<type 'exceptions.ValueError'>\n",
      "('start reading file: ', 'statuses.log.2017-02-15-00.gz')\n",
      "('done with file: ', 'statuses.log.2017-02-15-00.gz', ' This file takes 51.5456459522 seconds')\n",
      "('start reading file: ', 'statuses.log.2017-02-15-01.gz')\n",
      "('done with file: ', 'statuses.log.2017-02-15-01.gz', ' This file takes 51.0221850872 seconds')\n",
      "('start reading file: ', 'statuses.log.2017-02-15-02.gz')\n",
      "('done with file: ', 'statuses.log.2017-02-15-02.gz', ' This file takes 45.9090058804 seconds')\n",
      "('start reading file: ', 'statuses.log.2017-02-15-03.gz')\n",
      "('done with file: ', 'statuses.log.2017-02-15-03.gz', ' This file takes 48.4768369198 seconds')\n",
      "('start reading file: ', 'statuses.log.2017-02-15-04.gz')\n",
      "('done with file: ', 'statuses.log.2017-02-15-04.gz', ' This file takes 51.6092348099 seconds')\n",
      "('start reading file: ', 'statuses.log.2017-02-15-05.gz')\n",
      "('done with file: ', 'statuses.log.2017-02-15-05.gz', ' This file takes 60.9701449871 seconds')\n",
      "('start reading file: ', 'statuses.log.2017-02-15-06.gz')\n",
      "('done with file: ', 'statuses.log.2017-02-15-06.gz', ' This file takes 63.8391690254 seconds')\n",
      "('start reading file: ', 'statuses.log.2017-02-15-07.gz')\n",
      "('done with file: ', 'statuses.log.2017-02-15-07.gz', ' This file takes 74.2006030083 seconds')\n",
      "('start reading file: ', 'statuses.log.2017-02-15-08.gz')\n",
      "('done with file: ', 'statuses.log.2017-02-15-08.gz', ' This file takes 78.4353179932 seconds')\n",
      "('start reading file: ', 'statuses.log.2017-02-15-09.gz')\n",
      "('done with file: ', 'statuses.log.2017-02-15-09.gz', ' This file takes 84.2281880379 seconds')\n",
      "('start reading file: ', 'statuses.log.2017-02-15-10.gz')\n",
      "<type 'exceptions.ValueError'>\n",
      "('start reading file: ', 'statuses.log.2017-02-15-11.gz')\n",
      "('done with file: ', 'statuses.log.2017-02-15-11.gz', ' This file takes 72.6104130745 seconds')\n",
      "('start reading file: ', 'statuses.log.2017-02-15-13.gz')\n",
      "<type 'exceptions.ValueError'>\n",
      "('start reading file: ', 'statuses.log.2017-02-15-14.gz')\n",
      "<type 'exceptions.ValueError'>\n",
      "('start reading file: ', 'statuses.log.2017-02-15-15.gz')\n",
      "('done with file: ', 'statuses.log.2017-02-15-15.gz', ' This file takes 62.5856609344 seconds')\n",
      "('start reading file: ', 'statuses.log.2017-02-15-16.gz')\n",
      "('done with file: ', 'statuses.log.2017-02-15-16.gz', ' This file takes 65.5699539185 seconds')\n",
      "('start reading file: ', 'statuses.log.2017-02-15-17.gz')\n",
      "('done with file: ', 'statuses.log.2017-02-15-17.gz', ' This file takes 68.8452439308 seconds')\n",
      "('start reading file: ', 'statuses.log.2017-02-15-18.gz')\n",
      "('done with file: ', 'statuses.log.2017-02-15-18.gz', ' This file takes 61.5622630119 seconds')\n",
      "('start reading file: ', 'statuses.log.2017-02-15-19.gz')\n",
      "('done with file: ', 'statuses.log.2017-02-15-19.gz', ' This file takes 58.9966371059 seconds')\n",
      "('start reading file: ', 'statuses.log.2017-02-15-20.gz')\n",
      "('done with file: ', 'statuses.log.2017-02-15-20.gz', ' This file takes 59.6378369331 seconds')\n",
      "('start reading file: ', 'statuses.log.2017-02-15-21.gz')\n",
      "('done with file: ', 'statuses.log.2017-02-15-21.gz', ' This file takes 63.2271988392 seconds')\n",
      "('start reading file: ', 'statuses.log.2017-02-15-22.gz')\n",
      "('done with file: ', 'statuses.log.2017-02-15-22.gz', ' This file takes 66.5934860706 seconds')\n",
      "('start reading file: ', 'statuses.log.2017-02-15-23.gz')\n",
      "('done with file: ', 'statuses.log.2017-02-15-23.gz', ' This file takes 58.4522340298 seconds')\n",
      "('start reading file: ', 'statuses.log.2017-02-16-00.gz')\n",
      "('done with file: ', 'statuses.log.2017-02-16-00.gz', ' This file takes 52.1142349243 seconds')\n",
      "('start reading file: ', 'statuses.log.2017-02-16-01.gz')\n",
      "('done with file: ', 'statuses.log.2017-02-16-01.gz', ' This file takes 51.885103941 seconds')\n",
      "('start reading file: ', 'statuses.log.2017-02-16-02.gz')\n"
     ]
    },
    {
     "name": "stdout",
     "output_type": "stream",
     "text": [
      "('done with file: ', 'statuses.log.2017-02-16-02.gz', ' This file takes 47.9627280235 seconds')\n",
      "('start reading file: ', 'statuses.log.2017-02-16-03.gz')\n",
      "('done with file: ', 'statuses.log.2017-02-16-03.gz', ' This file takes 49.5959739685 seconds')\n",
      "('start reading file: ', 'statuses.log.2017-02-16-04.gz')\n",
      "('done with file: ', 'statuses.log.2017-02-16-04.gz', ' This file takes 52.1273021698 seconds')\n",
      "('start reading file: ', 'statuses.log.2017-02-16-05.gz')\n",
      "('done with file: ', 'statuses.log.2017-02-16-05.gz', ' This file takes 59.2605991364 seconds')\n",
      "('start reading file: ', 'statuses.log.2017-02-16-06.gz')\n",
      "('done with file: ', 'statuses.log.2017-02-16-06.gz', ' This file takes 64.2323498726 seconds')\n",
      "('start reading file: ', 'statuses.log.2017-02-16-07.gz')\n",
      "('done with file: ', 'statuses.log.2017-02-16-07.gz', ' This file takes 72.0078659058 seconds')\n",
      "('start reading file: ', 'statuses.log.2017-02-16-08.gz')\n",
      "('done with file: ', 'statuses.log.2017-02-16-08.gz', ' This file takes 78.3010621071 seconds')\n",
      "('start reading file: ', 'statuses.log.2017-02-16-09.gz')\n",
      "('done with file: ', 'statuses.log.2017-02-16-09.gz', ' This file takes 86.4759559631 seconds')\n",
      "('start reading file: ', 'statuses.log.2017-02-16-10.gz')\n",
      "<type 'exceptions.ValueError'>\n",
      "('start reading file: ', 'statuses.log.2017-02-16-11.gz')\n",
      "('done with file: ', 'statuses.log.2017-02-16-11.gz', ' This file takes 71.9413330555 seconds')\n",
      "('start reading file: ', 'statuses.log.2017-02-16-12.gz')\n",
      "('done with file: ', 'statuses.log.2017-02-16-12.gz', ' This file takes 66.5044779778 seconds')\n",
      "('start reading file: ', 'statuses.log.2017-02-16-13.gz')\n",
      "('done with file: ', 'statuses.log.2017-02-16-13.gz', ' This file takes 69.1456902027 seconds')\n",
      "('start reading file: ', 'statuses.log.2017-02-16-14.gz')\n",
      "('done with file: ', 'statuses.log.2017-02-16-14.gz', ' This file takes 63.4296181202 seconds')\n",
      "('start reading file: ', 'statuses.log.2017-02-16-15.gz')\n",
      "<type 'exceptions.ValueError'>\n",
      "('start reading file: ', 'statuses.log.2017-02-16-16.gz')\n",
      "('done with file: ', 'statuses.log.2017-02-16-16.gz', ' This file takes 62.3468968868 seconds')\n",
      "('start reading file: ', 'statuses.log.2017-02-16-17.gz')\n",
      "('done with file: ', 'statuses.log.2017-02-16-17.gz', ' This file takes 69.5632479191 seconds')\n",
      "('start reading file: ', 'statuses.log.2017-02-16-18.gz')\n",
      "('done with file: ', 'statuses.log.2017-02-16-18.gz', ' This file takes 62.7629938126 seconds')\n",
      "('start reading file: ', 'statuses.log.2017-02-16-19.gz')\n",
      "('done with file: ', 'statuses.log.2017-02-16-19.gz', ' This file takes 59.060849905 seconds')\n",
      "('start reading file: ', 'statuses.log.2017-02-16-20.gz')\n",
      "<type 'exceptions.ValueError'>\n",
      "('start reading file: ', 'statuses.log.2017-02-16-21.gz')\n",
      "('done with file: ', 'statuses.log.2017-02-16-21.gz', ' This file takes 61.9667861462 seconds')\n",
      "('start reading file: ', 'statuses.log.2017-02-16-22.gz')\n",
      "('done with file: ', 'statuses.log.2017-02-16-22.gz', ' This file takes 64.9104380608 seconds')\n",
      "('start reading file: ', 'statuses.log.2017-02-16-23.gz')\n",
      "('done with file: ', 'statuses.log.2017-02-16-23.gz', ' This file takes 56.1979799271 seconds')\n",
      "('start reading file: ', 'statuses.log.2017-02-17-00.gz')\n",
      "('done with file: ', 'statuses.log.2017-02-17-00.gz', ' This file takes 50.3201920986 seconds')\n",
      "('start reading file: ', 'statuses.log.2017-02-17-01.gz')\n",
      "('done with file: ', 'statuses.log.2017-02-17-01.gz', ' This file takes 46.5000388622 seconds')\n",
      "('start reading file: ', 'statuses.log.2017-02-17-02.gz')\n",
      "('done with file: ', 'statuses.log.2017-02-17-02.gz', ' This file takes 48.6414020061 seconds')\n",
      "('start reading file: ', 'statuses.log.2017-02-17-03.gz')\n",
      "('done with file: ', 'statuses.log.2017-02-17-03.gz', ' This file takes 51.0337691307 seconds')\n",
      "('start reading file: ', 'statuses.log.2017-02-17-04.gz')\n",
      "('done with file: ', 'statuses.log.2017-02-17-04.gz', ' This file takes 51.4865729809 seconds')\n",
      "('start reading file: ', 'statuses.log.2017-02-17-05.gz')\n",
      "('done with file: ', 'statuses.log.2017-02-17-05.gz', ' This file takes 59.6362640858 seconds')\n",
      "('start reading file: ', 'statuses.log.2017-02-17-06.gz')\n",
      "('done with file: ', 'statuses.log.2017-02-17-06.gz', ' This file takes 64.0259301662 seconds')\n",
      "('start reading file: ', 'statuses.log.2017-02-17-07.gz')\n",
      "('done with file: ', 'statuses.log.2017-02-17-07.gz', ' This file takes 71.1339011192 seconds')\n",
      "('start reading file: ', 'statuses.log.2017-02-17-08.gz')\n",
      "('done with file: ', 'statuses.log.2017-02-17-08.gz', ' This file takes 77.2449378967 seconds')\n",
      "('start reading file: ', 'statuses.log.2017-02-17-09.gz')\n",
      "('done with file: ', 'statuses.log.2017-02-17-09.gz', ' This file takes 81.5434949398 seconds')\n",
      "('start reading file: ', 'statuses.log.2017-02-17-10.gz')\n",
      "('done with file: ', 'statuses.log.2017-02-17-10.gz', ' This file takes 90.8535909653 seconds')\n",
      "('start reading file: ', 'statuses.log.2017-02-17-11.gz')\n",
      "<type 'exceptions.ValueError'>\n",
      "('start reading file: ', 'statuses.log.2017-02-17-12.gz')\n",
      "('done with file: ', 'statuses.log.2017-02-17-12.gz', ' This file takes 68.1924669743 seconds')\n",
      "('start reading file: ', 'statuses.log.2017-02-17-13.gz')\n",
      "('done with file: ', 'statuses.log.2017-02-17-13.gz', ' This file takes 65.4426898956 seconds')\n",
      "('start reading file: ', 'statuses.log.2017-02-17-14.gz')\n",
      "('done with file: ', 'statuses.log.2017-02-17-14.gz', ' This file takes 59.9034090042 seconds')\n",
      "('start reading file: ', 'statuses.log.2017-02-17-15.gz')\n",
      "('done with file: ', 'statuses.log.2017-02-17-15.gz', ' This file takes 59.6758899689 seconds')\n",
      "('start reading file: ', 'statuses.log.2017-02-17-16.gz')\n",
      "('done with file: ', 'statuses.log.2017-02-17-16.gz', ' This file takes 58.3597738743 seconds')\n",
      "('start reading file: ', 'statuses.log.2017-02-17-17.gz')\n",
      "('done with file: ', 'statuses.log.2017-02-17-17.gz', ' This file takes 63.2401931286 seconds')\n",
      "('start reading file: ', 'statuses.log.2017-02-17-18.gz')\n",
      "('done with file: ', 'statuses.log.2017-02-17-18.gz', ' This file takes 59.7296831608 seconds')\n",
      "('start reading file: ', 'statuses.log.2017-02-17-19.gz')\n",
      "('done with file: ', 'statuses.log.2017-02-17-19.gz', ' This file takes 58.7428839207 seconds')\n",
      "('start reading file: ', 'statuses.log.2017-02-17-20.gz')\n",
      "('done with file: ', 'statuses.log.2017-02-17-20.gz', ' This file takes 59.0968048573 seconds')\n",
      "('start reading file: ', 'statuses.log.2017-02-17-21.gz')\n",
      "('done with file: ', 'statuses.log.2017-02-17-21.gz', ' This file takes 61.9226779938 seconds')\n",
      "('start reading file: ', 'statuses.log.2017-02-17-22.gz')\n",
      "('done with file: ', 'statuses.log.2017-02-17-22.gz', ' This file takes 63.0874581337 seconds')\n",
      "('start reading file: ', 'statuses.log.2017-02-17-23.gz')\n",
      "('done with file: ', 'statuses.log.2017-02-17-23.gz', ' This file takes 57.3390488625 seconds')\n",
      "('start reading file: ', 'statuses.log.2017-02-18-00.gz')\n",
      "('done with file: ', 'statuses.log.2017-02-18-00.gz', ' This file takes 52.7286961079 seconds')\n",
      "('start reading file: ', 'statuses.log.2017-02-18-01.gz')\n",
      "('done with file: ', 'statuses.log.2017-02-18-01.gz', ' This file takes 51.3171291351 seconds')\n",
      "('start reading file: ', 'statuses.log.2017-02-18-02.gz')\n",
      "('done with file: ', 'statuses.log.2017-02-18-02.gz', ' This file takes 48.8146960735 seconds')\n",
      "('start reading file: ', 'statuses.log.2017-02-18-03.gz')\n",
      "('done with file: ', 'statuses.log.2017-02-18-03.gz', ' This file takes 50.4901430607 seconds')\n",
      "('start reading file: ', 'statuses.log.2017-02-18-04.gz')\n",
      "('done with file: ', 'statuses.log.2017-02-18-04.gz', ' This file takes 54.4693038464 seconds')\n",
      "('start reading file: ', 'statuses.log.2017-02-18-05.gz')\n",
      "('done with file: ', 'statuses.log.2017-02-18-05.gz', ' This file takes 62.0288600922 seconds')\n",
      "('start reading file: ', 'statuses.log.2017-02-18-06.gz')\n",
      "('done with file: ', 'statuses.log.2017-02-18-06.gz', ' This file takes 67.2041180134 seconds')\n",
      "('start reading file: ', 'statuses.log.2017-02-18-07.gz')\n",
      "('done with file: ', 'statuses.log.2017-02-18-07.gz', ' This file takes 73.7310080528 seconds')\n",
      "('start reading file: ', 'statuses.log.2017-02-18-08.gz')\n",
      "('done with file: ', 'statuses.log.2017-02-18-08.gz', ' This file takes 79.2314720154 seconds')\n",
      "('start reading file: ', 'statuses.log.2017-02-18-09.gz')\n"
     ]
    },
    {
     "name": "stdout",
     "output_type": "stream",
     "text": [
      "('done with file: ', 'statuses.log.2017-02-18-09.gz', ' This file takes 86.4916410446 seconds')\n",
      "('start reading file: ', 'statuses.log.2017-02-18-10.gz')\n",
      "('done with file: ', 'statuses.log.2017-02-18-10.gz', ' This file takes 82.4763360023 seconds')\n",
      "('start reading file: ', 'statuses.log.2017-02-18-11.gz')\n",
      "('done with file: ', 'statuses.log.2017-02-18-11.gz', ' This file takes 74.9382829666 seconds')\n",
      "('start reading file: ', 'statuses.log.2017-02-18-12.gz')\n",
      "('done with file: ', 'statuses.log.2017-02-18-12.gz', ' This file takes 67.9133498669 seconds')\n",
      "('start reading file: ', 'statuses.log.2017-02-18-13.gz')\n",
      "('done with file: ', 'statuses.log.2017-02-18-13.gz', ' This file takes 67.2127270699 seconds')\n",
      "('start reading file: ', 'statuses.log.2017-02-18-14.gz')\n",
      "('done with file: ', 'statuses.log.2017-02-18-14.gz', ' This file takes 58.8042700291 seconds')\n",
      "('start reading file: ', 'statuses.log.2017-02-18-15.gz')\n",
      "('done with file: ', 'statuses.log.2017-02-18-15.gz', ' This file takes 56.9182610512 seconds')\n",
      "('start reading file: ', 'statuses.log.2017-02-18-16.gz')\n",
      "('done with file: ', 'statuses.log.2017-02-18-16.gz', ' This file takes 54.6630949974 seconds')\n",
      "('start reading file: ', 'statuses.log.2017-02-18-17.gz')\n",
      "('done with file: ', 'statuses.log.2017-02-18-17.gz', ' This file takes 58.7794120312 seconds')\n",
      "('start reading file: ', 'statuses.log.2017-02-18-18.gz')\n",
      "('done with file: ', 'statuses.log.2017-02-18-18.gz', ' This file takes 58.5960118771 seconds')\n",
      "('start reading file: ', 'statuses.log.2017-02-18-19.gz')\n",
      "('done with file: ', 'statuses.log.2017-02-18-19.gz', ' This file takes 59.365653038 seconds')\n",
      "('start reading file: ', 'statuses.log.2017-02-18-20.gz')\n",
      "('done with file: ', 'statuses.log.2017-02-18-20.gz', ' This file takes 61.2632420063 seconds')\n",
      "('start reading file: ', 'statuses.log.2017-02-18-21.gz')\n",
      "('done with file: ', 'statuses.log.2017-02-18-21.gz', ' This file takes 64.7829918861 seconds')\n",
      "('start reading file: ', 'statuses.log.2017-02-18-22.gz')\n",
      "('done with file: ', 'statuses.log.2017-02-18-22.gz', ' This file takes 65.8763020039 seconds')\n",
      "('start reading file: ', 'statuses.log.2017-02-18-23.gz')\n",
      "('done with file: ', 'statuses.log.2017-02-18-23.gz', ' This file takes 60.1957859993 seconds')\n",
      "('start reading file: ', 'statuses.log.2017-02-19-00.gz')\n",
      "('done with file: ', 'statuses.log.2017-02-19-00.gz', ' This file takes 55.2839620113 seconds')\n",
      "('start reading file: ', 'statuses.log.2017-02-19-01.gz')\n",
      "('done with file: ', 'statuses.log.2017-02-19-01.gz', ' This file takes 55.3525648117 seconds')\n",
      "('start reading file: ', 'statuses.log.2017-02-19-02.gz')\n",
      "('done with file: ', 'statuses.log.2017-02-19-02.gz', ' This file takes 49.8628938198 seconds')\n",
      "('start reading file: ', 'statuses.log.2017-02-19-03.gz')\n",
      "('done with file: ', 'statuses.log.2017-02-19-03.gz', ' This file takes 52.5075659752 seconds')\n",
      "('start reading file: ', 'statuses.log.2017-02-19-04.gz')\n",
      "('done with file: ', 'statuses.log.2017-02-19-04.gz', ' This file takes 55.8704640865 seconds')\n",
      "('start reading file: ', 'statuses.log.2017-02-19-05.gz')\n",
      "('done with file: ', 'statuses.log.2017-02-19-05.gz', ' This file takes 62.6398921013 seconds')\n",
      "('start reading file: ', 'statuses.log.2017-02-19-06.gz')\n",
      "('done with file: ', 'statuses.log.2017-02-19-06.gz', ' This file takes 66.4387319088 seconds')\n",
      "('start reading file: ', 'statuses.log.2017-02-19-07.gz')\n",
      "('done with file: ', 'statuses.log.2017-02-19-07.gz', ' This file takes 72.9985480309 seconds')\n",
      "('start reading file: ', 'statuses.log.2017-02-19-08.gz')\n",
      "('done with file: ', 'statuses.log.2017-02-19-08.gz', ' This file takes 79.1450948715 seconds')\n",
      "('start reading file: ', 'statuses.log.2017-02-19-09.gz')\n",
      "('done with file: ', 'statuses.log.2017-02-19-09.gz', ' This file takes 89.8968131542 seconds')\n",
      "('start reading file: ', 'statuses.log.2017-02-19-10.gz')\n",
      "('done with file: ', 'statuses.log.2017-02-19-10.gz', ' This file takes 89.4779949188 seconds')\n",
      "('start reading file: ', 'statuses.log.2017-02-19-11.gz')\n",
      "('done with file: ', 'statuses.log.2017-02-19-11.gz', ' This file takes 78.9261760712 seconds')\n",
      "('start reading file: ', 'statuses.log.2017-02-19-12.gz')\n",
      "('done with file: ', 'statuses.log.2017-02-19-12.gz', ' This file takes 70.4573020935 seconds')\n",
      "('start reading file: ', 'statuses.log.2017-02-19-13.gz')\n",
      "('done with file: ', 'statuses.log.2017-02-19-13.gz', ' This file takes 70.178704977 seconds')\n",
      "('start reading file: ', 'statuses.log.2017-02-19-14.gz')\n",
      "('done with file: ', 'statuses.log.2017-02-19-14.gz', ' This file takes 61.1112990379 seconds')\n",
      "('start reading file: ', 'statuses.log.2017-02-19-15.gz')\n",
      "('done with file: ', 'statuses.log.2017-02-19-15.gz', ' This file takes 59.4632921219 seconds')\n",
      "('start reading file: ', 'statuses.log.2017-02-19-16.gz')\n",
      "('done with file: ', 'statuses.log.2017-02-19-16.gz', ' This file takes 61.328166008 seconds')\n",
      "('start reading file: ', 'statuses.log.2017-02-19-17.gz')\n",
      "('done with file: ', 'statuses.log.2017-02-19-17.gz', ' This file takes 66.1031248569 seconds')\n",
      "('start reading file: ', 'statuses.log.2017-02-19-18.gz')\n",
      "('done with file: ', 'statuses.log.2017-02-19-18.gz', ' This file takes 60.9309470654 seconds')\n",
      "('start reading file: ', 'statuses.log.2017-02-19-19.gz')\n",
      "('done with file: ', 'statuses.log.2017-02-19-19.gz', ' This file takes 56.8074510098 seconds')\n",
      "('start reading file: ', 'statuses.log.2017-02-19-20.gz')\n",
      "('done with file: ', 'statuses.log.2017-02-19-20.gz', ' This file takes 59.0712621212 seconds')\n",
      "('start reading file: ', 'statuses.log.2017-02-19-21.gz')\n",
      "('done with file: ', 'statuses.log.2017-02-19-21.gz', ' This file takes 62.6446909904 seconds')\n",
      "('start reading file: ', 'statuses.log.2017-02-19-22.gz')\n",
      "('done with file: ', 'statuses.log.2017-02-19-22.gz', ' This file takes 67.3783540726 seconds')\n",
      "('start reading file: ', 'statuses.log.2017-02-19-23.gz')\n",
      "('done with file: ', 'statuses.log.2017-02-19-23.gz', ' This file takes 59.3496530056 seconds')\n",
      "('start reading file: ', 'statuses.log.2017-02-20-00.gz')\n",
      "('done with file: ', 'statuses.log.2017-02-20-00.gz', ' This file takes 55.4187068939 seconds')\n",
      "('start reading file: ', 'statuses.log.2017-02-20-01.gz')\n",
      "('done with file: ', 'statuses.log.2017-02-20-01.gz', ' This file takes 53.3644649982 seconds')\n",
      "('start reading file: ', 'statuses.log.2017-02-20-02.gz')\n",
      "('done with file: ', 'statuses.log.2017-02-20-02.gz', ' This file takes 48.8592150211 seconds')\n",
      "('start reading file: ', 'statuses.log.2017-02-20-03.gz')\n",
      "('done with file: ', 'statuses.log.2017-02-20-03.gz', ' This file takes 49.7825069427 seconds')\n",
      "('start reading file: ', 'statuses.log.2017-02-20-04.gz')\n",
      "('done with file: ', 'statuses.log.2017-02-20-04.gz', ' This file takes 55.1686310768 seconds')\n",
      "('start reading file: ', 'statuses.log.2017-02-20-05.gz')\n",
      "('done with file: ', 'statuses.log.2017-02-20-05.gz', ' This file takes 59.8073501587 seconds')\n",
      "('start reading file: ', 'statuses.log.2017-02-20-06.gz')\n",
      "('done with file: ', 'statuses.log.2017-02-20-06.gz', ' This file takes 62.7232100964 seconds')\n",
      "('start reading file: ', 'statuses.log.2017-02-20-07.gz')\n",
      "('done with file: ', 'statuses.log.2017-02-20-07.gz', ' This file takes 68.9452331066 seconds')\n",
      "('start reading file: ', 'statuses.log.2017-02-20-08.gz')\n",
      "('done with file: ', 'statuses.log.2017-02-20-08.gz', ' This file takes 76.6037900448 seconds')\n",
      "('start reading file: ', 'statuses.log.2017-02-20-09.gz')\n",
      "('done with file: ', 'statuses.log.2017-02-20-09.gz', ' This file takes 85.5173449516 seconds')\n",
      "('start reading file: ', 'statuses.log.2017-02-20-10.gz')\n",
      "('done with file: ', 'statuses.log.2017-02-20-10.gz', ' This file takes 80.3903050423 seconds')\n",
      "('start reading file: ', 'statuses.log.2017-02-20-11.gz')\n",
      "('done with file: ', 'statuses.log.2017-02-20-11.gz', ' This file takes 73.2321929932 seconds')\n",
      "('start reading file: ', 'statuses.log.2017-02-20-12.gz')\n",
      "('done with file: ', 'statuses.log.2017-02-20-12.gz', ' This file takes 68.2462530136 seconds')\n",
      "('start reading file: ', 'statuses.log.2017-02-20-13.gz')\n",
      "('done with file: ', 'statuses.log.2017-02-20-13.gz', ' This file takes 68.0190570354 seconds')\n",
      "('start reading file: ', 'statuses.log.2017-02-20-14.gz')\n",
      "('done with file: ', 'statuses.log.2017-02-20-14.gz', ' This file takes 61.3836431503 seconds')\n",
      "('start reading file: ', 'statuses.log.2017-02-20-15.gz')\n"
     ]
    },
    {
     "name": "stdout",
     "output_type": "stream",
     "text": [
      "('done with file: ', 'statuses.log.2017-02-20-15.gz', ' This file takes 61.1970460415 seconds')\n",
      "('start reading file: ', 'statuses.log.2017-02-20-16.gz')\n",
      "('done with file: ', 'statuses.log.2017-02-20-16.gz', ' This file takes 62.4565169811 seconds')\n",
      "('start reading file: ', 'statuses.log.2017-02-20-17.gz')\n",
      "('done with file: ', 'statuses.log.2017-02-20-17.gz', ' This file takes 67.6569280624 seconds')\n",
      "('start reading file: ', 'statuses.log.2017-02-20-18.gz')\n",
      "('done with file: ', 'statuses.log.2017-02-20-18.gz', ' This file takes 62.8316218853 seconds')\n",
      "('start reading file: ', 'statuses.log.2017-02-20-19.gz')\n",
      "('done with file: ', 'statuses.log.2017-02-20-19.gz', ' This file takes 59.7437639236 seconds')\n",
      "('start reading file: ', 'statuses.log.2017-02-20-20.gz')\n",
      "('done with file: ', 'statuses.log.2017-02-20-20.gz', ' This file takes 64.5275800228 seconds')\n",
      "('start reading file: ', 'statuses.log.2017-02-20-21.gz')\n",
      "('done with file: ', 'statuses.log.2017-02-20-21.gz', ' This file takes 74.9014589787 seconds')\n",
      "('start reading file: ', 'statuses.log.2017-02-20-22.gz')\n",
      "('done with file: ', 'statuses.log.2017-02-20-22.gz', ' This file takes 72.4691128731 seconds')\n",
      "('start reading file: ', 'statuses.log.2017-02-20-23.gz')\n",
      "('done with file: ', 'statuses.log.2017-02-20-23.gz', ' This file takes 61.6306581497 seconds')\n",
      "('start reading file: ', 'statuses.log.2017-02-21-00.gz')\n",
      "('done with file: ', 'statuses.log.2017-02-21-00.gz', ' This file takes 58.7653520107 seconds')\n",
      "('start reading file: ', 'statuses.log.2017-02-21-01.gz')\n",
      "('done with file: ', 'statuses.log.2017-02-21-01.gz', ' This file takes 58.6047000885 seconds')\n",
      "('start reading file: ', 'statuses.log.2017-02-21-02.gz')\n",
      "('done with file: ', 'statuses.log.2017-02-21-02.gz', ' This file takes 49.398720026 seconds')\n",
      "('start reading file: ', 'statuses.log.2017-02-21-03.gz')\n",
      "('done with file: ', 'statuses.log.2017-02-21-03.gz', ' This file takes 47.5585291386 seconds')\n",
      "('start reading file: ', 'statuses.log.2017-02-21-04.gz')\n",
      "('done with file: ', 'statuses.log.2017-02-21-04.gz', ' This file takes 51.5110969543 seconds')\n",
      "('start reading file: ', 'statuses.log.2017-02-21-05.gz')\n",
      "('done with file: ', 'statuses.log.2017-02-21-05.gz', ' This file takes 71.9313781261 seconds')\n",
      "('start reading file: ', 'statuses.log.2017-02-21-06.gz')\n",
      "('done with file: ', 'statuses.log.2017-02-21-06.gz', ' This file takes 72.615664959 seconds')\n",
      "('start reading file: ', 'statuses.log.2017-02-21-07.gz')\n",
      "('done with file: ', 'statuses.log.2017-02-21-07.gz', ' This file takes 79.9270648956 seconds')\n",
      "('start reading file: ', 'statuses.log.2017-02-21-08.gz')\n",
      "('done with file: ', 'statuses.log.2017-02-21-08.gz', ' This file takes 90.3933410645 seconds')\n",
      "('start reading file: ', 'statuses.log.2017-02-21-09.gz')\n",
      "('done with file: ', 'statuses.log.2017-02-21-09.gz', ' This file takes 88.5053999424 seconds')\n",
      "('start reading file: ', 'statuses.log.2017-02-21-10.gz')\n",
      "('done with file: ', 'statuses.log.2017-02-21-10.gz', ' This file takes 87.1843459606 seconds')\n",
      "('start reading file: ', 'statuses.log.2017-02-21-11.gz')\n",
      "('done with file: ', 'statuses.log.2017-02-21-11.gz', ' This file takes 81.6307651997 seconds')\n",
      "('start reading file: ', 'statuses.log.2017-02-21-12.gz')\n",
      "('done with file: ', 'statuses.log.2017-02-21-12.gz', ' This file takes 69.0610699654 seconds')\n",
      "('start reading file: ', 'statuses.log.2017-02-21-13.gz')\n",
      "('done with file: ', 'statuses.log.2017-02-21-13.gz', ' This file takes 63.7310099602 seconds')\n",
      "('start reading file: ', 'statuses.log.2017-02-21-14.gz')\n",
      "('done with file: ', 'statuses.log.2017-02-21-14.gz', ' This file takes 60.2659571171 seconds')\n",
      "('start reading file: ', 'statuses.log.2017-02-21-15.gz')\n",
      "('done with file: ', 'statuses.log.2017-02-21-15.gz', ' This file takes 66.8527779579 seconds')\n",
      "('start reading file: ', 'statuses.log.2017-02-21-16.gz')\n",
      "('done with file: ', 'statuses.log.2017-02-21-16.gz', ' This file takes 68.9336981773 seconds')\n",
      "('start reading file: ', 'statuses.log.2017-02-21-17.gz')\n",
      "('done with file: ', 'statuses.log.2017-02-21-17.gz', ' This file takes 62.9238681793 seconds')\n",
      "('start reading file: ', 'statuses.log.2017-02-21-18.gz')\n",
      "('done with file: ', 'statuses.log.2017-02-21-18.gz', ' This file takes 61.527315855 seconds')\n",
      "('start reading file: ', 'statuses.log.2017-02-21-19.gz')\n",
      "('done with file: ', 'statuses.log.2017-02-21-19.gz', ' This file takes 63.3911781311 seconds')\n",
      "('start reading file: ', 'statuses.log.2017-02-21-20.gz')\n",
      "('done with file: ', 'statuses.log.2017-02-21-20.gz', ' This file takes 60.4310028553 seconds')\n",
      "('start reading file: ', 'statuses.log.2017-02-21-21.gz')\n",
      "('done with file: ', 'statuses.log.2017-02-21-21.gz', ' This file takes 63.953551054 seconds')\n",
      "('start reading file: ', 'statuses.log.2017-02-21-22.gz')\n",
      "('done with file: ', 'statuses.log.2017-02-21-22.gz', ' This file takes 67.0562200546 seconds')\n",
      "('start reading file: ', 'statuses.log.2017-02-21-23.gz')\n",
      "('done with file: ', 'statuses.log.2017-02-21-23.gz', ' This file takes 60.3233981133 seconds')\n",
      "('start reading file: ', 'statuses.log.2017-02-22-00.gz')\n",
      "('done with file: ', 'statuses.log.2017-02-22-00.gz', ' This file takes 52.7365601063 seconds')\n",
      "('start reading file: ', 'statuses.log.2017-02-22-01.gz')\n",
      "('done with file: ', 'statuses.log.2017-02-22-01.gz', ' This file takes 50.3517789841 seconds')\n",
      "('start reading file: ', 'statuses.log.2017-02-22-02.gz')\n",
      "('done with file: ', 'statuses.log.2017-02-22-02.gz', ' This file takes 47.2553319931 seconds')\n",
      "('start reading file: ', 'statuses.log.2017-02-22-03.gz')\n",
      "('done with file: ', 'statuses.log.2017-02-22-03.gz', ' This file takes 49.4500601292 seconds')\n",
      "('start reading file: ', 'statuses.log.2017-02-22-04.gz')\n",
      "('done with file: ', 'statuses.log.2017-02-22-04.gz', ' This file takes 56.5747339725 seconds')\n",
      "('start reading file: ', 'statuses.log.2017-02-22-05.gz')\n",
      "('done with file: ', 'statuses.log.2017-02-22-05.gz', ' This file takes 60.2859890461 seconds')\n",
      "('start reading file: ', 'statuses.log.2017-02-22-06.gz')\n",
      "('done with file: ', 'statuses.log.2017-02-22-06.gz', ' This file takes 70.6809699535 seconds')\n",
      "('start reading file: ', 'statuses.log.2017-02-22-07.gz')\n",
      "('done with file: ', 'statuses.log.2017-02-22-07.gz', ' This file takes 84.4422221184 seconds')\n",
      "('start reading file: ', 'statuses.log.2017-02-22-08.gz')\n",
      "('done with file: ', 'statuses.log.2017-02-22-08.gz', ' This file takes 95.7849938869 seconds')\n",
      "('start reading file: ', 'statuses.log.2017-02-22-09.gz')\n",
      "('done with file: ', 'statuses.log.2017-02-22-09.gz', ' This file takes 93.7721340656 seconds')\n",
      "('start reading file: ', 'statuses.log.2017-02-22-10.gz')\n",
      "('done with file: ', 'statuses.log.2017-02-22-10.gz', ' This file takes 87.8145768642 seconds')\n",
      "('start reading file: ', 'statuses.log.2017-02-22-11.gz')\n",
      "('done with file: ', 'statuses.log.2017-02-22-11.gz', ' This file takes 77.9975168705 seconds')\n",
      "('start reading file: ', 'statuses.log.2017-02-22-12.gz')\n",
      "('done with file: ', 'statuses.log.2017-02-22-12.gz', ' This file takes 73.0220708847 seconds')\n",
      "('start reading file: ', 'statuses.log.2017-02-22-13.gz')\n",
      "('done with file: ', 'statuses.log.2017-02-22-13.gz', ' This file takes 65.5614709854 seconds')\n",
      "('start reading file: ', 'statuses.log.2017-02-22-14.gz')\n",
      "('done with file: ', 'statuses.log.2017-02-22-14.gz', ' This file takes 65.4682190418 seconds')\n",
      "('start reading file: ', 'statuses.log.2017-02-22-15.gz')\n",
      "('done with file: ', 'statuses.log.2017-02-22-15.gz', ' This file takes 67.6220920086 seconds')\n",
      "('start reading file: ', 'statuses.log.2017-02-22-16.gz')\n",
      "('done with file: ', 'statuses.log.2017-02-22-16.gz', ' This file takes 70.1907470226 seconds')\n",
      "('start reading file: ', 'statuses.log.2017-02-22-17.gz')\n",
      "('done with file: ', 'statuses.log.2017-02-22-17.gz', ' This file takes 66.9657969475 seconds')\n",
      "('start reading file: ', 'statuses.log.2017-02-22-18.gz')\n",
      "('done with file: ', 'statuses.log.2017-02-22-18.gz', ' This file takes 68.371088028 seconds')\n",
      "('start reading file: ', 'statuses.log.2017-02-22-19.gz')\n",
      "<type 'exceptions.ValueError'>\n",
      "('start reading file: ', 'statuses.log.2017-02-22-20.gz')\n",
      "('done with file: ', 'statuses.log.2017-02-22-20.gz', ' This file takes 63.8878149986 seconds')\n",
      "('start reading file: ', 'statuses.log.2017-02-22-21.gz')\n"
     ]
    },
    {
     "name": "stdout",
     "output_type": "stream",
     "text": [
      "('done with file: ', 'statuses.log.2017-02-22-21.gz', ' This file takes 69.3880357742 seconds')\n",
      "('start reading file: ', 'statuses.log.2017-02-22-22.gz')\n",
      "('done with file: ', 'statuses.log.2017-02-22-22.gz', ' This file takes 67.7767679691 seconds')\n",
      "('start reading file: ', 'statuses.log.2017-02-22-23.gz')\n",
      "('done with file: ', 'statuses.log.2017-02-22-23.gz', ' This file takes 62.9010801315 seconds')\n",
      "('start reading file: ', 'statuses.log.2017-02-23-00.gz')\n",
      "('done with file: ', 'statuses.log.2017-02-23-00.gz', ' This file takes 60.7687718868 seconds')\n",
      "('start reading file: ', 'statuses.log.2017-02-23-01.gz')\n",
      "('done with file: ', 'statuses.log.2017-02-23-01.gz', ' This file takes 50.3933470249 seconds')\n",
      "('start reading file: ', 'statuses.log.2017-02-23-02.gz')\n",
      "('done with file: ', 'statuses.log.2017-02-23-02.gz', ' This file takes 48.5234348774 seconds')\n",
      "('start reading file: ', 'statuses.log.2017-02-23-03.gz')\n",
      "('done with file: ', 'statuses.log.2017-02-23-03.gz', ' This file takes 50.8009660244 seconds')\n",
      "('start reading file: ', 'statuses.log.2017-02-23-04.gz')\n",
      "('done with file: ', 'statuses.log.2017-02-23-04.gz', ' This file takes 56.3614079952 seconds')\n",
      "('start reading file: ', 'statuses.log.2017-02-23-05.gz')\n",
      "('done with file: ', 'statuses.log.2017-02-23-05.gz', ' This file takes 58.1290440559 seconds')\n",
      "('start reading file: ', 'statuses.log.2017-02-23-06.gz')\n",
      "('done with file: ', 'statuses.log.2017-02-23-06.gz', ' This file takes 65.2884120941 seconds')\n",
      "('start reading file: ', 'statuses.log.2017-02-23-07.gz')\n",
      "('done with file: ', 'statuses.log.2017-02-23-07.gz', ' This file takes 77.1040570736 seconds')\n",
      "('start reading file: ', 'statuses.log.2017-02-23-08.gz')\n",
      "('done with file: ', 'statuses.log.2017-02-23-08.gz', ' This file takes 79.0536530018 seconds')\n",
      "('start reading file: ', 'statuses.log.2017-02-23-09.gz')\n",
      "('done with file: ', 'statuses.log.2017-02-23-09.gz', ' This file takes 85.0669488907 seconds')\n",
      "('start reading file: ', 'statuses.log.2017-02-23-10.gz')\n",
      "('done with file: ', 'statuses.log.2017-02-23-10.gz', ' This file takes 88.3139200211 seconds')\n",
      "('start reading file: ', 'statuses.log.2017-02-23-11.gz')\n",
      "('done with file: ', 'statuses.log.2017-02-23-11.gz', ' This file takes 74.7866098881 seconds')\n",
      "('start reading file: ', 'statuses.log.2017-02-23-12.gz')\n",
      "('done with file: ', 'statuses.log.2017-02-23-12.gz', ' This file takes 66.8954730034 seconds')\n",
      "('start reading file: ', 'statuses.log.2017-02-23-13.gz')\n",
      "('done with file: ', 'statuses.log.2017-02-23-13.gz', ' This file takes 66.0696001053 seconds')\n",
      "('start reading file: ', 'statuses.log.2017-02-23-14.gz')\n",
      "('done with file: ', 'statuses.log.2017-02-23-14.gz', ' This file takes 60.0333571434 seconds')\n",
      "('start reading file: ', 'statuses.log.2017-02-23-15.gz')\n",
      "('done with file: ', 'statuses.log.2017-02-23-15.gz', ' This file takes 63.105173111 seconds')\n",
      "('start reading file: ', 'statuses.log.2017-02-23-16.gz')\n",
      "('done with file: ', 'statuses.log.2017-02-23-16.gz', ' This file takes 61.9191451073 seconds')\n",
      "('start reading file: ', 'statuses.log.2017-02-23-17.gz')\n",
      "('done with file: ', 'statuses.log.2017-02-23-17.gz', ' This file takes 62.8893358707 seconds')\n",
      "('start reading file: ', 'statuses.log.2017-02-23-18.gz')\n",
      "('done with file: ', 'statuses.log.2017-02-23-18.gz', ' This file takes 66.2902390957 seconds')\n",
      "('start reading file: ', 'statuses.log.2017-02-23-19.gz')\n",
      "<type 'exceptions.ValueError'>\n",
      "('start reading file: ', 'statuses.log.2017-02-23-20.gz')\n",
      "('done with file: ', 'statuses.log.2017-02-23-20.gz', ' This file takes 59.6383671761 seconds')\n",
      "('start reading file: ', 'statuses.log.2017-02-23-21.gz')\n",
      "('done with file: ', 'statuses.log.2017-02-23-21.gz', ' This file takes 64.8652329445 seconds')\n",
      "('start reading file: ', 'statuses.log.2017-02-23-22.gz')\n",
      "('done with file: ', 'statuses.log.2017-02-23-22.gz', ' This file takes 67.439440012 seconds')\n",
      "('start reading file: ', 'statuses.log.2017-02-23-23.gz')\n",
      "('done with file: ', 'statuses.log.2017-02-23-23.gz', ' This file takes 61.6635780334 seconds')\n",
      "('start reading file: ', 'statuses.log.2017-02-24-00.gz')\n",
      "('done with file: ', 'statuses.log.2017-02-24-00.gz', ' This file takes 53.5060710907 seconds')\n",
      "('start reading file: ', 'statuses.log.2017-02-24-01.gz')\n",
      "('done with file: ', 'statuses.log.2017-02-24-01.gz', ' This file takes 49.3839819431 seconds')\n",
      "('start reading file: ', 'statuses.log.2017-02-24-02.gz')\n",
      "('done with file: ', 'statuses.log.2017-02-24-02.gz', ' This file takes 47.1862108707 seconds')\n",
      "('start reading file: ', 'statuses.log.2017-02-24-03.gz')\n",
      "('done with file: ', 'statuses.log.2017-02-24-03.gz', ' This file takes 51.6349639893 seconds')\n",
      "('start reading file: ', 'statuses.log.2017-02-24-04.gz')\n",
      "('done with file: ', 'statuses.log.2017-02-24-04.gz', ' This file takes 55.413105011 seconds')\n",
      "('start reading file: ', 'statuses.log.2017-02-24-05.gz')\n",
      "('done with file: ', 'statuses.log.2017-02-24-05.gz', ' This file takes 62.9097111225 seconds')\n",
      "('start reading file: ', 'statuses.log.2017-02-24-06.gz')\n",
      "('done with file: ', 'statuses.log.2017-02-24-06.gz', ' This file takes 68.3395237923 seconds')\n",
      "('start reading file: ', 'statuses.log.2017-02-24-07.gz')\n",
      "('done with file: ', 'statuses.log.2017-02-24-07.gz', ' This file takes 72.1926181316 seconds')\n",
      "('start reading file: ', 'statuses.log.2017-02-24-08.gz')\n",
      "('done with file: ', 'statuses.log.2017-02-24-08.gz', ' This file takes 78.0132441521 seconds')\n",
      "('start reading file: ', 'statuses.log.2017-02-24-09.gz')\n",
      "('done with file: ', 'statuses.log.2017-02-24-09.gz', ' This file takes 83.0864720345 seconds')\n",
      "('start reading file: ', 'statuses.log.2017-02-24-10.gz')\n",
      "('done with file: ', 'statuses.log.2017-02-24-10.gz', ' This file takes 87.6338160038 seconds')\n",
      "('start reading file: ', 'statuses.log.2017-02-24-11.gz')\n",
      "('done with file: ', 'statuses.log.2017-02-24-11.gz', ' This file takes 75.6281018257 seconds')\n",
      "('start reading file: ', 'statuses.log.2017-02-24-12.gz')\n",
      "('done with file: ', 'statuses.log.2017-02-24-12.gz', ' This file takes 70.5750379562 seconds')\n",
      "('start reading file: ', 'statuses.log.2017-02-24-13.gz')\n",
      "('done with file: ', 'statuses.log.2017-02-24-13.gz', ' This file takes 62.4215219021 seconds')\n",
      "('start reading file: ', 'statuses.log.2017-02-24-14.gz')\n",
      "('done with file: ', 'statuses.log.2017-02-24-14.gz', ' This file takes 59.1412940025 seconds')\n",
      "('start reading file: ', 'statuses.log.2017-02-24-15.gz')\n",
      "('done with file: ', 'statuses.log.2017-02-24-15.gz', ' This file takes 57.5297470093 seconds')\n",
      "('start reading file: ', 'statuses.log.2017-02-24-16.gz')\n",
      "('done with file: ', 'statuses.log.2017-02-24-16.gz', ' This file takes 61.16949296 seconds')\n",
      "('start reading file: ', 'statuses.log.2017-02-24-17.gz')\n",
      "('done with file: ', 'statuses.log.2017-02-24-17.gz', ' This file takes 58.3262779713 seconds')\n",
      "('start reading file: ', 'statuses.log.2017-02-24-18.gz')\n",
      "('done with file: ', 'statuses.log.2017-02-24-18.gz', ' This file takes 61.1947309971 seconds')\n",
      "('start reading file: ', 'statuses.log.2017-02-24-19.gz')\n",
      "('done with file: ', 'statuses.log.2017-02-24-19.gz', ' This file takes 58.4414381981 seconds')\n",
      "('start reading file: ', 'statuses.log.2017-02-24-20.gz')\n",
      "('done with file: ', 'statuses.log.2017-02-24-20.gz', ' This file takes 58.822371006 seconds')\n",
      "('start reading file: ', 'statuses.log.2017-02-24-21.gz')\n",
      "('done with file: ', 'statuses.log.2017-02-24-21.gz', ' This file takes 62.4668030739 seconds')\n",
      "('start reading file: ', 'statuses.log.2017-02-24-22.gz')\n",
      "('done with file: ', 'statuses.log.2017-02-24-22.gz', ' This file takes 62.0300610065 seconds')\n",
      "('start reading file: ', 'statuses.log.2017-02-24-23.gz')\n",
      "('done with file: ', 'statuses.log.2017-02-24-23.gz', ' This file takes 58.1928009987 seconds')\n",
      "('start reading file: ', 'statuses.log.2017-02-25-00.gz')\n",
      "('done with file: ', 'statuses.log.2017-02-25-00.gz', ' This file takes 53.9542708397 seconds')\n",
      "('start reading file: ', 'statuses.log.2017-02-25-01.gz')\n",
      "('done with file: ', 'statuses.log.2017-02-25-01.gz', ' This file takes 52.4635908604 seconds')\n",
      "('start reading file: ', 'statuses.log.2017-02-25-02.gz')\n",
      "('done with file: ', 'statuses.log.2017-02-25-02.gz', ' This file takes 51.8509728909 seconds')\n",
      "('start reading file: ', 'statuses.log.2017-02-25-03.gz')\n"
     ]
    },
    {
     "name": "stdout",
     "output_type": "stream",
     "text": [
      "('done with file: ', 'statuses.log.2017-02-25-03.gz', ' This file takes 49.299943924 seconds')\n",
      "('start reading file: ', 'statuses.log.2017-02-25-04.gz')\n",
      "('done with file: ', 'statuses.log.2017-02-25-04.gz', ' This file takes 52.2945859432 seconds')\n",
      "('start reading file: ', 'statuses.log.2017-02-25-05.gz')\n",
      "('done with file: ', 'statuses.log.2017-02-25-05.gz', ' This file takes 57.4779348373 seconds')\n",
      "('start reading file: ', 'statuses.log.2017-02-25-06.gz')\n",
      "('done with file: ', 'statuses.log.2017-02-25-06.gz', ' This file takes 64.0942850113 seconds')\n",
      "('start reading file: ', 'statuses.log.2017-02-25-07.gz')\n",
      "('done with file: ', 'statuses.log.2017-02-25-07.gz', ' This file takes 69.9650189877 seconds')\n",
      "('start reading file: ', 'statuses.log.2017-02-25-08.gz')\n",
      "('done with file: ', 'statuses.log.2017-02-25-08.gz', ' This file takes 82.6741380692 seconds')\n",
      "('start reading file: ', 'statuses.log.2017-02-25-09.gz')\n",
      "('done with file: ', 'statuses.log.2017-02-25-09.gz', ' This file takes 84.9224319458 seconds')\n",
      "('start reading file: ', 'statuses.log.2017-02-25-10.gz')\n",
      "('done with file: ', 'statuses.log.2017-02-25-10.gz', ' This file takes 82.7674968243 seconds')\n",
      "('start reading file: ', 'statuses.log.2017-02-25-11.gz')\n",
      "('done with file: ', 'statuses.log.2017-02-25-11.gz', ' This file takes 77.9967279434 seconds')\n",
      "('start reading file: ', 'statuses.log.2017-02-25-12.gz')\n",
      "('done with file: ', 'statuses.log.2017-02-25-12.gz', ' This file takes 68.9838118553 seconds')\n",
      "('start reading file: ', 'statuses.log.2017-02-25-13.gz')\n",
      "('done with file: ', 'statuses.log.2017-02-25-13.gz', ' This file takes 67.3783972263 seconds')\n",
      "('start reading file: ', 'statuses.log.2017-02-25-14.gz')\n",
      "('done with file: ', 'statuses.log.2017-02-25-14.gz', ' This file takes 61.4854969978 seconds')\n",
      "('start reading file: ', 'statuses.log.2017-02-25-15.gz')\n",
      "('done with file: ', 'statuses.log.2017-02-25-15.gz', ' This file takes 60.7681441307 seconds')\n",
      "('start reading file: ', 'statuses.log.2017-02-25-16.gz')\n",
      "('done with file: ', 'statuses.log.2017-02-25-16.gz', ' This file takes 62.4518299103 seconds')\n",
      "('start reading file: ', 'statuses.log.2017-02-25-17.gz')\n",
      "('done with file: ', 'statuses.log.2017-02-25-17.gz', ' This file takes 57.9696478844 seconds')\n",
      "('start reading file: ', 'statuses.log.2017-02-25-18.gz')\n",
      "('done with file: ', 'statuses.log.2017-02-25-18.gz', ' This file takes 58.1990721226 seconds')\n",
      "('start reading file: ', 'statuses.log.2017-02-25-19.gz')\n",
      "('done with file: ', 'statuses.log.2017-02-25-19.gz', ' This file takes 55.3397879601 seconds')\n",
      "('start reading file: ', 'statuses.log.2017-02-25-20.gz')\n",
      "('done with file: ', 'statuses.log.2017-02-25-20.gz', ' This file takes 56.1683020592 seconds')\n",
      "('start reading file: ', 'statuses.log.2017-02-25-21.gz')\n",
      "('done with file: ', 'statuses.log.2017-02-25-21.gz', ' This file takes 58.1548559666 seconds')\n",
      "('start reading file: ', 'statuses.log.2017-02-25-22.gz')\n",
      "('done with file: ', 'statuses.log.2017-02-25-22.gz', ' This file takes 66.3698768616 seconds')\n",
      "('start reading file: ', 'statuses.log.2017-02-25-23.gz')\n",
      "('done with file: ', 'statuses.log.2017-02-25-23.gz', ' This file takes 60.381581068 seconds')\n",
      "('start reading file: ', 'statuses.log.2017-02-26-00.gz')\n",
      "('done with file: ', 'statuses.log.2017-02-26-00.gz', ' This file takes 57.0013859272 seconds')\n",
      "('start reading file: ', 'statuses.log.2017-02-26-01.gz')\n",
      "('done with file: ', 'statuses.log.2017-02-26-01.gz', ' This file takes 55.4320499897 seconds')\n",
      "('start reading file: ', 'statuses.log.2017-02-26-02.gz')\n",
      "('done with file: ', 'statuses.log.2017-02-26-02.gz', ' This file takes 53.9259619713 seconds')\n",
      "('start reading file: ', 'statuses.log.2017-02-26-03.gz')\n",
      "('done with file: ', 'statuses.log.2017-02-26-03.gz', ' This file takes 53.0253651142 seconds')\n",
      "('start reading file: ', 'statuses.log.2017-02-26-04.gz')\n",
      "('done with file: ', 'statuses.log.2017-02-26-04.gz', ' This file takes 55.4091658592 seconds')\n",
      "('start reading file: ', 'statuses.log.2017-02-26-05.gz')\n",
      "('done with file: ', 'statuses.log.2017-02-26-05.gz', ' This file takes 58.7033290863 seconds')\n",
      "('start reading file: ', 'statuses.log.2017-02-26-06.gz')\n",
      "('done with file: ', 'statuses.log.2017-02-26-06.gz', ' This file takes 76.69303298 seconds')\n",
      "('start reading file: ', 'statuses.log.2017-02-26-07.gz')\n",
      "('done with file: ', 'statuses.log.2017-02-26-07.gz', ' This file takes 81.9845719337 seconds')\n",
      "('start reading file: ', 'statuses.log.2017-02-26-08.gz')\n",
      "('done with file: ', 'statuses.log.2017-02-26-08.gz', ' This file takes 81.371243 seconds')\n",
      "('start reading file: ', 'statuses.log.2017-02-26-09.gz')\n",
      "('done with file: ', 'statuses.log.2017-02-26-09.gz', ' This file takes 87.0799849033 seconds')\n",
      "('start reading file: ', 'statuses.log.2017-02-26-10.gz')\n",
      "('done with file: ', 'statuses.log.2017-02-26-10.gz', ' This file takes 85.2933759689 seconds')\n",
      "('start reading file: ', 'statuses.log.2017-02-26-11.gz')\n",
      "('done with file: ', 'statuses.log.2017-02-26-11.gz', ' This file takes 79.9095339775 seconds')\n",
      "('start reading file: ', 'statuses.log.2017-02-26-12.gz')\n",
      "('done with file: ', 'statuses.log.2017-02-26-12.gz', ' This file takes 73.9168598652 seconds')\n",
      "('start reading file: ', 'statuses.log.2017-02-26-13.gz')\n",
      "('done with file: ', 'statuses.log.2017-02-26-13.gz', ' This file takes 71.6461429596 seconds')\n",
      "('start reading file: ', 'statuses.log.2017-02-26-14.gz')\n",
      "('done with file: ', 'statuses.log.2017-02-26-14.gz', ' This file takes 67.7087590694 seconds')\n",
      "('start reading file: ', 'statuses.log.2017-02-26-15.gz')\n",
      "('done with file: ', 'statuses.log.2017-02-26-15.gz', ' This file takes 61.5501871109 seconds')\n",
      "('start reading file: ', 'statuses.log.2017-02-26-16.gz')\n",
      "('done with file: ', 'statuses.log.2017-02-26-16.gz', ' This file takes 61.6608309746 seconds')\n",
      "('start reading file: ', 'statuses.log.2017-02-26-17.gz')\n",
      "('done with file: ', 'statuses.log.2017-02-26-17.gz', ' This file takes 65.5365829468 seconds')\n",
      "('start reading file: ', 'statuses.log.2017-02-26-18.gz')\n",
      "('done with file: ', 'statuses.log.2017-02-26-18.gz', ' This file takes 59.9003350735 seconds')\n",
      "('start reading file: ', 'statuses.log.2017-02-26-19.gz')\n",
      "('done with file: ', 'statuses.log.2017-02-26-19.gz', ' This file takes 57.8286590576 seconds')\n",
      "('start reading file: ', 'statuses.log.2017-02-26-20.gz')\n",
      "('done with file: ', 'statuses.log.2017-02-26-20.gz', ' This file takes 61.0421299934 seconds')\n",
      "('start reading file: ', 'statuses.log.2017-02-26-21.gz')\n",
      "('done with file: ', 'statuses.log.2017-02-26-21.gz', ' This file takes 79.0412449837 seconds')\n",
      "('start reading file: ', 'statuses.log.2017-02-26-22.gz')\n",
      "('done with file: ', 'statuses.log.2017-02-26-22.gz', ' This file takes 81.2704980373 seconds')\n",
      "('start reading file: ', 'statuses.log.2017-02-26-23.gz')\n",
      "('done with file: ', 'statuses.log.2017-02-26-23.gz', ' This file takes 75.2185938358 seconds')\n",
      "('start reading file: ', 'statuses.log.2017-02-27-00.gz')\n",
      "('done with file: ', 'statuses.log.2017-02-27-00.gz', ' This file takes 80.7473599911 seconds')\n",
      "('start reading file: ', 'statuses.log.2017-02-27-01.gz')\n",
      "('done with file: ', 'statuses.log.2017-02-27-01.gz', ' This file takes 58.7236449718 seconds')\n",
      "('start reading file: ', 'statuses.log.2017-02-27-02.gz')\n",
      "('done with file: ', 'statuses.log.2017-02-27-02.gz', ' This file takes 51.4858701229 seconds')\n",
      "('start reading file: ', 'statuses.log.2017-02-27-03.gz')\n",
      "('done with file: ', 'statuses.log.2017-02-27-03.gz', ' This file takes 51.8543360233 seconds')\n",
      "('start reading file: ', 'statuses.log.2017-02-27-04.gz')\n",
      "('done with file: ', 'statuses.log.2017-02-27-04.gz', ' This file takes 51.1014580727 seconds')\n",
      "('start reading file: ', 'statuses.log.2017-02-27-05.gz')\n",
      "('done with file: ', 'statuses.log.2017-02-27-05.gz', ' This file takes 62.3875029087 seconds')\n",
      "('start reading file: ', 'statuses.log.2017-02-27-06.gz')\n",
      "('done with file: ', 'statuses.log.2017-02-27-06.gz', ' This file takes 65.2193851471 seconds')\n",
      "('start reading file: ', 'statuses.log.2017-02-27-07.gz')\n",
      "('done with file: ', 'statuses.log.2017-02-27-07.gz', ' This file takes 80.2324519157 seconds')\n",
      "('start reading file: ', 'statuses.log.2017-02-27-08.gz')\n",
      "('done with file: ', 'statuses.log.2017-02-27-08.gz', ' This file takes 85.7644879818 seconds')\n",
      "('start reading file: ', 'statuses.log.2017-02-27-09.gz')\n"
     ]
    },
    {
     "name": "stdout",
     "output_type": "stream",
     "text": [
      "('done with file: ', 'statuses.log.2017-02-27-09.gz', ' This file takes 82.6980540752 seconds')\n",
      "('start reading file: ', 'statuses.log.2017-02-27-10.gz')\n",
      "('done with file: ', 'statuses.log.2017-02-27-10.gz', ' This file takes 85.9461069107 seconds')\n",
      "('start reading file: ', 'statuses.log.2017-02-27-11.gz')\n",
      "('done with file: ', 'statuses.log.2017-02-27-11.gz', ' This file takes 74.125138998 seconds')\n",
      "('start reading file: ', 'statuses.log.2017-02-27-12.gz')\n",
      "('done with file: ', 'statuses.log.2017-02-27-12.gz', ' This file takes 68.1389870644 seconds')\n",
      "('start reading file: ', 'statuses.log.2017-02-27-13.gz')\n",
      "('done with file: ', 'statuses.log.2017-02-27-13.gz', ' This file takes 61.234525919 seconds')\n",
      "('start reading file: ', 'statuses.log.2017-02-27-14.gz')\n",
      "('done with file: ', 'statuses.log.2017-02-27-14.gz', ' This file takes 65.945857048 seconds')\n",
      "('start reading file: ', 'statuses.log.2017-02-27-15.gz')\n",
      "('done with file: ', 'statuses.log.2017-02-27-15.gz', ' This file takes 70.0788810253 seconds')\n",
      "('start reading file: ', 'statuses.log.2017-02-27-16.gz')\n",
      "('done with file: ', 'statuses.log.2017-02-27-16.gz', ' This file takes 61.3817539215 seconds')\n",
      "('start reading file: ', 'statuses.log.2017-02-27-17.gz')\n",
      "('done with file: ', 'statuses.log.2017-02-27-17.gz', ' This file takes 62.5262191296 seconds')\n",
      "('start reading file: ', 'statuses.log.2017-02-27-18.gz')\n",
      "('done with file: ', 'statuses.log.2017-02-27-18.gz', ' This file takes 56.4356429577 seconds')\n",
      "('start reading file: ', 'statuses.log.2017-02-27-19.gz')\n",
      "('done with file: ', 'statuses.log.2017-02-27-19.gz', ' This file takes 53.0937747955 seconds')\n",
      "('start reading file: ', 'statuses.log.2017-02-27-20.gz')\n",
      "('done with file: ', 'statuses.log.2017-02-27-20.gz', ' This file takes 55.5927169323 seconds')\n",
      "('start reading file: ', 'statuses.log.2017-02-27-21.gz')\n",
      "('done with file: ', 'statuses.log.2017-02-27-21.gz', ' This file takes 57.1595270634 seconds')\n",
      "('start reading file: ', 'statuses.log.2017-02-27-22.gz')\n",
      "('done with file: ', 'statuses.log.2017-02-27-22.gz', ' This file takes 66.4498550892 seconds')\n",
      "('start reading file: ', 'statuses.log.2017-02-27-23.gz')\n",
      "('done with file: ', 'statuses.log.2017-02-27-23.gz', ' This file takes 60.8631401062 seconds')\n",
      "('start reading file: ', 'statuses.log.2017-02-28-00.gz')\n",
      "('done with file: ', 'statuses.log.2017-02-28-00.gz', ' This file takes 53.630010128 seconds')\n",
      "('start reading file: ', 'statuses.log.2017-02-28-01.gz')\n",
      "('done with file: ', 'statuses.log.2017-02-28-01.gz', ' This file takes 49.1198570728 seconds')\n",
      "('start reading file: ', 'statuses.log.2017-02-28-02.gz')\n",
      "('done with file: ', 'statuses.log.2017-02-28-02.gz', ' This file takes 51.160795927 seconds')\n",
      "('start reading file: ', 'statuses.log.2017-02-28-03.gz')\n",
      "('done with file: ', 'statuses.log.2017-02-28-03.gz', ' This file takes 49.9275679588 seconds')\n",
      "('start reading file: ', 'statuses.log.2017-02-28-04.gz')\n",
      "('done with file: ', 'statuses.log.2017-02-28-04.gz', ' This file takes 51.9522731304 seconds')\n",
      "('start reading file: ', 'statuses.log.2017-02-28-05.gz')\n",
      "('done with file: ', 'statuses.log.2017-02-28-05.gz', ' This file takes 55.4386618137 seconds')\n",
      "('start reading file: ', 'statuses.log.2017-02-28-06.gz')\n",
      "('done with file: ', 'statuses.log.2017-02-28-06.gz', ' This file takes 64.8845188618 seconds')\n",
      "('start reading file: ', 'statuses.log.2017-02-28-07.gz')\n",
      "('done with file: ', 'statuses.log.2017-02-28-07.gz', ' This file takes 71.0322229862 seconds')\n",
      "('start reading file: ', 'statuses.log.2017-02-28-08.gz')\n",
      "('done with file: ', 'statuses.log.2017-02-28-08.gz', ' This file takes 79.2788980007 seconds')\n",
      "('start reading file: ', 'statuses.log.2017-02-28-09.gz')\n",
      "('done with file: ', 'statuses.log.2017-02-28-09.gz', ' This file takes 81.5991618633 seconds')\n",
      "('start reading file: ', 'statuses.log.2017-02-28-10.gz')\n",
      "('done with file: ', 'statuses.log.2017-02-28-10.gz', ' This file takes 86.7976160049 seconds')\n",
      "('start reading file: ', 'statuses.log.2017-02-28-11.gz')\n",
      "('done with file: ', 'statuses.log.2017-02-28-11.gz', ' This file takes 74.7543120384 seconds')\n",
      "('start reading file: ', 'statuses.log.2017-02-28-12.gz')\n",
      "<type 'exceptions.ValueError'>\n",
      "('start reading file: ', 'statuses.log.2017-02-28-13.gz')\n",
      "('done with file: ', 'statuses.log.2017-02-28-13.gz', ' This file takes 66.7487781048 seconds')\n",
      "('start reading file: ', 'statuses.log.2017-02-28-14.gz')\n",
      "('done with file: ', 'statuses.log.2017-02-28-14.gz', ' This file takes 60.2135879993 seconds')\n",
      "('start reading file: ', 'statuses.log.2017-02-28-15.gz')\n",
      "('done with file: ', 'statuses.log.2017-02-28-15.gz', ' This file takes 58.9910640717 seconds')\n",
      "('start reading file: ', 'statuses.log.2017-02-28-16.gz')\n",
      "<type 'exceptions.ValueError'>\n",
      "('start reading file: ', 'statuses.log.2017-02-28-17.gz')\n",
      "<type 'exceptions.ValueError'>\n",
      "('start reading file: ', 'statuses.log.2017-02-28-18.gz')\n",
      "<type 'exceptions.ValueError'>\n",
      "('start reading file: ', 'statuses.log.2017-02-28-19.gz')\n",
      "('done with file: ', 'statuses.log.2017-02-28-19.gz', ' This file takes 55.400190115 seconds')\n",
      "('start reading file: ', 'statuses.log.2017-02-28-20.gz')\n",
      "('done with file: ', 'statuses.log.2017-02-28-20.gz', ' This file takes 58.3311860561 seconds')\n",
      "('start reading file: ', 'statuses.log.2017-02-28-21.gz')\n",
      "<type 'exceptions.ValueError'>\n",
      "('start reading file: ', 'statuses.log.2017-02-28-22.gz')\n",
      "<type 'exceptions.ValueError'>\n",
      "('start reading file: ', 'statuses.log.2017-02-28-23.gz')\n",
      "('done with file: ', 'statuses.log.2017-02-28-23.gz', ' This file takes 67.0149371624 seconds')\n",
      "Going through all the files takes 22984.34743 seconds\n",
      "('Total number of valid tweets:', 86)\n"
     ]
    }
   ],
   "source": [
    "import os.path\n",
    "import time\n",
    "import gzip\n",
    "import json\n",
    "\n",
    "\n",
    "tweets_path = '/Users/alinamazi/Data/recent-tweets/data/Feb/'\n",
    "results_path = '/Users/alinamazi/Data/results/Feb/Followers/'\n",
    "\n",
    "\n",
    "if not os.path.isdir(tweets_path):\n",
    "    print 'error in input path'\n",
    "if not os.path.isdir(results_path):\n",
    "    print 'error in output path'\n",
    "\n",
    "json_file_ua = open(results_path + 'ua_account_feb.json', 'w')\n",
    "\n",
    "tweet_list = []\n",
    "tweet_count = 0\n",
    "\n",
    "t0 = time.time()\n",
    "for file in os.listdir(tweets_path):\n",
    "    if file.endswith(\".gz\"):\n",
    "        f=gzip.open(tweets_path+file,'r')\n",
    "        print(\"start reading file: \", file)\n",
    "        try:\n",
    "            t1= time.time()\n",
    "            for l in f:\n",
    "                l = l.decode(\"ascii\",\"ignore\").encode(\"ascii\")\n",
    "                data = json.loads(l)\n",
    "\n",
    "                if \"user\" in data:\n",
    "                    #if tweet_count == 0:\n",
    "                    #if data['user']['screen_name'] == '@United':\n",
    "                    if str(data['user']['id_str']) == str(260907612):#str(826635710):#260907612:\n",
    "                        #print data['user']['id'], data['user']['screen_name']\n",
    "                        tweet_list.append(data)\n",
    "                        tweet_count += 1\n",
    "\n",
    "            t2 = time.time()\n",
    "            print(\"done with file: \", file, ' This file takes {} seconds'.format(t2-t1))\n",
    "\n",
    "        except ValueError:\n",
    "            print(ValueError)\n",
    "            pass\n",
    "\n",
    "t3 = time.time()\n",
    "print('Going through all the files takes {} seconds'.format(t3 - t0))\n",
    "\n",
    "print(\"Total number of valid tweets:\", tweet_count)\n",
    "\n",
    "def jdefault(o):\n",
    "    return o.__dict__\n",
    "\n",
    "\n",
    "tweet_dic_followers = {}\n",
    "\n",
    "tweet_dic_followers['tweets'] = tweet_list\n",
    "\n",
    "json_data_ua = json.dumps(tweet_dic_followers, default=jdefault)\n",
    "json_file_ua.writelines(json_data_ua)\n",
    "json_file_ua.close()\n"
   ]
  },
  {
   "cell_type": "code",
   "execution_count": 72,
   "metadata": {},
   "outputs": [
    {
     "data": {
      "text/plain": [
       "142"
      ]
     },
     "execution_count": 72,
     "metadata": {},
     "output_type": "execute_result"
    }
   ],
   "source": [
    "len(tweet_list)"
   ]
  },
  {
   "cell_type": "code",
   "execution_count": 59,
   "metadata": {},
   "outputs": [
    {
     "data": {
      "text/plain": [
       "260907612"
      ]
     },
     "execution_count": 59,
     "metadata": {},
     "output_type": "execute_result"
    }
   ],
   "source": [
    "id = tweet_list[1]['user']['id']\n",
    "tweet_1 = tweet_list\n",
    "id"
   ]
  },
  {
   "cell_type": "code",
   "execution_count": null,
   "metadata": {
    "collapsed": true
   },
   "outputs": [],
   "source": [
    "tweet_list[1]['user']['followers_count']"
   ]
  },
  {
   "cell_type": "code",
   "execution_count": 63,
   "metadata": {},
   "outputs": [
    {
     "data": {
      "text/plain": [
       "int"
      ]
     },
     "execution_count": 63,
     "metadata": {},
     "output_type": "execute_result"
    }
   ],
   "source": [
    "type(id)"
   ]
  },
  {
   "cell_type": "code",
   "execution_count": 73,
   "metadata": {},
   "outputs": [
    {
     "data": {
      "text/plain": [
       "{u'contributors': None,\n",
       " u'coordinates': None,\n",
       " u'created_at': u'Sat Mar 25 07:19:29 +0000 2017',\n",
       " u'display_text_range': [16, 133],\n",
       " u'entities': {u'hashtags': [],\n",
       "  u'symbols': [],\n",
       "  u'urls': [],\n",
       "  u'user_mentions': [{u'id': 788080295983521792,\n",
       "    u'id_str': u'788080295983521792',\n",
       "    u'indices': [0, 15],\n",
       "    u'name': u'Christine Hilton',\n",
       "    u'screen_name': u'christihilton9'}]},\n",
       " u'favorite_count': 0,\n",
       " u'favorited': False,\n",
       " u'filter_level': u'low',\n",
       " u'geo': None,\n",
       " u'id': 845535594415472641,\n",
       " u'id_str': u'845535594415472641',\n",
       " u'in_reply_to_screen_name': u'christihilton9',\n",
       " u'in_reply_to_status_id': 845492178604322816,\n",
       " u'in_reply_to_status_id_str': u'845492178604322816',\n",
       " u'in_reply_to_user_id': 788080295983521792,\n",
       " u'in_reply_to_user_id_str': u'788080295983521792',\n",
       " u'is_quote_status': False,\n",
       " u'lang': u'en',\n",
       " u'place': None,\n",
       " u'retweet_count': 0,\n",
       " u'retweeted': False,\n",
       " u'source': u'<a href=\"https://www.lithium.com\" rel=\"nofollow\">Lithium Tech.</a>',\n",
       " u'text': u'@christihilton9 We are sorry to hear this, Christine. Unfortunately, if the ticket was nonrefundable, there is nothing we can do. ^TY',\n",
       " u'timestamp_ms': u'1490426369657',\n",
       " u'truncated': False,\n",
       " u'user': {u'contributors_enabled': False,\n",
       "  u'created_at': u'Fri Mar 04 21:23:11 +0000 2011',\n",
       "  u'default_profile': False,\n",
       "  u'default_profile_image': False,\n",
       "  u'description': u'Conversations with you here are 140 characters-friendly. Tweet us any time. For a formal response visit http://united.com/feedback.',\n",
       "  u'favourites_count': 2095,\n",
       "  u'follow_request_sent': None,\n",
       "  u'followers_count': 885614,\n",
       "  u'following': None,\n",
       "  u'friends_count': 46697,\n",
       "  u'geo_enabled': True,\n",
       "  u'id': 260907612,\n",
       "  u'id_str': u'260907612',\n",
       "  u'is_translator': False,\n",
       "  u'lang': u'en',\n",
       "  u'listed_count': 5813,\n",
       "  u'location': None,\n",
       "  u'name': u'United',\n",
       "  u'notifications': None,\n",
       "  u'profile_background_color': u'000000',\n",
       "  u'profile_background_image_url': u'http://pbs.twimg.com/profile_background_images/628613516706983936/_STAJ7Q2.jpg',\n",
       "  u'profile_background_image_url_https': u'https://pbs.twimg.com/profile_background_images/628613516706983936/_STAJ7Q2.jpg',\n",
       "  u'profile_background_tile': True,\n",
       "  u'profile_banner_url': u'https://pbs.twimg.com/profile_banners/260907612/1474466275',\n",
       "  u'profile_image_url': u'http://pbs.twimg.com/profile_images/635867807981379584/sA1V-rRi_normal.jpg',\n",
       "  u'profile_image_url_https': u'https://pbs.twimg.com/profile_images/635867807981379584/sA1V-rRi_normal.jpg',\n",
       "  u'profile_link_color': u'0084B4',\n",
       "  u'profile_sidebar_border_color': u'FFFFFF',\n",
       "  u'profile_sidebar_fill_color': u'DDEEF6',\n",
       "  u'profile_text_color': u'333333',\n",
       "  u'profile_use_background_image': True,\n",
       "  u'protected': False,\n",
       "  u'screen_name': u'united',\n",
       "  u'statuses_count': 790179,\n",
       "  u'time_zone': u'Central Time (US & Canada)',\n",
       "  u'url': u'https://hub.united.com/',\n",
       "  u'utc_offset': -18000,\n",
       "  u'verified': True}}"
      ]
     },
     "execution_count": 73,
     "metadata": {},
     "output_type": "execute_result"
    }
   ],
   "source": [
    "tweet_list[0]"
   ]
  },
  {
   "cell_type": "code",
   "execution_count": 160,
   "metadata": {
    "collapsed": true
   },
   "outputs": [],
   "source": [
    "with open(results_path+'ua_followers.txt','w') as f:\n",
    "    f.write('\\n'.join('%s\\t%s' % x for x in time_follower))\n"
   ]
  },
  {
   "cell_type": "code",
   "execution_count": 164,
   "metadata": {
    "collapsed": true
   },
   "outputs": [],
   "source": [
    "import csv\n",
    "\n",
    "tf_list = []\n",
    "with open(results_path+'ua_followers.txt','r') as o:\n",
    "    reader = csv.reader(o,delimiter='\\t')\n",
    "    for t,f in reader:\n",
    "        #print t,f \n",
    "        tf_list.append((t,f))"
   ]
  },
  {
   "cell_type": "code",
   "execution_count": 166,
   "metadata": {
    "collapsed": true
   },
   "outputs": [],
   "source": [
    "#tf_list"
   ]
  },
  {
   "cell_type": "code",
   "execution_count": 157,
   "metadata": {
    "collapsed": true
   },
   "outputs": [],
   "source": [
    "followers_list = []\n",
    "time_list = []\n",
    "\n",
    "for tweet in tweet_list:\n",
    "    followers_list.append(tweet['user']['followers_count'])\n",
    "    time_list.append(tweet['created_at'])\n",
    "time_follower = zip(time_list,followers_list)"
   ]
  },
  {
   "cell_type": "code",
   "execution_count": 178,
   "metadata": {},
   "outputs": [
    {
     "name": "stdout",
     "output_type": "stream",
     "text": [
      "favorites count: 142   followers count: 142\n"
     ]
    }
   ],
   "source": [
    "favorites_list = []\n",
    "friends_list = []\n",
    "\n",
    "for tweet in tweet_list:\n",
    "    favorites_list.append(tweet['user']['favourites_count'])\n",
    "    friends_list.append(tweet['user']['friends_count'])\n",
    "print ('favorites count: %s   followers count: %s' % (len(favorites_list), len(friends_list)))"
   ]
  },
  {
   "cell_type": "code",
   "execution_count": 180,
   "metadata": {},
   "outputs": [
    {
     "data": {
      "text/plain": [
       "([2095, 2095, 2095], [46697, 46697, 46697])"
      ]
     },
     "execution_count": 180,
     "metadata": {},
     "output_type": "execute_result"
    }
   ],
   "source": [
    "favorites_list[:3], friends_list[:3]"
   ]
  },
  {
   "cell_type": "code",
   "execution_count": 198,
   "metadata": {},
   "outputs": [
    {
     "data": {
      "image/png": "[encoded data removed]",
      "text/plain": [
       "<matplotlib.figure.Figure at 0x111628310>"
      ]
     },
     "metadata": {},
     "output_type": "display_data"
    }
   ],
   "source": [
    "import matplotlib.pyplot as plt\n",
    "import matplotlib.dates #as dates\n",
    "\n",
    "\n",
    "#x = matplotlib.dates.date2num(new_time)\n",
    "plt.plot(new_time,fav_list)\n",
    "plt.figsize = (15,8)\n",
    "plt.xlabel('time (s)')\n",
    "plt.ylabel('followers count')\n",
    "plt.title('Followers count changes for UA Airlines')\n",
    "plt.grid(True)\n",
    "plt.xticks(rotation=45)\n",
    "#plt.savefig(\"test.png\")\n",
    "plt.show()"
   ]
  },
  {
   "cell_type": "code",
   "execution_count": 236,
   "metadata": {},
   "outputs": [
    {
     "data": {
      "image/png": "[encoded data removed]",
      "text/plain": [
       "<matplotlib.figure.Figure at 0x11164e410>"
      ]
     },
     "metadata": {},
     "output_type": "display_data"
    }
   ],
   "source": [
    "import matplotlib.dates as mdates\n",
    "import matplotlib.cbook as cbook\n",
    "\n",
    "days = mdates.DayLocator()   # every year\n",
    "months = mdates.MonthLocator()  # every month\n",
    "daysFmt = mdates.DateFormatter('%m/%d')\n",
    "\n",
    "fig, ax = plt.subplots(figsize=(15,6))\n",
    "plt.gca().xaxis.set_major_formatter(daysFmt)\n",
    "plt.gca().xaxis.set_major_locator(days)\n",
    "plt.gca().xaxis.set_minor_locator(months)\n",
    "\n",
    "\n",
    "plt.plot(new_time,fav_list)\n",
    "#plt.gcf().autofmt_xdate()\n",
    "plt.xticks(rotation=90)\n",
    "\n",
    "ax.legend(title='Friends Count Change over Time')\n",
    "ax.set_xlabel(\"Time\",fontsize=15)\n",
    "ax.set_ylabel(\"Friends Count\", fontsize=15)\n",
    "\n",
    "# fig, ax = plt.subplots(figsize=(15,6))\n",
    "# ax.plot(new_time, followers_list)\n",
    "\n",
    "# # format the ticks\n",
    "# ax.xaxis.set_major_locator(days)\n",
    "# ax.xaxis.set_major_formatter(daysFmt)\n",
    "# ax.xaxis.set_minor_locator(months)\n",
    "\n",
    "# ax.format_xdata = mdates.DateFormatter('%Y-%m')\n",
    "# ax.format_ydata = followers_list\n",
    "ax.grid(True)\n",
    "\n",
    "\n",
    "\n",
    "# rotates and right aligns the x labels, and moves the bottom of the\n",
    "# axes up to make room for them\n",
    "#fig.autofmt_xdate()\n",
    "fig.savefig('../TDI/ua_favorites_feb_april.png')\n",
    "plt.show()\n"
   ]
  },
  {
   "cell_type": "code",
   "execution_count": 120,
   "metadata": {},
   "outputs": [
    {
     "data": {
      "text/plain": [
       "datetime.datetime(2005, 6, 1, 13, 33)"
      ]
     },
     "execution_count": 120,
     "metadata": {},
     "output_type": "execute_result"
    }
   ],
   "source": [
    "from datetime import datetime\n",
    "#Mon Apr 24 07:32:02 +0000 2017 '%A %b %d '\n",
    "datetime_object = datetime.strptime('Jun 1 2005  1:33PM', '%b %d %Y %I:%M%p')\n",
    "datetime_object"
   ]
  },
  {
   "cell_type": "code",
   "execution_count": 121,
   "metadata": {},
   "outputs": [
    {
     "data": {
      "text/plain": [
       "datetime.datetime(2017, 3, 25, 7, 19, 29)"
      ]
     },
     "execution_count": 121,
     "metadata": {},
     "output_type": "execute_result"
    }
   ],
   "source": [
    "#ts = time.strftime('%Y-%m-%d %H:%M:%S', time.strptime(time_list[0],'%a %b %d %H:%M:%S +0000 %Y'))\n",
    "ts = datetime.strptime(time_list[0],'%a %b %d %H:%M:%S +0000 %Y')\n",
    "ts"
   ]
  },
  {
   "cell_type": "code",
   "execution_count": 87,
   "metadata": {},
   "outputs": [
    {
     "data": {
      "text/plain": [
       "u'Sat Mar 25 07:19:29 +0000 2017'"
      ]
     },
     "execution_count": 87,
     "metadata": {},
     "output_type": "execute_result"
    }
   ],
   "source": [
    "time[0]"
   ]
  },
  {
   "cell_type": "code",
   "execution_count": 93,
   "metadata": {},
   "outputs": [
    {
     "data": {
      "text/plain": [
       "'2017-03-25 07:19:29'"
      ]
     },
     "execution_count": 93,
     "metadata": {},
     "output_type": "execute_result"
    }
   ],
   "source": [
    "ts"
   ]
  },
  {
   "cell_type": "code",
   "execution_count": 233,
   "metadata": {
    "collapsed": true
   },
   "outputs": [],
   "source": [
    "new_time = []\n",
    "for t in time_list:\n",
    "    ts = datetime.strptime(t,'%a %b %d %H:%M:%S +0000 %Y')\n",
    "    new_time.append(ts)"
   ]
  },
  {
   "cell_type": "code",
   "execution_count": 213,
   "metadata": {},
   "outputs": [
    {
     "data": {
      "text/plain": [
       "189"
      ]
     },
     "execution_count": 213,
     "metadata": {},
     "output_type": "execute_result"
    }
   ],
   "source": [
    "len(new_time)"
   ]
  },
  {
   "cell_type": "code",
   "execution_count": 241,
   "metadata": {},
   "outputs": [
    {
     "data": {
      "text/html": [
       "<iframe id=\"igraph\" scrolling=\"no\" style=\"border:none;\" seamless=\"seamless\" src=\"https://plot.ly/~yasamanh/280.embed\" height=\"525px\" width=\"100%\"></iframe>"
      ],
      "text/plain": [
       "<plotly.tools.PlotlyDisplay object>"
      ]
     },
     "execution_count": 241,
     "metadata": {},
     "output_type": "execute_result"
    }
   ],
   "source": [
    "import plotly.plotly as py\n",
    "from plotly.graph_objs import *\n",
    "\n",
    "Followers = Scatter(\n",
    "          x=new_time,\n",
    "          y=followers_list,\n",
    ")\n",
    "layout = {'yaxis':dict(\n",
    "        title='Count',\n",
    "#         titlefont=dict(\n",
    "#             family='Times',\n",
    "#             size=18,\n",
    "#             color='#7f7f7f'\n",
    "#         )\n",
    "    ),\n",
    "}\n",
    "data = Data([Followers])\n",
    "\n",
    "fig = {\n",
    "    'data': data,\n",
    "    'layout': layout,\n",
    "}\n",
    "\n",
    "\n",
    "py.iplot(fig)"
   ]
  },
  {
   "cell_type": "code",
   "execution_count": 100,
   "metadata": {
    "collapsed": true
   },
   "outputs": [],
   "source": [
    "import json\n",
    "import pandas\n",
    "import matplotlib.pyplot as plt\n",
    "from collections import defaultdict, Counter\n",
    "from operator import itemgetter\n",
    "from nltk.tokenize import TweetTokenizer\n",
    "from pprint import pprint"
   ]
  },
  {
   "cell_type": "code",
   "execution_count": null,
   "metadata": {
    "collapsed": true
   },
   "outputs": [],
   "source": []
  }
 ],
 "metadata": {
  "kernelspec": {
   "display_name": "Python 2",
   "language": "python",
   "name": "python2"
  },
  "language_info": {
   "codemirror_mode": {
    "name": "ipython",
    "version": 2
   },
   "file_extension": ".py",
   "mimetype": "text/x-python",
   "name": "python",
   "nbconvert_exporter": "python",
   "pygments_lexer": "ipython2",
   "version": "2.7.13"
  }
 },
 "nbformat": 4,
 "nbformat_minor": 2
}
