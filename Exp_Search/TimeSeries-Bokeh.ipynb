{
 "cells": [
  {
   "cell_type": "code",
   "execution_count": 4,
   "metadata": {
    "collapsed": true
   },
   "outputs": [],
   "source": [
    "import pandas\n",
    "import json\n",
    "\n",
    "tweets_data_file = open('/Users/alinamazi/Data/results/April/Exp1/ua.json','r')\n",
    "tweet_data = json.load(tweets_data_file)\n",
    "#tweets = pd.DataFrame()\n",
    "\n",
    "dates_UNITED = []\n",
    "dates_UNITED = map(lambda tweet: tweet['created_at'], tweet_data['tweets'])"
   ]
  },
  {
   "cell_type": "code",
   "execution_count": 5,
   "metadata": {},
   "outputs": [
    {
     "data": {
      "text/plain": [
       "28427"
      ]
     },
     "execution_count": 5,
     "metadata": {},
     "output_type": "execute_result"
    }
   ],
   "source": [
    "tweets_data_file.close()\n",
    "len(dates_UNITED)"
   ]
  },
  {
   "cell_type": "code",
   "execution_count": 6,
   "metadata": {
    "collapsed": true
   },
   "outputs": [],
   "source": [
    "# a list of \"1\" to count the tweets\n",
    "ones = [1]*len(dates_UNITED)\n",
    "# the index of the series\n",
    "idx = pandas.DatetimeIndex(dates_UNITED)\n",
    "# the actual series (at series of 1s for the moment)\n",
    "UNITED = pandas.Series(ones, index=idx)\n",
    "\n",
    "# Resampling / bucketing\n",
    "per_freq = UNITED.resample('60Min').sum().fillna(0)"
   ]
  },
  {
   "cell_type": "code",
   "execution_count": 24,
   "metadata": {},
   "outputs": [
    {
     "data": {
      "text/plain": [
       "2017-03-25 04:00:00    1.0\n",
       "2017-03-25 05:00:00    1.0\n",
       "2017-03-25 06:00:00    1.0\n",
       "2017-03-25 07:00:00    0.0\n",
       "2017-03-25 08:00:00    0.0\n",
       "Freq: 60T, dtype: float64"
      ]
     },
     "execution_count": 24,
     "metadata": {},
     "output_type": "execute_result"
    }
   ],
   "source": [
    "per_freq[:5]"
   ]
  },
  {
   "cell_type": "code",
   "execution_count": 7,
   "metadata": {
    "collapsed": true
   },
   "outputs": [],
   "source": [
    "match_data = dict(UNITED=per_freq)\n",
    "\n",
    "# we need a DataFrame, to accommodate multiple series\n",
    "all_matches = pandas.DataFrame(data=match_data,\n",
    "                               index=per_freq.index)\n",
    "# Resampling as above\n",
    "all_matches = all_matches.resample('60Min').sum().fillna(0)\n",
    "#all_matches = all_matches.sum().fillna(0)"
   ]
  },
  {
   "cell_type": "code",
   "execution_count": 39,
   "metadata": {},
   "outputs": [],
   "source": [
    "tweet_pd = pandas.DataFrame(data=\n",
    "    {     \n",
    "    'Time': all_matches.index,\n",
    "    'Frequency': per_freq\n",
    "    })\n",
    "\n",
    "\n",
    "tweet_pd.to_csv(\"../TDI/tweets_freq.csv\", sep='\\t')"
   ]
  },
  {
   "cell_type": "code",
   "execution_count": 37,
   "metadata": {},
   "outputs": [
    {
     "data": {
      "text/plain": [
       "2017-03-25 04:00:00    1.0\n",
       "2017-03-25 05:00:00    1.0\n",
       "2017-03-25 06:00:00    1.0\n",
       "2017-03-25 07:00:00    0.0\n",
       "2017-03-25 08:00:00    0.0\n",
       "2017-03-25 09:00:00    1.0\n",
       "2017-03-25 10:00:00    0.0\n",
       "2017-03-25 11:00:00    0.0\n",
       "2017-03-25 12:00:00    0.0\n",
       "2017-03-25 13:00:00    0.0\n",
       "2017-03-25 14:00:00    0.0\n",
       "2017-03-25 15:00:00    1.0\n",
       "2017-03-25 16:00:00    0.0\n",
       "2017-03-25 17:00:00    1.0\n",
       "2017-03-25 18:00:00    1.0\n",
       "2017-03-25 19:00:00    2.0\n",
       "2017-03-25 20:00:00    4.0\n",
       "2017-03-25 21:00:00    1.0\n",
       "2017-03-25 22:00:00    0.0\n",
       "2017-03-25 23:00:00    0.0\n",
       "2017-03-26 00:00:00    0.0\n",
       "2017-03-26 01:00:00    0.0\n",
       "2017-03-26 02:00:00    2.0\n",
       "2017-03-26 03:00:00    1.0\n",
       "2017-03-26 04:00:00    0.0\n",
       "2017-03-26 05:00:00    1.0\n",
       "2017-03-26 06:00:00    1.0\n",
       "2017-03-26 07:00:00    0.0\n",
       "2017-03-26 08:00:00    0.0\n",
       "2017-03-26 09:00:00    0.0\n",
       "                      ... \n",
       "2017-04-25 08:00:00    1.0\n",
       "2017-04-25 09:00:00    3.0\n",
       "2017-04-25 10:00:00    3.0\n",
       "2017-04-25 11:00:00    8.0\n",
       "2017-04-25 12:00:00    5.0\n",
       "2017-04-25 13:00:00    0.0\n",
       "2017-04-25 14:00:00    2.0\n",
       "2017-04-25 15:00:00    3.0\n",
       "2017-04-25 16:00:00    3.0\n",
       "2017-04-25 17:00:00    1.0\n",
       "2017-04-25 18:00:00    1.0\n",
       "2017-04-25 19:00:00    1.0\n",
       "2017-04-25 20:00:00    4.0\n",
       "2017-04-25 21:00:00    1.0\n",
       "2017-04-25 22:00:00    1.0\n",
       "2017-04-25 23:00:00    6.0\n",
       "2017-04-26 00:00:00    8.0\n",
       "2017-04-26 01:00:00    7.0\n",
       "2017-04-26 02:00:00    0.0\n",
       "2017-04-26 03:00:00    0.0\n",
       "2017-04-26 04:00:00    4.0\n",
       "2017-04-26 05:00:00    1.0\n",
       "2017-04-26 06:00:00    4.0\n",
       "2017-04-26 07:00:00    3.0\n",
       "2017-04-26 08:00:00    1.0\n",
       "2017-04-26 09:00:00    4.0\n",
       "2017-04-26 10:00:00    5.0\n",
       "2017-04-26 11:00:00    4.0\n",
       "2017-04-26 12:00:00    4.0\n",
       "2017-04-26 13:00:00    1.0\n",
       "Freq: 60T, dtype: float64"
      ]
     },
     "execution_count": 37,
     "metadata": {},
     "output_type": "execute_result"
    }
   ],
   "source": [
    "per_freq"
   ]
  },
  {
   "cell_type": "code",
   "execution_count": 8,
   "metadata": {},
   "outputs": [
    {
     "data": {
      "text/html": [
       "\n",
       "    <div class=\"bk-root\">\n",
       "        <a href=\"http://bokeh.pydata.org\" target=\"_blank\" class=\"bk-logo bk-logo-small bk-logo-notebook\"></a>\n",
       "        <span id=\"57eb9313-4d08-48af-98c8-671dcaea3356\">Loading BokehJS ...</span>\n",
       "    </div>"
      ]
     },
     "metadata": {},
     "output_type": "display_data"
    },
    {
     "data": {
      "application/javascript": [
       "\n",
       "(function(global) {\n",
       "  function now() {\n",
       "    return new Date();\n",
       "  }\n",
       "\n",
       "  var force = true;\n",
       "\n",
       "  if (typeof (window._bokeh_onload_callbacks) === \"undefined\" || force === true) {\n",
       "    window._bokeh_onload_callbacks = [];\n",
       "    window._bokeh_is_loading = undefined;\n",
       "  }\n",
       "\n",
       "\n",
       "  \n",
       "  if (typeof (window._bokeh_timeout) === \"undefined\" || force === true) {\n",
       "    window._bokeh_timeout = Date.now() + 5000;\n",
       "    window._bokeh_failed_load = false;\n",
       "  }\n",
       "\n",
       "  var NB_LOAD_WARNING = {'data': {'text/html':\n",
       "     \"<div style='background-color: #fdd'>\\n\"+\n",
       "     \"<p>\\n\"+\n",
       "     \"BokehJS does not appear to have successfully loaded. If loading BokehJS from CDN, this \\n\"+\n",
       "     \"may be due to a slow or bad network connection. Possible fixes:\\n\"+\n",
       "     \"</p>\\n\"+\n",
       "     \"<ul>\\n\"+\n",
       "     \"<li>re-rerun `output_notebook()` to attempt to load from CDN again, or</li>\\n\"+\n",
       "     \"<li>use INLINE resources instead, as so:</li>\\n\"+\n",
       "     \"</ul>\\n\"+\n",
       "     \"<code>\\n\"+\n",
       "     \"from bokeh.resources import INLINE\\n\"+\n",
       "     \"output_notebook(resources=INLINE)\\n\"+\n",
       "     \"</code>\\n\"+\n",
       "     \"</div>\"}};\n",
       "\n",
       "  function display_loaded() {\n",
       "    if (window.Bokeh !== undefined) {\n",
       "      var el = document.getElementById(\"57eb9313-4d08-48af-98c8-671dcaea3356\");\n",
       "      el.textContent = \"BokehJS \" + Bokeh.version + \" successfully loaded.\";\n",
       "    } else if (Date.now() < window._bokeh_timeout) {\n",
       "      setTimeout(display_loaded, 100)\n",
       "    }\n",
       "  }\n",
       "\n",
       "  function run_callbacks() {\n",
       "    window._bokeh_onload_callbacks.forEach(function(callback) { callback() });\n",
       "    delete window._bokeh_onload_callbacks\n",
       "    console.info(\"Bokeh: all callbacks have finished\");\n",
       "  }\n",
       "\n",
       "  function load_libs(js_urls, callback) {\n",
       "    window._bokeh_onload_callbacks.push(callback);\n",
       "    if (window._bokeh_is_loading > 0) {\n",
       "      console.log(\"Bokeh: BokehJS is being loaded, scheduling callback at\", now());\n",
       "      return null;\n",
       "    }\n",
       "    if (js_urls == null || js_urls.length === 0) {\n",
       "      run_callbacks();\n",
       "      return null;\n",
       "    }\n",
       "    console.log(\"Bokeh: BokehJS not loaded, scheduling load and callback at\", now());\n",
       "    window._bokeh_is_loading = js_urls.length;\n",
       "    for (var i = 0; i < js_urls.length; i++) {\n",
       "      var url = js_urls[i];\n",
       "      var s = document.createElement('script');\n",
       "      s.src = url;\n",
       "      s.async = false;\n",
       "      s.onreadystatechange = s.onload = function() {\n",
       "        window._bokeh_is_loading--;\n",
       "        if (window._bokeh_is_loading === 0) {\n",
       "          console.log(\"Bokeh: all BokehJS libraries loaded\");\n",
       "          run_callbacks()\n",
       "        }\n",
       "      };\n",
       "      s.onerror = function() {\n",
       "        console.warn(\"failed to load library \" + url);\n",
       "      };\n",
       "      console.log(\"Bokeh: injecting script tag for BokehJS library: \", url);\n",
       "      document.getElementsByTagName(\"head\")[0].appendChild(s);\n",
       "    }\n",
       "  };var element = document.getElementById(\"57eb9313-4d08-48af-98c8-671dcaea3356\");\n",
       "  if (element == null) {\n",
       "    console.log(\"Bokeh: ERROR: autoload.js configured with elementid '57eb9313-4d08-48af-98c8-671dcaea3356' but no matching script tag was found. \")\n",
       "    return false;\n",
       "  }\n",
       "\n",
       "  var js_urls = [\"https://cdn.pydata.org/bokeh/release/bokeh-0.12.5.min.js\", \"https://cdn.pydata.org/bokeh/release/bokeh-widgets-0.12.5.min.js\"];\n",
       "\n",
       "  var inline_js = [\n",
       "    function(Bokeh) {\n",
       "      Bokeh.set_log_level(\"info\");\n",
       "    },\n",
       "    \n",
       "    function(Bokeh) {\n",
       "      \n",
       "    },\n",
       "    \n",
       "    function(Bokeh) {\n",
       "      \n",
       "      document.getElementById(\"57eb9313-4d08-48af-98c8-671dcaea3356\").textContent = \"BokehJS is loading...\";\n",
       "    },\n",
       "    function(Bokeh) {\n",
       "      console.log(\"Bokeh: injecting CSS: https://cdn.pydata.org/bokeh/release/bokeh-0.12.5.min.css\");\n",
       "      Bokeh.embed.inject_css(\"https://cdn.pydata.org/bokeh/release/bokeh-0.12.5.min.css\");\n",
       "      console.log(\"Bokeh: injecting CSS: https://cdn.pydata.org/bokeh/release/bokeh-widgets-0.12.5.min.css\");\n",
       "      Bokeh.embed.inject_css(\"https://cdn.pydata.org/bokeh/release/bokeh-widgets-0.12.5.min.css\");\n",
       "    }\n",
       "  ];\n",
       "\n",
       "  function run_inline_js() {\n",
       "    \n",
       "    if ((window.Bokeh !== undefined) || (force === true)) {\n",
       "      for (var i = 0; i < inline_js.length; i++) {\n",
       "        inline_js[i](window.Bokeh);\n",
       "      }if (force === true) {\n",
       "        display_loaded();\n",
       "      }} else if (Date.now() < window._bokeh_timeout) {\n",
       "      setTimeout(run_inline_js, 100);\n",
       "    } else if (!window._bokeh_failed_load) {\n",
       "      console.log(\"Bokeh: BokehJS failed to load within specified timeout.\");\n",
       "      window._bokeh_failed_load = true;\n",
       "    } else if (force !== true) {\n",
       "      var cell = $(document.getElementById(\"57eb9313-4d08-48af-98c8-671dcaea3356\")).parents('.cell').data().cell;\n",
       "      cell.output_area.append_execute_result(NB_LOAD_WARNING)\n",
       "    }\n",
       "\n",
       "  }\n",
       "\n",
       "  if (window._bokeh_is_loading === 0) {\n",
       "    console.log(\"Bokeh: BokehJS loaded, going straight to plotting\");\n",
       "    run_inline_js();\n",
       "  } else {\n",
       "    load_libs(js_urls, function() {\n",
       "      console.log(\"Bokeh: BokehJS plotting callback run at\", now());\n",
       "      run_inline_js();\n",
       "    });\n",
       "  }\n",
       "}(this));"
      ]
     },
     "metadata": {},
     "output_type": "display_data"
    }
   ],
   "source": [
    "from bokeh.charts import TimeSeries, defaults, show, Line\n",
    "from bokeh.io import output_notebook,output_file\n",
    "output_notebook()"
   ]
  },
  {
   "cell_type": "code",
   "execution_count": 9,
   "metadata": {},
   "outputs": [
    {
     "data": {
      "text/plain": [
       "778"
      ]
     },
     "execution_count": 9,
     "metadata": {},
     "output_type": "execute_result"
    }
   ],
   "source": [
    "len(all_matches)"
   ]
  },
  {
   "cell_type": "code",
   "execution_count": 12,
   "metadata": {},
   "outputs": [
    {
     "data": {
      "text/html": [
       "\n",
       "\n",
       "    <div class=\"bk-root\">\n",
       "        <div class=\"bk-plotdiv\" id=\"7bdae890-5c25-4a98-b301-29b24caa187b\"></div>\n",
       "    </div>\n",
       "<script type=\"text/javascript\">\n",
       "  \n",
       "  (function(global) {\n",
       "    function now() {\n",
       "      return new Date();\n",
       "    }\n",
       "  \n",
       "    var force = false;\n",
       "  \n",
       "    if (typeof (window._bokeh_onload_callbacks) === \"undefined\" || force === true) {\n",
       "      window._bokeh_onload_callbacks = [];\n",
       "      window._bokeh_is_loading = undefined;\n",
       "    }\n",
       "  \n",
       "  \n",
       "    \n",
       "    if (typeof (window._bokeh_timeout) === \"undefined\" || force === true) {\n",
       "      window._bokeh_timeout = Date.now() + 0;\n",
       "      window._bokeh_failed_load = false;\n",
       "    }\n",
       "  \n",
       "    var NB_LOAD_WARNING = {'data': {'text/html':\n",
       "       \"<div style='background-color: #fdd'>\\n\"+\n",
       "       \"<p>\\n\"+\n",
       "       \"BokehJS does not appear to have successfully loaded. If loading BokehJS from CDN, this \\n\"+\n",
       "       \"may be due to a slow or bad network connection. Possible fixes:\\n\"+\n",
       "       \"</p>\\n\"+\n",
       "       \"<ul>\\n\"+\n",
       "       \"<li>re-rerun `output_notebook()` to attempt to load from CDN again, or</li>\\n\"+\n",
       "       \"<li>use INLINE resources instead, as so:</li>\\n\"+\n",
       "       \"</ul>\\n\"+\n",
       "       \"<code>\\n\"+\n",
       "       \"from bokeh.resources import INLINE\\n\"+\n",
       "       \"output_notebook(resources=INLINE)\\n\"+\n",
       "       \"</code>\\n\"+\n",
       "       \"</div>\"}};\n",
       "  \n",
       "    function display_loaded() {\n",
       "      if (window.Bokeh !== undefined) {\n",
       "        var el = document.getElementById(\"7bdae890-5c25-4a98-b301-29b24caa187b\");\n",
       "        el.textContent = \"BokehJS \" + Bokeh.version + \" successfully loaded.\";\n",
       "      } else if (Date.now() < window._bokeh_timeout) {\n",
       "        setTimeout(display_loaded, 100)\n",
       "      }\n",
       "    }\n",
       "  \n",
       "    function run_callbacks() {\n",
       "      window._bokeh_onload_callbacks.forEach(function(callback) { callback() });\n",
       "      delete window._bokeh_onload_callbacks\n",
       "      console.info(\"Bokeh: all callbacks have finished\");\n",
       "    }\n",
       "  \n",
       "    function load_libs(js_urls, callback) {\n",
       "      window._bokeh_onload_callbacks.push(callback);\n",
       "      if (window._bokeh_is_loading > 0) {\n",
       "        console.log(\"Bokeh: BokehJS is being loaded, scheduling callback at\", now());\n",
       "        return null;\n",
       "      }\n",
       "      if (js_urls == null || js_urls.length === 0) {\n",
       "        run_callbacks();\n",
       "        return null;\n",
       "      }\n",
       "      console.log(\"Bokeh: BokehJS not loaded, scheduling load and callback at\", now());\n",
       "      window._bokeh_is_loading = js_urls.length;\n",
       "      for (var i = 0; i < js_urls.length; i++) {\n",
       "        var url = js_urls[i];\n",
       "        var s = document.createElement('script');\n",
       "        s.src = url;\n",
       "        s.async = false;\n",
       "        s.onreadystatechange = s.onload = function() {\n",
       "          window._bokeh_is_loading--;\n",
       "          if (window._bokeh_is_loading === 0) {\n",
       "            console.log(\"Bokeh: all BokehJS libraries loaded\");\n",
       "            run_callbacks()\n",
       "          }\n",
       "        };\n",
       "        s.onerror = function() {\n",
       "          console.warn(\"failed to load library \" + url);\n",
       "        };\n",
       "        console.log(\"Bokeh: injecting script tag for BokehJS library: \", url);\n",
       "        document.getElementsByTagName(\"head\")[0].appendChild(s);\n",
       "      }\n",
       "    };var element = document.getElementById(\"7bdae890-5c25-4a98-b301-29b24caa187b\");\n",
       "    if (element == null) {\n",
       "      console.log(\"Bokeh: ERROR: autoload.js configured with elementid '7bdae890-5c25-4a98-b301-29b24caa187b' but no matching script tag was found. \")\n",
       "      return false;\n",
       "    }\n",
       "  \n",
       "    var js_urls = [];\n",
       "  \n",
       "    var inline_js = [\n",
       "      function(Bokeh) {\n",
       "        (function() {\n",
       "          var fn = function() {\n",
       "            var docs_json = {\"004ae8ad-10dc-410a-8b31-46f24d88b2d7\":{\"roots\":{\"references\":[{\"attributes\":{\"plot\":{\"id\":\"be23c7cf-27e3-4680-b511-a286b840120e\",\"subtype\":\"Figure\",\"type\":\"Plot\"}},\"id\":\"3c8584a4-01ec-49de-a4c7-9b54f2a59b72\",\"type\":\"WheelZoomTool\"},{\"attributes\":{\"plot\":{\"id\":\"be23c7cf-27e3-4680-b511-a286b840120e\",\"subtype\":\"Figure\",\"type\":\"Plot\"}},\"id\":\"f69d872c-8513-4952-bf54-b7e07c9d67de\",\"type\":\"HelpTool\"},{\"attributes\":{},\"id\":\"5c07b68c-f517-4ec7-96aa-606e8a6fef4b\",\"type\":\"BasicTickFormatter\"},{\"attributes\":{\"bottom_units\":\"screen\",\"fill_alpha\":{\"value\":0.5},\"fill_color\":{\"value\":\"lightgrey\"},\"left_units\":\"screen\",\"level\":\"overlay\",\"line_alpha\":{\"value\":1.0},\"line_color\":{\"value\":\"black\"},\"line_dash\":[4,4],\"line_width\":{\"value\":2},\"plot\":null,\"render_mode\":\"css\",\"right_units\":\"screen\",\"top_units\":\"screen\"},\"id\":\"82f5f78a-e889-4360-85d4-6ad59156406c\",\"type\":\"BoxAnnotation\"},{\"attributes\":{\"plot\":null,\"text\":\"Timeline\",\"text_font_size\":{\"value\":\"16pt\"}},\"id\":\"25439bd0-b986-4d6e-8b7b-181bbcd09bf1\",\"type\":\"Title\"},{\"attributes\":{\"plot\":{\"id\":\"be23c7cf-27e3-4680-b511-a286b840120e\",\"subtype\":\"Figure\",\"type\":\"Plot\"}},\"id\":\"81933621-fb4f-4756-9126-96c818a1b229\",\"type\":\"ResetTool\"},{\"attributes\":{\"plot\":{\"id\":\"be23c7cf-27e3-4680-b511-a286b840120e\",\"subtype\":\"Figure\",\"type\":\"Plot\"}},\"id\":\"5ca88af7-f9a2-4508-aa1f-fc826a047fde\",\"type\":\"PanTool\"},{\"attributes\":{\"axis_label\":\"Time\",\"formatter\":{\"id\":\"63997989-e322-4737-8b99-a042e11d3a3c\",\"type\":\"DatetimeTickFormatter\"},\"major_label_orientation\":1.5707963267948966,\"minor_tick_in\":-2,\"plot\":{\"id\":\"be23c7cf-27e3-4680-b511-a286b840120e\",\"subtype\":\"Figure\",\"type\":\"Plot\"},\"ticker\":{\"id\":\"a67714cf-fa84-425c-b5ea-88c7bbf5c96a\",\"type\":\"BasicTicker\"}},\"id\":\"6c7d7b80-13a7-408a-8a42-5b0dfc07b697\",\"type\":\"LinearAxis\"},{\"attributes\":{\"background_fill_color\":{\"value\":\"yellow\"},\"border_line_color\":{\"value\":\"black\"},\"plot\":{\"id\":\"be23c7cf-27e3-4680-b511-a286b840120e\",\"subtype\":\"Figure\",\"type\":\"Plot\"},\"render_mode\":\"css\",\"text\":\"1st Video\",\"x\":370,\"x_units\":\"screen\",\"y\":350,\"y_units\":\"screen\"},\"id\":\"a21047ed-58d4-4340-a0db-212d0ff6db3f\",\"type\":\"Label\"},{\"attributes\":{\"line_alpha\":{\"value\":0.1},\"line_color\":{\"value\":\"#1f77b4\"},\"line_width\":{\"value\":2},\"x\":{\"field\":\"x\"},\"y\":{\"field\":\"y\"}},\"id\":\"81479f01-f86f-4d5a-bb53-51781879e27e\",\"type\":\"Line\"},{\"attributes\":{\"days\":[\"%d %B %Y\"],\"hours\":[\"%d %B %Y\"],\"months\":[\"%d %B %Y\"],\"years\":[\"%d %B %Y\"]},\"id\":\"63997989-e322-4737-8b99-a042e11d3a3c\",\"type\":\"DatetimeTickFormatter\"},{\"attributes\":{\"dimension\":\"height\",\"line_color\":{\"value\":\"green\"},\"location\":1491985800000.0,\"plot\":null},\"id\":\"9c76e5eb-144a-4da3-972d-d9668d141921\",\"type\":\"Span\"},{\"attributes\":{\"callback\":null,\"column_names\":[\"y\",\"x\"],\"data\":{\"x\":{\"__ndarray__\":\"AAAg7zmwdUIAAAhePbB1QgAA8MxAsHVCAADYO0SwdUIAAMCqR7B1QgAAqBlLsHVCAACQiE6wdUIAAHj3UbB1QgAAYGZVsHVCAABI1ViwdUIAADBEXLB1QgAAGLNfsHVCAAAAImOwdUIAAOiQZrB1QgAA0P9psHVCAAC4bm2wdUIAAKDdcLB1QgAAiEx0sHVCAABwu3ewdUIAAFgqe7B1QgAAQJl+sHVCAAAoCIKwdUIAABB3hbB1QgAA+OWIsHVCAADgVIywdUIAAMjDj7B1QgAAsDKTsHVCAACYoZawdUIAAIAQmrB1QgAAaH+dsHVCAABQ7qCwdUIAADhdpLB1QgAAIMynsHVCAAAIO6uwdUIAAPCprrB1QgAA2BiysHVCAADAh7WwdUIAAKj2uLB1QgAAkGW8sHVCAAB41L+wdUIAAGBDw7B1QgAASLLGsHVCAAAwIcqwdUIAABiQzbB1QgAAAP/QsHVCAADobdSwdUIAANDc17B1QgAAuEvbsHVCAACgut6wdUIAAIgp4rB1QgAAcJjlsHVCAABYB+mwdUIAAEB27LB1QgAAKOXvsHVCAAAQVPOwdUIAAPjC9rB1QgAA4DH6sHVCAADIoP2wdUIAALAPAbF1QgAAmH4EsXVCAACA7QexdUIAAGhcC7F1QgAAUMsOsXVCAAA4OhKxdUIAACCpFbF1QgAACBgZsXVCAADwhhyxdUIAANj1H7F1QgAAwGQjsXVCAACo0yaxdUIAAJBCKrF1QgAAeLEtsXVCAABgIDGxdUIAAEiPNLF1QgAAMP43sXVCAAAYbTuxdUIAAADcPrF1QgAA6EpCsXVCAADQuUWxdUIAALgoSbF1QgAAoJdMsXVCAACIBlCxdUIAAHB1U7F1QgAAWORWsXVCAABAU1qxdUIAACjCXbF1QgAAEDFhsXVCAAD4n2SxdUIAAOAOaLF1QgAAyH1rsXVCAACw7G6xdUIAAJhbcrF1QgAAgMp1sXVCAABoOXmxdUIAAFCofLF1QgAAOBeAsXVCAAAghoOxdUIAAAj1hrF1QgAA8GOKsXVCAADY0o2xdUIAAMBBkbF1QgAAqLCUsXVCAACQH5ixdUIAAHiOm7F1QgAAYP2esXVCAABIbKKxdUIAADDbpbF1QgAAGEqpsXVCAAAAuayxdUIAAOgnsLF1QgAA0JazsXVCAAC4BbexdUIAAKB0urF1QgAAiOO9sXVCAABwUsGxdUIAAFjBxLF1QgAAQDDIsXVCAAAon8uxdUIAABAOz7F1QgAA+HzSsXVCAADg69WxdUIAAMha2bF1QgAAsMncsXVCAACYOOCxdUIAAICn47F1QgAAaBbnsXVCAABQheqxdUIAADj07bF1QgAAIGPxsXVCAAAI0vSxdUIAAPBA+LF1QgAA2K/7sXVCAADAHv+xdUIAAKiNArJ1QgAAkPwFsnVCAAB4awmydUIAAGDaDLJ1QgAASEkQsnVCAAAwuBOydUIAABgnF7J1QgAAAJYasnVCAADoBB6ydUIAANBzIbJ1QgAAuOIksnVCAACgUSiydUIAAIjAK7J1QgAAcC8vsnVCAABYnjKydUIAAEANNrJ1QgAAKHw5snVCAAAQ6zyydUIAAPhZQLJ1QgAA4MhDsnVCAADIN0eydUIAALCmSrJ1QgAAmBVOsnVCAACAhFGydUIAAGjzVLJ1QgAAUGJYsnVCAAA40VuydUIAACBAX7J1QgAACK9isnVCAADwHWaydUIAANiMabJ1QgAAwPtssnVCAACoanCydUIAAJDZc7J1QgAAeEh3snVCAABgt3qydUIAAEgmfrJ1QgAAMJWBsnVCAAAYBIWydUIAAABziLJ1QgAA6OGLsnVCAADQUI+ydUIAALi/krJ1QgAAoC6WsnVCAACInZmydUIAAHAMnbJ1QgAAWHugsnVCAABA6qOydUIAAChZp7J1QgAAEMiqsnVCAAD4Nq6ydUIAAOClsbJ1QgAAyBS1snVCAACwg7iydUIAAJjyu7J1QgAAgGG/snVCAABo0MKydUIAAFA/xrJ1QgAAOK7JsnVCAAAgHc2ydUIAAAiM0LJ1QgAA8PrTsnVCAADYadeydUIAAMDY2rJ1QgAAqEfesnVCAACQtuGydUIAAHgl5bJ1QgAAYJTosnVCAABIA+yydUIAADBy77J1QgAAGOHysnVCAAAAUPaydUIAAOi++bJ1QgAA0C39snVCAAC4nACzdUIAAKALBLN1QgAAiHoHs3VCAABw6QqzdUIAAFhYDrN1QgAAQMcRs3VCAAAoNhWzdUIAABClGLN1QgAA+BMcs3VCAADggh+zdUIAAMjxIrN1QgAAsGAms3VCAACYzymzdUIAAIA+LbN1QgAAaK0ws3VCAABQHDSzdUIAADiLN7N1QgAAIPo6s3VCAAAIaT6zdUIAAPDXQbN1QgAA2EZFs3VCAADAtUizdUIAAKgkTLN1QgAAkJNPs3VCAAB4AlOzdUIAAGBxVrN1QgAASOBZs3VCAAAwT12zdUIAABi+YLN1QgAAAC1ks3VCAADom2ezdUIAANAKa7N1QgAAuHlus3VCAACg6HGzdUIAAIhXdbN1QgAAcMZ4s3VCAABYNXyzdUIAAECkf7N1QgAAKBODs3VCAAAQgoazdUIAAPjwibN1QgAA4F+Ns3VCAADIzpCzdUIAALA9lLN1QgAAmKyXs3VCAACAG5uzdUIAAGiKnrN1QgAAUPmhs3VCAAA4aKWzdUIAACDXqLN1QgAACEass3VCAADwtK+zdUIAANgjs7N1QgAAwJK2s3VCAACoAbqzdUIAAJBwvbN1QgAAeN/As3VCAABgTsSzdUIAAEi9x7N1QgAAMCzLs3VCAAAYm86zdUIAAAAK0rN1QgAA6HjVs3VCAADQ59izdUIAALhW3LN1QgAAoMXfs3VCAACINOOzdUIAAHCj5rN1QgAAWBLqs3VCAABAge2zdUIAACjw8LN1QgAAEF/0s3VCAAD4zfezdUIAAOA8+7N1QgAAyKv+s3VCAACwGgK0dUIAAJiJBbR1QgAAgPgItHVCAABoZwy0dUIAAFDWD7R1QgAAOEUTtHVCAAAgtBa0dUIAAAgjGrR1QgAA8JEdtHVCAADYACG0dUIAAMBvJLR1QgAAqN4ntHVCAACQTSu0dUIAAHi8LrR1QgAAYCsytHVCAABImjW0dUIAADAJObR1QgAAGHg8tHVCAAAA5z+0dUIAAOhVQ7R1QgAA0MRGtHVCAAC4M0q0dUIAAKCiTbR1QgAAiBFRtHVCAABwgFS0dUIAAFjvV7R1QgAAQF5btHVCAAAozV60dUIAABA8YrR1QgAA+KpltHVCAADgGWm0dUIAAMiIbLR1QgAAsPdvtHVCAACYZnO0dUIAAIDVdrR1QgAAaER6tHVCAABQs320dUIAADgigbR1QgAAIJGEtHVCAAAIAIi0dUIAAPBui7R1QgAA2N2OtHVCAADATJK0dUIAAKi7lbR1QgAAkCqZtHVCAAB4mZy0dUIAAGAIoLR1QgAASHejtHVCAAAw5qa0dUIAABhVqrR1QgAAAMSttHVCAADoMrG0dUIAANChtLR1QgAAuBC4tHVCAACgf7u0dUIAAIjuvrR1QgAAcF3CtHVCAABYzMW0dUIAAEA7ybR1QgAAKKrMtHVCAAAQGdC0dUIAAPiH07R1QgAA4PbWtHVCAADIZdq0dUIAALDU3bR1QgAAmEPhtHVCAACAsuS0dUIAAGgh6LR1QgAAUJDrtHVCAAA4/+60dUIAACBu8rR1QgAACN31tHVCAADwS/m0dUIAANi6/LR1QgAAwCkAtXVCAAComAO1dUIAAJAHB7V1QgAAeHYKtXVCAABg5Q21dUIAAEhUEbV1QgAAMMMUtXVCAAAYMhi1dUIAAAChG7V1QgAA6A8ftXVCAADQfiK1dUIAALjtJbV1QgAAoFwptXVCAACIyyy1dUIAAHA6MLV1QgAAWKkztXVCAABAGDe1dUIAACiHOrV1QgAAEPY9tXVCAAD4ZEG1dUIAAODTRLV1QgAAyEJItXVCAACwsUu1dUIAAJggT7V1QgAAgI9StXVCAABo/lW1dUIAAFBtWbV1QgAAONxctXVCAAAgS2C1dUIAAAi6Y7V1QgAA8ChntXVCAADYl2q1dUIAAMAGbrV1QgAAqHVxtXVCAACQ5HS1dUIAAHhTeLV1QgAAYMJ7tXVCAABIMX+1dUIAADCggrV1QgAAGA+GtXVCAAAAfom1dUIAAOjsjLV1QgAA0FuQtXVCAAC4ypO1dUIAAKA5l7V1QgAAiKiatXVCAABwF561dUIAAFiGobV1QgAAQPWktXVCAAAoZKi1dUIAABDTq7V1QgAA+EGvtXVCAADgsLK1dUIAAMgftrV1QgAAsI65tXVCAACY/by1dUIAAIBswLV1QgAAaNvDtXVCAABQSse1dUIAADi5yrV1QgAAICjOtXVCAAAIl9G1dUIAAPAF1bV1QgAA2HTYtXVCAADA49u1dUIAAKhS37V1QgAAkMHitXVCAAB4MOa1dUIAAGCf6bV1QgAASA7ttXVCAAAwffC1dUIAABjs87V1QgAAAFv3tXVCAADoyfq1dUIAANA4/rV1QgAAuKcBtnVCAACgFgW2dUIAAIiFCLZ1QgAAcPQLtnVCAABYYw+2dUIAAEDSErZ1QgAAKEEWtnVCAAAQsBm2dUIAAPgeHbZ1QgAA4I0gtnVCAADI/CO2dUIAALBrJ7Z1QgAAmNoqtnVCAACASS62dUIAAGi4MbZ1QgAAUCc1tnVCAAA4lji2dUIAACAFPLZ1QgAACHQ/tnVCAADw4kK2dUIAANhRRrZ1QgAAwMBJtnVCAACoL022dUIAAJCeULZ1QgAAeA1UtnVCAABgfFe2dUIAAEjrWrZ1QgAAMFpetnVCAAAYyWG2dUIAAAA4ZbZ1QgAA6KZotnVCAADQFWy2dUIAALiEb7Z1QgAAoPNytnVCAACIYna2dUIAAHDRebZ1QgAAWEB9tnVCAABAr4C2dUIAACgehLZ1QgAAEI2HtnVCAAD4+4q2dUIAAOBqjrZ1QgAAyNmRtnVCAACwSJW2dUIAAJi3mLZ1QgAAgCactnVCAABolZ+2dUIAAFAEo7Z1QgAAOHOmtnVCAAAg4qm2dUIAAAhRrbZ1QgAA8L+wtnVCAADYLrS2dUIAAMCdt7Z1QgAAqAy7tnVCAACQe762dUIAAHjqwbZ1QgAAYFnFtnVCAABIyMi2dUIAADA3zLZ1QgAAGKbPtnVCAAAAFdO2dUIAAOiD1rZ1QgAA0PLZtnVCAAC4Yd22dUIAAKDQ4LZ1QgAAiD/ktnVCAABwrue2dUIAAFgd67Z1QgAAQIzutnVCAAAo+/G2dUIAABBq9bZ1QgAA+Nj4tnVCAADgR/y2dUIAAMi2/7Z1QgAAsCUDt3VCAACYlAa3dUIAAIADCrd1QgAAaHINt3VCAABQ4RC3dUIAADhQFLd1QgAAIL8Xt3VCAAAILhu3dUIAAPCcHrd1QgAA2Asit3VCAADAeiW3dUIAAKjpKLd1QgAAkFgst3VCAAB4xy+3dUIAAGA2M7d1QgAASKU2t3VCAAAwFDq3dUIAABiDPbd1QgAAAPJAt3VCAADoYES3dUIAANDPR7d1QgAAuD5Lt3VCAACgrU63dUIAAIgcUrd1QgAAcItVt3VCAABY+li3dUIAAEBpXLd1QgAAKNhft3VCAAAQR2O3dUIAAPi1Zrd1QgAA4CRqt3VCAADIk223dUIAALACcbd1QgAAmHF0t3VCAACA4He3dUIAAGhPe7d1QgAAUL5+t3VCAAA4LYK3dUIAACCchbd1QgAACAuJt3VCAADweYy3dUIAANjoj7d1QgAAwFeTt3VCAACoxpa3dUIAAJA1mrd1QgAAeKSdt3VCAABgE6G3dUIAAEiCpLd1QgAAMPGnt3VCAAAYYKu3dUIAAADPrrd1QgAA6D2yt3VCAADQrLW3dUIAALgbubd1QgAAoIq8t3VCAACI+b+3dUIAAHBow7d1QgAAWNfGt3VCAABARsq3dUIAACi1zbd1QgAAECTRt3VCAAD4ktS3dUIAAOAB2Ld1QgAAyHDbt3VCAACw3963dUIAAJhO4rd1QgAAgL3lt3VCAABoLOm3dUIAAFCb7Ld1QgAAOArwt3VCAAAgefO3dUIAAAjo9rd1QgAA8Fb6t3VCAADYxf23dUIAAMA0Abh1QgAAqKMEuHVCAACQEgi4dUIAAHiBC7h1QgAAYPAOuHVCAABIXxK4dUIAADDOFbh1QgAAGD0ZuHVCAAAArBy4dUIAAOgaILh1QgAA0IkjuHVCAAC4+Ca4dUIAAKBnKrh1QgAAiNYtuHVCAABwRTG4dUIAAFi0NLh1QgAAQCM4uHVCAAAokju4dUIAABABP7h1QgAA+G9CuHVCAADg3kW4dUIAAMhNSbh1QgAAsLxMuHVCAACYK1C4dUIAAICaU7h1QgAAaAlXuHVCAABQeFq4dUIAADjnXbh1QgAAIFZhuHVCAAAIxWS4dUIAAPAzaLh1QgAA2KJruHVCAADAEW+4dUIAAKiAcrh1QgAAkO91uHVCAAB4Xnm4dUIAAGDNfLh1QgAASDyAuHVCAAAwq4O4dUIAABgah7h1QgAAAImKuHVCAADo9424dUIAANBmkbh1QgAAuNWUuHVCAACgRJi4dUIAAIizm7h1QgAAcCKfuHVCAABYkaK4dUIAAEAAprh1QgAAKG+puHVCAAAQ3qy4dUIAAPhMsLh1QgAA4LuzuHVCAADIKre4dUIAALCZurh1QgAAmAi+uHVCAACAd8G4dUIAAGjmxLh1QgAAUFXIuHVCAAA4xMu4dUIAACAzz7h1QgAACKLSuHVCAADwENa4dUIAANh/2bh1QgAAwO7cuHVCAACoXeC4dUIAAJDM47h1QgAAeDvnuHVCAABgquq4dUIAAEgZ7rh1QgAAMIjxuHVCAAAY9/S4dUIAAABm+Lh1QgAA6NT7uHVCAADQQ/+4dUIAALiyArl1QgAAoCEGuXVCAACIkAm5dUIAAHD/DLl1QgAAWG4QuXVCAABA3RO5dUIAAChMF7l1QgAAELsauXVCAAD4KR65dUIAAOCYIbl1QgAAyAcluXVCAACwdii5dUIAAJjlK7l1QgAAgFQvuXVCAABowzK5dUIAAFAyNrl1QgAAOKE5uXVCAAAgED25dUIAAAh/QLl1QgAA8O1DuXVCAADYXEe5dUIAAMDLSrl1QgAAqDpOuXVCAACQqVG5dUIAAHgYVbl1QgAAYIdYuXVCAABI9lu5dUIAADBlX7l1QgAAGNRiuXVCAAAAQ2a5dUIAAOixabl1QgAA0CBtuXVCAAC4j3C5dUIAAKD+c7l1QgAAiG13uXVCAABw3Hq5dUIAAFhLfrl1QgAAQLqBuXVCAAAoKYW5dUIAABCYiLl1QgAA+AaMuXVCAADgdY+5dUIAAMjkkrl1QgAAsFOWuXVCAACYwpm5dUIAAIAxnbl1QgAAaKCguXVCAABQD6S5dUIAADh+p7l1QgAAIO2quXVCAAAIXK65dUIAAPDKsbl1QgAA2Dm1uXVCAADAqLi5dUIAAKgXvLl1QgAAkIa/uXVCAAB49cK5dUIAAGBkxrl1QgAASNPJuXVCAAAwQs25dUIAABix0Ll1QgAAACDUuXVCAADojte5dUIAAND92rl1QgAAuGzeuXVCAACg2+G5dUIAAIhK5bl1QgAAcLnouXVCAABYKOy5dUIAAECX77l1QgAAKAbzuXVCAAAQdfa5dUIAAPjj+bl1QgAA4FL9uXVCAADIwQC6dUIAALAwBLp1QgAAmJ8HunVCAACADgu6dUIAAGh9Drp1QgAAUOwRunVCAAA4WxW6dUIAACDKGLp1QgAACDkcunVCAADwpx+6dUIAANgWI7p1QgAAwIUmunVCAACo9Cm6dUIAAJBjLbp1QgAAeNIwunVCAABgQTS6dUIAAEiwN7p1QgAAMB87unVCAAAYjj66dUIAAAD9Qbp1QgAA6GtFunVCAADQ2ki6dUIAALhJTLp1QgAAoLhPunVCAACIJ1O6dUIAAHCWVrp1QgAAWAVaunVCAABAdF26dUIAACjjYLp1QgAAEFJkunVCAAD4wGe6dUIAAOAva7p1QgAAyJ5uunVCAACwDXK6dUIAAJh8dbp1QgAAgOt4unVCAABoWny6dUIAAFDJf7p1QgAAODiDunVCAAAgp4a6dUIAAAgWirp1QgAA8ISNunVCAADY85C6dUIAAMBilLp1QgAAqNGXunVCAACQQJu6dUIAAHivnrp1QgAAYB6iunVCAABIjaW6dUI=\",\"dtype\":\"float64\",\"shape\":[778]},\"y\":{\"__ndarray__\":\"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\",\"dtype\":\"float64\",\"shape\":[778]}}},\"id\":\"ffd30b98-0ed6-4865-9aca-e001f9cf33b8\",\"type\":\"ColumnDataSource\"},{\"attributes\":{\"plot\":{\"id\":\"be23c7cf-27e3-4680-b511-a286b840120e\",\"subtype\":\"Figure\",\"type\":\"Plot\"}},\"id\":\"8e131a0d-e390-4407-9fcc-5dacf6906051\",\"type\":\"SaveTool\"},{\"attributes\":{\"items\":[{\"id\":\"886ff71b-c06c-456e-8099-d6180a4f3947\",\"type\":\"LegendItem\"}],\"plot\":{\"id\":\"be23c7cf-27e3-4680-b511-a286b840120e\",\"subtype\":\"Figure\",\"type\":\"Plot\"}},\"id\":\"e8fc7519-cad7-4671-9e7e-6a8fe156f389\",\"type\":\"Legend\"},{\"attributes\":{\"callback\":null},\"id\":\"f585d5d1-8cbc-4a32-9e64-330526ca42fc\",\"type\":\"DataRange1d\"},{\"attributes\":{\"active_drag\":\"auto\",\"active_scroll\":\"auto\",\"active_tap\":\"auto\",\"tools\":[{\"id\":\"5ca88af7-f9a2-4508-aa1f-fc826a047fde\",\"type\":\"PanTool\"},{\"id\":\"3c8584a4-01ec-49de-a4c7-9b54f2a59b72\",\"type\":\"WheelZoomTool\"},{\"id\":\"fc4dd047-ad70-4132-b197-c6775be0c924\",\"type\":\"BoxZoomTool\"},{\"id\":\"8e131a0d-e390-4407-9fcc-5dacf6906051\",\"type\":\"SaveTool\"},{\"id\":\"81933621-fb4f-4756-9126-96c818a1b229\",\"type\":\"ResetTool\"},{\"id\":\"f69d872c-8513-4952-bf54-b7e07c9d67de\",\"type\":\"HelpTool\"}]},\"id\":\"2b146bec-5329-483c-a48c-07a5a01308b2\",\"type\":\"Toolbar\"},{\"attributes\":{\"data_source\":{\"id\":\"ffd30b98-0ed6-4865-9aca-e001f9cf33b8\",\"type\":\"ColumnDataSource\"},\"glyph\":{\"id\":\"6146daf0-768e-4198-a01f-de0cbb8b6dbd\",\"type\":\"Line\"},\"hover_glyph\":null,\"muted_glyph\":null,\"nonselection_glyph\":{\"id\":\"81479f01-f86f-4d5a-bb53-51781879e27e\",\"type\":\"Line\"},\"selection_glyph\":null},\"id\":\"9e165e21-5cb7-466e-b65a-94b822a8accb\",\"type\":\"GlyphRenderer\"},{\"attributes\":{},\"id\":\"72215113-2823-489a-8c3a-83316c4b9136\",\"type\":\"BasicTicker\"},{\"attributes\":{\"overlay\":{\"id\":\"82f5f78a-e889-4360-85d4-6ad59156406c\",\"type\":\"BoxAnnotation\"},\"plot\":{\"id\":\"be23c7cf-27e3-4680-b511-a286b840120e\",\"subtype\":\"Figure\",\"type\":\"Plot\"}},\"id\":\"fc4dd047-ad70-4132-b197-c6775be0c924\",\"type\":\"BoxZoomTool\"},{\"attributes\":{\"below\":[{\"id\":\"6c7d7b80-13a7-408a-8a42-5b0dfc07b697\",\"type\":\"LinearAxis\"}],\"left\":[{\"id\":\"9e6fa0af-c592-4c38-ac89-32dcb0dec1bb\",\"type\":\"LinearAxis\"}],\"plot_height\":400,\"plot_width\":800,\"renderers\":[{\"id\":\"6c7d7b80-13a7-408a-8a42-5b0dfc07b697\",\"type\":\"LinearAxis\"},{\"id\":\"237f7f02-a836-43c9-9c6f-95f53413f7b9\",\"type\":\"Grid\"},{\"id\":\"9e6fa0af-c592-4c38-ac89-32dcb0dec1bb\",\"type\":\"LinearAxis\"},{\"id\":\"b88c7c5f-ecb6-44c7-a7aa-889a94a2e6d4\",\"type\":\"Grid\"},{\"id\":\"82f5f78a-e889-4360-85d4-6ad59156406c\",\"type\":\"BoxAnnotation\"},{\"id\":\"e8fc7519-cad7-4671-9e7e-6a8fe156f389\",\"type\":\"Legend\"},{\"id\":\"9e165e21-5cb7-466e-b65a-94b822a8accb\",\"type\":\"GlyphRenderer\"},{\"id\":\"3db98a01-2ff6-4fa5-b993-865c590586c1\",\"type\":\"Span\"},{\"id\":\"9c76e5eb-144a-4da3-972d-d9668d141921\",\"type\":\"Span\"},{\"id\":\"a21047ed-58d4-4340-a0db-212d0ff6db3f\",\"type\":\"Label\"}],\"title\":{\"id\":\"25439bd0-b986-4d6e-8b7b-181bbcd09bf1\",\"type\":\"Title\"},\"tool_events\":{\"id\":\"69c04eab-af47-405b-a935-7471079d6f8c\",\"type\":\"ToolEvents\"},\"toolbar\":{\"id\":\"2b146bec-5329-483c-a48c-07a5a01308b2\",\"type\":\"Toolbar\"},\"x_range\":{\"id\":\"f585d5d1-8cbc-4a32-9e64-330526ca42fc\",\"type\":\"DataRange1d\"},\"y_range\":{\"id\":\"a5a3137c-5226-4d4a-a5c7-75d5fb1c8333\",\"type\":\"DataRange1d\"}},\"id\":\"be23c7cf-27e3-4680-b511-a286b840120e\",\"subtype\":\"Figure\",\"type\":\"Plot\"},{\"attributes\":{\"dimension\":\"height\",\"line_color\":{\"value\":\"red\"},\"line_dash\":[6],\"line_width\":{\"value\":2},\"location\":1491780600000.0,\"plot\":null},\"id\":\"3db98a01-2ff6-4fa5-b993-865c590586c1\",\"type\":\"Span\"},{\"attributes\":{\"axis_label\":\"Tweets Frequency\",\"formatter\":{\"id\":\"5c07b68c-f517-4ec7-96aa-606e8a6fef4b\",\"type\":\"BasicTickFormatter\"},\"plot\":{\"id\":\"be23c7cf-27e3-4680-b511-a286b840120e\",\"subtype\":\"Figure\",\"type\":\"Plot\"},\"ticker\":{\"id\":\"72215113-2823-489a-8c3a-83316c4b9136\",\"type\":\"BasicTicker\"}},\"id\":\"9e6fa0af-c592-4c38-ac89-32dcb0dec1bb\",\"type\":\"LinearAxis\"},{\"attributes\":{\"dimension\":1,\"plot\":{\"id\":\"be23c7cf-27e3-4680-b511-a286b840120e\",\"subtype\":\"Figure\",\"type\":\"Plot\"},\"ticker\":{\"id\":\"72215113-2823-489a-8c3a-83316c4b9136\",\"type\":\"BasicTicker\"}},\"id\":\"b88c7c5f-ecb6-44c7-a7aa-889a94a2e6d4\",\"type\":\"Grid\"},{\"attributes\":{\"line_color\":{\"value\":\"#1f77b4\"},\"line_width\":{\"value\":2},\"x\":{\"field\":\"x\"},\"y\":{\"field\":\"y\"}},\"id\":\"6146daf0-768e-4198-a01f-de0cbb8b6dbd\",\"type\":\"Line\"},{\"attributes\":{\"desired_num_ticks\":15},\"id\":\"a67714cf-fa84-425c-b5ea-88c7bbf5c96a\",\"type\":\"BasicTicker\"},{\"attributes\":{\"callback\":null},\"id\":\"a5a3137c-5226-4d4a-a5c7-75d5fb1c8333\",\"type\":\"DataRange1d\"},{\"attributes\":{\"plot\":{\"id\":\"be23c7cf-27e3-4680-b511-a286b840120e\",\"subtype\":\"Figure\",\"type\":\"Plot\"},\"ticker\":{\"id\":\"a67714cf-fa84-425c-b5ea-88c7bbf5c96a\",\"type\":\"BasicTicker\"}},\"id\":\"237f7f02-a836-43c9-9c6f-95f53413f7b9\",\"type\":\"Grid\"},{\"attributes\":{\"label\":{\"value\":\"Brands\"},\"renderers\":[{\"id\":\"9e165e21-5cb7-466e-b65a-94b822a8accb\",\"type\":\"GlyphRenderer\"}]},\"id\":\"886ff71b-c06c-456e-8099-d6180a4f3947\",\"type\":\"LegendItem\"},{\"attributes\":{},\"id\":\"69c04eab-af47-405b-a935-7471079d6f8c\",\"type\":\"ToolEvents\"}],\"root_ids\":[\"be23c7cf-27e3-4680-b511-a286b840120e\"]},\"title\":\"Bokeh Application\",\"version\":\"0.12.5\"}};\n",
       "            var render_items = [{\"docid\":\"004ae8ad-10dc-410a-8b31-46f24d88b2d7\",\"elementid\":\"7bdae890-5c25-4a98-b301-29b24caa187b\",\"modelid\":\"be23c7cf-27e3-4680-b511-a286b840120e\"}];\n",
       "            \n",
       "            Bokeh.embed.embed_items(docs_json, render_items);\n",
       "          };\n",
       "          if (document.readyState != \"loading\") fn();\n",
       "          else document.addEventListener(\"DOMContentLoaded\", fn);\n",
       "        })();\n",
       "      },\n",
       "      function(Bokeh) {\n",
       "      }\n",
       "    ];\n",
       "  \n",
       "    function run_inline_js() {\n",
       "      \n",
       "      if ((window.Bokeh !== undefined) || (force === true)) {\n",
       "        for (var i = 0; i < inline_js.length; i++) {\n",
       "          inline_js[i](window.Bokeh);\n",
       "        }if (force === true) {\n",
       "          display_loaded();\n",
       "        }} else if (Date.now() < window._bokeh_timeout) {\n",
       "        setTimeout(run_inline_js, 100);\n",
       "      } else if (!window._bokeh_failed_load) {\n",
       "        console.log(\"Bokeh: BokehJS failed to load within specified timeout.\");\n",
       "        window._bokeh_failed_load = true;\n",
       "      } else if (force !== true) {\n",
       "        var cell = $(document.getElementById(\"7bdae890-5c25-4a98-b301-29b24caa187b\")).parents('.cell').data().cell;\n",
       "        cell.output_area.append_execute_result(NB_LOAD_WARNING)\n",
       "      }\n",
       "  \n",
       "    }\n",
       "  \n",
       "    if (window._bokeh_is_loading === 0) {\n",
       "      console.log(\"Bokeh: BokehJS loaded, going straight to plotting\");\n",
       "      run_inline_js();\n",
       "    } else {\n",
       "      load_libs(js_urls, function() {\n",
       "        console.log(\"Bokeh: BokehJS plotting callback run at\", now());\n",
       "        run_inline_js();\n",
       "      });\n",
       "    }\n",
       "  }(this));\n",
       "</script>"
      ]
     },
     "metadata": {},
     "output_type": "display_data"
    }
   ],
   "source": [
    "from math import pi\n",
    "from bokeh.plotting import figure\n",
    "from bokeh.charts import show\n",
    "from bokeh.models import DatetimeTickFormatter, Span, Label \n",
    "from datetime import datetime as dt\n",
    "import time\n",
    "#from bokeh.io import export_svgs\n",
    "\n",
    "\n",
    "p = figure(plot_width=800, plot_height=400,title='Timeline', \n",
    "           x_axis_label='Time', y_axis_label='Tweets Frequency')\n",
    "p.title_location ='above'\n",
    "p.title.text_font_size = '16pt'\n",
    "# p.title_text_color = \"olive\"\n",
    "# p.title_text_font = \"times\"\n",
    "# p.title_text_font_style = \"italic\"\n",
    "# p.title_text_font_size = '12pt'\n",
    "\n",
    "p.axis[0].ticker.desired_num_ticks = 15\n",
    "\n",
    "p.line(all_matches.index, per_freq,legend='Brands',line_width=2)\n",
    "p.xaxis.formatter=DatetimeTickFormatter(\n",
    "        hours=[\"%d %B %Y\"],\n",
    "        days=[\"%d %B %Y\"],\n",
    "        months=[\"%d %B %Y\"],\n",
    "        years=[\"%d %B %Y\"],\n",
    "    )\n",
    "p.xaxis.major_label_orientation = pi/2\n",
    "p.xaxis.minor_tick_in = -2\n",
    "#p.xaxis.minor_tick_out = 40\n",
    "#p.xaxis.major_tick_out = 15\n",
    "\n",
    "#First video upload\n",
    "start_date = time.mktime(dt(2017, 4, 9, 19, 30, 0).timetuple())*1000\n",
    "vline1 = Span(location=start_date, dimension=\"height\",line_color=\"red\",line_dash='dashed', line_width=2)\n",
    "citation = Label(x=370, y=350, x_units='screen', y_units='screen',\n",
    "                 text='1st Video', render_mode='css',\n",
    "                 border_line_color='black', border_line_alpha=1.0,\n",
    "                 background_fill_color='yellow', background_fill_alpha=1.0)\n",
    "\n",
    "#Second video upload\n",
    "end_date = time.mktime(dt(2017, 4, 12, 4, 30, 0).timetuple())*1000\n",
    "vline2 = Span(location=end_date, dimension=\"height\",line_color=\"green\")\n",
    "\n",
    "p.renderers.extend([vline1,vline2])\n",
    "p.add_layout(citation)\n",
    "\n",
    "#export_png(pl, filename=\"../TDI/timeseries_brands_ua.png\")\n",
    "\n",
    "output_file('../TDI/timeseries_brands_ua.html')\n",
    "show(p)"
   ]
  },
  {
   "cell_type": "code",
   "execution_count": 75,
   "metadata": {},
   "outputs": [
    {
     "data": {
      "text/plain": [
       "1491780600000"
      ]
     },
     "execution_count": 75,
     "metadata": {},
     "output_type": "execute_result"
    }
   ],
   "source": [
    "pandas.to_datetime(start_date).value"
   ]
  },
  {
   "cell_type": "code",
   "execution_count": 2,
   "metadata": {},
   "outputs": [
    {
     "ename": "ImportError",
     "evalue": "cannot import name export_png",
     "output_type": "error",
     "traceback": [
      "\u001b[0;31m---------------------------------------------------------------------------\u001b[0m",
      "\u001b[0;31mImportError\u001b[0m                               Traceback (most recent call last)",
      "\u001b[0;32m<ipython-input-2-027920bd0055>\u001b[0m in \u001b[0;36m<module>\u001b[0;34m()\u001b[0m\n\u001b[0;32m----> 1\u001b[0;31m \u001b[0;32mfrom\u001b[0m \u001b[0mbokeh\u001b[0m\u001b[0;34m.\u001b[0m\u001b[0mio\u001b[0m \u001b[0;32mimport\u001b[0m \u001b[0mexport_png\u001b[0m\u001b[0;34m\u001b[0m\u001b[0m\n\u001b[0m",
      "\u001b[0;31mImportError\u001b[0m: cannot import name export_png"
     ]
    }
   ],
   "source": [
    "from bokeh.io import export_png"
   ]
  },
  {
   "cell_type": "code",
   "execution_count": null,
   "metadata": {
    "collapsed": true
   },
   "outputs": [],
   "source": []
  }
 ],
 "metadata": {
  "kernelspec": {
   "display_name": "Python 2",
   "language": "python",
   "name": "python2"
  },
  "language_info": {
   "codemirror_mode": {
    "name": "ipython",
    "version": 2
   },
   "file_extension": ".py",
   "mimetype": "text/x-python",
   "name": "python",
   "nbconvert_exporter": "python",
   "pygments_lexer": "ipython2",
   "version": "2.7.13"
  }
 },
 "nbformat": 4,
 "nbformat_minor": 2
}
