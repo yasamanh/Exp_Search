{
 "cells": [
  {
   "cell_type": "code",
   "execution_count": 98,
   "metadata": {
    "collapsed": false
   },
   "outputs": [],
   "source": [
    "import json\n",
    "import pandas as pd\n",
    "import matplotlib.pyplot as plt\n",
    "from collections import defaultdict, Counter\n",
    "from operator import itemgetter\n",
    "from nltk.tokenize import TweetTokenizer"
   ]
  },
  {
   "cell_type": "code",
   "execution_count": 88,
   "metadata": {
    "collapsed": false
   },
   "outputs": [
    {
     "name": "stdout",
     "output_type": "stream",
     "text": [
      "[u'rt', u'example', u'just', u'an']\n"
     ]
    }
   ],
   "source": [
    "import re\n",
    " \n",
    "emoticons_str = r\"\"\"\n",
    "    (?:\n",
    "        [:=;] # Eyes\n",
    "        [oO\\-]? # Nose (optional)\n",
    "        [D\\)\\]\\(\\]/\\\\OpP] # Mouth\n",
    "    )\"\"\"\n",
    " \n",
    "regex_str = [\n",
    "    emoticons_str,\n",
    "    r'<[^>]+>', # HTML tags\n",
    "    r'(?:@[\\w_]+)', # @-mentions\n",
    "    r\"(?:\\#+[\\w_]+[\\w\\'_\\-]*[\\w_]+)\", # hash-tags\n",
    "    r'http[s]?://(?:[a-z]|[0-9]|[$-_@.&amp;+]|[!*\\(\\),]|(?:%[0-9a-f][0-9a-f]))+', # URLs\n",
    " \n",
    "    r'(?:(?:\\d+,?)+(?:\\.?\\d+)?)', # numbers\n",
    "    r\"(?:[a-z][a-z'\\-_]+[a-z])\", # words with - and '\n",
    "    r'(?:[\\w_]+)', # other words\n",
    "    r'(?:\\S)' # anything else\n",
    "]\n",
    "    \n",
    "tokens_re = re.compile(r'('+'|'.join(regex_str)+')', re.VERBOSE | re.IGNORECASE)\n",
    "emoticon_re = re.compile(r'^'+emoticons_str+'$', re.VERBOSE | re.IGNORECASE)\n",
    " \n",
    "def tokenize(s):\n",
    "    return tokens_re.findall(s)\n",
    " \n",
    "def preprocess(s, lowercase=True):\n",
    "    tknzr = TweetTokenizer()\n",
    "    ttokens = tknzr.tokenize(s)\n",
    "    \n",
    "    tokens = tokenize(\" \".join(ttokens))\n",
    "    if lowercase:\n",
    "        #tokens = [token if emoticon_re.search(token) else token.lower() for token in tokens]\n",
    "        tokens = [token.lower() for token in tokens if token.isalpha()]\n",
    "        tokens = set(tokens)\n",
    "    return list(tokens)\n",
    " \n",
    "tweet = 'RT  Example @marcobonzanini: just an example! :D http://example.com #NLP\\u2025'\n",
    "print(preprocess(tweet))\n",
    "# ['RT', '@marcobonzanini', ':', 'just', 'an', 'example', '!', ':D', 'http://exampl"
   ]
  },
  {
   "cell_type": "code",
   "execution_count": 89,
   "metadata": {
    "collapsed": false
   },
   "outputs": [],
   "source": [
    "stoplist = set([line.replace(\"\\n\",\"\") for line in open('/Users/ynh3/Data/stopword-list2.txt')])\n",
    "pun = [',', '-','.', ':', '(', ')', '--', ';', '...', '?','today','follow','stats','can', 'say', 'says', 'will','may', 'must', 'us', 'via','a','the', 'rt', 'gg', 'gt', 'lt', 'la', 'de', 'te', 'lol', 'follow', 'followers', 'unfollow', 'unfollowers', 'unfollower', 'follower']\n",
    "\n",
    "with open('/Users/ynh3/Data/common_list.txt','rt') as myfile:\n",
    "    common_word = myfile.read().splitlines()\n"
   ]
  },
  {
   "cell_type": "code",
   "execution_count": 100,
   "metadata": {
    "collapsed": false
   },
   "outputs": [],
   "source": [
    "tweets_data_path = '/Users/ynh3/Data/TweetsGZ/04-03/statuses.log.2015-04-03-00.json'\n",
    "\n",
    "tweets_data = []\n",
    "com = defaultdict(lambda : defaultdict(int))\n",
    "\n",
    "search_word = 'obama'\n",
    "\n",
    "tweets_file = open(tweets_data_path, \"r\")\n",
    "count = 0\n",
    "for line in tweets_file:\n",
    "    try:\n",
    "        tweet = json.loads(line)\n",
    "        if \"lang\" in tweet:\n",
    "            if tweet[\"lang\"] == 'en' and \"text\" in tweet:\n",
    "                tweets_data.append(tweet)\n",
    "                count += 1\n",
    "                \n",
    "                       \n",
    "                terms_only = [term for term in preprocess(tweet['text']) \n",
    "                      if term not in stoplist and term not in common_word and term not in pun\n",
    "                      and not term.startswith(('#', '@')) and 'http' not in term]\n",
    "                \n",
    "                #if count < 20: \n",
    "                #    print tweet['text']\n",
    "                #    print terms_only\n",
    "                \n",
    "                for i in range(len(terms_only)-1):            \n",
    "                    for j in range(i+1, len(terms_only)):\n",
    "                        w1, w2 = sorted([terms_only[i], terms_only[j]])                \n",
    "                        if w1 != w2:\n",
    "                            com[w1][w2] += 1\n",
    "                if search_word in terms_only:\n",
    "                    count_search.update(terms_only)\n",
    "\n",
    "    except:\n",
    "        continue"
   ]
  },
  {
   "cell_type": "code",
   "execution_count": 91,
   "metadata": {
    "collapsed": false
   },
   "outputs": [
    {
     "data": {
      "text/plain": [
       "63059"
      ]
     },
     "execution_count": 91,
     "metadata": {},
     "output_type": "execute_result"
    }
   ],
   "source": [
    "len(tweets_data)"
   ]
  },
  {
   "cell_type": "code",
   "execution_count": 92,
   "metadata": {
    "collapsed": false
   },
   "outputs": [
    {
     "data": {
      "text/plain": [
       "defaultdict(int, {})"
      ]
     },
     "execution_count": 92,
     "metadata": {},
     "output_type": "execute_result"
    }
   ],
   "source": [
    "com[0]"
   ]
  },
  {
   "cell_type": "code",
   "execution_count": 102,
   "metadata": {
    "collapsed": false
   },
   "outputs": [
    {
     "name": "stdout",
     "output_type": "stream",
     "text": [
      "[((u'full', u'read'), 308), ((u'just', u'want'), 213), ((u'ebay', u'full'), 208), ((u'ebay', u'read'), 208), ((u'fifth', u'harmony'), 171), ((u'just', u'know'), 119), ((u'gain', u'retweet'), 116), ((u'automatically', u'checked'), 114), ((u'back', u'just'), 107), ((u'harry', u'styles'), 104), ((u'happy', u'mama'), 103), ((u'asked', u'prom'), 101), ((u'break', u'spring'), 101), ((u'care', u'don'), 100), ((u'asked', u'being'), 100), ((u'came', u'dad'), 99), ((u'being', u'dad'), 98), ((u'being', u'came'), 97), ((u'asked', u'came'), 96), ((u'being', u'thinking'), 95), ((u'being', u'prom'), 95), ((u'came', u'thinking'), 95), ((u'came', u'prom'), 95), ((u'asked', u'dad'), 95), ((u'asked', u'thinking'), 95), ((u'dad', u'thinking'), 95), ((u'dad', u'prom'), 95), ((u'prom', u'thinking'), 95), ((u'deal', u'iran'), 94), ((u'being', u'pranking'), 93), ((u'pranking', u'thinking'), 93), ((u'pranking', u'prom'), 93), ((u'came', u'pranking'), 93), ((u'dad', u'pranking'), 93), ((u'automatically', u'followed'), 92), ((u'checked', u'followed'), 92), ((u'makes', u'sad'), 89), ((u'harry', u'rip'), 89), ((u'rip', u'styles'), 89), ((u'click', u'here'), 88), ((u'fav', u'wear'), 86), ((u'bank', u'cr'), 84), ((u'calls', u'ugly'), 83), ((u'april', u'fools'), 81), ((u'happy', u'heart'), 81), ((u'care', u'vote'), 81), ((u'just', u'wanna'), 81), ((u'couple', u'last'), 79), ((u'happy', u'last'), 79), ((u'media', u'social'), 79), ((u'facebook', u'posted'), 79), ((u'heart', u'tattooed'), 77), ((u'heart', u'holy'), 76), ((u'know', u'let'), 76), ((u'couple', u'happy'), 75), ((u'engaged', u'heart'), 75), ((u'engaged', u'tattooed'), 75), ((u'engaged', u'last'), 75), ((u'happy', u'holy'), 75), ((u'happy', u'tattooed'), 75), ((u'back', u'want'), 75), ((u'heart', u'last'), 75), ((u'last', u'yas'), 74), ((u'last', u'tattooed'), 74), ((u'couple', u'tattooed'), 74), ((u'couple', u'holy'), 74), ((u'couple', u'engaged'), 74), ((u'engaged', u'yas'), 74), ((u'engaged', u'happy'), 74), ((u'direction', u'styles'), 74), ((u'direction', u'harry'), 74), ((u'heart', u'yas'), 74), ((u'tattooed', u'yas'), 74), ((u'holy', u'yas'), 74), ((u'holy', u'last'), 74), ((u'holy', u'tattooed'), 74), ((u'bbs', u'heart'), 74), ((u'bbs', u'holy'), 74), ((u'bbs', u'couple'), 74), ((u'bbs', u'yas'), 74), ((u'bbs', u'last'), 74), ((u'best', u'fight'), 73), ((u'da', u'veja'), 73), ((u'da', u'styles'), 73), ((u'da', u'harry'), 73), ((u'da', u'morre'), 73), ((u'da', u'direction'), 73), ((u'direction', u'veja'), 73), ((u'direction', u'morre'), 73), ((u'direction', u'rip'), 73), ((u'banda', u'styles'), 73), ((u'banda', u'direction'), 73), ((u'banda', u'morre'), 73), ((u'banda', u'rip'), 73), ((u'banda', u'da'), 73), ((u'harry', u'veja'), 73), ((u'harry', u'morre'), 73), ((u'aqui', u'styles'), 73), ((u'aqui', u'direction'), 73), ((u'aqui', u'morre'), 73)]\n"
     ]
    }
   ],
   "source": [
    "com_max = []\n",
    "# For each term, look for the most common co-occurrent terms\n",
    "for t1 in com:\n",
    "    t1_max_terms = sorted(com[t1].items(), key=itemgetter(1), reverse=True)[:5]\n",
    "    for t2, t2_count in t1_max_terms:\n",
    "        com_max.append(((t1, t2), t2_count))\n",
    "# Get the most frequent co-occurrences\n",
    "terms_max = sorted(com_max, key=itemgetter(1), reverse=True)\n",
    "print(terms_max[:100])"
   ]
  },
  {
   "cell_type": "code",
   "execution_count": 101,
   "metadata": {
    "collapsed": false
   },
   "outputs": [
    {
     "name": "stdout",
     "output_type": "stream",
     "text": [
      "Co-occurrence for obama:\n",
      "[(u'obama', 131), (u'iran', 48), (u'deal', 31), (u'president', 21), (u'netanyahu', 20), (u'barack', 17), (u'nuclear', 16), (u'israel', 14), (u'survival', 10), (u'framework', 9), (u'know', 8), (u'benjamin', 7), (u'prime', 7), (u'agreement', 7), (u'threatens', 6), (u'tells', 6), (u'just', 6), (u'historic', 6), (u'thursday', 5), (u'sasha', 5)]\n"
     ]
    }
   ],
   "source": [
    "print(\"Co-occurrence for %s:\" % search_word)\n",
    "print(count_search.most_common(20))"
   ]
  },
  {
   "cell_type": "code",
   "execution_count": 103,
   "metadata": {
    "collapsed": false
   },
   "outputs": [],
   "source": [
    "##changing to data frame PANDAS and do some analysis\n",
    "\n",
    "tweets = pd.DataFrame()"
   ]
  },
  {
   "cell_type": "code",
   "execution_count": 104,
   "metadata": {
    "collapsed": false
   },
   "outputs": [],
   "source": [
    "tweets['text'] = map(lambda tweet: tweet['text'], tweets_data)\n",
    "tweets['lang'] = map(lambda tweet: tweet['lang'], tweets_data)\n",
    "tweets['country'] = map(lambda tweet: tweet['place']['country'] if tweet['place'] != None else None, tweets_data)"
   ]
  },
  {
   "cell_type": "code",
   "execution_count": 105,
   "metadata": {
    "collapsed": false
   },
   "outputs": [
    {
     "data": {
      "text/plain": [
       "<matplotlib.axes._subplots.AxesSubplot at 0x1d3216bd0>"
      ]
     },
     "execution_count": 105,
     "metadata": {},
     "output_type": "execute_result"
    },
    {
     "data": {
      "image/png": "[encoded data removed]",
      "text/plain": [
       "<matplotlib.figure.Figure at 0x1d4646c10>"
      ]
     },
     "metadata": {},
     "output_type": "display_data"
    }
   ],
   "source": [
    "tweets_by_lang = tweets['lang'].value_counts()\n",
    "\n",
    "fig, ax = plt.subplots()\n",
    "ax.tick_params(axis='x', labelsize=15)\n",
    "ax.tick_params(axis='y', labelsize=10)\n",
    "ax.set_xlabel('Languages', fontsize=15)\n",
    "ax.set_ylabel('Number of tweets' , fontsize=15)\n",
    "ax.set_title('Top 5 languages', fontsize=15, fontweight='bold')\n",
    "tweets_by_lang[:5].plot(ax=ax, kind='bar', color='red')"
   ]
  },
  {
   "cell_type": "code",
   "execution_count": 106,
   "metadata": {
    "collapsed": true
   },
   "outputs": [],
   "source": [
    "%matplotlib inline"
   ]
  },
  {
   "cell_type": "code",
   "execution_count": 107,
   "metadata": {
    "collapsed": false
   },
   "outputs": [
    {
     "data": {
      "text/plain": [
       "<matplotlib.axes._subplots.AxesSubplot at 0x1cb290ad0>"
      ]
     },
     "execution_count": 107,
     "metadata": {},
     "output_type": "execute_result"
    },
    {
     "data": {
      "image/png": "[encoded data removed]",
      "text/plain": [
       "<matplotlib.figure.Figure at 0x1d71dc750>"
      ]
     },
     "metadata": {},
     "output_type": "display_data"
    }
   ],
   "source": [
    "tweets_by_country = tweets['country'].value_counts()\n",
    "\n",
    "fig, ax = plt.subplots()\n",
    "ax.tick_params(axis='x', labelsize=15)\n",
    "ax.tick_params(axis='y', labelsize=10)\n",
    "ax.set_xlabel('Countries', fontsize=15)\n",
    "ax.set_ylabel('Number of tweets' , fontsize=15)\n",
    "ax.set_title('Top 5 countries', fontsize=15, fontweight='bold')\n",
    "tweets_by_country[:5].plot(ax=ax, kind='bar', color='blue')"
   ]
  },
  {
   "cell_type": "code",
   "execution_count": null,
   "metadata": {
    "collapsed": true
   },
   "outputs": [],
   "source": []
  }
 ],
 "metadata": {
  "kernelspec": {
   "display_name": "Python 2",
   "language": "python",
   "name": "python2"
  },
  "language_info": {
   "codemirror_mode": {
    "name": "ipython",
    "version": 2
   },
   "file_extension": ".py",
   "mimetype": "text/x-python",
   "name": "python",
   "nbconvert_exporter": "python",
   "pygments_lexer": "ipython2",
   "version": "2.7.10"
  }
 },
 "nbformat": 4,
 "nbformat_minor": 2
}
