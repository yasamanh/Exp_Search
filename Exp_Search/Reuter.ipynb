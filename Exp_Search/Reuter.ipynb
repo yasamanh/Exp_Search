{
 "cells": [
  {
   "cell_type": "code",
   "execution_count": 1,
   "metadata": {},
   "outputs": [],
   "source": [
    "from gensim import corpora, models\n",
    "import re\n",
    "from pprint import pprint "
   ]
  },
  {
   "cell_type": "code",
   "execution_count": 2,
   "metadata": {},
   "outputs": [],
   "source": [
    "###   POS Tagger\n",
    "import nltk\n",
    "from nltk import Text\n",
    "from nltk.tokenize import line_tokenize, word_tokenize\n",
    "from nltk.tokenize import RegexpTokenizer\n",
    "from nltk.probability import *\n",
    "from nltk import bigrams, trigrams, ngrams\n"
   ]
  },
  {
   "cell_type": "code",
   "execution_count": 3,
   "metadata": {},
   "outputs": [],
   "source": [
    "from HTMLParser import HTMLParser\n",
    "\n",
    "# create a subclass and override the handler methods\n",
    "class MyHTMLParser(HTMLParser):\n",
    "    def __init__(self):\n",
    "        HTMLParser.__init__(self)\n",
    "        self.flag = 0\n",
    "        self.data = []\n",
    "\n",
    "    def handle_starttag(self, tag, attrs):\n",
    "        if tag == 'text':\n",
    "            self.flag = 1\n",
    "\n",
    "    def handle_endtag(self, tag):\n",
    "        if tag == 'text':\n",
    "            self.flag = 0\n",
    "        \n",
    "    def handle_data(self, data):\n",
    "        if self.flag:\n",
    "            self.data.append(data)\n",
    "            \n",
    "parser = MyHTMLParser()"
   ]
  },
  {
   "cell_type": "code",
   "execution_count": 77,
   "metadata": {},
   "outputs": [],
   "source": [
    "f = '/Users/ynh3/Data/AP/AP890101'\n",
    "with open(f, 'r') as content_file:\n",
    "    content = content_file.read()\n",
    "parser.feed(content)"
   ]
  },
  {
   "cell_type": "code",
   "execution_count": 78,
   "metadata": {},
   "outputs": [
    {
     "data": {
      "text/plain": [
       "90"
      ]
     },
     "execution_count": 78,
     "metadata": {},
     "output_type": "execute_result"
    }
   ],
   "source": [
    "len(parser.data)"
   ]
  },
  {
   "cell_type": "code",
   "execution_count": 79,
   "metadata": {},
   "outputs": [],
   "source": [
    "###documents\n",
    "stoplist = set([line.replace(\"\\n\",\"\") for line in open('/Users/ynh3/Data/stopword-list.txt')])\n",
    "pun = [',', '-','.', ':', '(', ')', '--', ';', '...', 'may', 'must', 'us', 'via','a','the', 'rt', 'gg', 'gt', 'lt', 'la', 'de', 'te', 'lol', 'follow', 'followers', 'unfollow', 'unfollowers', 'unfollower', 'follower']\n",
    "#stoplist = set('for a of the and to in'.split())\n",
    "texts = [[word for word in document.lower().split() if word not in stoplist and word not in pun]\n",
    "        for document in parser.data]"
   ]
  },
  {
   "cell_type": "code",
   "execution_count": 80,
   "metadata": {},
   "outputs": [
    {
     "data": {
      "text/plain": [
       "90"
      ]
     },
     "execution_count": 80,
     "metadata": {},
     "output_type": "execute_result"
    }
   ],
   "source": [
    "len(texts)"
   ]
  },
  {
   "cell_type": "code",
   "execution_count": 99,
   "metadata": {},
   "outputs": [],
   "source": [
    "#texts"
   ]
  },
  {
   "cell_type": "code",
   "execution_count": 81,
   "metadata": {},
   "outputs": [],
   "source": [
    "text_words=[]\n",
    "#for i in range(0, len(parser.data)):\n",
    "j=90\n",
    "total_len = 0\n",
    "for i in range(0, j):\n",
    "    words = word_tokenize(parser.data[i])\n",
    "    pos = nltk.pos_tag(words)\n",
    "    np_words = [word for word, tag in pos if 'NNP' in tag and word not in stoplist and word not in pun]\n",
    "    text_words.append(np_words)\n",
    "    total_len += len(np_words)\n"
   ]
  },
  {
   "cell_type": "code",
   "execution_count": 82,
   "metadata": {},
   "outputs": [
    {
     "data": {
      "text/plain": [
       "90"
      ]
     },
     "execution_count": 82,
     "metadata": {},
     "output_type": "execute_result"
    }
   ],
   "source": [
    "len(text_words)"
   ]
  },
  {
   "cell_type": "code",
   "execution_count": 83,
   "metadata": {},
   "outputs": [],
   "source": [
    "#pos"
   ]
  },
  {
   "cell_type": "code",
   "execution_count": 84,
   "metadata": {},
   "outputs": [],
   "source": [
    "#np_words"
   ]
  },
  {
   "cell_type": "code",
   "execution_count": 85,
   "metadata": {},
   "outputs": [
    {
     "name": "stdout",
     "output_type": "stream",
     "text": [
      "Dictionary(1510 unique tokens: [u'Sugar', u'Communist', u'Slasher', u'Ronald', u'Shirley']...)\n"
     ]
    }
   ],
   "source": [
    "dictionary = corpora.Dictionary(text_words)\n",
    "dictionary.save('/tmp/AP890101.dict') # store the dictionary, for future reference\n",
    "print(dictionary)"
   ]
  },
  {
   "cell_type": "code",
   "execution_count": 87,
   "metadata": {},
   "outputs": [],
   "source": [
    "corpus = [dictionary.doc2bow(t) for t in text_words]"
   ]
  },
  {
   "cell_type": "code",
   "execution_count": 88,
   "metadata": {},
   "outputs": [
    {
     "data": {
      "text/plain": [
       "90"
      ]
     },
     "execution_count": 88,
     "metadata": {},
     "output_type": "execute_result"
    }
   ],
   "source": [
    "len(corpus)"
   ]
  },
  {
   "cell_type": "code",
   "execution_count": 89,
   "metadata": {},
   "outputs": [],
   "source": [
    "tfidf = models.TfidfModel(corpus)\n",
    "corpus_tfidf = tfidf[corpus]"
   ]
  },
  {
   "cell_type": "code",
   "execution_count": 90,
   "metadata": {},
   "outputs": [],
   "source": [
    "n_cluster = len(corpus)\n",
    "# LSI computing\n",
    "lsi = models.LsiModel(corpus, id2word=dictionary, num_topics=n_cluster) # initialize an LSI transformation\n",
    "corpus_lsi = lsi[corpus] # create a double wrapper over the original corpus: bow->tfidf->fold-in-lsi"
   ]
  },
  {
   "cell_type": "code",
   "execution_count": 91,
   "metadata": {},
   "outputs": [
    {
     "data": {
      "text/plain": [
       "[u'0.594*\"New\" + 0.483*\"Year\" + 0.358*\"Sunday\" + 0.156*\"Eve\" + 0.109*\"Rio\" + 0.101*\"Saturday\" + 0.097*\"Arafat\" + 0.089*\"Castro\" + 0.087*\"West\" + 0.081*\"President\"',\n",
       " u'0.449*\"Arafat\" + 0.334*\"Palestinians\" + 0.333*\"Israel\" + 0.246*\"PLO\" + -0.214*\"New\" + 0.212*\"Bank\" + 0.202*\"West\" + 0.185*\"Gaza\" + 0.184*\"Fatah\" + -0.183*\"Year\"',\n",
       " u'0.693*\"Castro\" + 0.390*\"Cuba\" + 0.308*\"America\" + 0.260*\"Latin\" + 0.130*\"Cuban\" + -0.120*\"New\" + 0.104*\"United\" + 0.101*\"States\" + -0.092*\"Year\" + 0.089*\"Union\"',\n",
       " u'-0.293*\"Kim\" + -0.264*\"Korea\" + -0.243*\"North\" + -0.243*\"South\" + -0.212*\"Washington\" + -0.192*\"George\" + -0.179*\"Vietnam\" + -0.175*\"County\" + -0.165*\"St.\" + 0.163*\"Year\"',\n",
       " u'0.355*\"Kim\" + 0.325*\"Korea\" + -0.281*\"Washington\" + -0.225*\"St.\" + -0.221*\"George\" + 0.218*\"South\" + 0.213*\"North\" + -0.181*\"County\" + -0.160*\"River\" + -0.150*\"Virgin\"',\n",
       " u'-0.423*\"Ms.\" + -0.420*\"Alptekin\" + -0.258*\"Vietnam\" + 0.165*\"Kim\" + 0.151*\"Korea\" + -0.135*\"University\" + 0.132*\"George\" + 0.129*\"North\" + -0.123*\"Bateau\" + -0.119*\"Mississippi\"',\n",
       " u'0.318*\"Vietnam\" + -0.244*\"Sunday\" + -0.234*\"Ms.\" + -0.217*\"Alptekin\" + -0.176*\"North\" + -0.153*\"U.S.\" + -0.152*\"Campbell\" + 0.151*\"New\" + -0.142*\"Kim\" + 0.142*\"Foner\"',\n",
       " u'0.434*\"Alptekin\" + 0.419*\"Ms.\" + -0.233*\"Bateau\" + -0.213*\"Mouche\" + -0.201*\"Sunday\" + -0.171*\"Campbell\" + -0.169*\"Rio\" + -0.140*\"Saturday\" + -0.140*\"U.S.\" + 0.124*\"New\"',\n",
       " u'0.341*\"Bateau\" + 0.313*\"Mouche\" + 0.276*\"Rio\" + -0.217*\"Campbell\" + -0.202*\"Sunday\" + 0.177*\"Kim\" + 0.162*\"Korea\" + 0.141*\"Barroso\" + -0.136*\"Bush\" + -0.132*\"Reagan\"',\n",
       " u'-0.703*\"Campbell\" + -0.192*\"Saturday\" + -0.150*\"Friday\" + 0.149*\"U.S.\" + 0.142*\"Bush\" + 0.140*\"Reagan\" + 0.128*\"Mitchell\" + 0.119*\"Sunday\" + -0.116*\"Kim\" + -0.115*\"Department\"',\n",
       " u'-0.337*\"Mitchell\" + -0.283*\"Bush\" + -0.280*\"Reagan\" + 0.246*\"Sunday\" + -0.228*\"House\" + -0.195*\"North\" + -0.188*\"Michel\" + -0.188*\"Dole\" + -0.181*\"Campbell\" + -0.141*\"Foley\"',\n",
       " u'-0.337*\"Ashland\" + -0.272*\"West\" + -0.210*\"Ohio\" + 0.193*\"Arafat\" + -0.177*\"Palestinians\" + -0.171*\"Pennsylvania\" + -0.168*\"Berkey\" + -0.168*\"Pittsburgh\" + 0.153*\"PLO\" + -0.152*\"Virginia\"',\n",
       " u'0.295*\"Reynolds\" + 0.287*\"PTL\" + 0.283*\"Ashland\" + 0.212*\"Bakker\" + -0.197*\"Texas\" + 0.193*\"U.S.\" + 0.177*\"Ohio\" + -0.159*\"Coast\" + -0.152*\"Michigan\" + -0.151*\"Atlantic\"',\n",
       " u'-0.714*\"Canning\" + -0.178*\"Albuquerque\" + -0.148*\"New\" + 0.143*\"Year\" + -0.129*\"FBI\" + -0.123*\"Mexico\" + -0.121*\"California\" + -0.120*\"Orleans\" + -0.119*\"Yale\" + -0.119*\"Berkeley\"',\n",
       " u'-0.376*\"Reynolds\" + -0.364*\"PTL\" + -0.269*\"Bakker\" + 0.252*\"Ashland\" + -0.232*\"Palestinians\" + 0.220*\"Arafat\" + 0.157*\"Ohio\" + -0.146*\"Bank\" + -0.144*\"Canning\" + 0.130*\"Pennsylvania\"',\n",
       " u'0.228*\"Canning\" + -0.226*\"Campbell\" + -0.195*\"Arafat\" + -0.191*\"Reynolds\" + -0.183*\"PTL\" + 0.174*\"IRA\" + 0.154*\"Palestinians\" + 0.152*\"India\" + 0.147*\"Saturday\" + -0.136*\"Texas\"',\n",
       " u'0.463*\"Gadi\" + 0.332*\"Israeli\" + 0.318*\"Lebanon\" + 0.290*\"Israel\" + -0.255*\"Arafat\" + 0.198*\"Yossi\" + 0.198*\"Avivim\" + 0.152*\"Shiite\" + 0.140*\"Amal\" + 0.132*\"Kibbutz\"',\n",
       " u'-0.464*\"Fane\" + 0.264*\"IRA\" + -0.240*\"Gabriel\" + -0.237*\"Calvey\" + -0.177*\"County\" + -0.169*\"Teague\" + -0.167*\"Police\" + 0.147*\"India\" + 0.120*\"Lanka\" + 0.120*\"Sri\"',\n",
       " u'-0.438*\"IRA\" + 0.322*\"India\" + 0.272*\"Sri\" + 0.272*\"Lanka\" + 0.264*\"Dixit\" + 0.264*\"Tamils\" + -0.159*\"Adams\" + -0.137*\"U.S.\" + -0.119*\"Belfast\" + 0.115*\"Reynolds\"',\n",
       " u'0.544*\"Fane\" + 0.420*\"IRA\" + -0.243*\"Gabriel\" + -0.241*\"Calvey\" + -0.172*\"Teague\" + 0.153*\"Adams\" + -0.144*\"Chek\" + -0.144*\"Heart\" + 0.114*\"Belfast\" + -0.110*\"Sunday\"',\n",
       " u'-0.319*\"Gabriel\" + -0.316*\"Calvey\" + -0.278*\"IRA\" + -0.226*\"Teague\" + 0.184*\"Heart\" + 0.184*\"Chek\" + 0.180*\"Saturday\" + -0.147*\"Tibetan\" + -0.142*\"Curley\" + -0.122*\"Illinois\"',\n",
       " u'0.467*\"Chek\" + 0.467*\"Heart\" + 0.273*\"IRA\" + 0.200*\"Haman\" + 0.200*\"Herb\" + 0.133*\"HRS\" + 0.133*\"Sarasota\" + 0.133*\"Bell\" + 0.133*\"Florida\" + 0.122*\"Tibetan\"',\n",
       " u'-0.322*\"Curley\" + -0.266*\"Tibetan\" + -0.244*\"Fane\" + 0.208*\"IRA\" + -0.190*\"Tibet\" + -0.171*\"Mrs.\" + -0.164*\"U.S.\" + -0.152*\"Lhasa\" + -0.148*\"Friday\" + 0.138*\"Gabriel\"',\n",
       " u'-0.333*\"Tibetan\" + -0.238*\"Tibet\" + -0.226*\"Machado\" + -0.190*\"Lhasa\" + 0.187*\"Fane\" + -0.164*\"Saturday\" + -0.151*\"Geehreng\" + -0.151*\"Gafsi\" + -0.143*\"Tibetans\" + -0.143*\"China\"',\n",
       " u'-0.254*\"Mahdi\" + 0.237*\"White\" + 0.233*\"Turner\" + 0.228*\"Attorney\" + -0.218*\"Sudan\" + 0.193*\"Angeles\" + 0.186*\"Los\" + -0.177*\"Curley\" + 0.159*\"Abramson\" + 0.159*\"Criminal\"',\n",
       " u'0.527*\"Curley\" + -0.214*\"Fane\" + -0.204*\"Tibetan\" + 0.161*\"Mummy\" + 0.150*\"Mrs.\" + -0.145*\"Tibet\" + 0.138*\"Machado\" + 0.132*\"Flannery\" + 0.132*\"O\\'Connor\" + 0.131*\"Police\"',\n",
       " u'-0.328*\"Mahdi\" + -0.284*\"Sudan\" + -0.208*\"White\" + -0.201*\"Attorney\" + -0.189*\"Eritrean\" + -0.184*\"Curley\" + -0.173*\"Los\" + -0.172*\"Angeles\" + -0.159*\"Khartoum\" + -0.149*\"Abramson\"',\n",
       " u'0.230*\"Watson\" + 0.213*\"Fire\" + 0.176*\"Anchorage\" + -0.175*\"U.S.\" + 0.172*\"Renn\" + 0.154*\"Mrs.\" + 0.142*\"Curley\" + 0.130*\"Sunday\" + -0.118*\"Tibetan\" + 0.115*\"Grover\"',\n",
       " u'0.254*\"Highland\" + 0.254*\"Highwood\" + 0.254*\"Porter\" + 0.254*\"Park\" + 0.247*\"Lake\" + 0.189*\"Forest\" + 0.159*\"Machado\" + -0.146*\"Watson\" + 0.144*\"Army\" + 0.142*\"Thompson\"',\n",
       " u'0.217*\"Soviet\" + 0.206*\"Najib\" + 0.205*\"Union\" + -0.185*\"Highwood\" + -0.185*\"Porter\" + -0.185*\"Park\" + -0.185*\"Highland\" + -0.174*\"Lake\" + 0.171*\"Tass\" + 0.165*\"Afghan\"',\n",
       " u'-0.617*\"Turner\" + -0.181*\"Police\" + -0.169*\"House\" + -0.154*\"Wild\" + -0.152*\"Columbia\" + -0.150*\"Washington\" + 0.118*\"Los\" + -0.114*\"Mrs.\" + -0.107*\"Najib\" + 0.106*\"Angeles\"',\n",
       " u'0.249*\"Najib\" + 0.220*\"Boston\" + 0.199*\"Afghan\" + 0.168*\"Jersey\" + 0.150*\"Union\" + 0.149*\"Shah\" + 0.148*\"Soviet\" + 0.146*\"Detroit\" + -0.144*\"Manila\" + 0.130*\"George\"',\n",
       " u'-0.517*\"Mrs.\" + -0.252*\"House\" + -0.159*\"Thatcher\" + -0.148*\"Square\" + -0.134*\"Guy\" + -0.134*\"Lombardo\" + 0.126*\"Curley\" + 0.116*\"Fane\" + 0.112*\"Washington\" + 0.112*\"Turner\"',\n",
       " u'-0.314*\"Lima\" + -0.312*\"Mrs.\" + -0.197*\"House\" + -0.190*\"Holcomb\" + -0.166*\"Shining\" + -0.166*\"Path\" + -0.166*\"Ocean\" + -0.162*\"Washington\" + -0.133*\"Saturday\" + -0.122*\"Pacific\"',\n",
       " u'0.273*\"Lima\" + -0.228*\"Boston\" + -0.196*\"Mrs.\" + -0.183*\"Paul\" + -0.180*\"Harbor\" + -0.171*\"L\" + -0.171*\"Street\" + 0.140*\"Square\" + 0.140*\"Shining\" + 0.140*\"Path\"',\n",
       " u'-0.236*\"Washington\" + -0.224*\"Holcomb\" + 0.199*\"Lima\" + -0.194*\"Square\" + -0.190*\"Lombardo\" + -0.190*\"Guy\" + -0.180*\"Times\" + -0.126*\"Orchestra\" + -0.126*\"Conover\" + -0.126*\"Colorado\"',\n",
       " u'0.270*\"Pavlova-Silvanskaya\" + -0.234*\"Najib\" + -0.206*\"Obando\" + -0.206*\"Bravo\" + 0.200*\"Union\" + -0.187*\"Afghan\" + 0.178*\"Soviet\" + -0.165*\"Day\" + 0.163*\"Tass\" + -0.155*\"Managua\"',\n",
       " u'-0.211*\"Bravo\" + -0.211*\"Obando\" + 0.203*\"Eritrean\" + -0.197*\"Pavlova-Silvanskaya\" + 0.181*\"Najib\" + -0.158*\"Managua\" + -0.152*\"Union\" + 0.145*\"Afghan\" + -0.143*\"Lima\" + -0.119*\"Mahdi\"',\n",
       " u'0.366*\"Eritrean\" + 0.284*\"Lima\" + -0.237*\"Mahdi\" + 0.190*\"Liberation\" + -0.181*\"Hepburn\" + 0.177*\"Sudan\" + 0.147*\"Path\" + 0.147*\"Shining\" + -0.136*\"Krowber\" + -0.128*\"Garang\"',\n",
       " u'-0.306*\"Eritrean\" + 0.262*\"Mahdi\" + -0.234*\"Hepburn\" + -0.176*\"Krowber\" + -0.168*\"Sunday\" + -0.149*\"Liberation\" + -0.146*\"Nimtz\" + 0.134*\"Garang\" + 0.134*\"Lima\" + -0.130*\"Deputy\"',\n",
       " u'-0.273*\"Obando\" + -0.273*\"Bravo\" + 0.219*\"Street\" + 0.219*\"L\" + 0.214*\"Boston\" + 0.208*\"Harbor\" + -0.205*\"Managua\" + -0.149*\"La\" + 0.146*\"Jurzynski\" + 0.146*\"Graney\"',\n",
       " u'-0.420*\"Wempner\" + -0.256*\"Montana\" + 0.218*\"Sikh\" + -0.178*\"Libya\" + -0.168*\"McOmber\" + -0.155*\"U.S.\" + 0.143*\"Sunday\" + -0.137*\"United\" + -0.136*\"Germany\" + 0.128*\"Punjab\"',\n",
       " u'-0.223*\"Tabor\" + -0.197*\"Price\" + -0.189*\"Saturday\" + 0.184*\"Hepburn\" + 0.159*\"Wempner\" + -0.142*\"U.S.\" + -0.141*\"Libya\" + 0.138*\"Krowber\" + -0.138*\"Department\" + -0.136*\"Fire\"',\n",
       " u'0.471*\"Sikh\" + 0.297*\"Wempner\" + 0.280*\"Punjab\" + 0.258*\"Hindus\" + 0.191*\"Sikhs\" + 0.188*\"India\" + 0.172*\"Montana\" + -0.120*\"Manila\" + 0.119*\"McOmber\" + 0.113*\"United\"',\n",
       " u'-0.215*\"A\" + 0.207*\"Peres\" + -0.190*\"Cautivo\" + 0.176*\"Libya\" + 0.176*\"Calo\" + 0.167*\"Sikh\" + 0.167*\"U.S.\" + 0.163*\"Observer\" + 0.145*\"Cabinet\" + -0.143*\"Arica\"',\n",
       " u'-0.275*\"Observer\" + -0.217*\"Britain\" + -0.209*\"Peres\" + 0.203*\"Libya\" + -0.189*\"Minister\" + 0.177*\"House\" + -0.175*\"Cabinet\" + 0.169*\"Calvin\" + -0.158*\"Israel\" + 0.140*\"U.S.\"',\n",
       " u'0.340*\"Calvin\" + 0.279*\"Cautivo\" + 0.209*\"Arica\" + 0.206*\"A\" + 0.204*\"Kalayoglu\" + 0.173*\"Libya\" + 0.151*\"Salvador\" + -0.144*\"Hepburn\" + 0.138*\"Santiago\" + 0.127*\"Monday\"',\n",
       " u'0.472*\"Belcher\" + 0.354*\"Namin\" + 0.236*\"Camai\" + 0.236*\"Money\" + 0.234*\"Alaska\" + 0.200*\"State\" + 0.148*\"Water\" + 0.119*\"Gorbachev\" + 0.118*\"Dixie\" + 0.118*\"Stas\"',\n",
       " u'-0.298*\"Calvin\" + -0.298*\"Tabor\" + 0.223*\"Libya\" + -0.179*\"Kalayoglu\" + -0.179*\"Knowles\" + -0.153*\"Doughty\" + 0.138*\"Price\" + 0.131*\"Hepburn\" + 0.130*\"U.S.\" + -0.122*\"United\"',\n",
       " u'0.225*\"Libya\" + 0.225*\"Tabor\" + -0.212*\"Wempner\" + -0.205*\"Calvin\" + 0.172*\"Doughty\" + 0.163*\"Cautivo\" + 0.156*\"A\" + 0.156*\"United\" + 0.135*\"Knowles\" + 0.127*\"Montand\"',\n",
       " u'-0.279*\"Price\" + 0.243*\"Tabor\" + -0.203*\"Fire\" + -0.180*\"Doughty\" + 0.168*\"Belcher\" + -0.153*\"United\" + 0.147*\"Holcomb\" + 0.146*\"Knowles\" + -0.139*\"Killingsworth\" + -0.139*\"Garcia\"',\n",
       " u'-0.336*\"Montand\" + 0.266*\"Peres\" + -0.261*\"Jacques\" + -0.235*\"Observer\" + 0.199*\"Israel\" + -0.185*\"Britain\" + -0.168*\"Giovanni\" + -0.168*\"Valentin\" + -0.168*\"Carole\" + -0.165*\"Day\"',\n",
       " u'0.353*\"Montand\" + 0.273*\"Calvin\" + 0.273*\"Jacques\" + 0.184*\"Peres\" + 0.177*\"Carole\" + 0.177*\"Valentin\" + 0.177*\"Giovanni\" + -0.176*\"Observer\" + 0.164*\"Kalayoglu\" + -0.141*\"Cautivo\"',\n",
       " u'0.218*\"Thompson\" + -0.189*\"Price\" + -0.176*\"Belcher\" + 0.166*\"Bangerter\" + -0.161*\"Calo\" + 0.148*\"Interstate\" + -0.144*\"Arizona\" + -0.132*\"Namin\" + 0.129*\"State\" + 0.122*\"Barroso\"',\n",
       " u'-0.226*\"Cautivo\" + -0.223*\"Calo\" + 0.206*\"Calvin\" + 0.170*\"Barroso\" + -0.169*\"Arica\" + 0.165*\"Libya\" + -0.149*\"Thompson\" + -0.135*\"Montand\" + 0.123*\"Kalayoglu\" + -0.120*\"Salvador\"',\n",
       " u'0.302*\"York\" + 0.208*\"Warhol\" + 0.208*\"Reed\" + 0.208*\"Andy\" + 0.193*\"Tabor\" + -0.180*\"Manila\" + -0.142*\"Year\" + -0.129*\"Varner\" + 0.120*\"New\" + 0.116*\"Knowles\"',\n",
       " u'-0.401*\"Varner\" + -0.301*\"Schmidt\" + -0.210*\"Arizona\" + 0.210*\"Tabor\" + -0.198*\"York\" + -0.153*\"Saturday\" + -0.133*\"Andy\" + -0.133*\"Warhol\" + -0.133*\"Reed\" + 0.130*\"Thompson\"',\n",
       " u'-0.391*\"Jacobs\" + -0.286*\"House\" + 0.256*\"Thatcher\" + 0.192*\"Varner\" + -0.181*\"Christmas\" + 0.146*\"Frost\" + 0.144*\"Schmidt\" + -0.135*\"Manila\" + 0.130*\"Libya\" + 0.122*\"Gandhi\"',\n",
       " u'0.592*\"Jacobs\" + -0.267*\"House\" + 0.258*\"Christmas\" + 0.246*\"Thatcher\" + 0.129*\"Frost\" + 0.118*\"Cabbage\" + 0.118*\"Superior\" + 0.118*\"Joes\" + 0.118*\"A.\" + 0.118*\"Patch\"',\n",
       " u'0.266*\"Manila\" + -0.202*\"House\" + -0.202*\"Day\" + -0.196*\"Mass\" + -0.194*\"Jacobs\" + 0.169*\"Thatcher\" + -0.167*\"John\" + -0.165*\"Peace\" + -0.161*\"World\" + -0.149*\"Paul\"',\n",
       " u'0.258*\"Manila\" + 0.204*\"World\" + 0.203*\"Peace\" + 0.193*\"Day\" + 0.180*\"Mass\" + 0.174*\"Rivera\" + 0.174*\"Damas\" + 0.140*\"Espresion\" + 0.140*\"Cebu\" + 0.139*\"Paul\"',\n",
       " u'-0.267*\"Damas\" + -0.267*\"Rivera\" + 0.230*\"Ralph\" + -0.180*\"Sunday\" + -0.178*\"El\" + -0.157*\"Buchanon\" + 0.136*\"State\" + 0.133*\"Miller\" + 0.130*\"Day\" + -0.128*\"Paris\"',\n",
       " u'0.389*\"Ellinwood\" + 0.341*\"Ralph\" + 0.194*\"R.\" + 0.162*\"Miller\" + 0.158*\"Buchanon\" + 0.136*\"Texas\" + 0.124*\"State\" + -0.120*\"Deputy\" + 0.120*\"William\" + 0.118*\"Rivera\"',\n",
       " u'0.277*\"San\" + 0.272*\"Ellinwood\" + 0.228*\"Deputy\" + 0.227*\"Nimtz\" + 0.183*\"Angeles\" + 0.175*\"Los\" + 0.154*\"Hospital\" + 0.143*\"Peterson\" + 0.143*\"Wade\" + 0.143*\"Mountains\"',\n",
       " u'-0.346*\"Damas\" + -0.346*\"Rivera\" + -0.231*\"El\" + -0.188*\"FBI\" + 0.182*\"Buchanon\" + 0.135*\"Ellinwood\" + 0.135*\"Beirut\" + -0.125*\"December\" + 0.121*\"Janoch\" + 0.121*\"Watergate\"',\n",
       " u'-0.367*\"Buchanon\" + 0.249*\"Ellinwood\" + -0.245*\"Janoch\" + -0.245*\"Watergate\" + -0.220*\"FBI\" + -0.215*\"Department\" + -0.130*\"State\" + -0.129*\"Frank\" + -0.129*\"Sessions\" + 0.126*\"R.\"',\n",
       " u'-0.343*\"Ellinwood\" + 0.249*\"Ralph\" + 0.223*\"Miller\" + 0.199*\"Saturday\" + 0.198*\"Texas\" + -0.174*\"R.\" + -0.167*\"Varner\" + 0.143*\"Rivera\" + 0.143*\"Damas\" + -0.131*\"William\"',\n",
       " u'-0.367*\"Beirut\" + 0.242*\"Buchanon\" + -0.239*\"Paris\" + 0.231*\"Ellinwood\" + -0.206*\"Shiite\" + -0.168*\"Lebanon\" + 0.161*\"Janoch\" + 0.161*\"Watergate\" + -0.157*\"Syria\" + -0.140*\"November\"',\n",
       " u'-0.474*\"Paris\" + 0.339*\"Beirut\" + 0.207*\"Shiite\" + -0.158*\"Tower\" + -0.158*\"Mitterrand\" + -0.158*\"Socialist\" + -0.158*\"May\" + -0.158*\"Francois\" + -0.158*\"Eiffel\" + -0.158*\"Chirac\"',\n",
       " u'0.418*\"Sen.\" + 0.280*\"James\" + 0.206*\"Hankins\" + 0.184*\"Press\" + 0.176*\"Federal\" + 0.175*\"Wirth\" + 0.175*\"Wall\" + 0.175*\"Timothy\" + 0.175*\"Sasser\" + 0.175*\"Loan\"',\n",
       " u'-0.491*\"Araya\" + -0.316*\"Maj.\" + -0.178*\"Justice\" + -0.167*\"Authorities\" + -0.164*\"Hugo\" + -0.164*\"Patricio\" + -0.164*\"Rosende\" + 0.158*\"Family\" + 0.158*\"Sen.\" + -0.145*\"Monday\"',\n",
       " u'-0.356*\"Family\" + -0.334*\"Araya\" + -0.264*\"Christmas\" + -0.209*\"Maj.\" + -0.178*\"Easter\" + -0.178*\"Tanya\" + -0.178*\"Sheri\" + -0.178*\"Nashville\" + -0.178*\"Lewis\" + -0.178*\"Candy\"',\n",
       " u'0.386*\"Times\" + -0.201*\"Japan\" + 0.156*\"Family\" + -0.153*\"Araya\" + 0.145*\"Works\" + 0.145*\"Hippenstiel-Imhausen\" + 0.145*\"Hong\" + 0.145*\"Imhausen-Chemie\" + 0.145*\"Jurgen\" + 0.145*\"Kong\"',\n",
       " u'0.601*\"Hankins\" + -0.270*\"James\" + -0.227*\"Dux\" + 0.207*\"Philadelphia\" + 0.200*\"Representatives\" + 0.200*\"Freeman\" + 0.195*\"Senate\" + 0.186*\"Nov.\" + 0.178*\"December\" + 0.171*\"November\"',\n",
       " u'0.472*\"First\" + 0.457*\"Reynolds\" + 0.451*\"Amendment\" + -0.295*\"PTL\" + 0.240*\"`The\" + 0.240*\"Lord\" + 0.240*\"Bible\" + -0.205*\"Bakker\" + -0.064*\"Charlotte\" + -0.058*\"News\"',\n",
       " u'0.411*\"Dux\" + 0.303*\"James\" + 0.270*\"Hankins\" + 0.219*\"Hospital\" + 0.205*\"III\" + 0.205*\"MaryAnne\" + 0.205*\"Lorraina\" + 0.205*\"Milford\" + 0.205*\"Zuba\" + 0.195*\"II\"',\n",
       " u'0.239*\"Times\" + 0.212*\"Report\" + 0.196*\"State\" + 0.194*\"Department\" + 0.194*\"World\" + -0.180*\"Libya\" + -0.151*\"Italy\" + 0.143*\"Friday\" + -0.142*\"Japan\" + 0.141*\"Iraq\"',\n",
       " u'-0.313*\"Toniolo\" + -0.179*\"Rehnquist\" + -0.164*\"State\" + -0.147*\"Audrey\" + 0.142*\"Pennsylvania\" + -0.141*\"NASHVILLE\" + -0.141*\"Alexander\" + -0.141*\"Esther\" + -0.141*\"Farrell\" + -0.141*\"Kayla\"',\n",
       " u'-0.480*\"Pennsylvania\" + -0.266*\"No\" + -0.266*\"Earth\" + -0.266*\"Huntingdon\" + -0.266*\"Natural\" + -0.266*\"Ridge\" + -0.265*\"Defense\" + -0.260*\"Council\" + -0.253*\"Resources\" + -0.177*\"County\"',\n",
       " u'-0.449*\"Rehnquist\" + 0.391*\"Toniolo\" + -0.248*\"President\" + -0.230*\"Congress\" + -0.225*\"H.\" + -0.222*\"Supreme\" + -0.208*\"Court\" + -0.198*\"William\" + -0.190*\"Justice\" + -0.188*\"Jan.\"',\n",
       " u'-0.647*\"Toniolo\" + -0.216*\"Giuseppe\" + -0.216*\"Begun\" + -0.211*\"Pisa\" + 0.173*\"Audrey\" + 0.170*\"Tenn.\" + 0.170*\"NASHVILLE\" + 0.170*\"Lindsey\" + 0.170*\"Kayla\" + 0.170*\"General\"',\n",
       " u'0.555*\"Lottery\" + 0.277*\"Lotto\" + 0.277*\"Largo\" + 0.277*\"Petersburg\" + 0.277*\"Rebecca\" + 0.272*\"Secretary\" + 0.256*\"Florida\" + 0.214*\"Paul\" + 0.204*\"St.\" + -0.100*\"Toniolo\"',\n",
       " u'0.569*\"Chissano\" + 0.284*\"AIM\" + 0.284*\"Joaquim\" + 0.284*\"Mozambique\" + 0.284*\"Resistance\" + 0.266*\"National\" + -0.237*\"Rehnquist\" + 0.165*\"President\" + -0.132*\"Congress\" + -0.119*\"H.\"',\n",
       " u'-0.250*\"Philippines\" + -0.236*\"Orchard\" + -0.236*\"Singapore\" + -0.236*\"Road\" + -0.199*\"Hindus\" + -0.199*\"Children\" + -0.196*\"Chissano\" + -0.192*\"Square\" + -0.181*\"Korea\" + -0.156*\"Afghanistan\"',\n",
       " u'0.297*\"Friday\" + 0.248*\"Mummy\" + -0.164*\"April\" + -0.164*\"Duane\" + -0.164*\"Marcia\" + -0.164*\"Kirkpatrick\" + -0.164*\"Hilarion\" + -0.164*\"Ebert\" + -0.164*\"Sun-Times\" + -0.164*\"Urbana\"',\n",
       " u'-0.261*\"Flight\" + -0.240*\"TV-am\" + -0.240*\"Margaret\" + -0.237*\"Am\" + -0.237*\"Pan\" + -0.235*\"David\" + -0.207*\"Prime\" + 0.188*\"Mrs.\" + -0.181*\"Minister\" + -0.145*\"Frost\"',\n",
       " u'0.385*\"Greensboro\" + 0.385*\"Rufus\" + 0.372*\"Jim\" + 0.283*\"News\" + 0.207*\"PTL\" + 0.165*\"Saturday\" + -0.141*\"Charlotte\" + -0.138*\"President-elect\" + -0.138*\"Congress\" + -0.129*\"Bush\"',\n",
       " u'-0.443*\"S\" + -0.443*\"Depression\" + -0.424*\"President-elect\" + -0.379*\"Congress\" + -0.345*\"Bush\" + -0.121*\"Greensboro\" + -0.121*\"Rufus\" + -0.118*\"Jim\" + 0.116*\"Reagan\" + -0.099*\"News\"',\n",
       " u'-0.836*\"Ls\" + -0.336*\"Saturday\" + 0.124*\"Ralph\" + 0.093*\"Greensboro\" + 0.093*\"Rufus\" + 0.091*\"Jim\" + 0.088*\"Varner\" + 0.087*\"Miller\" + 0.073*\"Texas\" + 0.070*\"News\"',\n",
       " u'1.000*\"AM-Israel-Border\" + -0.000*\"Ls\" + -0.000*\"Saturday\" + -0.000*\"Toniolo\" + 0.000*\"President-elect\" + 0.000*\"Bush\" + 0.000*\"Jacobs\" + 0.000*\"Varner\" + 0.000*\"Start\" + -0.000*\"Robbins\"']"
      ]
     },
     "execution_count": 91,
     "metadata": {},
     "output_type": "execute_result"
    }
   ],
   "source": [
    "lsi.show_topics()"
   ]
  },
  {
   "cell_type": "code",
   "execution_count": null,
   "metadata": {},
   "outputs": [],
   "source": []
  },
  {
   "cell_type": "code",
   "execution_count": 92,
   "metadata": {},
   "outputs": [
    {
     "data": {
      "text/plain": [
       "u'0.463*\"Gadi\" + 0.332*\"Israeli\" + 0.318*\"Lebanon\" + 0.290*\"Israel\" + -0.255*\"Arafat\" + 0.198*\"Yossi\" + 0.198*\"Avivim\" + 0.152*\"Shiite\" + 0.140*\"Amal\" + 0.132*\"Kibbutz\"'"
      ]
     },
     "execution_count": 92,
     "metadata": {},
     "output_type": "execute_result"
    }
   ],
   "source": [
    "lsi.print_topic(16,topn=10)"
   ]
  },
  {
   "cell_type": "code",
   "execution_count": null,
   "metadata": {},
   "outputs": [],
   "source": [
    "######   LSI MODELING"
   ]
  },
  {
   "cell_type": "code",
   "execution_count": 93,
   "metadata": {},
   "outputs": [
    {
     "name": "stdout",
     "output_type": "stream",
     "text": [
      "doc# 0 : topic: 6.0 , [u'\"Vietnam\" ', u'*\"Sunday\" ', u'*\"Ms.\" ', u'*\"Alptekin\" ', u'*\"North\" ', u'*\"U.S.\" ', u'*\"Campbell\" ', u'\"New\" ', u'*\"Kim\" ', u'\"Foner\"']\n",
      "doc# 1 : topic: 7.0 , [u'\"Alptekin\" ', u'\"Ms.\" ', u'*\"Bateau\" ', u'*\"Mouche\" ', u'*\"Sunday\" ', u'*\"Campbell\" ', u'*\"Rio\" ', u'*\"Saturday\" ', u'*\"U.S.\" ', u'\"New\"']\n",
      "doc# 2 : topic: 50.0 , [u'*\"Price\" ', u'\"Tabor\" ', u'*\"Fire\" ', u'*\"Doughty\" ', u'\"Belcher\" ', u'*\"United\" ', u'\"Holcomb\" ', u'\"Knowles\" ', u'*\"Killingsworth\" ', u'*\"Garcia\"']\n",
      "doc# 3 : topic: 30.0 , [u'*\"Turner\" ', u'*\"Police\" ', u'*\"House\" ', u'*\"Wild\" ', u'*\"Columbia\" ', u'*\"Washington\" ', u'\"Los\" ', u'*\"Mrs.\" ', u'*\"Najib\" ', u'\"Angeles\"']\n",
      "doc# 4 : topic: 69.0 , [u'\"Sen.\" ', u'\"James\" ', u'\"Hankins\" ', u'\"Press\" ', u'\"Federal\" ', u'\"Wirth\" ', u'\"Wall\" ', u'\"Timothy\" ', u'\"Sasser\" ', u'\"Loan\"']\n",
      "doc# 5 : topic: 35.0 , [u'*\"Washington\" ', u'*\"Holcomb\" ', u'\"Lima\" ', u'*\"Square\" ', u'*\"Lombardo\" ', u'*\"Guy\" ', u'*\"Times\" ', u'*\"Orchestra\" ', u'*\"Conover\" ', u'*\"Colorado\"']\n",
      "doc# 6 : topic: 31.0 , [u'\"Najib\" ', u'\"Boston\" ', u'\"Afghan\" ', u'\"Jersey\" ', u'\"Union\" ', u'\"Shah\" ', u'\"Soviet\" ', u'\"Detroit\" ', u'*\"Manila\" ', u'\"George\"']\n",
      "doc# 7 : topic: 59.0 , [u'\"Manila\" ', u'*\"House\" ', u'*\"Day\" ', u'*\"Mass\" ', u'*\"Jacobs\" ', u'\"Thatcher\" ', u'*\"John\" ', u'*\"Peace\" ', u'*\"World\" ', u'*\"Paul\"']\n",
      "doc# 8 : topic: 8.0 , [u'\"Bateau\" ', u'\"Mouche\" ', u'\"Rio\" ', u'*\"Campbell\" ', u'*\"Sunday\" ', u'\"Kim\" ', u'\"Korea\" ', u'\"Barroso\" ', u'*\"Bush\" ', u'*\"Reagan\"']\n",
      "doc# 9 : topic: 4.0 , [u'\"Kim\" ', u'\"Korea\" ', u'*\"Washington\" ', u'*\"St.\" ', u'*\"George\" ', u'\"South\" ', u'\"North\" ', u'*\"County\" ', u'*\"River\" ', u'*\"Virgin\"']\n",
      "doc# 10 : topic: 32.0 , [u'*\"Mrs.\" ', u'*\"House\" ', u'*\"Thatcher\" ', u'*\"Square\" ', u'*\"Guy\" ', u'*\"Lombardo\" ', u'\"Curley\" ', u'\"Fane\" ', u'\"Washington\" ', u'\"Turner\"']\n",
      "doc# 11 : topic: 23.0 , [u'*\"Tibetan\" ', u'*\"Tibet\" ', u'*\"Machado\" ', u'*\"Lhasa\" ', u'\"Fane\" ', u'*\"Saturday\" ', u'*\"Geehreng\" ', u'*\"Gafsi\" ', u'*\"Tibetans\" ', u'*\"China\"']\n",
      "doc# 12 : topic: 18.0 , [u'*\"IRA\" ', u'\"India\" ', u'\"Sri\" ', u'\"Lanka\" ', u'\"Dixit\" ', u'\"Tamils\" ', u'*\"Adams\" ', u'*\"U.S.\" ', u'*\"Belfast\" ', u'\"Reynolds\"']\n",
      "doc# 13 : topic: 16.0 , [u'\"Gadi\" ', u'\"Israeli\" ', u'\"Lebanon\" ', u'\"Israel\" ', u'*\"Arafat\" ', u'\"Yossi\" ', u'\"Avivim\" ', u'\"Shiite\" ', u'\"Amal\" ', u'\"Kibbutz\"']\n",
      "doc# 14 : topic: 24.0 , [u'*\"Mahdi\" ', u'\"White\" ', u'\"Turner\" ', u'\"Attorney\" ', u'*\"Sudan\" ', u'\"Angeles\" ', u'\"Los\" ', u'*\"Curley\" ', u'\"Abramson\" ', u'\"Criminal\"']\n",
      "doc# 15 : topic: 4.0 , [u'\"Kim\" ', u'\"Korea\" ', u'*\"Washington\" ', u'*\"St.\" ', u'*\"George\" ', u'\"South\" ', u'\"North\" ', u'*\"County\" ', u'*\"River\" ', u'*\"Virgin\"']\n",
      "doc# 16 : topic: 38.0 , [u'\"Eritrean\" ', u'\"Lima\" ', u'*\"Mahdi\" ', u'\"Liberation\" ', u'*\"Hepburn\" ', u'\"Sudan\" ', u'\"Path\" ', u'\"Shining\" ', u'*\"Krowber\" ', u'*\"Garang\"']\n",
      "doc# 17 : topic: 11.0 , [u'*\"Ashland\" ', u'*\"West\" ', u'*\"Ohio\" ', u'\"Arafat\" ', u'*\"Palestinians\" ', u'*\"Pennsylvania\" ', u'*\"Berkey\" ', u'*\"Pittsburgh\" ', u'\"PLO\" ', u'*\"Virginia\"']\n",
      "doc# 18 : topic: 9.0 , [u'*\"Campbell\" ', u'*\"Saturday\" ', u'*\"Friday\" ', u'\"U.S.\" ', u'\"Bush\" ', u'\"Reagan\" ', u'\"Mitchell\" ', u'\"Sunday\" ', u'*\"Kim\" ', u'*\"Department\"']\n",
      "doc# 19 : topic: 32.0 , [u'*\"Mrs.\" ', u'*\"House\" ', u'*\"Thatcher\" ', u'*\"Square\" ', u'*\"Guy\" ', u'*\"Lombardo\" ', u'\"Curley\" ', u'\"Fane\" ', u'\"Washington\" ', u'\"Turner\"']\n",
      "doc# 20 : topic: 58.0 , [u'\"Jacobs\" ', u'*\"House\" ', u'\"Christmas\" ', u'\"Thatcher\" ', u'\"Frost\" ', u'\"Cabbage\" ', u'\"Superior\" ', u'\"Joes\" ', u'\"A.\" ', u'\"Patch\"']\n",
      "doc# 21 : topic: 46.0 , [u'\"Calvin\" ', u'\"Cautivo\" ', u'\"Arica\" ', u'\"A\" ', u'\"Kalayoglu\" ', u'\"Libya\" ', u'\"Salvador\" ', u'*\"Hepburn\" ', u'\"Santiago\" ', u'\"Monday\"']\n",
      "doc# 22 : topic: 86.0 , [u'\"Greensboro\" ', u'\"Rufus\" ', u'\"Jim\" ', u'\"News\" ', u'\"PTL\" ', u'\"Saturday\" ', u'*\"Charlotte\" ', u'*\"President-elect\" ', u'*\"Congress\" ', u'*\"Bush\"']\n",
      "doc# 23 : topic: 14.0 , [u'*\"Reynolds\" ', u'*\"PTL\" ', u'*\"Bakker\" ', u'\"Ashland\" ', u'*\"Palestinians\" ', u'\"Arafat\" ', u'\"Ohio\" ', u'*\"Bank\" ', u'*\"Canning\" ', u'\"Pennsylvania\"']\n",
      "doc# 24 : topic: 74.0 , [u'\"First\" ', u'\"Reynolds\" ', u'\"Amendment\" ', u'*\"PTL\" ', u'\"`The\" ', u'\"Lord\" ', u'\"Bible\" ', u'*\"Bakker\" ', u'*\"Charlotte\" ', u'*\"News\"']\n",
      "doc# 25 : topic: 40.0 , [u'*\"Obando\" ', u'*\"Bravo\" ', u'\"Street\" ', u'\"L\" ', u'\"Boston\" ', u'\"Harbor\" ', u'*\"Managua\" ', u'*\"La\" ', u'\"Jurzynski\" ', u'\"Graney\"']\n",
      "doc# 26 : topic: 13.0 , [u'*\"Canning\" ', u'*\"Albuquerque\" ', u'*\"New\" ', u'\"Year\" ', u'*\"FBI\" ', u'*\"Mexico\" ', u'*\"California\" ', u'*\"Orleans\" ', u'*\"Yale\" ', u'*\"Berkeley\"']\n",
      "doc# 27 : topic: 41.0 , [u'*\"Wempner\" ', u'*\"Montana\" ', u'\"Sikh\" ', u'*\"Libya\" ', u'*\"McOmber\" ', u'*\"U.S.\" ', u'\"Sunday\" ', u'*\"United\" ', u'*\"Germany\" ', u'\"Punjab\"']\n",
      "doc# 28 : topic: 10.0 , [u'*\"Mitchell\" ', u'*\"Bush\" ', u'*\"Reagan\" ', u'\"Sunday\" ', u'*\"House\" ', u'*\"North\" ', u'*\"Michel\" ', u'*\"Dole\" ', u'*\"Campbell\" ', u'*\"Foley\"']\n",
      "doc# 29 : topic: 20.0 , [u'*\"Gabriel\" ', u'*\"Calvey\" ', u'*\"IRA\" ', u'*\"Teague\" ', u'\"Heart\" ', u'\"Chek\" ', u'\"Saturday\" ', u'*\"Tibetan\" ', u'*\"Curley\" ', u'*\"Illinois\"']\n",
      "doc# 30 : topic: 52.0 , [u'\"Montand\" ', u'\"Calvin\" ', u'\"Jacques\" ', u'\"Peres\" ', u'\"Carole\" ', u'\"Valentin\" ', u'\"Giovanni\" ', u'*\"Observer\" ', u'\"Kalayoglu\" ', u'*\"Cautivo\"']\n",
      "doc# 31 : topic: 47.0 , [u'\"Belcher\" ', u'\"Namin\" ', u'\"Camai\" ', u'\"Money\" ', u'\"Alaska\" ', u'\"State\" ', u'\"Water\" ', u'\"Gorbachev\" ', u'\"Dixie\" ', u'\"Stas\"']\n",
      "doc# 32 : topic: 55.0 , [u'\"York\" ', u'\"Warhol\" ', u'\"Reed\" ', u'\"Andy\" ', u'\"Tabor\" ', u'*\"Manila\" ', u'*\"Year\" ', u'*\"Varner\" ', u'\"New\" ', u'\"Knowles\"']\n",
      "doc# 33 : topic: 71.0 , [u'*\"Family\" ', u'*\"Araya\" ', u'*\"Christmas\" ', u'*\"Maj.\" ', u'*\"Easter\" ', u'*\"Tanya\" ', u'*\"Sheri\" ', u'*\"Nashville\" ', u'*\"Lewis\" ', u'*\"Candy\"']\n",
      "doc# 34 : topic: 33.0 , [u'*\"Lima\" ', u'*\"Mrs.\" ', u'*\"House\" ', u'*\"Holcomb\" ', u'*\"Shining\" ', u'*\"Path\" ', u'*\"Ocean\" ', u'*\"Washington\" ', u'*\"Saturday\" ', u'*\"Pacific\"']\n",
      "doc# 35 : topic: 48.0 , [u'*\"Calvin\" ', u'*\"Tabor\" ', u'\"Libya\" ', u'*\"Kalayoglu\" ', u'*\"Knowles\" ', u'*\"Doughty\" ', u'\"Price\" ', u'\"Hepburn\" ', u'\"U.S.\" ', u'*\"United\"']\n",
      "doc# 36 : topic: 0.0 , [u'\"New\" ', u'\"Year\" ', u'\"Sunday\" ', u'\"Eve\" ', u'\"Rio\" ', u'\"Saturday\" ', u'\"Arafat\" ', u'\"Castro\" ', u'\"West\" ', u'\"President\"']\n",
      "doc# 37 : topic: 76.0 , [u'\"Times\" ', u'\"Report\" ', u'\"State\" ', u'\"Department\" ', u'\"World\" ', u'*\"Libya\" ', u'*\"Italy\" ', u'\"Friday\" ', u'*\"Japan\" ', u'\"Iraq\"']\n",
      "doc# 38 : topic: 72.0 , [u'\"Times\" ', u'*\"Japan\" ', u'\"Family\" ', u'*\"Araya\" ', u'\"Works\" ', u'\"Hippenstiel-Imhausen\" ', u'\"Hong\" ', u'\"Imhausen-Chemie\" ', u'\"Jurgen\" ', u'\"Kong\"']\n",
      "doc# 39 : topic: 76.0 , [u'\"Times\" ', u'\"Report\" ', u'\"State\" ', u'\"Department\" ', u'\"World\" ', u'*\"Libya\" ', u'*\"Italy\" ', u'\"Friday\" ', u'*\"Japan\" ', u'\"Iraq\"']\n",
      "doc# 40 : topic: 80.0 , [u'*\"Toniolo\" ', u'*\"Giuseppe\" ', u'*\"Begun\" ', u'*\"Pisa\" ', u'\"Audrey\" ', u'\"Tenn.\" ', u'\"NASHVILLE\" ', u'\"Lindsey\" ', u'\"Kayla\" ', u'\"General\"']\n",
      "doc# 41 : topic: 81.0 , [u'\"Lottery\" ', u'\"Lotto\" ', u'\"Largo\" ', u'\"Petersburg\" ', u'\"Rebecca\" ', u'\"Secretary\" ', u'\"Florida\" ', u'\"Paul\" ', u'\"St.\" ', u'*\"Toniolo\"']\n",
      "doc# 42 : topic: 19.0 , [u'\"Fane\" ', u'\"IRA\" ', u'*\"Gabriel\" ', u'*\"Calvey\" ', u'*\"Teague\" ', u'\"Adams\" ', u'*\"Chek\" ', u'*\"Heart\" ', u'\"Belfast\" ', u'*\"Sunday\"']\n",
      "doc# 43 : topic: 45.0 , [u'*\"Observer\" ', u'*\"Britain\" ', u'*\"Peres\" ', u'\"Libya\" ', u'*\"Minister\" ', u'\"House\" ', u'*\"Cabinet\" ', u'\"Calvin\" ', u'*\"Israel\" ', u'\"U.S.\"']\n",
      "doc# 44 : topic: 21.0 , [u'\"Chek\" ', u'\"Heart\" ', u'\"IRA\" ', u'\"Haman\" ', u'\"Herb\" ', u'\"HRS\" ', u'\"Sarasota\" ', u'\"Bell\" ', u'\"Florida\" ', u'\"Tibetan\"']\n",
      "doc# 45 : topic: 23.0 , [u'*\"Tibetan\" ', u'*\"Tibet\" ', u'*\"Machado\" ', u'*\"Lhasa\" ', u'\"Fane\" ', u'*\"Saturday\" ', u'*\"Geehreng\" ', u'*\"Gafsi\" ', u'*\"Tibetans\" ', u'*\"China\"']\n",
      "doc# 46 : topic: 28.0 , [u'\"Highland\" ', u'\"Highwood\" ', u'\"Porter\" ', u'\"Park\" ', u'\"Lake\" ', u'\"Forest\" ', u'\"Machado\" ', u'*\"Watson\" ', u'\"Army\" ', u'\"Thompson\"']\n",
      "doc# 47 : topic: 64.0 , [u'*\"Damas\" ', u'*\"Rivera\" ', u'*\"El\" ', u'*\"FBI\" ', u'\"Buchanon\" ', u'\"Ellinwood\" ', u'\"Beirut\" ', u'*\"December\" ', u'\"Janoch\" ', u'\"Watergate\"']\n",
      "doc# 48 : topic: 12.0 , [u'\"Reynolds\" ', u'\"PTL\" ', u'\"Ashland\" ', u'\"Bakker\" ', u'*\"Texas\" ', u'\"U.S.\" ', u'\"Ohio\" ', u'*\"Coast\" ', u'*\"Michigan\" ', u'*\"Atlantic\"']\n",
      "doc# 49 : topic: 8.0 , [u'\"Bateau\" ', u'\"Mouche\" ', u'\"Rio\" ', u'*\"Campbell\" ', u'*\"Sunday\" ', u'\"Kim\" ', u'\"Korea\" ', u'\"Barroso\" ', u'*\"Bush\" ', u'*\"Reagan\"']\n",
      "doc# 50 : topic: 68.0 , [u'*\"Paris\" ', u'\"Beirut\" ', u'\"Shiite\" ', u'*\"Tower\" ', u'*\"Mitterrand\" ', u'*\"Socialist\" ', u'*\"May\" ', u'*\"Francois\" ', u'*\"Eiffel\" ', u'*\"Chirac\"']\n",
      "doc# 51 : topic: 78.0 , [u'*\"Pennsylvania\" ', u'*\"No\" ', u'*\"Earth\" ', u'*\"Huntingdon\" ', u'*\"Natural\" ', u'*\"Ridge\" ', u'*\"Defense\" ', u'*\"Council\" ', u'*\"Resources\" ', u'*\"County\"']\n",
      "doc# 52 : topic: 50.0 , [u'*\"Price\" ', u'\"Tabor\" ', u'*\"Fire\" ', u'*\"Doughty\" ', u'\"Belcher\" ', u'*\"United\" ', u'\"Holcomb\" ', u'\"Knowles\" ', u'*\"Killingsworth\" ', u'*\"Garcia\"']\n",
      "doc# 53 : topic: 31.0 , [u'\"Najib\" ', u'\"Boston\" ', u'\"Afghan\" ', u'\"Jersey\" ', u'\"Union\" ', u'\"Shah\" ', u'\"Soviet\" ', u'\"Detroit\" ', u'*\"Manila\" ', u'\"George\"']\n",
      "doc# 54 : topic: 46.0 , [u'\"Calvin\" ', u'\"Cautivo\" ', u'\"Arica\" ', u'\"A\" ', u'\"Kalayoglu\" ', u'\"Libya\" ', u'\"Salvador\" ', u'*\"Hepburn\" ', u'\"Santiago\" ', u'\"Monday\"']\n",
      "doc# 55 : topic: 8.0 , [u'\"Bateau\" ', u'\"Mouche\" ', u'\"Rio\" ', u'*\"Campbell\" ', u'*\"Sunday\" ', u'\"Kim\" ', u'\"Korea\" ', u'\"Barroso\" ', u'*\"Bush\" ', u'*\"Reagan\"']\n",
      "doc# 56 : topic: 67.0 , [u'*\"Beirut\" ', u'\"Buchanon\" ', u'*\"Paris\" ', u'\"Ellinwood\" ', u'*\"Shiite\" ', u'*\"Lebanon\" ', u'\"Janoch\" ', u'\"Watergate\" ', u'*\"Syria\" ', u'*\"November\"']\n",
      "doc# 57 : topic: 70.0 , [u'*\"Araya\" ', u'*\"Maj.\" ', u'*\"Justice\" ', u'*\"Authorities\" ', u'*\"Hugo\" ', u'*\"Patricio\" ', u'*\"Rosende\" ', u'\"Family\" ', u'\"Sen.\" ', u'*\"Monday\"']\n",
      "doc# 58 : topic: 35.0 , [u'*\"Washington\" ', u'*\"Holcomb\" ', u'\"Lima\" ', u'*\"Square\" ', u'*\"Lombardo\" ', u'*\"Guy\" ', u'*\"Times\" ', u'*\"Orchestra\" ', u'*\"Conover\" ', u'*\"Colorado\"']\n",
      "doc# 59 : topic: 82.0 , [u'\"Chissano\" ', u'\"AIM\" ', u'\"Joaquim\" ', u'\"Mozambique\" ', u'\"Resistance\" ', u'\"National\" ', u'*\"Rehnquist\" ', u'\"President\" ', u'*\"Congress\" ', u'*\"H.\"']\n",
      "doc# 60 : topic: 36.0 , [u'\"Pavlova-Silvanskaya\" ', u'*\"Najib\" ', u'*\"Obando\" ', u'*\"Bravo\" ', u'\"Union\" ', u'*\"Afghan\" ', u'\"Soviet\" ', u'*\"Day\" ', u'\"Tass\" ', u'*\"Managua\"']\n",
      "doc# 61 : topic: 51.0 , [u'*\"Montand\" ', u'\"Peres\" ', u'*\"Jacques\" ', u'*\"Observer\" ', u'\"Israel\" ', u'*\"Britain\" ', u'*\"Giovanni\" ', u'*\"Valentin\" ', u'*\"Carole\" ', u'*\"Day\"']\n",
      "doc# 62 : topic: 65.0 , [u'*\"Buchanon\" ', u'\"Ellinwood\" ', u'*\"Janoch\" ', u'*\"Watergate\" ', u'*\"FBI\" ', u'*\"Department\" ', u'*\"State\" ', u'*\"Frank\" ', u'*\"Sessions\" ', u'\"R.\"']\n",
      "doc# 63 : topic: 1.0 , [u'\"Arafat\" ', u'\"Palestinians\" ', u'\"Israel\" ', u'\"PLO\" ', u'*\"New\" ', u'\"Bank\" ', u'\"West\" ', u'\"Gaza\" ', u'\"Fatah\" ', u'*\"Year\"']\n",
      "doc# 64 : topic: 39.0 , [u'*\"Eritrean\" ', u'\"Mahdi\" ', u'*\"Hepburn\" ', u'*\"Krowber\" ', u'*\"Sunday\" ', u'*\"Liberation\" ', u'*\"Nimtz\" ', u'\"Garang\" ', u'\"Lima\" ', u'*\"Deputy\"']\n",
      "doc# 65 : topic: 63.0 , [u'\"San\" ', u'\"Ellinwood\" ', u'\"Deputy\" ', u'\"Nimtz\" ', u'\"Angeles\" ', u'\"Los\" ', u'\"Hospital\" ', u'\"Peterson\" ', u'\"Wade\" ', u'\"Mountains\"']\n",
      "doc# 66 : topic: 80.0 , [u'*\"Toniolo\" ', u'*\"Giuseppe\" ', u'*\"Begun\" ', u'*\"Pisa\" ', u'\"Audrey\" ', u'\"Tenn.\" ', u'\"NASHVILLE\" ', u'\"Lindsey\" ', u'\"Kayla\" ', u'\"General\"']\n",
      "doc# 67 : topic: 43.0 , [u'\"Sikh\" ', u'\"Wempner\" ', u'\"Punjab\" ', u'\"Hindus\" ', u'\"Sikhs\" ', u'\"India\" ', u'\"Montana\" ', u'*\"Manila\" ', u'\"McOmber\" ', u'\"United\"']\n",
      "doc# 68 : topic: 40.0 , [u'*\"Obando\" ', u'*\"Bravo\" ', u'\"Street\" ', u'\"L\" ', u'\"Boston\" ', u'\"Harbor\" ', u'*\"Managua\" ', u'*\"La\" ', u'\"Jurzynski\" ', u'\"Graney\"']\n",
      "doc# 69 : topic: 4.0 , [u'\"Kim\" ', u'\"Korea\" ', u'*\"Washington\" ', u'*\"St.\" ', u'*\"George\" ', u'\"South\" ', u'\"North\" ', u'*\"County\" ', u'*\"River\" ', u'*\"Virgin\"']\n",
      "doc# 70 : topic: 26.0 , [u'*\"Mahdi\" ', u'*\"Sudan\" ', u'*\"White\" ', u'*\"Attorney\" ', u'*\"Eritrean\" ', u'*\"Curley\" ', u'*\"Los\" ', u'*\"Angeles\" ', u'*\"Khartoum\" ', u'*\"Abramson\"']\n",
      "doc# 71 : topic: 25.0 , [u'\"Curley\" ', u'*\"Fane\" ', u'*\"Tibetan\" ', u'\"Mummy\" ', u'\"Mrs.\" ', u'*\"Tibet\" ', u'\"Machado\" ', u'\"Flannery\" ', u'\"O\\'Connor\" ', u'\"Police\"']\n",
      "doc# 72 : topic: 56.0 , [u'*\"Varner\" ', u'*\"Schmidt\" ', u'*\"Arizona\" ', u'\"Tabor\" ', u'*\"York\" ', u'*\"Saturday\" ', u'*\"Andy\" ', u'*\"Warhol\" ', u'*\"Reed\" ', u'\"Thompson\"']\n",
      "doc# 73 : topic: 89.0 , [u'\"AM-Israel-Border\" ', u'*\"Ls\" ', u'*\"Saturday\" ', u'*\"Toniolo\" ', u'\"President-elect\" ', u'\"Bush\" ', u'\"Jacobs\" ', u'\"Varner\" ', u'\"Start\" ', u'*\"Robbins\"']\n",
      "doc# 74 : topic: 1.0 , [u'\"Arafat\" ', u'\"Palestinians\" ', u'\"Israel\" ', u'\"PLO\" ', u'*\"New\" ', u'\"Bank\" ', u'\"West\" ', u'\"Gaza\" ', u'\"Fatah\" ', u'*\"Year\"']\n",
      "doc# 75 : topic: 75.0 , [u'\"Dux\" ', u'\"James\" ', u'\"Hankins\" ', u'\"Hospital\" ', u'\"III\" ', u'\"MaryAnne\" ', u'\"Lorraina\" ', u'\"Milford\" ', u'\"Zuba\" ', u'\"II\"']\n",
      "doc# 76 : topic: 60.0 , [u'\"Manila\" ', u'\"World\" ', u'\"Peace\" ', u'\"Day\" ', u'\"Mass\" ', u'\"Rivera\" ', u'\"Damas\" ', u'\"Espresion\" ', u'\"Cebu\" ', u'\"Paul\"']\n",
      "doc# 77 : topic: 66.0 , [u'*\"Ellinwood\" ', u'\"Ralph\" ', u'\"Miller\" ', u'\"Saturday\" ', u'\"Texas\" ', u'*\"R.\" ', u'*\"Varner\" ', u'\"Rivera\" ', u'\"Damas\" ', u'*\"William\"']\n",
      "doc# 78 : topic: 25.0 , [u'\"Curley\" ', u'*\"Fane\" ', u'*\"Tibetan\" ', u'\"Mummy\" ', u'\"Mrs.\" ', u'*\"Tibet\" ', u'\"Machado\" ', u'\"Flannery\" ', u'\"O\\'Connor\" ', u'\"Police\"']\n",
      "doc# 79 : topic: 73.0 , [u'\"Hankins\" ', u'*\"James\" ', u'*\"Dux\" ', u'\"Philadelphia\" ', u'\"Representatives\" ', u'\"Freeman\" ', u'\"Senate\" ', u'\"Nov.\" ', u'\"December\" ', u'\"November\"']\n",
      "doc# 80 : topic: 62.0 , [u'\"Ellinwood\" ', u'\"Ralph\" ', u'\"R.\" ', u'\"Miller\" ', u'\"Buchanon\" ', u'\"Texas\" ', u'\"State\" ', u'*\"Deputy\" ', u'\"William\" ', u'\"Rivera\"']\n",
      "doc# 81 : topic: 27.0 , [u'\"Watson\" ', u'\"Fire\" ', u'\"Anchorage\" ', u'*\"U.S.\" ', u'\"Renn\" ', u'\"Mrs.\" ', u'\"Curley\" ', u'\"Sunday\" ', u'*\"Tibetan\" ', u'\"Grover\"']\n",
      "doc# 82 : topic: 18.0 , [u'*\"IRA\" ', u'\"India\" ', u'\"Sri\" ', u'\"Lanka\" ', u'\"Dixit\" ', u'\"Tamils\" ', u'*\"Adams\" ', u'*\"U.S.\" ', u'*\"Belfast\" ', u'\"Reynolds\"']\n",
      "doc# 83 : topic: 2.0 , [u'\"Castro\" ', u'\"Cuba\" ', u'\"America\" ', u'\"Latin\" ', u'\"Cuban\" ', u'*\"New\" ', u'\"United\" ', u'\"States\" ', u'*\"Year\" ', u'\"Union\"']\n",
      "doc# 84 : topic: 65.0 , [u'*\"Buchanon\" ', u'\"Ellinwood\" ', u'*\"Janoch\" ', u'*\"Watergate\" ', u'*\"FBI\" ', u'*\"Department\" ', u'*\"State\" ', u'*\"Frank\" ', u'*\"Sessions\" ', u'\"R.\"']\n",
      "doc# 85 : topic: 85.0 , [u'*\"Flight\" ', u'*\"TV-am\" ', u'*\"Margaret\" ', u'*\"Am\" ', u'*\"Pan\" ', u'*\"David\" ', u'*\"Prime\" ', u'\"Mrs.\" ', u'*\"Minister\" ', u'*\"Frost\"']\n",
      "doc# 86 : topic: 83.0 , [u'*\"Philippines\" ', u'*\"Orchard\" ', u'*\"Singapore\" ', u'*\"Road\" ', u'*\"Hindus\" ', u'*\"Children\" ', u'*\"Chissano\" ', u'*\"Square\" ', u'*\"Korea\" ', u'*\"Afghanistan\"']\n",
      "doc# 87 : topic: 87.0 , [u'*\"S\" ', u'*\"Depression\" ', u'*\"President-elect\" ', u'*\"Congress\" ', u'*\"Bush\" ', u'*\"Greensboro\" ', u'*\"Rufus\" ', u'*\"Jim\" ', u'\"Reagan\" ', u'*\"News\"']\n",
      "doc# 88 : topic: 88.0 , [u'*\"Ls\" ', u'*\"Saturday\" ', u'\"Ralph\" ', u'\"Greensboro\" ', u'\"Rufus\" ', u'\"Jim\" ', u'\"Varner\" ', u'\"Miller\" ', u'\"Texas\" ', u'\"News\"']\n",
      "doc# 89 : topic: 79.0 , [u'*\"Rehnquist\" ', u'\"Toniolo\" ', u'*\"President\" ', u'*\"Congress\" ', u'*\"H.\" ', u'*\"Supreme\" ', u'*\"Court\" ', u'*\"William\" ', u'*\"Justice\" ', u'*\"Jan.\"']\n"
     ]
    }
   ],
   "source": [
    "    import numpy as np\n",
    "    \n",
    "    lsi_topic_labels=[]\n",
    "    for i,doc in enumerate(lsi[corpus_tfidf]):\n",
    "        a = np.array(doc)\n",
    "        absA= abs(a)\n",
    "        if (len(a)==0):\n",
    "            cluster_id=0\n",
    "            prob_value=0.0\n",
    "            j=j+1\n",
    "        else:\n",
    "            try:\n",
    "                topicmax = absA.argmax(axis=0)\n",
    "            except ValueError:\n",
    "                print \"ValueError at\"\n",
    "                print i\n",
    "                #print a\n",
    "            cluster_id = a[topicmax.item(1)][0]\n",
    "            prob_value = abs(a[topicmax.item(1)][1])\n",
    "\n",
    "        triple = i, cluster_id, prob_value\n",
    "        lsi_topic_labels.append(triple)\n",
    "        #print triple\n",
    "        l = lsi.print_topic(cluster_id,topn=10)\n",
    "        prob_list = [(abs(float(a[:5])),a[6:])  for a in (l.split('+ '))]\n",
    "        sorted(prob_list)\n",
    "        t_words = [w[1] for w in prob_list]\n",
    "        print \"doc#\",i, \":\", \"topic:\",cluster_id, \",\",t_words\n",
    "        i=i+1"
   ]
  },
  {
   "cell_type": "code",
   "execution_count": 65,
   "metadata": {},
   "outputs": [
    {
     "data": {
      "text/plain": [
       "(1, 12.0, 0.34600582040158262)"
      ]
     },
     "execution_count": 65,
     "metadata": {},
     "output_type": "execute_result"
    }
   ],
   "source": [
    "lsi_topic_labels[1]"
   ]
  },
  {
   "cell_type": "code",
   "execution_count": 64,
   "metadata": {},
   "outputs": [
    {
     "name": "stdout",
     "output_type": "stream",
     "text": [
      "length of lsi_topic_labels is 20\n",
      "length of cluster_list is 20\n",
      "length of counter_sort is 18\n",
      "n_cluster is 20\n",
      "cid_sort is 18\n"
     ]
    }
   ],
   "source": [
    "    from operator import itemgetter\n",
    "    from collections import Counter\n",
    "    topics = []\n",
    "    for i in range(0, n_cluster):\n",
    "        l = lsi.print_topic(i,topn=10)\n",
    "        prob_list = [(abs(float(a[:5])),a[6:])  for a in (l.split('+ '))]\n",
    "        sorted(prob_list)\n",
    "        topics.append(prob_list)\n",
    "\n",
    "\n",
    "    ###MAKING READY FOR\n",
    "    cluster_topic_list = sorted(lsi_topic_labels,key=itemgetter(1,2), reverse=True)\n",
    "\n",
    "    cluster_list = sorted(lsi_topic_labels,key=lambda x: x[1])\n",
    "    counter = Counter(b for a,b,c in cluster_list)\n",
    "    counter_sort = counter.most_common(n_cluster)\n",
    "    cid_sort = [e[0] for e in counter_sort]\n",
    "\n",
    "    print 'length of lsi_topic_labels is {}'.format(len(lsi_topic_labels))\n",
    "    print 'length of cluster_list is {}'.format(len(cluster_list))\n",
    "    print 'length of counter_sort is {}'.format(len(counter_sort))\n",
    "    print 'n_cluster is {}'.format(n_cluster)\n",
    "    print 'cid_sort is {}'.format(len(cid_sort))\n"
   ]
  },
  {
   "cell_type": "code",
   "execution_count": 60,
   "metadata": {},
   "outputs": [
    {
     "data": {
      "text/plain": [
       "(0, 2.0, 0.6883743174340845)"
      ]
     },
     "execution_count": 60,
     "metadata": {},
     "output_type": "execute_result"
    }
   ],
   "source": [
    "lsi_topic_labels[0]"
   ]
  },
  {
   "cell_type": "code",
   "execution_count": 106,
   "metadata": {},
   "outputs": [
    {
     "data": {
      "text/plain": [
       "(73, 89.0, 1.0)"
      ]
     },
     "execution_count": 106,
     "metadata": {},
     "output_type": "execute_result"
    }
   ],
   "source": [
    "cluster_topic_list[0]"
   ]
  },
  {
   "cell_type": "code",
   "execution_count": 65,
   "metadata": {},
   "outputs": [],
   "source": [
    "l = []\n",
    "t=[]\n",
    "for x in topics:\n",
    "    m = [x[i][1] for i in range(0,len(x))]\n",
    "    if (len(m)>0):\n",
    "        t.append(m)\n",
    "        "
   ]
  },
  {
   "cell_type": "code",
   "execution_count": 128,
   "metadata": {},
   "outputs": [],
   "source": [
    "#texts[0]"
   ]
  },
  {
   "cell_type": "code",
   "execution_count": 103,
   "metadata": {},
   "outputs": [
    {
     "name": "stderr",
     "output_type": "stream",
     "text": [
      "WARNING:gensim.models.ldamodel:too few updates, training might not converge; consider increasing the number of passes or iterations to improve accuracy\n"
     ]
    }
   ],
   "source": [
    "n_cluster = len(corpus)\n",
    "# LSI computing\n",
    "lda = models.LdaModel(corpus, id2word=dictionary, num_topics=n_cluster, chunksize=10, update_every=5, passes=5) # initialize an LSI transformation\n",
    "corpus_lda = lda[corpus] # create a double wrapper over the original corpus: bow->tfidf->fold-in-lsi"
   ]
  },
  {
   "cell_type": "code",
   "execution_count": 104,
   "metadata": {},
   "outputs": [
    {
     "name": "stdout",
     "output_type": "stream",
     "text": [
      "doc# 0 : topic: 38.0 , [u'Vietnam ', u'Stone ', u'University ', u'War ', u'Foner ', u'Mississippi ', u'Platoon ', u'Empty ', u'Burning ', u'South']\n",
      "doc# 1 : topic: 70.0 , [u'Ms. ', u'Alptekin ', u'IBM ', u'Manufacturing ', u'Society ', u'Engineers ', u'Great ', u'Feb. ', u'Borchelt ', u'Studies']\n",
      "doc# 2 : topic: 46.0 , [u'Fire ', u'Price ', u'Mrs. ', u'Chief ', u'Saturday ', u'Francis ', u'Garcia ', u'Wichita ', u'Killingsworth ', u'St.']\n",
      "doc# 3 : topic: 28.0 , [u'Turner ', u'Washington ', u'District ', u'America ', u'Police ', u'Jay ', u'Wild ', u'Columbia ', u'Attorney ', u'White']\n",
      "doc# 4 : topic: 62.0 , [u'Washington ', u'Bank ', u'George ', u'St. ', u'County ', u'City ', u'River ', u'Virgin ', u'Arizona ', u'India']\n",
      "doc# 5 : topic: 32.0 , [u'New ', u'Year ', u'Boston ', u'Lombardo ', u'Square ', u'Guy ', u'L ', u'Harbor ', u'Street ', u'Orchestra']\n",
      "doc# 6 : topic: 33.0 , [u'New ', u'Year ', u'Jersey ', u'Eve ', u'Detroit ', u'Philadelphia ', u'George ', u'Boston ', u'Waas ', u'Saturday']\n",
      "doc# 7 : topic: 82.0 , [u'New ', u'Year ', u'Sunday ', u'Day ', u'Eve ', u'John ', u'President ', u'America ', u'Manila ', u'Afghanistan']\n",
      "doc# 8 : topic: 85.0 , [u'Bateau ', u'Mouche ', u'Year ', u'New ', u'Rio ', u'Maj. ', u'Sunday ', u'Barroso ', u'Eve ', u'Ocean']\n",
      "doc# 9 : topic: 62.0 , [u'Washington ', u'Bank ', u'George ', u'St. ', u'County ', u'City ', u'River ', u'Virgin ', u'Arizona ', u'India']\n",
      "doc# 10 : topic: 66.0 , [u'Mrs. ', u'Thatcher ', u'Sunday ', u'Ellinwood ', u'Frost ', u'Europe ', u'Margaret ', u'TV-am ', u'Prime ', u'David']\n",
      "doc# 11 : topic: 83.0 , [u'Tibetan ', u'Tibet ', u'Revolution ', u'Lhasa ', u'A ', u'University ', u'Friday ', u'Tibetans ', u'Americans ', u'China']\n",
      "doc# 12 : topic: 62.0 , [u'Washington ', u'Bank ', u'George ', u'St. ', u'County ', u'City ', u'River ', u'Virgin ', u'Arizona ', u'India']\n",
      "doc# 13 : topic: 43.0 , [u'Arafat ', u'Israel ', u'PLO ', u'Palestinians ', u'Israeli ', u'Palestine ', u'Lebanon ', u'Dec. ', u'Gadi ', u'Arab']\n",
      "doc# 14 : topic: 7.0 , [u'Angeles ', u'Los ', u'William ', u'Justice ', u'White ', u'Attorney ', u'California ', u'Criminal ', u'Abramson ', u'Attorneys']\n",
      "doc# 15 : topic: 21.0 , [u'Kim ', u'Korea ', u'Party ', u'South ', u'North ', u'World ', u'Peace ', u'Catholic ', u'Roman ', u'New']\n",
      "doc# 16 : topic: 2.0 , [u'Mahdi ', u'Sudan ', u'Eritrean ', u'Khartoum ', u'Minister ', u'Garang ', u'Saturday ', u'Front ', u'Prime ', u'Liberation']\n",
      "doc# 17 : topic: 55.0 , [u'Ashland ', u'West ', u'Ohio ', u'Oil ', u'University ', u'Berkey ', u'Pennsylvania ', u'Pittsburgh ', u'Roger ', u'Water']\n",
      "doc# 18 : topic: 68.0 , [u'Campbell ', u'La ', u'Saturday ', u'Washington ', u'Friday ', u'Dec. ', u'Department ', u'Memorial ', u'Mark ', u'Sheriff']\n",
      "doc# 19 : topic: 16.0 , [u'Mrs. ', u'House ', u'Thompson ', u'Lake ', u'Highland ', u'Highwood ', u'Porter ', u'Park ', u'Daniel ', u'Army']\n",
      "doc# 20 : topic: 58.0 , [u'Jacobs ', u'Court ', u'Christmas ', u'Saturday ', u'Clark ', u'Superior ', u'Patch ', u'Judge ', u'Joes ', u'Indiana']\n",
      "doc# 21 : topic: 74.0 , [u'National ', u'Sunday ', u'Monday ', u'Santiago ', u'Cautivo ', u'Araya ', u'A ', u'Arica ', u'Saturday ', u'Chissano']\n",
      "doc# 22 : topic: 79.0 , [u'Saturday ', u'PTL ', u'Ls ', u'Jim ', u'Bakker ', u'Rufus ', u'Reynolds ', u'News ', u'U.S. ', u'Greensboro']\n",
      "doc# 23 : topic: 9.0 , [u'PTL ', u'Reynolds ', u'Deputy ', u'Sheriff ', u'Bakker ', u'Saturday ', u'Tabor ', u'Bob ', u'Sunday ', u'County']\n",
      "doc# 24 : topic: 47.0 , [u'Reynolds ', u'First ', u'Amendment ', u'Caribbean ', u'November ', u'`The ', u'Lord ', u'Bible ', u'Lanka ', u'Paul']\n",
      "doc# 25 : topic: 32.0 , [u'New ', u'Year ', u'Boston ', u'Lombardo ', u'Square ', u'Guy ', u'L ', u'Harbor ', u'Street ', u'Orchestra']\n",
      "doc# 26 : topic: 0.0 , [u'Canning ', u'FBI ', u'Mexico ', u'New ', u'San ', u'Airlines ', u'Tuesday ', u'Albuquerque ', u'University ', u'Yale']\n",
      "doc# 27 : topic: 12.0 , [u'Union ', u'Wempner ', u'Nov. ', u'New ', u'York ', u'Montana ', u'East ', u'Germany ', u'Warhol ', u'Reed']\n",
      "doc# 28 : topic: 17.0 , [u'Bush ', u'Reagan ', u'Mitchell ', u'North ', u'House ', u'Michel ', u'Dole ', u'Sunday ', u'Congress ', u'Jan.']\n",
      "doc# 29 : topic: 59.0 , [u'Lt. ', u'Calvey ', u'Gabriel ', u'Teague ', u'Illinois ', u'Wednesday ', u'Police ', u'James ', u'Madison ', u'Sunday']\n",
      "doc# 30 : topic: 56.0 , [u'Jacques ', u'Montand ', u'Year ', u'New ', u'Carole ', u'Giovanni ', u'Valentin ', u'Livi ', u'Ivo ', u\"Carole's\"]\n",
      "doc# 31 : topic: 48.0 , [u'Belcher ', u'Alaska ', u'Namin ', u'Feb. ', u'Money ', u'Camai ', u'State ', u'Leonid ', u'Me ', u'Water']\n",
      "doc# 32 : topic: 12.0 , [u'Union ', u'Wempner ', u'Nov. ', u'New ', u'York ', u'Montana ', u'East ', u'Germany ', u'Warhol ', u'Reed']\n",
      "doc# 33 : topic: 65.0 , [u'Family ', u'Christmas ', u'Tanya ', u'Friday ', u'Candy ', u'Easter ', u'Goodman-Sykes ', u'Heirloom ', u'Hemphill ', u'Hemphills']\n",
      "doc# 34 : topic: 34.0 , [u'Lima ', u'New ', u'Year ', u'Shining ', u'Path ', u'Sunday ', u'Miguel ', u'Pacific ', u'Defense ', u'Saturday']\n",
      "doc# 35 : topic: 9.0 , [u'PTL ', u'Reynolds ', u'Deputy ', u'Sheriff ', u'Bakker ', u'Saturday ', u'Tabor ', u'Bob ', u'Sunday ', u'County']\n",
      "doc# 36 : topic: 82.0 , [u'New ', u'Year ', u'Sunday ', u'Day ', u'Eve ', u'John ', u'President ', u'America ', u'Manila ', u'Afghanistan']\n",
      "doc# 37 : topic: 86.0 , [u'U.S. ', u'Sunday ', u'United ', u'West ', u'States ', u'Libya ', u'Foreign ', u'Japan ', u'News ', u'Germany']\n",
      "doc# 38 : topic: 5.0 , [u'Times ', u'Libya ', u'Sunday ', u'U.S. ', u'Libyan ', u'York ', u'New ', u'World ', u'News ', u'Hong']\n",
      "doc# 39 : topic: 3.0 , [u'State ', u'Department ', u'U.S. ', u'Syria ', u'Iraq ', u'World ', u'States ', u'United ', u'West ', u'Friday']\n",
      "doc# 40 : topic: 20.0 , [u'Sunday ', u'Hospital ', u'Audrey ', u'Dux ', u'Frank ', u'Saturday ', u'Zuba ', u'III ', u'Lorraina ', u'Milford']\n",
      "doc# 41 : topic: 44.0 , [u'Florida ', u'Paul ', u'St. ', u'Lottery ', u'Sunday ', u'Bernini ', u'Diplomats ', u'Fifty ', u'Angelus ', u'Petersburg']\n",
      "doc# 42 : topic: 39.0 , [u'Fane ', u'November ', u'God ', u'Nov. ', u'Ron ', u'Saturday ', u'County ', u'Staskiewicz ', u'Iowa ', u'Michael']\n",
      "doc# 43 : topic: 37.0 , [u'July ', u'Britain ', u'Observer ', u\"Year's \", u'Cabinet ', u'Minister ', u'Sunday ', u'SAS ', u'Oman ', u'New']\n",
      "doc# 44 : topic: 13.0 , [u'Chek ', u'Heart ', u'Herb ', u'Haman ', u'March ', u'Steve ', u'September ', u'Department ', u'Bell ', u'Sarasota']\n",
      "doc# 45 : topic: 42.0 , [u'Machado ', u'Saturday ', u'Geehreng ', u'Gafsi ', u'Perrone ', u'Post ', u'Evans ', u'Washington ', u'Fischman ', u'County']\n",
      "doc# 46 : topic: 16.0 , [u'Mrs. ', u'House ', u'Thompson ', u'Lake ', u'Highland ', u'Highwood ', u'Porter ', u'Park ', u'Daniel ', u'Army']\n",
      "doc# 47 : topic: 52.0 , [u'Sunday ', u'December ', u'Hankins ', u'Rivera ', u'Damas ', u'Roman ', u'Catholic ', u'El ', u'Representatives ', u'Freeman']\n",
      "doc# 48 : topic: 71.0 , [u'Sunday ', u'Texas ', u'Coast ', u'New ', u'California ', u'Michigan ', u'Atlantic ', u'Maine ', u'Minnesota ', u'Valley']\n",
      "doc# 49 : topic: 36.0 , [u'Bateau ', u'Mouche ', u'Rio ', u'Calo ', u'Col. ', u'Authorities ', u'Sunday ', u'U.S. ', u'Brazil ', u'Group']\n",
      "doc# 50 : topic: 54.0 , [u'Paris ', u'Socialist ', u'Mitterrand ', u'Mission ', u'May ', u'Francois ', u'Eiffel ', u'Chirac ', u'Bicentennial ', u'Bastille']\n",
      "doc# 51 : topic: 10.0 , [u'Pennsylvania ', u'Harbor ', u'County ', u'Resources ', u'Earth ', u'Council ', u'Ridge ', u'Huntingdon ', u'Natural ', u'Ashland']\n",
      "doc# 52 : topic: 19.0 , [u'Doughty ', u'Aina ', u'Airport ', u'Flight ', u'D.C.-bound ', u'Tommy ', u'DC-10 ', u'Rob ', u'Chicago ', u'Aviation']\n",
      "doc# 53 : topic: 84.0 , [u'Najib ', u'Afghan ', u'Shah ', u'Khalili ', u'Rebel ', u'Deh ', u'Ahmad ', u'Governmnent ', u'Guerrilla ', u'Guerrillas']\n",
      "doc# 54 : topic: 67.0 , [u'Calvin ', u'Obando ', u'Bravo ', u'Managua ', u'Kalayoglu ', u'Prensa ', u'Nicaragua ', u'Bosco ', u'Will ', u'Vivas']\n",
      "doc# 55 : topic: 45.0 , [u'Am ', u'Pan ', u'Sessions ', u'Frankfurt ', u'Boeing ', u'Scotland ', u'Jaafar ', u'Lockerbie ', u'London ', u'Khalid']\n",
      "doc# 56 : topic: 43.0 , [u'Arafat ', u'Israel ', u'PLO ', u'Palestinians ', u'Israeli ', u'Palestine ', u'Lebanon ', u'Dec. ', u'Gadi ', u'Arab']\n",
      "doc# 57 : topic: 74.0 , [u'National ', u'Sunday ', u'Monday ', u'Santiago ', u'Cautivo ', u'Araya ', u'A ', u'Arica ', u'Saturday ', u'Chissano']\n",
      "doc# 58 : topic: 78.0 , [u'Holcomb ', u'Guard ', u'Peninsula ', u'Cleanup ', u'Olympic ', u'Strait ', u'Stewart ', u'Sound ', u'Shores ', u'Push']\n",
      "doc# 59 : topic: 74.0 , [u'National ', u'Sunday ', u'Monday ', u'Santiago ', u'Cautivo ', u'Araya ', u'A ', u'Arica ', u'Saturday ', u'Chissano']\n",
      "doc# 60 : topic: 80.0 , [u'Pavlova-Silvanskaya ', u'Eastern ', u'Russians ', u'Austria ', u'Coffee ', u'Council ', u'Czechoslovakia ', u'Germans ', u'Hungarians ', u'Hungary']\n",
      "doc# 61 : topic: 60.0 , [u'Saudi ', u'Peres ', u'Fatah ', u'Arabia ', u'Shamir ', u'Kessar ', u'Riyadh ', u'Salman ', u'Long ', u'Strip']\n",
      "doc# 62 : topic: 6.0 , [u'Buchanon ', u'Janoch ', u'Watergate ', u'Fire ', u'Chief ', u'Center ', u'Department ', u'Tony ', u'Yachting ', u'Master']\n",
      "doc# 63 : topic: 43.0 , [u'Arafat ', u'Israel ', u'PLO ', u'Palestinians ', u'Israeli ', u'Palestine ', u'Lebanon ', u'Dec. ', u'Gadi ', u'Arab']\n",
      "doc# 64 : topic: 40.0 , [u'Hepburn ', u'Krowber ', u'Hall ', u'Nimtz ', u'Salomon ', u'Scott ', u'Celebratory ', u'Dave ', u'Edison ', u'Fourth']\n",
      "doc# 65 : topic: 30.0 , [u'Nimtz ', u'Gabriel ', u'Huntington ', u'Wade ', u'Piper ', u'Peterson ', u'Mountains ', u'Mount ', u'Marlene ', u'Antonio']\n",
      "doc# 66 : topic: 22.0 , [u'Sikh ', u'Toniolo ', u'Hindus ', u'Sunday ', u'Punjab ', u'India ', u'Sikhs ', u'Pisa ', u'Giuseppe ', u'Begun']\n",
      "doc# 67 : topic: 22.0 , [u'Sikh ', u'Toniolo ', u'Hindus ', u'Sunday ', u'Punjab ', u'India ', u'Sikhs ', u'Pisa ', u'Giuseppe ', u'Begun']\n",
      "doc# 68 : topic: 67.0 , [u'Calvin ', u'Obando ', u'Bravo ', u'Managua ', u'Kalayoglu ', u'Prensa ', u'Nicaragua ', u'Bosco ', u'Will ', u'Vivas']\n",
      "doc# 69 : topic: 62.0 , [u'Washington ', u'Bank ', u'George ', u'St. ', u'County ', u'City ', u'River ', u'Virgin ', u'Arizona ', u'India']\n",
      "doc# 70 : topic: 2.0 , [u'Mahdi ', u'Sudan ', u'Eritrean ', u'Khartoum ', u'Minister ', u'Garang ', u'Saturday ', u'Front ', u'Prime ', u'Liberation']\n",
      "doc# 71 : topic: 14.0 , [u'Curley ', u'Mummy ', u\"O'Connor \", u'Flannery ', u'Guggenheim ', u'Hands ', u'Bed ', u'Snakes ', u'Love ', u'Man']\n",
      "doc# 72 : topic: 88.0 , [u'Varner ', u'Schmidt ', u'Terry ', u'Allan ', u'Barrow ', u'Deboer ', u'Navajo ', u'Neurological ', u'Phoenix ', u'Safety']\n",
      "doc# 73 : topic: 49.0 , [u'AM-Israel-Border ', u'Curley ', u'Mummy ', u'Snakes ', u'Procrustes ', u\"O'Connor \", u'Tallahassee ', u'Marriage ', u'Guggenheim ', u'Man']\n",
      "doc# 74 : topic: 31.0 , [u'Gaza ', u'Fatah ', u'Ralph ', u'Arabs ', u'Strip ', u'Miller ', u'Jerusalem ', u'Islamic ', u'Eastern ', u'Parks']\n",
      "doc# 75 : topic: 20.0 , [u'Sunday ', u'Hospital ', u'Audrey ', u'Dux ', u'Frank ', u'Saturday ', u'Zuba ', u'III ', u'Lorraina ', u'Milford']\n",
      "doc# 76 : topic: 82.0 , [u'New ', u'Year ', u'Sunday ', u'Day ', u'Eve ', u'John ', u'President ', u'America ', u'Manila ', u'Afghanistan']\n",
      "doc# 77 : topic: 31.0 , [u'Gaza ', u'Fatah ', u'Ralph ', u'Arabs ', u'Strip ', u'Miller ', u'Jerusalem ', u'Islamic ', u'Eastern ', u'Parks']\n",
      "doc# 78 : topic: 14.0 , [u'Curley ', u'Mummy ', u\"O'Connor \", u'Flannery ', u'Guggenheim ', u'Hands ', u'Bed ', u'Snakes ', u'Love ', u'Man']\n",
      "doc# 79 : topic: 52.0 , [u'Sunday ', u'December ', u'Hankins ', u'Rivera ', u'Damas ', u'Roman ', u'Catholic ', u'El ', u'Representatives ', u'Freeman']\n",
      "doc# 80 : topic: 66.0 , [u'Mrs. ', u'Thatcher ', u'Sunday ', u'Ellinwood ', u'Frost ', u'Europe ', u'Margaret ', u'TV-am ', u'Prime ', u'David']\n",
      "doc# 81 : topic: 81.0 , [u'Watson ', u'Renn ', u'Anchorage ', u'Waukesha ', u'Barlow ', u'Watsons ', u'Remer ', u'Grover ', u'Racine ', u'Michelle']\n",
      "doc# 82 : topic: 8.0 , [u'IRA ', u'Adams ', u'Belfast ', u'Sinn ', u'Enniskillen ', u'Fein ', u'Ireland ', u'Life ', u'Northern ', u'Parliament']\n",
      "doc# 83 : topic: 35.0 , [u'Castro ', u'Cuba ', u'Latin ', u'Cuban ', u'Angola ', u'Marti ', u'Assembly ', u'Cespedes ', u\"Cuba's \", u'Ecuador']\n",
      "doc# 84 : topic: 43.0 , [u'Arafat ', u'Israel ', u'PLO ', u'Palestinians ', u'Israeli ', u'Palestine ', u'Lebanon ', u'Dec. ', u'Gadi ', u'Arab']\n",
      "doc# 85 : topic: 66.0 , [u'Mrs. ', u'Thatcher ', u'Sunday ', u'Ellinwood ', u'Frost ', u'Europe ', u'Margaret ', u'TV-am ', u'Prime ', u'David']\n",
      "doc# 86 : topic: 82.0 , [u'New ', u'Year ', u'Sunday ', u'Day ', u'Eve ', u'John ', u'President ', u'America ', u'Manila ', u'Afghanistan']\n",
      "doc# 87 : topic: 17.0 , [u'Bush ', u'Reagan ', u'Mitchell ', u'North ', u'House ', u'Michel ', u'Dole ', u'Sunday ', u'Congress ', u'Jan.']\n",
      "doc# 88 : topic: 79.0 , [u'Saturday ', u'PTL ', u'Ls ', u'Jim ', u'Bakker ', u'Rufus ', u'Reynolds ', u'News ', u'U.S. ', u'Greensboro']\n",
      "doc# 89 : topic: 17.0 , [u'Bush ', u'Reagan ', u'Mitchell ', u'North ', u'House ', u'Michel ', u'Dole ', u'Sunday ', u'Congress ', u'Jan.']\n"
     ]
    }
   ],
   "source": [
    "    import numpy as np\n",
    "    \n",
    "    lda_topic_labels=[]\n",
    "    for i,doc in enumerate(lda[corpus]):\n",
    "        a = np.array(doc)\n",
    "        absA= abs(a)\n",
    "        if (len(a)==0):\n",
    "            cluster_id=0\n",
    "            prob_value=0.0\n",
    "            j=j+1\n",
    "        else:\n",
    "            try:\n",
    "                topicmax = absA.argmax(axis=0)\n",
    "            except ValueError:\n",
    "                print \"ValueError at\"\n",
    "                print i\n",
    "                #print a\n",
    "            cluster_id = a[topicmax.item(1)][0]\n",
    "            prob_value = abs(a[topicmax.item(1)][1])\n",
    "\n",
    "        triple = i, cluster_id, prob_value\n",
    "        lda_topic_labels.append(triple)\n",
    "        #print triple\n",
    "        l = lda.print_topic(cluster_id,topn=10)\n",
    "        prob_list = [(abs(float(a[:5])),a[6:])  for a in (l.split('+ '))]\n",
    "        sorted(prob_list)\n",
    "        t_words = [w[1] for w in prob_list]\n",
    "        print \"doc#\",i, \":\", \"topic:\",cluster_id, \",\",t_words\n",
    "        i=i+1"
   ]
  },
  {
   "cell_type": "code",
   "execution_count": 122,
   "metadata": {},
   "outputs": [
    {
     "data": {
      "text/plain": [
       "\"\\n   The celluloid torch has been passed to a new\\ngeneration: filmmakers who grew up in the 1960s.\\n   ``Platoon,'' ``Running on Empty,'' ``1969'' and ``Mississippi\\nBurning'' are among the movies released in the past two years from\\nwriters and directors who brought their own experiences of that\\nturbulent decade to the screen.\\n   ``The contemporaries of the '60s are some of the filmmakers of\\nthe '80s. It's natural,'' said Robert Friedman, the senior vice\\npresident of worldwide advertising and publicity at Warner Bros.\\n   Chris Gerolmo, who wrote the screenplay for ``Mississippi\\nBurning,'' noted that the sheer passage of time has allowed him and\\nothers to express their feelings about the decade.\\n   ``Distance is important,'' he said. ``I believe there's a lot of\\nthinking about that time and America in general.''\\n   The Vietnam War was a defining experience for many people in the\\n'60s, shattering the consensus that the United States had a right,\\neven a moral duty to intervene in conflicts around the world. Even\\ntoday, politicians talk disparagingly of the ``Vietnam Syndrome'' in\\nreferring to the country's reluctance to use military force to\\nsettle disputes.\\n   ``I think future historians will talk about Vietnam as one of the\\nnear destructions of American society,'' said Urie Brofenbrenner, a\\nprofessor of sociology at Cornell University.\\n   ``In World War II, we knew what we were fighting for, but not in\\nVietnam.''\\n   ``Full Metal Jacket,'' ``Gardens of Stone,'' ``Platoon,'' ``Good\\nMorning, Vietnam,'' ``Hamburger Hill'' and ``Bat 21'' all use the\\nwar as a dramatic backdrop and show how it shaped characters' lives.\\n   The Vietnam War has remained an emotional issue in the United\\nStates as veterans have struggled to come to terms with their\\nexperiences. One was Oliver Stone, who wrote and directed the\\nAcademy Award-winning ``Platoon.''\\n   ``I saw `Platoon' eight times,'' said John J. Anderson, a Palm\\nBeach County sheriff's lieutenant who served in Vietnam in 1966-67.\\n``I cried the first time I saw it ... and the third and fourth\\ntimes. `Platoon' helped me understand.''\\n   Stone, who based ``Platoon'' on some of his own experiences as a\\ngrunt, said the film brought up issues that had yet to be resolved.\\n   ``People are responding to the fact that it's real. They're\\ncurious about the war in Vietnam after 20 years,'' he said.\\n   While Southeast Asia was the pivotal foreign issue in American\\nsociety of the '60s, civil rights was the major domestic issue. The\\ncivil rights movement reached its peak in the ``Freedom Summer'' of\\n1964, when large groups of volunteers headed South to help register\\nblack voters.\\n   In ``Five Corners,'' a movie about the summer of '64 in the Bronx\\nstarring Jodie Foster, her friend, played by Tim Robbins, leaves his\\nneighborhood to volunteer in the South after seeing the Rev. Martin\\nLuther King Jr. on television.\\n   Alan Parker's ``Mississippi Burning'' focuses on an incident that\\nclouded the Mississippi Summer Project _ when 1,000 young volunteers\\nfrom mainstream America swept into the state to help register black\\nvoters. The movie is a fictionalized account of the disappearance\\nand slaying of three civil rights workers: Michael Schwerner, Andrew\\nGoodman and James Chaney.\\n   They were reported missing on June 21, several hours after being\\nstopped for speeding near Philadelphia, Miss. After a nationally\\npublicized search, their bodies were discovered Aug. 4 on a farm\\njust outside the town.\\n   One of those who recalled the incident was Gerolmo, a student in\\nthe New York public school system at the time. The screenwriter said\\nthe incident had a powerful effect on his way of thinking.\\n   ``It was the first time I ever considered that our country could\\nbe wrong,'' Gerolmo said.\\n   The film stars Willem Dafoe and Gene Hackman star as FBI agents\\nwho try to find the bodies of the missing workers and overcome\\nfierce local resistance to solve the crime.\\n   In a more offbeat and outrageous way, John Waters' ``Hairspray''\\ndiscusses integration in Baltimore in 1963 when a group of\\nteen-agers tries to break down the barriers of a segregated dance\\nshow.\\n   Also set in Baltimore is Barry Levinson's ``Tin Men,'' starring\\nDanny DeVito and Richard Dreyfuss as two slick aluminum siding\\nsalesmen in the early '60s. The movie mirrored a squarely\\nmiddle-class culture, one that was not caught up in sex, politics\\nand drugs.\\n   Instead of focusing on a well-known historic event,\\nwriter-director Ernest Thompson takes a more personal approach in\\n``1969.'' Robert Downey Jr. and Keifer Sutherland star as college\\nstudents who battle their parents and each other over sex, drugs and\\nthe Vietnam War.\\n   ``I was 19 in 1969. It was a fulcrum time for me,'' said\\nThompson, who was a student at American University at the time. ``I\\nthink it was just the right time in my growth as an artist and as a\\nman to try to write about something that happened in my youth.''\\n   ``Running on Empty'' takes place in the '80s but the '60s are\\nmuch in evidence. Judd Hirsch and Christine Lahti play anti-war\\nactivists who sabatoged a napalm plant in 1970 and are forced to\\nlive underground with their two children.\\n   Naomi Foner, who wrote ``Running on Empty'' and also served as\\nthe film's executive producer, grew up in Brooklyn, N.Y., the\\ndaughter of sociologists. Her own experiences made Foner well\\nqualified to give ``Running on Empty'' its strong political theme.\\n   ``I lived through that time and I've wanted to find the right way\\nto present it to this generation,'' said Foner, a member of the\\nradical Students for a Democratic Society while attending graduate\\nschool at Columbia University.\\n   Foner, who also taught in Harlem's Head Start program and helped\\nregister voters in South Carolina, said many young people are\\ncurious about what happened in the '60s.\\n   ``A lot of them think it was an exciting time that they were\\nsorry to have missed,'' she said.\\n   Brofenbrenner said movies are a good indicator of the concerns of\\nthe general public: ``The principle impact of the media is that they\\nreflect the values of the larger society.\\n   ``Film is a very powerful art medium,'' he said. ``I believe it\\nvery accurately reflects not only the prevailing but the coming\\ntrends. It's because film writers, like other writers, are\\nperceptive people. They get the message of what's going on.''\\n\""
      ]
     },
     "execution_count": 122,
     "metadata": {},
     "output_type": "execute_result"
    }
   ],
   "source": [
    "parser.data[0]"
   ]
  },
  {
   "cell_type": "code",
   "execution_count": 23,
   "metadata": {},
   "outputs": [],
   "source": [
    "from nltk.tag import pos_tag\n",
    "\n",
    "sentence = \"Michael jackson likes to eat at McDonalds\"\n",
    "tagged_sent = pos_tag(sentence.split())\n",
    "# [('Michael', 'NNP'), ('Jackson', 'NNP'), ('likes', 'VBZ'), ('to', 'TO'), ('eat', 'VB'), ('at', 'IN'), ('McDonalds', 'NNP')]\n",
    "\n",
    "propernouns = [word for word,pos in tagged_sent if pos == 'NNP']\n",
    "# ['Michael','Jackson', 'McDonalds']"
   ]
  },
  {
   "cell_type": "code",
   "execution_count": 24,
   "metadata": {},
   "outputs": [
    {
     "data": {
      "text/plain": [
       "['Michael', 'McDonalds']"
      ]
     },
     "execution_count": 24,
     "metadata": {},
     "output_type": "execute_result"
    }
   ],
   "source": [
    "propernouns"
   ]
  },
  {
   "cell_type": "code",
   "execution_count": 29,
   "metadata": {},
   "outputs": [],
   "source": [
    "from nltk import pos_tag, ne_chunk\n",
    "from nltk.tokenize import SpaceTokenizer\n",
    "\n",
    "sentence = \"i spoke with sumit and rajesh and Samit about the gridlock situation last night @ around 8 pm last nite\"\n",
    "tokenizer = SpaceTokenizer()\n",
    "toks = tokenizer.tokenize(sentence)\n",
    "pos = pos_tag(toks)\n",
    "chunked_nes = ne_chunk(pos) \n",
    "\n",
    "nes = [' '.join(map(lambda x: x[0], ne.leaves())) for ne in chunked_nes if isinstance(ne, nltk.tree.Tree)]"
   ]
  },
  {
   "cell_type": "code",
   "execution_count": 30,
   "metadata": {},
   "outputs": [
    {
     "data": {
      "text/plain": [
       "[u'Samit']"
      ]
     },
     "execution_count": 30,
     "metadata": {},
     "output_type": "execute_result"
    }
   ],
   "source": [
    "nes"
   ]
  },
  {
   "cell_type": "code",
   "execution_count": 27,
   "metadata": {},
   "outputs": [
    {
     "data": {
      "image/png": "[encoded data removed]",
      "text/plain": [
       "Tree('S', [Tree('GPE', [(u'Michael', 'NNP')]), (u'jackson', 'NN'), (u'likes', 'NNS'), (u'to', 'TO'), (u'eat', 'VB'), (u'at', 'IN'), Tree('ORGANIZATION', [(u'McDonalds', 'NNP')])])"
      ]
     },
     "execution_count": 27,
     "metadata": {},
     "output_type": "execute_result"
    }
   ],
   "source": [
    "chunked_nes"
   ]
  },
  {
   "cell_type": "code",
   "execution_count": null,
   "metadata": {},
   "outputs": [],
   "source": []
  }
 ],
 "metadata": {
  "kernelspec": {
   "display_name": "Python 2",
   "language": "python",
   "name": "python2"
  },
  "language_info": {
   "codemirror_mode": {
    "name": "ipython",
    "version": 2
   },
   "file_extension": ".py",
   "mimetype": "text/x-python",
   "name": "python",
   "nbconvert_exporter": "python",
   "pygments_lexer": "ipython2",
   "version": "2.7.13"
  }
 },
 "nbformat": 4,
 "nbformat_minor": 1
}
