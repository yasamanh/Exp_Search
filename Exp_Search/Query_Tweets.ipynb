{
 "metadata": {
  "name": "",
  "signature": "sha256:f8ca9f952c316fd35614fcfc6ce34404dc4d407ce6f8084cbbf5becc2cfc713f"
 },
 "nbformat": 3,
 "nbformat_minor": 0,
 "worksheets": [
  {
   "cells": [
    {
     "cell_type": "code",
     "collapsed": false,
     "input": [
      "import os\n",
      "import time\n",
      "import gzip\n",
      "import json as simplejson\n",
      "import pprint\n",
      "import pdb"
     ],
     "language": "python",
     "metadata": {},
     "outputs": [],
     "prompt_number": 1
    },
    {
     "cell_type": "code",
     "collapsed": false,
     "input": [
      "def Query_Tweets(tweets_path, results_path):\n",
      "\n",
      "    if not os.path.exists(tweets_path) or not os.path.exists(results_path):\n",
      "        print \"wrong input/output directory\"\n",
      "        return \n",
      "        \n",
      "    json_count = 0\n",
      "    tweet_count = 0\n",
      "    eng_count = 0\n",
      "    \n",
      "    array = []\n",
      "    \n",
      "    t0 = time.time()\n",
      "    for file in os.listdir(tweets_path):\n",
      "        if file.endswith(\".gz\"):\n",
      "            f=gzip.open(tweets_path+file,'rb')\n",
      "            print \"start reading file: \", file\n",
      "            try:\n",
      "                t1= time.time()\n",
      "                for l in f:\n",
      "                    #l = l.decode(\"ascii\",\"ignore\").encode(\"utf-8\")\n",
      "                    l = l.decode(\"ascii\",\"ignore\").encode(\"ascii\")\n",
      "                    data = simplejson.loads(l)\n",
      "                   \n",
      "                    if \"lang\" in data:\n",
      "                        if data[\"lang\"] == 'en' and \"text\" in data:\n",
      "                            eng_count += 1\n",
      "\n",
      "                            text = data[\"text\"].encode('utf-8').lower()\n",
      "                            text = text.replace(\"\\n\", \" \")\n",
      "                            text = text.replace(\"\\r\", \" \")\n",
      "                            source_name = query_on_tweet(text)\n",
      "                            if source_name: \n",
      "                                eval(source_name).append(text)\n",
      "\n",
      "                    if \"text\" in data and \"created_at\" in data and \"id_str\" in data:\n",
      "                        tweet_count += 1\n",
      "\n",
      "                    json_count += 1\n",
      "                f.close()\n",
      "                t2 = time.time()\n",
      "                print \"done with file: \", file, ' This file takes {} seconds'.format(t2-t1)\n",
      "        \n",
      "            except ValueError:\n",
      "                print ValueError\n",
      "                pass\n",
      "            \n",
      "    t3 = time.time()\n",
      "    print 'Going through all the files takes {} minutes'.format((t3 - t0)/60)\n",
      "\n",
      "    print \"Total number of JSON: \", json_count\n",
      "    print \"Total number of valid tweets:\", tweet_count\n",
      "    print \"Total number of english tweets\", eng_count\n",
      "    \n",
      "    print \"Number of query tweets \", len(array)\n",
      "    \n",
      "    ##Writing the results file\n",
      "    results_to_file(\"others\", results_path, array)\n",
      " "
     ],
     "language": "python",
     "metadata": {},
     "outputs": [],
     "prompt_number": 52
    },
    {
     "cell_type": "code",
     "collapsed": false,
     "input": [
      "\n",
      "def results_to_file(category, results_path, array):\n",
      "    switcher = {\n",
      "        \"nw\": \"nw.txt\",\n",
      "        \"food\": \"food.txt\",\n",
      "        \"politics\": \"politics.txt\",\n",
      "        \"wellness\": \"wellness.txt\",\n",
      "        \"entertainment\": \"entertainment.txt\",\n",
      "        \"election\": \"election.txt\",\n",
      "        \"nasa\":\"nasa.txt\",\n",
      "        \"addele\" : \"addele.txt\",\n",
      "        \"others\" : \"query_bostonbomber.txt\"\n",
      "        }\n",
      "    file_name = switcher.get(category)\n",
      "    o_f = open(results_path + file_name, 'w')\n",
      "    for item in array:\n",
      "        #print \"%s\\n\" % item.decode(\"ascii\",\"ignore\").encode('utf-8')\n",
      "        o_f.write(\"%s\\n\" % item.decode(\"ascii\",\"ignore\").encode('utf-8'))\n",
      "        #o_f.write(\"%s\\n\" % item.encode('utf-8'))\n",
      "    o_f.close()"
     ],
     "language": "python",
     "metadata": {},
     "outputs": [],
     "prompt_number": 67
    },
    {
     "cell_type": "code",
     "collapsed": false,
     "input": [
      "'''def query_on_tweet(ttext):\n",
      "    source = \"\"\n",
      "\n",
      "    if \"iran\" in ttext and \"deal\" in ttext:\n",
      "        source = \"array\"\n",
      "    \n",
      "    elif \"nuclear\" in ttext and \"iran\" in ttext:\n",
      "        source = \"array\"\n",
      "\n",
      "    elif \"nuclear\" in ttext and \"deal\" in ttext:\n",
      "        source = \"array\"\n",
      "\n",
      "    return source'''"
     ],
     "language": "python",
     "metadata": {},
     "outputs": [],
     "prompt_number": 55
    },
    {
     "cell_type": "code",
     "collapsed": false,
     "input": [
      "def query_on_tweet(ttext):\n",
      "    source = \"\"\n",
      "\n",
      "    #if \"boston\" in ttext and \"marathon\" in ttext and \"bomb\" in ttext:\n",
      "    #    source = \"array\"\n",
      "    if \"officer\" in ttext and \"carolina\" in ttext and (\"shooting\" in ttext or \"shot\" in ttext):\n",
      "        source = \"array\"\n",
      "  \n",
      "    return source"
     ],
     "language": "python",
     "metadata": {},
     "outputs": [],
     "prompt_number": 114
    },
    {
     "cell_type": "code",
     "collapsed": false,
     "input": [
      "Query_Tweets(\"/home/collections/ublog-2015/2015-04-04.through.2014-04-10/\", \"/Users/ynh3/Documents/ExS/results/categorized_tweets/\")"
     ],
     "language": "python",
     "metadata": {},
     "outputs": [
      {
       "output_type": "stream",
       "stream": "stdout",
       "text": [
        "start reading file:  statuses.log.2015-04-04-16.gz\n",
        "done with file: "
       ]
      },
      {
       "output_type": "stream",
       "stream": "stdout",
       "text": [
        " statuses.log.2015-04-04-16.gz  This file takes 48.139359951 seconds\n",
        "start reading file:  statuses.log.2015-04-10-11.gz\n",
        "done with file: "
       ]
      },
      {
       "output_type": "stream",
       "stream": "stdout",
       "text": [
        " statuses.log.2015-04-10-11.gz  This file takes 35.1320140362 seconds\n",
        "start reading file:  statuses.log.2015-04-07-04.gz\n",
        "done with file: "
       ]
      },
      {
       "output_type": "stream",
       "stream": "stdout",
       "text": [
        " statuses.log.2015-04-07-04.gz  This file takes 37.4166059494 seconds\n",
        "start reading file:  statuses.log.2015-04-08-01.gz\n",
        "done with file: "
       ]
      },
      {
       "output_type": "stream",
       "stream": "stdout",
       "text": [
        " statuses.log.2015-04-08-01.gz  This file takes 40.3198130131 seconds\n",
        "start reading file:  statuses.log.2015-04-06-07.gz\n",
        "done with file: "
       ]
      },
      {
       "output_type": "stream",
       "stream": "stdout",
       "text": [
        " statuses.log.2015-04-06-07.gz  This file takes 29.6592669487 seconds\n",
        "start reading file:  statuses.log.2015-04-05-15.gz\n",
        "done with file: "
       ]
      },
      {
       "output_type": "stream",
       "stream": "stdout",
       "text": [
        " statuses.log.2015-04-05-15.gz  This file takes 51.2846319675 seconds\n",
        "start reading file:  statuses.log.2015-04-09-02.gz\n",
        "done with file: "
       ]
      },
      {
       "output_type": "stream",
       "stream": "stdout",
       "text": [
        " statuses.log.2015-04-09-02.gz  This file takes 38.6136500835 seconds\n",
        "start reading file:  statuses.log.2015-04-05-02.gz\n",
        "done with file: "
       ]
      },
      {
       "output_type": "stream",
       "stream": "stdout",
       "text": [
        " statuses.log.2015-04-05-02.gz  This file takes 39.8247439861 seconds\n",
        "start reading file:  statuses.log.2015-04-06-10.gz\n",
        "done with file: "
       ]
      },
      {
       "output_type": "stream",
       "stream": "stdout",
       "text": [
        " statuses.log.2015-04-06-10.gz  This file takes 35.4304080009 seconds\n",
        "start reading file:  statuses.log.2015-04-09-15.gz\n",
        "done with file: "
       ]
      },
      {
       "output_type": "stream",
       "stream": "stdout",
       "text": [
        " statuses.log.2015-04-09-15.gz  This file takes 43.6638441086 seconds\n",
        "start reading file:  statuses.log.2015-04-10-06.gz\n",
        "done with file: "
       ]
      },
      {
       "output_type": "stream",
       "stream": "stdout",
       "text": [
        " statuses.log.2015-04-10-06.gz  This file takes 26.1863811016 seconds\n",
        "start reading file:  statuses.log.2015-04-07-13.gz\n",
        "done with file: "
       ]
      },
      {
       "output_type": "stream",
       "stream": "stdout",
       "text": [
        " statuses.log.2015-04-07-13.gz  This file takes 48.7016708851 seconds\n",
        "start reading file:  statuses.log.2015-04-04-01.gz\n",
        "done with file: "
       ]
      },
      {
       "output_type": "stream",
       "stream": "stdout",
       "text": [
        " statuses.log.2015-04-04-01.gz  This file takes 36.8349199295 seconds\n",
        "start reading file:  statuses.log.2015-04-08-16.gz\n",
        "done with file: "
       ]
      },
      {
       "output_type": "stream",
       "stream": "stdout",
       "text": [
        " statuses.log.2015-04-08-16.gz  This file takes 43.1645150185 seconds\n",
        "start reading file:  statuses.log.2015-04-04-00.gz\n",
        "done with file: "
       ]
      },
      {
       "output_type": "stream",
       "stream": "stdout",
       "text": [
        " statuses.log.2015-04-04-00.gz  This file takes 35.7017760277 seconds\n",
        "start reading file:  statuses.log.2015-04-07-12.gz\n",
        "done with file: "
       ]
      },
      {
       "output_type": "stream",
       "stream": "stdout",
       "text": [
        " statuses.log.2015-04-07-12.gz  This file takes 42.3208789825 seconds\n",
        "start reading file:  statuses.log.2015-04-10-07.gz\n",
        "done with file: "
       ]
      },
      {
       "output_type": "stream",
       "stream": "stdout",
       "text": [
        " statuses.log.2015-04-10-07.gz  This file takes 25.6938319206 seconds\n",
        "start reading file:  statuses.log.2015-04-08-17.gz\n",
        "done with file: "
       ]
      },
      {
       "output_type": "stream",
       "stream": "stdout",
       "text": [
        " statuses.log.2015-04-08-17.gz  This file takes 38.4853408337 seconds\n",
        "start reading file:  statuses.log.2015-04-06-11.gz\n",
        "done with file: "
       ]
      },
      {
       "output_type": "stream",
       "stream": "stdout",
       "text": [
        " statuses.log.2015-04-06-11.gz  This file takes 39.330573082 seconds\n",
        "start reading file:  statuses.log.2015-04-05-03.gz\n",
        "done with file: "
       ]
      },
      {
       "output_type": "stream",
       "stream": "stdout",
       "text": [
        " statuses.log.2015-04-05-03.gz  This file takes 44.4050269127 seconds\n",
        "start reading file:  statuses.log.2015-04-09-14.gz\n",
        "done with file: "
       ]
      },
      {
       "output_type": "stream",
       "stream": "stdout",
       "text": [
        " statuses.log.2015-04-09-14.gz  This file takes 45.5724520683 seconds\n",
        "start reading file:  statuses.log.2015-04-05-14.gz\n",
        "done with file: "
       ]
      },
      {
       "output_type": "stream",
       "stream": "stdout",
       "text": [
        " statuses.log.2015-04-05-14.gz  This file takes 51.3547031879 seconds\n",
        "start reading file:  statuses.log.2015-04-06-06.gz\n",
        "done with file: "
       ]
      },
      {
       "output_type": "stream",
       "stream": "stdout",
       "text": [
        " statuses.log.2015-04-06-06.gz  This file takes 30.7332248688 seconds\n",
        "start reading file:  statuses.log.2015-04-09-03.gz\n",
        "done with file: "
       ]
      },
      {
       "output_type": "stream",
       "stream": "stdout",
       "text": [
        " statuses.log.2015-04-09-03.gz  This file takes 36.783233881 seconds\n",
        "start reading file:  statuses.log.2015-04-07-05.gz\n",
        "done with file: "
       ]
      },
      {
       "output_type": "stream",
       "stream": "stdout",
       "text": [
        " statuses.log.2015-04-07-05.gz  This file takes 31.6010298729 seconds\n",
        "start reading file:  statuses.log.2015-04-10-10.gz\n",
        "done with file: "
       ]
      },
      {
       "output_type": "stream",
       "stream": "stdout",
       "text": [
        " statuses.log.2015-04-10-10.gz  This file takes 31.3266780376 seconds\n",
        "start reading file:  statuses.log.2015-04-04-17.gz\n",
        "done with file: "
       ]
      },
      {
       "output_type": "stream",
       "stream": "stdout",
       "text": [
        " statuses.log.2015-04-04-17.gz  This file takes 43.0596470833 seconds\n",
        "start reading file:  statuses.log.2015-04-08-00.gz\n",
        "done with file: "
       ]
      },
      {
       "output_type": "stream",
       "stream": "stdout",
       "text": [
        " statuses.log.2015-04-08-00.gz  This file takes 37.822945118 seconds\n",
        "start reading file:  statuses.log.2015-04-09-01.gz\n",
        "done with file: "
       ]
      },
      {
       "output_type": "stream",
       "stream": "stdout",
       "text": [
        " statuses.log.2015-04-09-01.gz  This file takes 36.4105548859 seconds\n",
        "start reading file:  statuses.log.2015-04-06-04.gz\n",
        "done with file: "
       ]
      },
      {
       "output_type": "stream",
       "stream": "stdout",
       "text": [
        " statuses.log.2015-04-06-04.gz  This file takes 37.2960100174 seconds\n",
        "start reading file:  statuses.log.2015-04-05-16.gz\n",
        "done with file: "
       ]
      },
      {
       "output_type": "stream",
       "stream": "stdout",
       "text": [
        " statuses.log.2015-04-05-16.gz  This file takes 46.923156023 seconds\n",
        "start reading file:  statuses.log.2015-04-08-02.gz\n",
        "done with file: "
       ]
      },
      {
       "output_type": "stream",
       "stream": "stdout",
       "text": [
        " statuses.log.2015-04-08-02.gz  This file takes 40.7488019466 seconds\n",
        "start reading file:  statuses.log.2015-04-04-15.gz\n",
        "done with file: "
       ]
      },
      {
       "output_type": "stream",
       "stream": "stdout",
       "text": [
        " statuses.log.2015-04-04-15.gz  This file takes 49.3938369751 seconds\n",
        "start reading file:  statuses.log.2015-04-10-12.gz\n",
        "done with file: "
       ]
      },
      {
       "output_type": "stream",
       "stream": "stdout",
       "text": [
        " statuses.log.2015-04-10-12.gz  This file takes 38.4480230808 seconds\n",
        "start reading file:  statuses.log.2015-04-07-07.gz\n",
        "done with file: "
       ]
      },
      {
       "output_type": "stream",
       "stream": "stdout",
       "text": [
        " statuses.log.2015-04-07-07.gz  This file takes 29.0574889183 seconds\n",
        "start reading file:  statuses.log.2015-04-08-15.gz\n",
        "done with file: "
       ]
      },
      {
       "output_type": "stream",
       "stream": "stdout",
       "text": [
        " statuses.log.2015-04-08-15.gz  This file takes 45.7922871113 seconds\n",
        "start reading file:  statuses.log.2015-04-10-05.gz\n",
        "<type 'exceptions.ValueError'>"
       ]
      },
      {
       "output_type": "stream",
       "stream": "stdout",
       "text": [
        "\n",
        "start reading file:  statuses.log.2015-04-07-10.gz\n",
        "done with file: "
       ]
      },
      {
       "output_type": "stream",
       "stream": "stdout",
       "text": [
        " statuses.log.2015-04-07-10.gz  This file takes 34.8116579056 seconds\n",
        "start reading file:  statuses.log.2015-04-04-02.gz\n",
        "done with file: "
       ]
      },
      {
       "output_type": "stream",
       "stream": "stdout",
       "text": [
        " statuses.log.2015-04-04-02.gz  This file takes 39.4321470261 seconds\n",
        "start reading file:  statuses.log.2015-04-09-16.gz\n",
        "done with file: "
       ]
      },
      {
       "output_type": "stream",
       "stream": "stdout",
       "text": [
        " statuses.log.2015-04-09-16.gz  This file takes 39.9678058624 seconds\n",
        "start reading file:  statuses.log.2015-04-05-01.gz\n",
        "done with file: "
       ]
      },
      {
       "output_type": "stream",
       "stream": "stdout",
       "text": [
        " statuses.log.2015-04-05-01.gz  This file takes 37.926058054 seconds\n",
        "start reading file:  statuses.log.2015-04-06-13.gz\n",
        "done with file: "
       ]
      },
      {
       "output_type": "stream",
       "stream": "stdout",
       "text": [
        " statuses.log.2015-04-06-13.gz  This file takes 46.5417599678 seconds\n",
        "start reading file:  statuses.log.2015-04-09-17.gz\n",
        "done with file: "
       ]
      },
      {
       "output_type": "stream",
       "stream": "stdout",
       "text": [
        " statuses.log.2015-04-09-17.gz  This file takes 36.5639569759 seconds\n",
        "start reading file:  statuses.log.2015-04-06-12.gz\n",
        "done with file: "
       ]
      },
      {
       "output_type": "stream",
       "stream": "stdout",
       "text": [
        " statuses.log.2015-04-06-12.gz  This file takes 43.3032579422 seconds\n",
        "start reading file:  statuses.log.2015-04-05-00.gz\n",
        "done with file: "
       ]
      },
      {
       "output_type": "stream",
       "stream": "stdout",
       "text": [
        " statuses.log.2015-04-05-00.gz  This file takes 36.7350180149 seconds\n",
        "start reading file:  statuses.log.2015-04-08-14.gz\n",
        "done with file: "
       ]
      },
      {
       "output_type": "stream",
       "stream": "stdout",
       "text": [
        " statuses.log.2015-04-08-14.gz  This file takes 48.0437078476 seconds\n",
        "start reading file:  statuses.log.2015-04-04-03.gz\n",
        "done with file: "
       ]
      },
      {
       "output_type": "stream",
       "stream": "stdout",
       "text": [
        " statuses.log.2015-04-04-03.gz  This file takes 39.3040881157 seconds\n",
        "start reading file:  statuses.log.2015-04-07-11.gz\n",
        "done with file: "
       ]
      },
      {
       "output_type": "stream",
       "stream": "stdout",
       "text": [
        " statuses.log.2015-04-07-11.gz  This file takes 38.0099320412 seconds\n",
        "start reading file:  statuses.log.2015-04-10-04.gz\n",
        "done with file: "
       ]
      },
      {
       "output_type": "stream",
       "stream": "stdout",
       "text": [
        " statuses.log.2015-04-10-04.gz  This file takes 30.7149560452 seconds\n",
        "start reading file:  statuses.log.2015-04-08-03.gz\n",
        "done with file: "
       ]
      },
      {
       "output_type": "stream",
       "stream": "stdout",
       "text": [
        " statuses.log.2015-04-08-03.gz  This file takes 39.9506058693 seconds\n",
        "start reading file:  statuses.log.2015-04-07-06.gz\n",
        "done with file: "
       ]
      },
      {
       "output_type": "stream",
       "stream": "stdout",
       "text": [
        " statuses.log.2015-04-07-06.gz  This file takes 29.3792440891 seconds\n",
        "start reading file:  statuses.log.2015-04-10-13.gz\n",
        "done with file: "
       ]
      },
      {
       "output_type": "stream",
       "stream": "stdout",
       "text": [
        " statuses.log.2015-04-10-13.gz  This file takes 41.9588770866 seconds\n",
        "start reading file:  statuses.log.2015-04-04-14.gz\n",
        "done with file: "
       ]
      },
      {
       "output_type": "stream",
       "stream": "stdout",
       "text": [
        " statuses.log.2015-04-04-14.gz  This file takes 49.823611021 seconds\n",
        "start reading file:  statuses.log.2015-04-09-00.gz\n",
        "done with file: "
       ]
      },
      {
       "output_type": "stream",
       "stream": "stdout",
       "text": [
        " statuses.log.2015-04-09-00.gz  This file takes 34.2292039394 seconds\n",
        "start reading file:  statuses.log.2015-04-05-17.gz\n",
        "done with file: "
       ]
      },
      {
       "output_type": "stream",
       "stream": "stdout",
       "text": [
        " statuses.log.2015-04-05-17.gz  This file takes 44.2704679966 seconds\n",
        "start reading file:  statuses.log.2015-04-06-05.gz\n",
        "done with file: "
       ]
      },
      {
       "output_type": "stream",
       "stream": "stdout",
       "text": [
        " statuses.log.2015-04-06-05.gz  This file takes 32.5396280289 seconds\n",
        "start reading file:  statuses.log.2015-04-07-15.gz\n",
        "done with file: "
       ]
      },
      {
       "output_type": "stream",
       "stream": "stdout",
       "text": [
        " statuses.log.2015-04-07-15.gz  This file takes 48.5167429447 seconds\n",
        "start reading file:  statuses.log.2015-04-10-00.gz\n",
        "done with file: "
       ]
      },
      {
       "output_type": "stream",
       "stream": "stdout",
       "text": [
        " statuses.log.2015-04-10-00.gz  This file takes 33.360738039 seconds\n",
        "start reading file:  statuses.log.2015-04-04-07.gz\n",
        "done with file: "
       ]
      },
      {
       "output_type": "stream",
       "stream": "stdout",
       "text": [
        " statuses.log.2015-04-04-07.gz  This file takes 32.1499910355 seconds\n",
        "start reading file:  statuses.log.2015-04-08-10.gz\n",
        "done with file: "
       ]
      },
      {
       "output_type": "stream",
       "stream": "stdout",
       "text": [
        " statuses.log.2015-04-08-10.gz  This file takes 37.3079891205 seconds\n",
        "start reading file:  statuses.log.2015-04-05-04.gz\n",
        "done with file: "
       ]
      },
      {
       "output_type": "stream",
       "stream": "stdout",
       "text": [
        " statuses.log.2015-04-05-04.gz  This file takes 39.2739269733 seconds\n",
        "start reading file:  statuses.log.2015-04-06-16.gz\n",
        "done with file: "
       ]
      },
      {
       "output_type": "stream",
       "stream": "stdout",
       "text": [
        " statuses.log.2015-04-06-16.gz  This file takes 42.826761961 seconds\n",
        "start reading file:  statuses.log.2015-04-09-13.gz\n",
        "done with file: "
       ]
      },
      {
       "output_type": "stream",
       "stream": "stdout",
       "text": [
        " statuses.log.2015-04-09-13.gz  This file takes 43.2753140926 seconds\n",
        "start reading file:  statuses.log.2015-04-06-01.gz\n",
        "done with file: "
       ]
      },
      {
       "output_type": "stream",
       "stream": "stdout",
       "text": [
        " statuses.log.2015-04-06-01.gz  This file takes 42.6426110268 seconds\n",
        "start reading file:  statuses.log.2015-04-05-13.gz\n",
        "done with file: "
       ]
      },
      {
       "output_type": "stream",
       "stream": "stdout",
       "text": [
        " statuses.log.2015-04-05-13.gz  This file takes 48.231648922 seconds\n",
        "start reading file:  statuses.log.2015-04-09-04.gz\n",
        "done with file: "
       ]
      },
      {
       "output_type": "stream",
       "stream": "stdout",
       "text": [
        " statuses.log.2015-04-09-04.gz  This file takes 31.7270259857 seconds\n",
        "start reading file:  statuses.log.2015-04-04-10.gz\n",
        "done with file: "
       ]
      },
      {
       "output_type": "stream",
       "stream": "stdout",
       "text": [
        " statuses.log.2015-04-04-10.gz  This file takes 34.6380889416 seconds\n",
        "start reading file:  statuses.log.2015-04-07-02.gz\n",
        "done with file: "
       ]
      },
      {
       "output_type": "stream",
       "stream": "stdout",
       "text": [
        " statuses.log.2015-04-07-02.gz  This file takes 39.3306338787 seconds\n",
        "start reading file:  statuses.log.2015-04-10-17.gz\n",
        "done with file: "
       ]
      },
      {
       "output_type": "stream",
       "stream": "stdout",
       "text": [
        " statuses.log.2015-04-10-17.gz  This file takes 35.4987359047 seconds\n",
        "start reading file:  statuses.log.2015-04-08-07.gz\n",
        "done with file: "
       ]
      },
      {
       "output_type": "stream",
       "stream": "stdout",
       "text": [
        " statuses.log.2015-04-08-07.gz  This file takes 29.211537838 seconds\n",
        "start reading file:  statuses.log.2015-04-10-16.gz\n",
        "done with file: "
       ]
      },
      {
       "output_type": "stream",
       "stream": "stdout",
       "text": [
        " statuses.log.2015-04-10-16.gz  This file takes 39.0778849125 seconds\n",
        "start reading file:  statuses.log.2015-04-07-03.gz\n",
        "done with file: "
       ]
      },
      {
       "output_type": "stream",
       "stream": "stdout",
       "text": [
        " statuses.log.2015-04-07-03.gz  This file takes 43.6788470745 seconds\n",
        "start reading file:  statuses.log.2015-04-04-11.gz\n",
        "done with file: "
       ]
      },
      {
       "output_type": "stream",
       "stream": "stdout",
       "text": [
        " statuses.log.2015-04-04-11.gz  This file takes 38.3337619305 seconds\n",
        "start reading file:  statuses.log.2015-04-08-06.gz\n",
        "done with file: "
       ]
      },
      {
       "output_type": "stream",
       "stream": "stdout",
       "text": [
        " statuses.log.2015-04-08-06.gz  This file takes 28.572314024 seconds\n",
        "start reading file:  statuses.log.2015-04-05-12.gz\n",
        "done with file: "
       ]
      },
      {
       "output_type": "stream",
       "stream": "stdout",
       "text": [
        " statuses.log.2015-04-05-12.gz  This file takes 43.6420681477 seconds\n",
        "start reading file:  statuses.log.2015-04-06-00.gz\n",
        "done with file: "
       ]
      },
      {
       "output_type": "stream",
       "stream": "stdout",
       "text": [
        " statuses.log.2015-04-06-00.gz  This file takes 41.2152528763 seconds\n",
        "start reading file:  statuses.log.2015-04-09-05.gz\n",
        "done with file: "
       ]
      },
      {
       "output_type": "stream",
       "stream": "stdout",
       "text": [
        " statuses.log.2015-04-09-05.gz  This file takes 29.3219149113 seconds\n",
        "start reading file:  statuses.log.2015-04-06-17.gz\n",
        "done with file: "
       ]
      },
      {
       "output_type": "stream",
       "stream": "stdout",
       "text": [
        " statuses.log.2015-04-06-17.gz  This file takes 42.0149679184 seconds\n",
        "start reading file:  statuses.log.2015-04-05-05.gz\n",
        "done with file: "
       ]
      },
      {
       "output_type": "stream",
       "stream": "stdout",
       "text": [
        " statuses.log.2015-04-05-05.gz  This file takes 37.1216039658 seconds\n",
        "start reading file:  statuses.log.2015-04-09-12.gz\n",
        "done with file: "
       ]
      },
      {
       "output_type": "stream",
       "stream": "stdout",
       "text": [
        " statuses.log.2015-04-09-12.gz  This file takes 39.0737321377 seconds\n",
        "start reading file:  statuses.log.2015-04-04-06.gz\n",
        "done with file: "
       ]
      },
      {
       "output_type": "stream",
       "stream": "stdout",
       "text": [
        " statuses.log.2015-04-04-06.gz  This file takes 31.5774960518 seconds\n",
        "start reading file:  statuses.log.2015-04-10-01.gz\n",
        "done with file: "
       ]
      },
      {
       "output_type": "stream",
       "stream": "stdout",
       "text": [
        " statuses.log.2015-04-10-01.gz  This file takes 33.3826909065 seconds\n",
        "start reading file:  statuses.log.2015-04-07-14.gz\n",
        "done with file: "
       ]
      },
      {
       "output_type": "stream",
       "stream": "stdout",
       "text": [
        " statuses.log.2015-04-07-14.gz  This file takes 48.2699210644 seconds\n",
        "start reading file:  statuses.log.2015-04-08-11.gz\n",
        "done with file: "
       ]
      },
      {
       "output_type": "stream",
       "stream": "stdout",
       "text": [
        " statuses.log.2015-04-08-11.gz  This file takes 37.9301970005 seconds\n",
        "start reading file:  statuses.log.2015-04-09-10.gz\n",
        "done with file: "
       ]
      },
      {
       "output_type": "stream",
       "stream": "stdout",
       "text": [
        " statuses.log.2015-04-09-10.gz  This file takes 32.0090258121 seconds\n",
        "start reading file:  statuses.log.2015-04-05-07.gz\n",
        "done with file: "
       ]
      },
      {
       "output_type": "stream",
       "stream": "stdout",
       "text": [
        " statuses.log.2015-04-05-07.gz  This file takes 33.4997489452 seconds\n",
        "start reading file:  statuses.log.2015-04-06-15.gz\n",
        "done with file: "
       ]
      },
      {
       "output_type": "stream",
       "stream": "stdout",
       "text": [
        " statuses.log.2015-04-06-15.gz  This file takes 46.426915884 seconds\n",
        "start reading file:  statuses.log.2015-04-08-13.gz\n",
        "done with file: "
       ]
      },
      {
       "output_type": "stream",
       "stream": "stdout",
       "text": [
        " statuses.log.2015-04-08-13.gz  This file takes 45.5293300152 seconds\n",
        "start reading file:  statuses.log.2015-04-07-16.gz\n",
        "<type 'exceptions.ValueError'>"
       ]
      },
      {
       "output_type": "stream",
       "stream": "stdout",
       "text": [
        "\n",
        "start reading file:  statuses.log.2015-04-10-03.gz\n",
        "done with file: "
       ]
      },
      {
       "output_type": "stream",
       "stream": "stdout",
       "text": [
        " statuses.log.2015-04-10-03.gz  This file takes 34.5276119709 seconds\n",
        "start reading file:  statuses.log.2015-04-04-04.gz\n",
        "done with file: "
       ]
      },
      {
       "output_type": "stream",
       "stream": "stdout",
       "text": [
        " statuses.log.2015-04-04-04.gz  This file takes 84.1195669174 seconds\n",
        "start reading file:  statuses.log.2015-04-08-04.gz\n",
        "done with file: "
       ]
      },
      {
       "output_type": "stream",
       "stream": "stdout",
       "text": [
        " statuses.log.2015-04-08-04.gz  This file takes 34.4685690403 seconds\n",
        "start reading file:  statuses.log.2015-04-04-13.gz\n",
        "done with file: "
       ]
      },
      {
       "output_type": "stream",
       "stream": "stdout",
       "text": [
        " statuses.log.2015-04-04-13.gz  This file takes 47.9835009575 seconds\n",
        "start reading file:  statuses.log.2015-04-07-01.gz\n",
        "done with file: "
       ]
      },
      {
       "output_type": "stream",
       "stream": "stdout",
       "text": [
        " statuses.log.2015-04-07-01.gz  This file takes 38.5125870705 seconds\n",
        "start reading file:  statuses.log.2015-04-10-14.gz\n",
        "done with file: "
       ]
      },
      {
       "output_type": "stream",
       "stream": "stdout",
       "text": [
        " statuses.log.2015-04-10-14.gz  This file takes 43.6519050598 seconds\n",
        "start reading file:  statuses.log.2015-04-09-07.gz\n",
        "done with file: "
       ]
      },
      {
       "output_type": "stream",
       "stream": "stdout",
       "text": [
        " statuses.log.2015-04-09-07.gz  This file takes 25.9223160744 seconds\n",
        "start reading file:  statuses.log.2015-04-06-02.gz\n",
        "done with file: "
       ]
      },
      {
       "output_type": "stream",
       "stream": "stdout",
       "text": [
        " statuses.log.2015-04-06-02.gz  This file takes 45.7785739899 seconds\n",
        "start reading file:  statuses.log.2015-04-05-10.gz\n",
        "done with file: "
       ]
      },
      {
       "output_type": "stream",
       "stream": "stdout",
       "text": [
        " statuses.log.2015-04-05-10.gz  This file takes 35.6360878944 seconds\n",
        "start reading file:  statuses.log.2015-04-09-06.gz\n",
        "done with file: "
       ]
      },
      {
       "output_type": "stream",
       "stream": "stdout",
       "text": [
        " statuses.log.2015-04-09-06.gz  This file takes 26.4219591618 seconds\n",
        "start reading file:  statuses.log.2015-04-05-11.gz\n",
        "done with file: "
       ]
      },
      {
       "output_type": "stream",
       "stream": "stdout",
       "text": [
        " statuses.log.2015-04-05-11.gz  This file takes 40.2763471603 seconds\n",
        "start reading file:  statuses.log.2015-04-06-03.gz\n",
        "done with file: "
       ]
      },
      {
       "output_type": "stream",
       "stream": "stdout",
       "text": [
        " statuses.log.2015-04-06-03.gz  This file takes 52.439166069 seconds\n",
        "start reading file:  statuses.log.2015-04-08-05.gz\n",
        "done with file: "
       ]
      },
      {
       "output_type": "stream",
       "stream": "stdout",
       "text": [
        " statuses.log.2015-04-08-05.gz  This file takes 30.7607309818 seconds\n",
        "start reading file:  statuses.log.2015-04-10-15.gz\n",
        "done with file: "
       ]
      },
      {
       "output_type": "stream",
       "stream": "stdout",
       "text": [
        " statuses.log.2015-04-10-15.gz  This file takes 43.419978857 seconds\n",
        "start reading file:  statuses.log.2015-04-07-00.gz\n",
        "done with file: "
       ]
      },
      {
       "output_type": "stream",
       "stream": "stdout",
       "text": [
        " statuses.log.2015-04-07-00.gz  This file takes 36.8025910854 seconds\n",
        "start reading file:  statuses.log.2015-04-04-12.gz\n",
        "done with file: "
       ]
      },
      {
       "output_type": "stream",
       "stream": "stdout",
       "text": [
        " statuses.log.2015-04-04-12.gz  This file takes 42.4629750252 seconds\n",
        "start reading file:  statuses.log.2015-04-08-12.gz\n",
        "done with file: "
       ]
      },
      {
       "output_type": "stream",
       "stream": "stdout",
       "text": [
        " statuses.log.2015-04-08-12.gz  This file takes 42.1014750004 seconds\n",
        "start reading file:  statuses.log.2015-04-04-05.gz\n",
        "done with file: "
       ]
      },
      {
       "output_type": "stream",
       "stream": "stdout",
       "text": [
        " statuses.log.2015-04-04-05.gz  This file takes 33.3414559364 seconds\n",
        "start reading file:  statuses.log.2015-04-10-02.gz\n",
        "done with file: "
       ]
      },
      {
       "output_type": "stream",
       "stream": "stdout",
       "text": [
        " statuses.log.2015-04-10-02.gz  This file takes 34.9900701046 seconds\n",
        "start reading file:  statuses.log.2015-04-07-17.gz\n",
        "done with file: "
       ]
      },
      {
       "output_type": "stream",
       "stream": "stdout",
       "text": [
        " statuses.log.2015-04-07-17.gz  This file takes 40.415143013 seconds\n",
        "start reading file:  statuses.log.2015-04-09-11.gz\n",
        "done with file: "
       ]
      },
      {
       "output_type": "stream",
       "stream": "stdout",
       "text": [
        " statuses.log.2015-04-09-11.gz  This file takes 35.5820188522 seconds\n",
        "start reading file:  statuses.log.2015-04-06-14.gz\n",
        "done with file: "
       ]
      },
      {
       "output_type": "stream",
       "stream": "stdout",
       "text": [
        " statuses.log.2015-04-06-14.gz  This file takes 47.1537518501 seconds\n",
        "start reading file:  statuses.log.2015-04-05-06.gz\n",
        "done with file: "
       ]
      },
      {
       "output_type": "stream",
       "stream": "stdout",
       "text": [
        " statuses.log.2015-04-05-06.gz  This file takes 34.7315998077 seconds\n",
        "start reading file:  statuses.log.2015-04-05-18.gz\n",
        "done with file: "
       ]
      },
      {
       "output_type": "stream",
       "stream": "stdout",
       "text": [
        " statuses.log.2015-04-05-18.gz  This file takes 41.099727869 seconds\n",
        "start reading file:  statuses.log.2015-04-08-23.gz\n",
        "done with file: "
       ]
      },
      {
       "output_type": "stream",
       "stream": "stdout",
       "text": [
        " statuses.log.2015-04-08-23.gz  This file takes 34.4808299541 seconds\n",
        "start reading file:  statuses.log.2015-04-07-09.gz\n",
        "done with file: "
       ]
      },
      {
       "output_type": "stream",
       "stream": "stdout",
       "text": [
        " statuses.log.2015-04-07-09.gz  This file takes 31.815392971 seconds\n",
        "start reading file:  statuses.log.2015-04-09-20.gz\n",
        "done with file: "
       ]
      },
      {
       "output_type": "stream",
       "stream": "stdout",
       "text": [
        " statuses.log.2015-04-09-20.gz  This file takes 34.8199720383 seconds\n",
        "start reading file:  statuses.log.2015-04-05-20.gz\n",
        "done with file: "
       ]
      },
      {
       "output_type": "stream",
       "stream": "stdout",
       "text": [
        " statuses.log.2015-04-05-20.gz  This file takes 40.2716171741 seconds\n",
        "start reading file:  statuses.log.2015-04-09-18.gz\n",
        "done with file: "
       ]
      },
      {
       "output_type": "stream",
       "stream": "stdout",
       "text": [
        " statuses.log.2015-04-09-18.gz  This file takes 35.3541879654 seconds\n",
        "start reading file:  statuses.log.2015-04-04-23.gz\n",
        "done with file: "
       ]
      },
      {
       "output_type": "stream",
       "stream": "stdout",
       "text": [
        " statuses.log.2015-04-04-23.gz  This file takes 38.2415349483 seconds\n",
        "start reading file:  statuses.log.2015-04-04-22.gz\n",
        "done with file: "
       ]
      },
      {
       "output_type": "stream",
       "stream": "stdout",
       "text": [
        " statuses.log.2015-04-04-22.gz  This file takes 37.8269867897 seconds\n",
        "start reading file:  statuses.log.2015-04-09-19.gz\n",
        "done with file: "
       ]
      },
      {
       "output_type": "stream",
       "stream": "stdout",
       "text": [
        " statuses.log.2015-04-09-19.gz  This file takes 34.619063139 seconds\n",
        "start reading file:  statuses.log.2015-04-05-21.gz\n",
        "done with file: "
       ]
      },
      {
       "output_type": "stream",
       "stream": "stdout",
       "text": [
        " statuses.log.2015-04-05-21.gz  This file takes 41.8191401958 seconds\n",
        "start reading file:  statuses.log.2015-04-09-21.gz\n",
        "done with file: "
       ]
      },
      {
       "output_type": "stream",
       "stream": "stdout",
       "text": [
        " statuses.log.2015-04-09-21.gz  This file takes 34.634346962 seconds\n",
        "start reading file:  statuses.log.2015-04-07-08.gz\n",
        "done with file: "
       ]
      },
      {
       "output_type": "stream",
       "stream": "stdout",
       "text": [
        " statuses.log.2015-04-07-08.gz  This file takes 29.8975229263 seconds\n",
        "start reading file:  statuses.log.2015-04-08-22.gz\n",
        "done with file: "
       ]
      },
      {
       "output_type": "stream",
       "stream": "stdout",
       "text": [
        " statuses.log.2015-04-08-22.gz  This file takes 35.6639339924 seconds\n",
        "start reading file:  statuses.log.2015-04-05-19.gz\n",
        "done with file: "
       ]
      },
      {
       "output_type": "stream",
       "stream": "stdout",
       "text": [
        " statuses.log.2015-04-05-19.gz  This file takes 41.2441010475 seconds\n",
        "start reading file:  statuses.log.2015-04-04-18.gz\n",
        "done with file: "
       ]
      },
      {
       "output_type": "stream",
       "stream": "stdout",
       "text": [
        " statuses.log.2015-04-04-18.gz  This file takes 41.2014930248 seconds\n",
        "start reading file:  statuses.log.2015-04-09-23.gz\n",
        "done with file: "
       ]
      },
      {
       "output_type": "stream",
       "stream": "stdout",
       "text": [
        " statuses.log.2015-04-09-23.gz  This file takes 33.621598959 seconds\n",
        "start reading file:  statuses.log.2015-04-06-09.gz\n",
        "done with file: "
       ]
      },
      {
       "output_type": "stream",
       "stream": "stdout",
       "text": [
        " statuses.log.2015-04-06-09.gz  This file takes 32.937928915 seconds\n",
        "start reading file:  statuses.log.2015-04-08-20.gz\n",
        "done with file: "
       ]
      },
      {
       "output_type": "stream",
       "stream": "stdout",
       "text": [
        " statuses.log.2015-04-08-20.gz  This file takes 36.6615390778 seconds\n",
        "start reading file:  statuses.log.2015-04-04-20.gz\n",
        "done with file: "
       ]
      },
      {
       "output_type": "stream",
       "stream": "stdout",
       "text": [
        " statuses.log.2015-04-04-20.gz  This file takes 41.1258900166 seconds\n",
        "start reading file:  statuses.log.2015-04-08-18.gz\n",
        "done with file: "
       ]
      },
      {
       "output_type": "stream",
       "stream": "stdout",
       "text": [
        " statuses.log.2015-04-08-18.gz  This file takes 38.4919309616 seconds\n",
        "start reading file:  statuses.log.2015-04-05-23.gz\n",
        "done with file: "
       ]
      },
      {
       "output_type": "stream",
       "stream": "stdout",
       "text": [
        " statuses.log.2015-04-05-23.gz  This file takes 41.5451450348 seconds\n",
        "start reading file:  statuses.log.2015-04-10-08.gz\n",
        "done with file: "
       ]
      },
      {
       "output_type": "stream",
       "stream": "stdout",
       "text": [
        " statuses.log.2015-04-10-08.gz  This file takes 26.0146610737 seconds\n",
        "start reading file:  statuses.log.2015-04-05-22.gz\n",
        "done with file: "
       ]
      },
      {
       "output_type": "stream",
       "stream": "stdout",
       "text": [
        " statuses.log.2015-04-05-22.gz  This file takes 41.930066824 seconds\n",
        "start reading file:  statuses.log.2015-04-08-19.gz\n",
        "done with file: "
       ]
      },
      {
       "output_type": "stream",
       "stream": "stdout",
       "text": [
        " statuses.log.2015-04-08-19.gz  This file takes 37.276599884 seconds\n",
        "start reading file:  statuses.log.2015-04-10-09.gz\n",
        "done with file: "
       ]
      },
      {
       "output_type": "stream",
       "stream": "stdout",
       "text": [
        " statuses.log.2015-04-10-09.gz  This file takes 28.646682024 seconds\n",
        "start reading file:  statuses.log.2015-04-04-21.gz\n",
        "done with file: "
       ]
      },
      {
       "output_type": "stream",
       "stream": "stdout",
       "text": [
        " statuses.log.2015-04-04-21.gz  This file takes 39.4426269531 seconds\n",
        "start reading file:  statuses.log.2015-04-08-21.gz\n",
        "done with file: "
       ]
      },
      {
       "output_type": "stream",
       "stream": "stdout",
       "text": [
        " statuses.log.2015-04-08-21.gz  This file takes 35.9439640045 seconds\n",
        "start reading file:  statuses.log.2015-04-06-08.gz\n",
        "done with file: "
       ]
      },
      {
       "output_type": "stream",
       "stream": "stdout",
       "text": [
        " statuses.log.2015-04-06-08.gz  This file takes 30.7114419937 seconds\n",
        "start reading file:  statuses.log.2015-04-09-22.gz\n",
        "done with file: "
       ]
      },
      {
       "output_type": "stream",
       "stream": "stdout",
       "text": [
        " statuses.log.2015-04-09-22.gz  This file takes 33.8675830364 seconds\n",
        "start reading file:  statuses.log.2015-04-04-19.gz\n",
        "done with file: "
       ]
      },
      {
       "output_type": "stream",
       "stream": "stdout",
       "text": [
        " statuses.log.2015-04-04-19.gz  This file takes 41.128895998 seconds\n",
        "start reading file:  statuses.log.2015-04-05-09.gz\n",
        "done with file: "
       ]
      },
      {
       "output_type": "stream",
       "stream": "stdout",
       "text": [
        " statuses.log.2015-04-05-09.gz  This file takes 34.2225627899 seconds\n",
        "start reading file:  statuses.log.2015-04-10-22.gz\n",
        "done with file: "
       ]
      },
      {
       "output_type": "stream",
       "stream": "stdout",
       "text": [
        " statuses.log.2015-04-10-22.gz  This file takes 32.4363248348 seconds\n",
        "start reading file:  statuses.log.2015-04-07-18.gz\n",
        "done with file: "
       ]
      },
      {
       "output_type": "stream",
       "stream": "stdout",
       "text": [
        " statuses.log.2015-04-07-18.gz  This file takes 37.7914249897 seconds\n",
        "start reading file:  statuses.log.2015-04-06-23.gz\n",
        "done with file: "
       ]
      },
      {
       "output_type": "stream",
       "stream": "stdout",
       "text": [
        " statuses.log.2015-04-06-23.gz  This file takes 37.3045239449 seconds\n",
        "start reading file:  statuses.log.2015-04-07-20.gz\n",
        "done with file: "
       ]
      },
      {
       "output_type": "stream",
       "stream": "stdout",
       "text": [
        " statuses.log.2015-04-07-20.gz  This file takes 38.2849619389 seconds\n",
        "start reading file:  statuses.log.2015-04-09-09.gz\n",
        "done with file: "
       ]
      },
      {
       "output_type": "stream",
       "stream": "stdout",
       "text": [
        " statuses.log.2015-04-09-09.gz  This file takes 31.4996118546 seconds\n",
        "start reading file:  statuses.log.2015-04-09-08.gz\n",
        "done with file: "
       ]
      },
      {
       "output_type": "stream",
       "stream": "stdout",
       "text": [
        " statuses.log.2015-04-09-08.gz  This file takes 27.0979290009 seconds\n",
        "start reading file:  statuses.log.2015-04-07-21.gz\n",
        "done with file: "
       ]
      },
      {
       "output_type": "stream",
       "stream": "stdout",
       "text": [
        " statuses.log.2015-04-07-21.gz  This file takes 36.7881000042 seconds\n",
        "start reading file:  statuses.log.2015-04-06-22.gz\n",
        "done with file: "
       ]
      },
      {
       "output_type": "stream",
       "stream": "stdout",
       "text": [
        " statuses.log.2015-04-06-22.gz  This file takes 38.4201610088 seconds\n",
        "start reading file:  statuses.log.2015-04-07-19.gz\n",
        "done with file: "
       ]
      },
      {
       "output_type": "stream",
       "stream": "stdout",
       "text": [
        " statuses.log.2015-04-07-19.gz  This file takes 37.116904974 seconds\n",
        "start reading file:  statuses.log.2015-04-05-08.gz\n",
        "done with file: "
       ]
      },
      {
       "output_type": "stream",
       "stream": "stdout",
       "text": [
        " statuses.log.2015-04-05-08.gz  This file takes 33.5114691257 seconds\n",
        "start reading file:  statuses.log.2015-04-10-23.gz\n",
        "done with file: "
       ]
      },
      {
       "output_type": "stream",
       "stream": "stdout",
       "text": [
        " statuses.log.2015-04-10-23.gz  This file takes 31.9455399513 seconds\n",
        "start reading file:  statuses.log.2015-04-04-09.gz\n",
        "done with file: "
       ]
      },
      {
       "output_type": "stream",
       "stream": "stdout",
       "text": [
        " statuses.log.2015-04-04-09.gz  This file takes 32.7683119774 seconds\n",
        "start reading file:  statuses.log.2015-04-10-21.gz\n",
        "done with file: "
       ]
      },
      {
       "output_type": "stream",
       "stream": "stdout",
       "text": [
        " statuses.log.2015-04-10-21.gz  This file takes 32.5224568844 seconds\n",
        "start reading file:  statuses.log.2015-04-06-18.gz\n",
        "done with file: "
       ]
      },
      {
       "output_type": "stream",
       "stream": "stdout",
       "text": [
        " statuses.log.2015-04-06-18.gz  This file takes 38.8498220444 seconds\n",
        "start reading file:  statuses.log.2015-04-07-23.gz\n",
        "done with file: "
       ]
      },
      {
       "output_type": "stream",
       "stream": "stdout",
       "text": [
        " statuses.log.2015-04-07-23.gz  This file takes 36.1450440884 seconds\n",
        "start reading file:  statuses.log.2015-04-06-20.gz\n",
        "done with file: "
       ]
      },
      {
       "output_type": "stream",
       "stream": "stdout",
       "text": [
        " statuses.log.2015-04-06-20.gz  This file takes 38.8358290195 seconds\n",
        "start reading file:  statuses.log.2015-04-08-09.gz\n",
        "done with file: "
       ]
      },
      {
       "output_type": "stream",
       "stream": "stdout",
       "text": [
        " statuses.log.2015-04-08-09.gz  This file takes 32.5545041561 seconds\n",
        "start reading file:  statuses.log.2015-04-10-19.gz\n",
        "done with file: "
       ]
      },
      {
       "output_type": "stream",
       "stream": "stdout",
       "text": [
        " statuses.log.2015-04-10-19.gz  This file takes 33.4940729141 seconds\n",
        "start reading file:  statuses.log.2015-04-08-08.gz\n",
        "done with file: "
       ]
      },
      {
       "output_type": "stream",
       "stream": "stdout",
       "text": [
        " statuses.log.2015-04-08-08.gz  This file takes 30.9167740345 seconds\n",
        "start reading file:  statuses.log.2015-04-06-21.gz\n",
        "done with file: "
       ]
      },
      {
       "output_type": "stream",
       "stream": "stdout",
       "text": [
        " statuses.log.2015-04-06-21.gz  This file takes 39.4006381035 seconds\n",
        "start reading file:  statuses.log.2015-04-10-18.gz\n",
        "done with file: "
       ]
      },
      {
       "output_type": "stream",
       "stream": "stdout",
       "text": [
        " statuses.log.2015-04-10-18.gz  This file takes 35.1196320057 seconds\n",
        "start reading file:  statuses.log.2015-04-07-22.gz\n",
        "done with file: "
       ]
      },
      {
       "output_type": "stream",
       "stream": "stdout",
       "text": [
        " statuses.log.2015-04-07-22.gz  This file takes 37.5698549747 seconds\n",
        "start reading file:  statuses.log.2015-04-10-20.gz\n",
        "done with file: "
       ]
      },
      {
       "output_type": "stream",
       "stream": "stdout",
       "text": [
        " statuses.log.2015-04-10-20.gz  This file takes 33.1042728424 seconds\n",
        "start reading file:  statuses.log.2015-04-06-19.gz\n",
        "done with file: "
       ]
      },
      {
       "output_type": "stream",
       "stream": "stdout",
       "text": [
        " statuses.log.2015-04-06-19.gz  This file takes 37.9796299934 seconds\n",
        "start reading file:  statuses.log.2015-04-04-08.gz\n",
        "done with file: "
       ]
      },
      {
       "output_type": "stream",
       "stream": "stdout",
       "text": [
        " statuses.log.2015-04-04-08.gz  This file takes 33.75827384 seconds\n",
        "Going through all the files takes 105.595044351 minutes\n",
        "Total number of JSON:  39834787\n",
        "Total number of valid tweets: 31339906\n",
        "Total number of english tweets 9794947\n",
        "Number of query tweets  415\n"
       ]
      }
     ],
     "prompt_number": 115
    },
    {
     "cell_type": "code",
     "collapsed": false,
     "input": [
      "#test on one file locally saved\n",
      "Query_Tweets(\"/Users/ynh3/Data/TweetsGZ/\", \"/Users/ynh3/Documents/ExS/results/categorized_tweets/\")"
     ],
     "language": "python",
     "metadata": {},
     "outputs": [
      {
       "output_type": "stream",
       "stream": "stdout",
       "text": [
        "start reading file:  statuses.log.2015-04-03-00.gz\n",
        "done with file: "
       ]
      },
      {
       "output_type": "stream",
       "stream": "stdout",
       "text": [
        " statuses.log.2015-04-03-00.gz  This file takes 32.6377229691 seconds\n",
        "Going through all the files takes 0.543971800804 minutes\n",
        "Total number of JSON:  244464\n",
        "Total number of valid tweets: 175446\n",
        "Total number of english tweets 63059\n",
        "Number of query tweets  186\n",
        "iran, world powers reach initial deal on reining in tehran's nuclear program http://t.co/jcrkiixdp2\n",
        "\n",
        "rt @ajenews: iranians celebrate in the streets of tehran after framework nuclear deal. http://t.co/4inxtbi0zz http://t.co/pnls08ywaq\n",
        "\n",
        "a framework to prevent #iran from acquiring a nuclear weapon | #thewhitehouse https://t.co/vrxabwimix\n",
        "\n",
        "war news updates &gt; iran foreign minister: u.s. lying about new nuclear agreement: washington free beacon: iran... http://t.co/leieawqdn6\n",
        "\n",
        "rt @johnkerry: big day: #eu, p5+1, and #iran now have parameters to resolve major issues on nuclear program. back to work soon on a final d\n",
        "\n",
        "this is how iranians reacted to news of the nuclear deal http://t.co/dvzacgsa5n\n",
        "\n",
        "rt @chris_1791: that didn t last long: iran accuses obama admin of lying about nuclear agreement   via @therightscoop http://t.co/q9bh4xtl\n",
        "\n",
        "#news 'historic' iran nuclear deal reached http://t.co/fzkxx9zuxd\n",
        "\n",
        "rt @fmkaplan: my take on the iran deal: it's very good, better than expected, anyone who disagrees doesn't want a deal, period. http://t.co\n",
        "\n",
        "rt @thepatriot143: president jarret got everything she wanted: #nukedeal capitulates to all iranian demands http://t.co/us5ixfv3mj #iran ht\n",
        "\n",
        "rt @thehill: hillary praises iran deal but warns \"the devil is always in the details\" http://t.co/r6aul4wjnt http://t.co/j61y0k9fr4\n",
        "\n",
        "wisconsin sen. johnson reacts to tentative iranian nuclear deal: npr's melissa block gets reaction from sen. r... http://t.co/4anitlmtjr\n",
        "\n",
        "rt @ap: more: netanyahu tells obama iran framework nuclear agreement threatens israel's survival: http://t.co/dfqzmqunxl\n",
        "\n",
        "rt @mojahedineng: #pmoi #iran iran, global powers agree key parameters of nuclear deal:  http://t.co/nt16hmfm2z\n",
        "\n",
        "rt @obamanews: video: president obama on the international nuclear framework with iran http://t.co/pzl4wpcznv\n",
        "\n",
        "rt @foxnewspolitics: could @senatormenendez case undermine capitol hill push to check iran deal? http://t.co/or0h0eddlz #irantalks\n",
        "\n",
        "rt @drawandstrike: @benshapiro screw obama's victory lap on his useless iran 'deal'. let's get #rememberneda trending on twitter  https://t\n",
        "\n",
        "iran deal may be slow to affect oil sector: energy experts said any appreciable impact on an already glutted g... http://t.co/gewz156zr5\n",
        "\n",
        "rt @drudge_report: netanyahu to obama: iran deal threatens survival of israel... http://t.co/zbwhn2simm\n",
        "\n",
        "huzzah the iran nuclear deal has been reached\n",
        "\n",
        "rt @dahir2d: @rt_com @iacenter peaceful people are against any kind of nuclear deal.\n",
        "\n",
        "fun with iran: not a deal but maybe \"parameters\" of a deal?: wapo reports, \"iran and world powers agree on par... http://t.co/dubtn9l5qc\n",
        "\n",
        "rt @sttbs73: religious discrimination laws overturned in indiana and arkansas and the #irandeal poor republicans are losing their damn mind\n",
        "\n",
        "rt @wsj: oil prices slid after iran and six world powers agreed on the parameters of a nuclear deal: http://t.co/bk40ikdqi5 http://t.co/wjx\n",
        "\n",
        "this is how iranians reacted to news of the nuclear deal http://t.co/gigghx2tle\n",
        "\n",
        "\"iran deal may be slow to affect oil sector\" by clifford krauss via nyt http://t.co/0n6t1sbaiw\n",
        "\n",
        "after iranian deal, iranian state controlled television allows president obama's speech to be broadcast for the first time ever.\n",
        "\n",
        "iran nuclear framework faces skepticism from congress (la times) http://t.co/ntmua2tlb9\n",
        "\n",
        "rt @mojahedineng: #pmoi #iran joint press statement by iran and the global powers on parameters of the nuclear deal:  http://t.co/eojl9nhrky\n",
        "\n",
        "iran, global powers agree key parameters of nuclear deal http://t.co/wbuji62t6w^en\n",
        "\n",
        "rt @jseigenthaler: an agreement on iran's nuclear program, the massacre in kenya, and world autism awareness day, http://t.co/dmqntvsjxg\n",
        "\n",
        "rt @angelacarwile: obama: if iran doesn't hold up their end of the deal, the world will know. it'll look something like this you moron! htt\n",
        "\n",
        "netanyahu tells obama iran nuke deal threatens israel http://t.co/qbd2bsie4s\n",
        "\n",
        "decisive storm has deeply impacted nuclear negotiations with iran http://t.co/olxeuu64jt #gameinsight, #android, #androidgames, #ipad, #i\n",
        "\n",
        "rt @foreignpolicy: iran got sanctions relief in the nuclear deal. that relief will be far from immediate. @kfj_fp &amp; @jtrindle report. http:\n",
        "\n",
        "rt @motherjones: obama just announced a historic nuclear agreement with iran http://t.co/1mdwrperbu\n",
        "\n",
        "rt @theonlyadult: any @thedemocrats who'll fuck with this iran deal should face immediate primaries. please rt.\n",
        "\n",
        "rt @foreignpolicy: iran got sanctions relief in the nuclear deal. that relief will be far from immediate. @kfj_fp &amp; @jtrindle report. http:\n",
        "\n",
        ".@netanyahu statement on iran \"deal\" http://t.co/f1zjffl2qy\n",
        "\n",
        "netanyahu: iran deal would 'threaten the survival' of israel: \"such a deal would not block iran's path to the ... http://t.co/lenegdivm9\n",
        "\n",
        "planet politics: what the iran deal means for obama's foreign policy legacy: washington -- his hair almost ful... http://t.co/voseljh501\n",
        "\n",
        "rt @reverbpress: redemption: @barackobama shows world us can lead without killing http://t.co/rhr4qytacy #irandeal @canproveit http://t.co/\n",
        "\n",
        "diplomacy with a regime who's motto is literally , \" death to america , death to israel \" ?  @ambassadorrice #irandeal #iran #obama\n",
        "\n",
        "rt @thepatriot143: if you still believe obama: #benghazi #irs #obamacare #fastfurious #hillaryemail and now #irandeal you're a moron!!!! ht\n",
        "\n",
        "how does the same political party say \"ok, the united states can't have any nuclear power or weapons. but iran? yeah, they deserve it.\"\n",
        "\n",
        "\"a promising nuclear deal with iran\" by the editorial board via nyt http://t.co/wejtiio4nj\n",
        "\n",
        "rt @tparsi: major editorials so far praising #irandeal: 1 http://t.co/9qxku3xkyc 2 http://t.co/fepcm6jles 3 http://t.co/qpdw2xlr2d #irantal\n",
        "\n",
        "rt @mitchellreports: .@johnkerry after announcing the iran nuclear deal sat down to answer my questions https://t.co/cyqlbiegnc\n",
        "\n",
        "rt @mashable: this is how iranians reacted to news of the nuclear deal http://t.co/3ajzub7yym http://t.co/lbmgjfw58o\n",
        "\n",
        "barack obama to benjamin netanyahu: iran deal is 'significant progress': us president barack obama on thursday... http://t.co/ybdeodrmku\n",
        "\n",
        "barack obama to benjamin netanyahu: iran deal is 'significant progress': us president barack obama on thursday told israeli prime min...\n",
        "\n",
        "rt @getwisdomdude: pres. obama flexes his nobel peace muscles strikes historic deal with iran peace won war lost http://t.co/rewuc8b65r  ht\n",
        "\n",
        "barack obama to benjamin netanyahu: iran deal is 'significant progress': us president barack obama on thursday told israeli prime min...\n",
        "\n",
        "barack obama to benjamin netanyahu: iran deal is 'significant progress': us president barack obama on thursday told israeli prime min...\n",
        "\n",
        "barack obama to benjamin netanyahu: iran deal is 'significant progress': us president barack obama on thursday told israeli prime min...\n",
        "\n",
        "#israel cool to iran deal, may struggle to rally opposition (from @ap) http://t.co/sdieo1jzds\n",
        "\n",
        "rt @your_neighbors: .@senatedems &amp; @senate_gops we have a deal with #iran! now #letdiplomacywork &amp; reject corker-menendez! #irandeal #p2 #l\n",
        "\n",
        "rt @peddoc63: our commander in chief does #irandeal while our own marine is held hostage #freeamirnow @freeamirhekmati @doblaff http://t.c\n",
        "\n",
        "rt @greta: how dare we make a deal w/ #iran while a u.s. marine is being held for 1,312 days in #iran @montel_williams #freeamir #freeamirn\n",
        "\n",
        "iran, world powers reach initial deal on reining in tehran's nuclear program: lausanne, switzerland (reuters) ... http://t.co/1p0j21vrw7\n",
        "\n",
        "iran, world powers reach initial deal on reining in tehran's nuclear program: lausanne, switzerland (reuters) ... http://t.co/wlwxwyc6oi\n",
        "\n",
        "this is how iranians reacted to news of the nuclear deal http://t.co/kwjt3ifyx5 #interesting\n",
        "\n",
        ".@senatedems and @senate_gops we have a deal with #iran! now you must #letdiplomacywork and reject corker-menendez! #irandeal via @moveon\n",
        "\n",
        "rt @kelseydav: disarmament groups welcome iran framework; israel is mistrustful http://t.co/7liyt29u4a #irandeal\n",
        "\n",
        "rt @zeinobia: arab states after #irandeal http://t.co/ejryyg5mha\n",
        "\n",
        "rt @drudge_report: netanyahu to obama: iran deal threatens survival of israel... http://t.co/zbwhn2simm\n",
        "\n",
        "rt @fullofbalogna: conservatives are inconsolable after a deal is made with iran. rwers longed for a long, deadly war. now they're on suici\n",
        "\n",
        "rt @markregevpmo: pm netanyahu to pres obama: a deal based on this framework would threaten the survival of israel. #irantalks\n",
        "\n",
        "@larryoconnor screw obama's victory lap on his useless iran 'deal'. let's get #rememberneda trending on twitter  https://t.co/ld7zuvkglj \n",
        "\n",
        "dana loesch: was legalization of same-sex marriage part of iran nuke deal? http://t.co/8by7mizwj8\n",
        "\n",
        "tell @senatedems leaders not to let their caucus start a war with #iran. http://t.co/zzsq6ovjd7 via @credomobile #p2 #irandeal\n",
        "\n",
        "and now for ann coulter's thoughts on the nuclear deal with iran *blows into a vuvuzela for two hours*\n",
        "\n",
        "trump had it right  a deal with iran should have taken an hour. why would you give the largest sponser of terrorism anything. #impeachobama\n",
        "\n",
        "@trentoantonio http://t.co/git9uf8pna \"a promising nuclear deal with iran\" by the editorial board via nyt #blackg http://t.co/wtlss53m0f\n",
        "\n",
        "rt @crisisgroup: we applaud the agreement reached today between iran and the p5+1/eu3+3 http://t.co/n2i19qelgf #irandeal\n",
        "\n",
        "rt reuters \"iran, world powers reach initial deal on reining in tehran's nuclear program http://t.co/z4bxgiunez\"\n",
        "\n",
        "rt @waynedupreeshow: the word is out on obama/kerry iran framework talks #wakeupamerica #irantalks #irandeal http://t.co/6aaeatcceg\n",
        "\n",
        "rt @monicacrowley: i'm sure that went well.  rt @thehill obama phones netanyahu to discuss iran nuke deal: http://t.co/0ymusljxk3\n",
        "\n",
        "rt @israelhatzolah: breaking news: pm netanyahu tells obama, world nuclear deal with iran 'would threaten the survival of israel.'\n",
        "\n",
        "obama calls saudi arabias king on iran nuclear deal http://t.co/q5dhbwvd6b #iran #news\n",
        "\n",
        "rt @jackadiamond: #irandeal works well on paper. but democrats and republicans will always agree to disagree on all issues. http://t.co/xby\n",
        "\n",
        "rt @wonkette: iran violates us constitution, makes deal on nukes with tyrant obama http://t.co/kqf7gqd28i http://t.co/ldtxkahmw2\n",
        "\n",
        "rt @dravazed: israeli prime minister netanyahu tells president obama that iran nuclear deal with current framework would threaten survival \n",
        "\n",
        "rt @houseforeign: chmn @repedroyce: \"congress will have its say on any final agreement.\" http://t.co/qcdhce9pfb #irandeal #irantalks #nonuc\n",
        "\n",
        "rt @middleeasteye: netanyahu warns against iran deal, but options limited #irannuclear http://t.co/23pfdbaxar http://t.co/p5mvwp4ql4\n",
        "\n",
        "rt @mashable: this is how iranians reacted to news of the nuclear deal http://t.co/3ajzub7yym http://t.co/lbmgjfw58o\n",
        "\n",
        "oil tumbles after iran reaches nuclear deal outline http://t.co/vhdpdwfnkg\n",
        "\n",
        "rt @theeconomist: is the deal with iran any good? yes, better than the alternativesand by a long way http://t.co/3i7rus7exg\n",
        "\n",
        "rt @bipartisanism: jon boener broke into tears upon hearing of the #irandeal.  #irantalks http://t.co/yzt5ejwdlr\n",
        "\n",
        "rt @dloesch: wonder if the admin asked for iran to legalize gay marriage or stop killing gays as a requirement for deal.\n",
        "\n",
        "@peepnuggets so basically after this so-called framework deal is celebrated iran just gave us the finger. do i have that correct?\n",
        "\n",
        "rt @alivaez: .@crisisgroup calls the #irandeal \"the most important diplomatic accomplishment in a generation\" http://t.co/gzphnobtlt\n",
        "\n",
        "rt @ericwolfson: #thatawkwardmoment when the #gop remembers the last time they made an #irandeal.  (pics via @jeffersonobama) #p2 http://t.\n",
        "\n",
        "rt @israelipm: pm netanyahu: the alternative is standing firm and increasing the pressure on iran until a better deal is achieved.\n",
        "\n",
        "rt @bipartisanism: thank you president #obama for negotiating away iran's nuclear capabilities without going to war.  #irantalks http://t.c\n",
        "\n",
        "actual footage of the iran deal after it went through #irandeal https://t.co/kol3ilwjoq #irantalks @cjwerleman\n",
        "\n",
        "rt @rt_com: 'iran nuclear deal a beginning of new relationship between tehran and washington' https://t.co/tbxbty9btu\n",
        "\n",
        "rt @tharwacolamus: genocide is now a legitimate tool of diplomacy #irandeal #inkedwithourblood #syria #iraq #yemen #iran #assad #russia #le\n",
        "\n",
        "iran agrees to framework of nuclear deal http://t.co/wbcb9grxpq\n",
        "\n",
        "liberals bernie sanders and al franken stand with obama in support of iran nuclear deal http://t.co/tqdhdoypfo\n",
        "\n",
        "rt @rt_com: 'iran nuclear deal a beginning of new relationship between tehran and washington' https://t.co/tbxbty9btu\n",
        "\n",
        "rt @irisflower33: exclusive iranian fm zarif all smiles as iran refuses to compromise on sanctions #wakeupamerica  #nonucleariran  http:/\n",
        "\n",
        "rt @arthurmacmillan: my snap analysis from tehran: pragmatism driving iran's supreme leader toward nuclear deal http://t.co/xlgf03jed9 http\n",
        "\n",
        "rt @nerdywonka: when it's easier for president obama and secretary kerry to negotiate a deal with iran than the gop, you have a problem, @g\n",
        "\n",
        "rt @kat4obama: disarmed of bomb they don't have? mt @rconflictnews gop's cotton: \"only acceptable deal wd be iran's total nuclear disarmame\n",
        "\n",
        "rt @reutersbiz: oil falls nearly 4 percent after tentative nuclear deal for iran http://t.co/ji26lenjjt\n",
        "\n",
        "we have a deal with iran, and it looks like they got almost everything they wanted http://t.co/hjcixqmsp8 http://t.co/pjopo1kqqk #wtf ??\n",
        "\n",
        "rt @bulletinatomic: #irandeal will not just limit irans nuclear capability, but will reshape it entirely and indefinitely http://t.co/0rp0\n",
        "\n",
        "rt @sublimateus: \"what did we get out of the #irandeal ?\" asks the chickenhawk, upset a new war is avoided.\n",
        "\n",
        "#obama advisor on #iran worked for pro-regime lobby. http://t.co/y9hajavwti #irantalks #irandeal #iranians #us http://t.co/nckqsews1k\n",
        "\n",
        "obama: if congress kills iranian nuclear deal  international unity will collapse (video) http://t.co/npk0im7ayp fear mongerer\n",
        "\n",
        "'big day': world leaders reach framework on iran deal http://t.co/ap1xxg40mn\n",
        "\n",
        "sen. mark kirk likens iran deal to nazi appeasement, warns of nuclear conflict http://t.co/uxg760goce va @politico\n",
        "\n",
        "israel dismisses #irandeal nuclear framework as detached from reality http://t.co/7lxrkropjf iran: \"death to america\" http://t.co/qq7kw6n7nu\n",
        "\n",
        "rt @jupiter896: iranian nuclear deal cements p.obamas legacy;validates nobel peace prize http://t.co/eghumc79ef #irandeal #uniteblue http:\n",
        "\n",
        "rt @hale_razor: iran says the guy who said a video caused benghazi is now lying about their nuke deal. http://t.co/zbj1xyzj8u\n",
        "\n",
        "#irandeal will be one of presidential obama's biggest legacies.\n",
        "\n",
        "iran, world powers reach initial deal on reining in tehran's nuclear program: lausanne, switzerland (reuters) ... http://t.co/wzndvd66ey\n",
        "\n",
        "iran, world powers reach initial deal on reining in tehran's nuclear program: lausanne, switzerland (reuters) ... http://t.co/z6wiqboigx\n",
        "\n",
        "rt @realdonaldtrump: oil is under $50/barrel. now is the time to increase sanctions against iran, not lift them. no deal is better than a b\n",
        "\n",
        "iran, world powers reach initial deal on reining in tehran's nuclear program http://t.co/5puu9qiyza\n",
        "\n",
        "rt @irisflower33: exclusive iranian fm zarif all smiles as iran refuses to compromise on sanctions #wakeupamerica  #nonucleariran  http:/\n",
        "\n",
        "rt @foxandfriends: read the highlights of the iran nuclear deal framework http://t.co/jwup8hh5xr\n",
        "\n",
        "@kylewmcgregor @tarletonstate @showtime_carter #irandeal  #collegeslam   5 year child drive car on 200 km/h      https://t.co/eczksvs5bv \n",
        "\n",
        "rt @justinwcomedy: president barack obama announced a deal to halt iran from gaining nuclear weapons. the deal was blasted by the gop's ben\n",
        "\n",
        "is iran a totalitarian state?: the answer has consequences for u.s. strategy in nuclear talks with tehran. http://t.co/fpamdpncx7\n",
        "\n",
        "rt @peddoc63: the yemen model success#irandeal will be hindenburg  @maydnusa @lodisilverado @jjauthor @doblaff #wakeupamerica http://t.co\n",
        "\n",
        "rt @allentownmike: if ollie north starts commenting on fox news about the bad iranian deal im going to lose my mind. #youillegallysoldthemw\n",
        "\n",
        "rt @thenewdeal: \"mankind must put an end to war before war puts an end to mankind\" - jfk #irandeal\n",
        "\n",
        "israel cool to iran deal, may struggle to rally opposition http://t.co/ol5pe3iolf via @yahoonews\n",
        "\n",
        "rt @thehill: gop lawmakers rip iran nuclear deal: \"very dangerous proposal\" http://t.co/ykwil2iprg http://t.co/egmyyaprf1\n",
        "\n",
        "rt @monicacrowley: death to america?  the great satan?  so what?  who cares? #irandeal\n",
        "\n",
        "(  #yudeilin  ) watch:  iran nuclear deal in 55 seconds: iran nuclear deal tentativel... http://t.co/eu9u36hzkz [ i 23.01.12 #bff ]\n",
        "\n",
        "rt @dandrezner: what this deal won't stop iran from doing: 1) threaten israel 2) arm proxies 3) repress iranians. what no #irandeal was gon\n",
        "\n",
        "rt @johnkerry: the understanding weve reached is a solid foundation for the good deal we seek: http://t.co/27dierl7rm #irandeal http://t.c\n",
        "\n",
        "iran nuclear framework faces skepticism from congress http://t.co/wpclv1ed0h\n",
        "\n",
        "rt @ilnewsflash: breaking: pm netanyahu tells obama, #iran nuclear deal based on current framework would threaten survival of #israel. http\n",
        "\n",
        "rt @jzarif: committed to start drafting the comprehensive nuclear deal immediately.  all will be served by a serious agreement based on mut\n",
        "\n",
        "why the iranian nuclear deal is such good news. by @fmkaplan: http://t.co/15e1ctohzn via @slate\n",
        "\n",
        "rt @voxdotcom: here's the official us description of the iran nuclear deal http://t.co/140mltf83a http://t.co/sbxnkxuclx\n",
        "\n",
        "thank you, john kerry, for the #irandeal !  an amazing accomplishment.\n",
        "\n",
        "rt @kesgardner: laugh or cry? rt @richardgrenell obama has officially approved more nuclear power for the iranians than he has for american\n",
        "\n",
        "rt @cbcalerts: #canada to contribute $3m to support international atomic energy agency's efforts to monitor #iran's compliance with nuclear\n",
        "\n",
        "you know the #irandeal is a great thing by the way republicans are losing their collective minds.\n",
        "\n",
        "rt @financialtimes: iranians see deal as step to prosperity http://t.co/ytt9s2itcp\n",
        "\n",
        "rt @weeklystandard: emergency committee for israel: 'no friend of israel can support' iran deal http://t.co/dunf4fovnt\n",
        "\n",
        "iran, world powers reach initial deal on reining in tehran's nuclear programme: lausanne, switzerland (reuters... http://t.co/ragomk5hin\n",
        "\n",
        "even if #irandeal was good, i'd still doubt it given the obama administration's abysmal, utterly disastrous, no-good foreign policy record.\n",
        "\n",
        "@danjoseph78 you're lying. from the deal: \"if at any time iran fails to fulfill its commitments, these sanctions will snap back into place.\"\n",
        "\n",
        "since when did i what is today the updated \"irandeal\"? http://t.co/ziso72ynwe #mashupplusen #irandeal\n",
        "\n",
        "ap: raw: iranians celebrate nuclear deal http://t.co/ukjonuynmp\n",
        "\n",
        "rt @markregevpmo: pm netanyahu: it would increase the risks of nuclear proliferation and the risks of a horrific war. #irantalks\n",
        "\n",
        "rt @edwindearborn: thinking the #irandeal makes us safe. http://t.co/ashiutqocg\n",
        "\n",
        "@margbrennan @pamelafalk  #israel also pose a danger to the world and humanity possess nuclear weapons what measures are so #irantalks\n",
        "\n",
        "rt @nytimes: details of the agreement to limit iran's nuclear program http://t.co/f1npwkiehd\n",
        "\n",
        "rt @abejarano12: #irandeal nay sayers should always remember these words \"let us never negotiate out of fear, but let us never fear to nego\n",
        "\n",
        "analysis: iran deal's missing details spell trouble http://t.co/vp1pj1eccg\n",
        "\n",
        "joyful iranians dance into night after nuclear breakthrough via /r/worldnews http://t.co/skafpbk5eb http://t.co/9ixjm7ilqv\n",
        "\n",
        "rt @jeneps: hillary clinton voices support for the iran deal and is optimistic about continuing negotiations http://t.co/ecjx7yvee0\n",
        "\n",
        "rt @mterry337: top republicans pretty sure they don't like iran deal, whatever it is http://t.co/nyqg1do85o #uniteblue\n",
        "\n",
        "rt @nerdywonka: when it's easier for president obama and secretary kerry to negotiate a deal with iran than the gop, you have a problem, @g\n",
        "\n",
        "victory for people around the world who want peace - @iacenter on iran nuclear deal by rt news https://t.co/4bhsm90zqv\n",
        "\n",
        "rt @israelizionist: netanyahu to obama: iran deal threatens israel's survival http://t.co/6flotplrvh\n",
        "\n",
        "rt @israelizionist: netanyahu to obama: iran deal threatens israel's survival http://t.co/6flotplrvh\n",
        "\n",
        "rt @max_fisher: i am simply astounded at how good this iran deal is. here's why. http://t.co/sgnbpvh5ca http://t.co/8gsbramj3w\n",
        "\n",
        "rt @truckshorsesdog: in a sane world this is insanity #istandwithisrael #wakeupamerica #stopnucleariran #protectusa #obamahatesamerica http\n",
        "\n",
        "rt @michaelallenmar: anything short of war- repub presidential contenders say u.s. struck bad deal w iran http://t.co/5lpjf3xbsl http://t.c\n",
        "\n",
        "raise your hand if today's deal gives you great security, trust and confidence. #irandeal\n",
        "\n",
        "republicans uneasy over iran nuke 'deal,' lawmakers demand say on any final agreement http://t.co/n7fmgsnefc\n",
        "\n",
        "rt @pari_passu: despite boehner, netanyahu, the #47traitors &amp; #tcot conservatives, peace won today &amp; warmongers lost. #irandeal #p2 http://\n",
        "\n",
        "reaction from around the world to nuclear deal with #iran: reaction from around the world to deal reached by u... http://t.co/hxgzsvfu4s\n",
        "\n",
        "netanyahu blasts obamas nuclear deal: would not block irans path to bomb. it would pave it http://t.co/ocby9ecb5t via @gatewaypundit\n",
        "\n",
        "outline of the #irandeal framework is available here http://t.co/t6eykkj6uc #irantalks #nuclearnegotiations http://t.co/xy4tb1qyse\n",
        "\n",
        "rt @joshtpm: fascinating: self interested leaks &amp;reports abt iran deal (cough: neocon reporters) turned out to be total horseshit  http://t\n",
        "\n",
        "with so much going the wrong direction in the middle east, it is very good to see today's nuclear deal with iran. it's a rare de-escalation.\n",
        "\n",
        "rt @jzarif: iran/p5+1 statement: \"the eu will terminate the implementation of all nuclear-related economic and financial sanctions\".  how a\n",
        "\n",
        "rt @sentomcotton: my statement on the iran nuclear deal announced earlier today: http://t.co/esx28mhatw\n",
        "\n",
        "rt @bipartisanism: george bush was on watch for 9/11 and invaded iraq.  president obama ended two wars and disarmed iran. #irandeal http://\n",
        "\n",
        "rt @david_ehg: the real threat to israel's existence? its continued occupation &amp; oppression of palestinians.   #irandeal\n",
        "\n",
        "rt @kingsthings: i may be alone in this,but i believe one should read what's in the #iran nuclear arrangement before having an opinion. #ir\n",
        "\n",
        "rt @saloumehz: rt @mithunc111: @ netanyahu warns iran deal increases chances of horrific war: http://t.co/v1jpr3in1g \n",
        "\n",
        "rt @politics_pr: peace with iran could limit ability to bomb it, warns mccain: http://t.co/5jkzwlkdnm  #irandeal #p2 http://t.co/mfsailfdyv\n",
        "\n",
        "rt @max_fisher: i am simply astounded at how good this iran deal is. here's why. http://t.co/sgnbpvh5ca http://t.co/8gsbramj3w\n",
        "\n",
        "rt @ap: breaking: netanyahu tells obama: world nuclear deal with iran 'would threaten the survival of israel.'\n",
        "\n",
        "rt @jzarif: iran/5+1 statement: \"us will cease the application of all nuclear-related secondary economic and financial sanctions.\"  is this\n",
        "\n",
        "rt @bipartisanism: republicans are disappointed president #obama avoided another middle east war.  #irantalks #irandeal http://t.co/jxoiv0s\n",
        "\n"
       ]
      }
     ],
     "prompt_number": 18
    },
    {
     "cell_type": "code",
     "collapsed": false,
     "input": [
      "with open (\"/Users/ynh3/Documents/ExS/results/categorized_tweets/bostonbomber.txt\", \"r\") as f:\n",
      "    cluster_list = f.read().splitlines()\n",
      "f.close()\n",
      "len(cluster_list)"
     ],
     "language": "python",
     "metadata": {},
     "outputs": [
      {
       "metadata": {},
       "output_type": "pyout",
       "prompt_number": 117,
       "text": [
        "49"
       ]
      }
     ],
     "prompt_number": 117
    },
    {
     "cell_type": "code",
     "collapsed": false,
     "input": [
      "type(cluster_list[:1])"
     ],
     "language": "python",
     "metadata": {},
     "outputs": [
      {
       "metadata": {},
       "output_type": "pyout",
       "prompt_number": 48,
       "text": [
        "list"
       ]
      }
     ],
     "prompt_number": 48
    },
    {
     "cell_type": "code",
     "collapsed": false,
     "input": [
      "with open (\"/Users/ynh3/Documents/ExS/results/categorized_tweets/query_bostonbomber.txt\", \"r\") as f:\n",
      "    query_list = f.read().splitlines()\n",
      "f.close()\n",
      "len(query_list)"
     ],
     "language": "python",
     "metadata": {},
     "outputs": [
      {
       "metadata": {},
       "output_type": "pyout",
       "prompt_number": 122,
       "text": [
        "415"
       ]
      }
     ],
     "prompt_number": 122
    },
    {
     "cell_type": "code",
     "collapsed": false,
     "input": [
      "intersection = list(set(query_list).intersection(set(cluster_list)))\n",
      "len(intersection)\n",
      "with open(\"/Users/ynh3/Documents/ExS/results/categorized_tweets/diff_bostonbomber.txt\", \"w\") as f:\n",
      "    f.write('\\n'.join(intersection))"
     ],
     "language": "python",
     "metadata": {},
     "outputs": [],
     "prompt_number": 123
    },
    {
     "cell_type": "code",
     "collapsed": false,
     "input": [
      "query_list[:1]"
     ],
     "language": "python",
     "metadata": {},
     "outputs": [
      {
       "metadata": {},
       "output_type": "pyout",
       "prompt_number": 72,
       "text": [
        "[\"#rosa runner's art recaptures boston marathon's joy and whimsy: runner's art recaptures bost... http://t.co/zirdkurqr8 #negrito controla\"]"
       ]
      }
     ],
     "prompt_number": 72
    },
    {
     "cell_type": "code",
     "collapsed": false,
     "input": [
      "len(intersection)"
     ],
     "language": "python",
     "metadata": {},
     "outputs": [
      {
       "metadata": {},
       "output_type": "pyout",
       "prompt_number": 121,
       "text": [
        "0"
       ]
      }
     ],
     "prompt_number": 121
    },
    {
     "cell_type": "code",
     "collapsed": false,
     "input": [
      "if \"iran, world powers reach initial deal on reining in tehran's nuclear program\" in cluster_list:\n",
      "    print \"yes\""
     ],
     "language": "python",
     "metadata": {},
     "outputs": [],
     "prompt_number": 61
    },
    {
     "cell_type": "code",
     "collapsed": false,
     "input": [
      "text= \"boston office marathon\"\n",
      "if \"hello\" or \"hello\" in text:\n",
      "    print \"yes\""
     ],
     "language": "python",
     "metadata": {},
     "outputs": [
      {
       "output_type": "stream",
       "stream": "stdout",
       "text": [
        "yes\n"
       ]
      }
     ],
     "prompt_number": 106
    },
    {
     "cell_type": "code",
     "collapsed": false,
     "input": [
      "len(set(cluster_list))"
     ],
     "language": "python",
     "metadata": {},
     "outputs": [
      {
       "metadata": {},
       "output_type": "pyout",
       "prompt_number": 118,
       "text": [
        "13"
       ]
      }
     ],
     "prompt_number": 118
    },
    {
     "cell_type": "code",
     "collapsed": false,
     "input": [
      "len(set(query_list))"
     ],
     "language": "python",
     "metadata": {},
     "outputs": [
      {
       "metadata": {},
       "output_type": "pyout",
       "prompt_number": 119,
       "text": [
        "270"
       ]
      }
     ],
     "prompt_number": 119
    },
    {
     "cell_type": "code",
     "collapsed": false,
     "input": [
      "ttext = \"officer started in carolina to sfhoting\"\n",
      "#ttext = \"shot\"\n",
      "if \"officer\" in ttext and \"carolina\" in ttext and (\"shooting\" in ttext or \"shot\" in ttext) :\n",
      "    print \"yes\""
     ],
     "language": "python",
     "metadata": {},
     "outputs": [],
     "prompt_number": 113
    },
    {
     "cell_type": "code",
     "collapsed": false,
     "input": [],
     "language": "python",
     "metadata": {},
     "outputs": []
    }
   ],
   "metadata": {}
  }
 ]
}