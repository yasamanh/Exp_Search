{
 "cells": [
  {
   "cell_type": "code",
   "execution_count": 3,
   "metadata": {
    "collapsed": false
   },
   "outputs": [
    {
     "name": "stdout",
     "output_type": "stream",
     "text": [
      "-1.028 1.505\n"
     ]
    },
    {
     "ename": "NameError",
     "evalue": "name 'pos_count' is not defined",
     "output_type": "error",
     "traceback": [
      "\u001b[0;31m---------------------------------------------------------------------------\u001b[0m",
      "\u001b[0;31mNameError\u001b[0m                                 Traceback (most recent call last)",
      "\u001b[0;32m<ipython-input-3-216f6d82752f>\u001b[0m in \u001b[0;36m<module>\u001b[0;34m()\u001b[0m\n\u001b[1;32m     11\u001b[0m \u001b[0;34m\u001b[0m\u001b[0m\n\u001b[1;32m     12\u001b[0m \u001b[0;34m\u001b[0m\u001b[0m\n\u001b[0;32m---> 13\u001b[0;31m \u001b[0;32mif\u001b[0m \u001b[0mlen\u001b[0m\u001b[0;34m(\u001b[0m\u001b[0mpos_count\u001b[0m\u001b[0;34m)\u001b[0m \u001b[0;34m>\u001b[0m \u001b[0mlen\u001b[0m\u001b[0;34m(\u001b[0m\u001b[0mneg_count\u001b[0m\u001b[0;34m)\u001b[0m \u001b[0;32mor\u001b[0m \u001b[0mabs\u001b[0m\u001b[0;34m(\u001b[0m\u001b[0msum\u001b[0m\u001b[0;34m(\u001b[0m\u001b[0mpos_prob\u001b[0m\u001b[0;34m)\u001b[0m\u001b[0;34m)\u001b[0m \u001b[0;34m>\u001b[0m \u001b[0mabs\u001b[0m\u001b[0;34m(\u001b[0m\u001b[0msum\u001b[0m\u001b[0;34m(\u001b[0m\u001b[0mneg_prob\u001b[0m\u001b[0;34m)\u001b[0m\u001b[0;34m)\u001b[0m\u001b[0;34m:\u001b[0m\u001b[0;34m\u001b[0m\u001b[0m\n\u001b[0m\u001b[1;32m     14\u001b[0m     \u001b[0mt_words\u001b[0m \u001b[0;34m=\u001b[0m \u001b[0;34m[\u001b[0m\u001b[0mw\u001b[0m\u001b[0;34m[\u001b[0m\u001b[0;36m1\u001b[0m\u001b[0;34m]\u001b[0m \u001b[0;32mfor\u001b[0m \u001b[0mw\u001b[0m \u001b[0;32min\u001b[0m \u001b[0mprob_list\u001b[0m \u001b[0;32mif\u001b[0m \u001b[0mw\u001b[0m\u001b[0;34m[\u001b[0m\u001b[0;36m0\u001b[0m\u001b[0;34m]\u001b[0m \u001b[0;34m>\u001b[0m \u001b[0;36m0\u001b[0m\u001b[0;34m]\u001b[0m\u001b[0;34m\u001b[0m\u001b[0m\n\u001b[1;32m     15\u001b[0m \u001b[0;32melse\u001b[0m\u001b[0;34m:\u001b[0m\u001b[0;34m\u001b[0m\u001b[0m\n",
      "\u001b[0;31mNameError\u001b[0m: name 'pos_count' is not defined"
     ]
    }
   ],
   "source": [
    "\n",
    "#l = u'0.603*\"day\" + 0.447*\"happy\" + -0.209*\"best\" + 0.205*\"time\"' \n",
    "l = '0.486*\"who\" + 0.486*\"death\" + 0.296*\"toll\" + -0.292*\"help\" + -0.215*\"need\" + -0.196*\"like\" + -0.195*\"news\" + 0.135*\"freddie\" + -0.130*\"police\" + 0.102*\"man\"'\n",
    "\n",
    "#prob_list = [((float(a[:5])),a[6:])  for a in (l.split('+'))]\n",
    "prob_list = re.findall(r\"[-+]?\\d*\\.\\d+|\\d+\", l)\n",
    "\n",
    "neg_prob = [float(p) for p in prob_list if float(p) < 0]\n",
    "pos_prob = [float(p) for p in prob_list if float(p) > 0]\n",
    "print sum(neg_prob), sum(pos_prob)\n",
    "\n",
    "\n",
    "if len(pos_count) > len(neg_count) or abs(sum(pos_prob)) > abs(sum(neg_prob)):\n",
    "    t_words = [w[1] for w in prob_list if w[0] > 0]\n",
    "else:\n",
    "    t_words = [w[1] for w in prob_list if w[0] < 0]\n",
    "    \n",
    "t_words"
   ]
  },
  {
   "cell_type": "code",
   "execution_count": 13,
   "metadata": {
    "collapsed": false
   },
   "outputs": [
    {
     "data": {
      "text/plain": [
       "u'\"day\" *\"happy\" *\"time\"'"
      ]
     },
     "execution_count": 13,
     "metadata": {},
     "output_type": "execute_result"
    }
   ],
   "source": [
    "''.join(t_words)"
   ]
  },
  {
   "cell_type": "code",
   "execution_count": 52,
   "metadata": {
    "collapsed": false
   },
   "outputs": [
    {
     "data": {
      "text/plain": [
       "['0.486',\n",
       " '0.486',\n",
       " '0.296',\n",
       " '-0.292',\n",
       " '-0.215',\n",
       " '-0.196',\n",
       " '-0.195',\n",
       " '0.135',\n",
       " '-0.130',\n",
       " '0.102']"
      ]
     },
     "execution_count": 52,
     "metadata": {},
     "output_type": "execute_result"
    }
   ],
   "source": [
    "prob_list"
   ]
  },
  {
   "cell_type": "code",
   "execution_count": 2,
   "metadata": {
    "collapsed": false
   },
   "outputs": [
    {
     "name": "stdout",
     "output_type": "stream",
     "text": [
      "[('-0.792', 'police'), ('0.526', 'baltimore'), ('0.097', 'nepal'), ('-0.076', 'officers'), ('-0.074', 'who'), ('0.066', 'earthquake'), ('0.060', 'riots'), ('0.050', 'mayor'), ('0.046', 'watch'), ('0.042', 'unrest')]\n",
      "-0.942 0.887\n"
     ]
    },
    {
     "data": {
      "text/plain": [
       "['baltimore', 'nepal', 'earthquake', 'riots', 'mayor', 'watch', 'unrest']"
      ]
     },
     "execution_count": 2,
     "metadata": {},
     "output_type": "execute_result"
    }
   ],
   "source": [
    "import re\n",
    "l = '-0.792*\"police\" + 0.526*\"baltimore\" + 0.097*\"nepal\" + -0.076*\"officers\" + -0.074*\"who\" + 0.066*\"earthquake\" + 0.060*\"riots\" + 0.050*\"mayor\" + 0.046*\"watch\" + 0.042*\"unrest\"'\n",
    "\n",
    "new_list = [a  for a in (l.split('+'))]\n",
    "new_list = \"\".join(new_list)\n",
    "\n",
    "prob_list = re.findall(r\"[-+]?\\d*\\.\\d+|\\d+\", new_list)\n",
    "\n",
    "topic_word = re.findall(r\"[^\\W\\d_]+\", new_list)\n",
    "\n",
    "topic_tuple = zip(prob_list,topic_word)\n",
    "print topic_tuple\n",
    "\n",
    "neg_prob = [float(p) for p in prob_list if float(p) < 0]\n",
    "pos_prob = [float(p) for p in prob_list if float(p) > 0]\n",
    "print sum(neg_prob), sum(pos_prob)\n",
    "\n",
    "if len(pos_prob) > len(neg_prob) or abs(sum(pos_prob)) > abs(sum(neg_prob)):\n",
    "    t_words = [w for p,w in topic_tuple if float(p) > 0]\n",
    "else:\n",
    "    t_words = [w for p,w in topic_tuple if float(p) < 0]\n",
    "    \n",
    "t_words\n"
   ]
  },
  {
   "cell_type": "code",
   "execution_count": 19,
   "metadata": {
    "collapsed": false
   },
   "outputs": [
    {
     "data": {
      "text/plain": [
       "[-0.792, -0.076, -0.074]"
      ]
     },
     "execution_count": 19,
     "metadata": {},
     "output_type": "execute_result"
    }
   ],
   "source": [
    "neg_prob"
   ]
  },
  {
   "cell_type": "code",
   "execution_count": 41,
   "metadata": {
    "collapsed": false
   },
   "outputs": [
    {
     "data": {
      "text/plain": [
       "[]"
      ]
     },
     "execution_count": 41,
     "metadata": {},
     "output_type": "execute_result"
    }
   ],
   "source": [
    "import re\n",
    "re.findall(r\"[^\\W\\d_]+|\\d+\", new_list[0])"
   ]
  },
  {
   "cell_type": "code",
   "execution_count": 42,
   "metadata": {
    "collapsed": false
   },
   "outputs": [
    {
     "data": {
      "text/plain": [
       "['police',\n",
       " 'baltimore',\n",
       " 'nepal',\n",
       " 'officers',\n",
       " 'who',\n",
       " 'earthquake',\n",
       " 'riots',\n",
       " 'mayor',\n",
       " 'watch',\n",
       " 'unrest']"
      ]
     },
     "execution_count": 42,
     "metadata": {},
     "output_type": "execute_result"
    }
   ],
   "source": [
    "re.findall(r\"[^\\W\\d_]+\", new_list)"
   ]
  },
  {
   "cell_type": "code",
   "execution_count": 45,
   "metadata": {
    "collapsed": false
   },
   "outputs": [
    {
     "data": {
      "text/plain": [
       "['-0.792',\n",
       " '0.526',\n",
       " '0.097',\n",
       " '-0.076',\n",
       " '-0.074',\n",
       " '0.066',\n",
       " '0.060',\n",
       " '0.050',\n",
       " '0.046',\n",
       " '0.042']"
      ]
     },
     "execution_count": 45,
     "metadata": {},
     "output_type": "execute_result"
    }
   ],
   "source": [
    "re.findall(r\"[-+]?\\d*\\.\\d+|\\d+\", new_list)"
   ]
  },
  {
   "cell_type": "code",
   "execution_count": 9,
   "metadata": {
    "collapsed": false
   },
   "outputs": [
    {
     "data": {
      "text/plain": [
       "52"
      ]
     },
     "execution_count": 9,
     "metadata": {},
     "output_type": "execute_result"
    }
   ],
   "source": [
    "common = [('love', 35339), ('today', 24001), ('con', 22008), ('day', 18141), ('people', 17123), ('time', 16630), ('video', 16419), ('life', 11496), ('est', 11168), ('thanks', 10098), ('com', 9479), ('post', 8939), ('shit', 8923), ('todo', 8345), ('stats', 7991), ('work', 7969), ('photo', 7684), ('world', 7648), ('way', 7358), ('son', 6878), ('birthday', 6837), ('person', 6711), ('night', 6647), ('girl', 6595), ('vida', 6548), ('game', 6284), ('home', 6170), ('update', 6091), ('week', 5496), ('baby', 5311), ('show', 5239), ('days', 5209), ('year', 5162), ('morning', 4947), ('phone', 4796), ('music', 4754), ('school', 4720), ('dm', 4676), ('ass', 4675), ('news', 4660), ('jam', 4552), ('guys', 4487), ('friends', 4486), ('sleep', 4454), ('todos', 4416), ('os', 4388), ('emojis', 4363), ('tak', 4353), ('tomorrow', 4254)]\n",
    "common_word = [e[0] for e in common]\n",
    "common_word = common_word + ['like','latest','who']\n",
    "len(common_word)"
   ]
  },
  {
   "cell_type": "code",
   "execution_count": 10,
   "metadata": {
    "collapsed": false
   },
   "outputs": [],
   "source": [
    "with open('/Users/ynh3/Data/common_list.txt','wt') as myfile:\n",
    "    myfile.write('\\n'.join(common_word))"
   ]
  },
  {
   "cell_type": "code",
   "execution_count": 4,
   "metadata": {
    "collapsed": false
   },
   "outputs": [
    {
     "data": {
      "text/plain": [
       "'love\\ntoday\\ncon\\nday\\npeople\\ntime\\nvideo\\nlife\\nest\\nthanks\\ncom\\npost\\nshit\\ntodo\\nstats\\nwork\\nphoto\\nworld\\nway\\nson\\nbirthday\\nperson\\nnight\\ngirl\\nvida\\ngame\\nhome\\nupdate\\nweek\\nbaby\\nshow\\ndays\\nyear\\nmorning\\nphone\\nmusic\\nschool\\ndm\\nass\\nnews\\njam\\nguys\\nfriends\\nsleep\\ntodos\\nos\\nemojis\\ntak\\ntomorrow\\nlike\\nlatest\\nwho\\nlike\\nlatest\\nwho'"
      ]
     },
     "execution_count": 4,
     "metadata": {},
     "output_type": "execute_result"
    }
   ],
   "source": [
    "'\\n'.join(common_word)"
   ]
  },
  {
   "cell_type": "code",
   "execution_count": 11,
   "metadata": {
    "collapsed": false
   },
   "outputs": [
    {
     "data": {
      "text/plain": [
       "52"
      ]
     },
     "execution_count": 11,
     "metadata": {},
     "output_type": "execute_result"
    }
   ],
   "source": [
    "with open('/Users/ynh3/Data/common_list.txt','rt') as myfile:\n",
    "    word_list = myfile.read().splitlines()\n",
    "len(word_list)"
   ]
  },
  {
   "cell_type": "code",
   "execution_count": 12,
   "metadata": {
    "collapsed": false
   },
   "outputs": [
    {
     "data": {
      "text/plain": [
       "52"
      ]
     },
     "execution_count": 12,
     "metadata": {},
     "output_type": "execute_result"
    }
   ],
   "source": [
    "len(common_word)"
   ]
  },
  {
   "cell_type": "code",
   "execution_count": 14,
   "metadata": {
    "collapsed": false
   },
   "outputs": [
    {
     "data": {
      "text/plain": [
       "'/Users/ynh3/Documents/ExS/results/categorized_tweets_enhanced_5thweek/Experiments_set2/'"
      ]
     },
     "execution_count": 14,
     "metadata": {},
     "output_type": "execute_result"
    }
   ],
   "source": [
    "path = \"/Users/ynh3/Documents/ExS/results/categorized_tweets_enhanced_5thweek/\"\n",
    "path = path + \"Experiments_set2/\"\n",
    "path"
   ]
  },
  {
   "cell_type": "code",
   "execution_count": 20,
   "metadata": {
    "collapsed": true
   },
   "outputs": [],
   "source": [
    "from nltk.stem.wordnet import WordNetLemmatizer"
   ]
  },
  {
   "cell_type": "code",
   "execution_count": 23,
   "metadata": {
    "collapsed": true
   },
   "outputs": [],
   "source": [
    "lmtzr = WordNetLemmatizer()"
   ]
  },
  {
   "cell_type": "code",
   "execution_count": 24,
   "metadata": {
    "collapsed": false
   },
   "outputs": [
    {
     "ename": "LookupError",
     "evalue": "\n**********************************************************************\n  Resource u'corpora/wordnet' not found.  Please use the NLTK\n  Downloader to obtain the resource:  >>> nltk.download()\n  Searched in:\n    - '/Users/ynh3/nltk_data'\n    - '/usr/share/nltk_data'\n    - '/usr/local/share/nltk_data'\n    - '/usr/lib/nltk_data'\n    - '/usr/local/lib/nltk_data'\n**********************************************************************",
     "output_type": "error",
     "traceback": [
      "\u001b[0;31m---------------------------------------------------------------------------\u001b[0m",
      "\u001b[0;31mLookupError\u001b[0m                               Traceback (most recent call last)",
      "\u001b[0;32m<ipython-input-24-8d597412c947>\u001b[0m in \u001b[0;36m<module>\u001b[0;34m()\u001b[0m\n\u001b[0;32m----> 1\u001b[0;31m \u001b[0mlmtzr\u001b[0m\u001b[0;34m.\u001b[0m\u001b[0mlemmatize\u001b[0m\u001b[0;34m(\u001b[0m\u001b[0;34m'cars'\u001b[0m\u001b[0;34m)\u001b[0m\u001b[0;34m\u001b[0m\u001b[0m\n\u001b[0m",
      "\u001b[0;32m/Users/ynh3/clustering/algo_test/lib/python2.7/site-packages/nltk-3.2.1-py2.7.egg/nltk/stem/wordnet.pyc\u001b[0m in \u001b[0;36mlemmatize\u001b[0;34m(self, word, pos)\u001b[0m\n\u001b[1;32m     38\u001b[0m \u001b[0;34m\u001b[0m\u001b[0m\n\u001b[1;32m     39\u001b[0m     \u001b[0;32mdef\u001b[0m \u001b[0mlemmatize\u001b[0m\u001b[0;34m(\u001b[0m\u001b[0mself\u001b[0m\u001b[0;34m,\u001b[0m \u001b[0mword\u001b[0m\u001b[0;34m,\u001b[0m \u001b[0mpos\u001b[0m\u001b[0;34m=\u001b[0m\u001b[0mNOUN\u001b[0m\u001b[0;34m)\u001b[0m\u001b[0;34m:\u001b[0m\u001b[0;34m\u001b[0m\u001b[0m\n\u001b[0;32m---> 40\u001b[0;31m         \u001b[0mlemmas\u001b[0m \u001b[0;34m=\u001b[0m \u001b[0mwordnet\u001b[0m\u001b[0;34m.\u001b[0m\u001b[0m_morphy\u001b[0m\u001b[0;34m(\u001b[0m\u001b[0mword\u001b[0m\u001b[0;34m,\u001b[0m \u001b[0mpos\u001b[0m\u001b[0;34m)\u001b[0m\u001b[0;34m\u001b[0m\u001b[0m\n\u001b[0m\u001b[1;32m     41\u001b[0m         \u001b[0;32mreturn\u001b[0m \u001b[0mmin\u001b[0m\u001b[0;34m(\u001b[0m\u001b[0mlemmas\u001b[0m\u001b[0;34m,\u001b[0m \u001b[0mkey\u001b[0m\u001b[0;34m=\u001b[0m\u001b[0mlen\u001b[0m\u001b[0;34m)\u001b[0m \u001b[0;32mif\u001b[0m \u001b[0mlemmas\u001b[0m \u001b[0;32melse\u001b[0m \u001b[0mword\u001b[0m\u001b[0;34m\u001b[0m\u001b[0m\n\u001b[1;32m     42\u001b[0m \u001b[0;34m\u001b[0m\u001b[0m\n",
      "\u001b[0;32m/Users/ynh3/clustering/algo_test/lib/python2.7/site-packages/nltk-3.2.1-py2.7.egg/nltk/corpus/util.pyc\u001b[0m in \u001b[0;36m__getattr__\u001b[0;34m(self, attr)\u001b[0m\n\u001b[1;32m     97\u001b[0m             \u001b[0;32mraise\u001b[0m \u001b[0mAttributeError\u001b[0m\u001b[0;34m(\u001b[0m\u001b[0;34m\"LazyCorpusLoader object has no attribute '__bases__'\"\u001b[0m\u001b[0;34m)\u001b[0m\u001b[0;34m\u001b[0m\u001b[0m\n\u001b[1;32m     98\u001b[0m \u001b[0;34m\u001b[0m\u001b[0m\n\u001b[0;32m---> 99\u001b[0;31m         \u001b[0mself\u001b[0m\u001b[0;34m.\u001b[0m\u001b[0m__load\u001b[0m\u001b[0;34m(\u001b[0m\u001b[0;34m)\u001b[0m\u001b[0;34m\u001b[0m\u001b[0m\n\u001b[0m\u001b[1;32m    100\u001b[0m         \u001b[0;31m# This looks circular, but its not, since __load() changes our\u001b[0m\u001b[0;34m\u001b[0m\u001b[0;34m\u001b[0m\u001b[0m\n\u001b[1;32m    101\u001b[0m         \u001b[0;31m# __class__ to something new:\u001b[0m\u001b[0;34m\u001b[0m\u001b[0;34m\u001b[0m\u001b[0m\n",
      "\u001b[0;32m/Users/ynh3/clustering/algo_test/lib/python2.7/site-packages/nltk-3.2.1-py2.7.egg/nltk/corpus/util.pyc\u001b[0m in \u001b[0;36m__load\u001b[0;34m(self)\u001b[0m\n\u001b[1;32m     62\u001b[0m             \u001b[0;32mexcept\u001b[0m \u001b[0mLookupError\u001b[0m \u001b[0;32mas\u001b[0m \u001b[0me\u001b[0m\u001b[0;34m:\u001b[0m\u001b[0;34m\u001b[0m\u001b[0m\n\u001b[1;32m     63\u001b[0m                 \u001b[0;32mtry\u001b[0m\u001b[0;34m:\u001b[0m \u001b[0mroot\u001b[0m \u001b[0;34m=\u001b[0m \u001b[0mnltk\u001b[0m\u001b[0;34m.\u001b[0m\u001b[0mdata\u001b[0m\u001b[0;34m.\u001b[0m\u001b[0mfind\u001b[0m\u001b[0;34m(\u001b[0m\u001b[0;34m'corpora/%s'\u001b[0m \u001b[0;34m%\u001b[0m \u001b[0mzip_name\u001b[0m\u001b[0;34m)\u001b[0m\u001b[0;34m\u001b[0m\u001b[0m\n\u001b[0;32m---> 64\u001b[0;31m                 \u001b[0;32mexcept\u001b[0m \u001b[0mLookupError\u001b[0m\u001b[0;34m:\u001b[0m \u001b[0;32mraise\u001b[0m \u001b[0me\u001b[0m\u001b[0;34m\u001b[0m\u001b[0m\n\u001b[0m\u001b[1;32m     65\u001b[0m \u001b[0;34m\u001b[0m\u001b[0m\n\u001b[1;32m     66\u001b[0m         \u001b[0;31m# Load the corpus.\u001b[0m\u001b[0;34m\u001b[0m\u001b[0;34m\u001b[0m\u001b[0m\n",
      "\u001b[0;31mLookupError\u001b[0m: \n**********************************************************************\n  Resource u'corpora/wordnet' not found.  Please use the NLTK\n  Downloader to obtain the resource:  >>> nltk.download()\n  Searched in:\n    - '/Users/ynh3/nltk_data'\n    - '/usr/share/nltk_data'\n    - '/usr/local/share/nltk_data'\n    - '/usr/lib/nltk_data'\n    - '/usr/local/lib/nltk_data'\n**********************************************************************"
     ]
    }
   ],
   "source": [
    "lmtzr.lemmatize('cars')"
   ]
  },
  {
   "cell_type": "code",
   "execution_count": 2,
   "metadata": {
    "collapsed": false
   },
   "outputs": [],
   "source": [
    "from os import path\n",
    "import matplotlib.pyplot as plt\n",
    "from wordcloud import WordCloud\n",
    "\n",
    "#d = path.dirname(__file__)\n",
    "d = '/Users/ynh3/clustering/algo_test/bin/word_cloud-master/examples'\n",
    "# Read the whole text.\n",
    "text = open(path.join(d, 'constitution.txt')).read()\n",
    "wordcloud = WordCloud().generate(text)\n",
    "# Open a plot of the generated image.\n",
    "plt.imshow(wordcloud)\n",
    "plt.axis(\"off\")\n",
    "plt.show()\n"
   ]
  },
  {
   "cell_type": "code",
   "execution_count": 12,
   "metadata": {
    "collapsed": false
   },
   "outputs": [
    {
     "data": {
      "image/png": "[encoded data removed]",
      "text/plain": [
       "<matplotlib.figure.Figure at 0x10a570d90>"
      ]
     },
     "metadata": {},
     "output_type": "display_data"
    }
   ],
   "source": [
    "%matplotlib inline\n",
    "import matplotlib.pyplot as plt\n",
    "import numpy as np\n",
    "\n",
    "x = np.arange(120)\n",
    "x.shape = (10, 12)\n",
    "\n",
    "interp = 'bilinear'\n",
    "fig, axs = plt.subplots(ncols=2, sharey=True, figsize=(5, 5))\n",
    "axs[0].set_title('blue should be up')\n",
    "axs[0].imshow(x, origin='upper', interpolation=interp)\n",
    "\n",
    "axs[1].set_title('blue should be down')\n",
    "axs[1].imshow(x, origin='lower', interpolation=interp)\n",
    "plt.show()"
   ]
  },
  {
   "cell_type": "code",
   "execution_count": 17,
   "metadata": {
    "collapsed": false
   },
   "outputs": [],
   "source": [
    "filenames = ['food_1.txt', 'food_2.txt', 'food_3.txt', 'food_4.txt', 'food_5.txt']\n",
    "path = '/Users/ynh3/Documents/ExS/results/categorized_tweets_1month/'\n",
    "with open(path+'food_all.txt', 'w') as outfile:\n",
    "    for fname in filenames:\n",
    "        with open(path+fname) as infile:\n",
    "            for line in infile:\n",
    "                outfile.write(line)"
   ]
  },
  {
   "cell_type": "code",
   "execution_count": 5,
   "metadata": {
    "collapsed": false
   },
   "outputs": [
    {
     "name": "stdout",
     "output_type": "stream",
     "text": [
      " 583792871872036864 rt @stopnuclearwar: u.s. jury awards $150 million for #jeep fuel-tank fire death http://t.co/yrv7ehbx71 via @reuters #chrysler\n"
     ]
    }
   ],
   "source": [
    "s = '583792871872036864 rt @stopnuclearwar: u.s. jury awards $150 million for #jeep fuel-tank fire death http://t.co/yrv7ehbx71 via @reuters #chrysler'\n",
    "#tweets = s.splitlines()\n",
    "ids = s.split(' ', 1)[0]\n",
    "tweet = s.split(' ', 1)[1]\n",
    "print ids, tweet"
   ]
  },
  {
   "cell_type": "code",
   "execution_count": 16,
   "metadata": {
    "collapsed": false
   },
   "outputs": [
    {
     "data": {
      "text/plain": [
       "[('one', 'a'), ('two', 'b')]"
      ]
     },
     "execution_count": 16,
     "metadata": {},
     "output_type": "execute_result"
    }
   ],
   "source": [
    ">>> lis = [('541', 'b'), ('555','b'),('542', 'a'), ('543', 'a')]\n",
    ">>> seen = set()\n",
    ">>> new = [item for item in lis if item[1] not in seen and not seen.add(item[1])]\n",
    "[('one', 'a'), ('two', 'b')]"
   ]
  },
  {
   "cell_type": "code",
   "execution_count": 29,
   "metadata": {
    "collapsed": false
   },
   "outputs": [
    {
     "data": {
      "text/plain": [
       "[(0, '541', 'b'), (2, '542', 'a')]"
      ]
     },
     "execution_count": 29,
     "metadata": {},
     "output_type": "execute_result"
    }
   ],
   "source": [
    "#seen = set()\n",
    "seen = []\n",
    "ref = []\n",
    "for i,e in enumerate(lis):\n",
    "    if e[1] not in seen:\n",
    "        seen.append(e[1])\n",
    "        tuple = i,e[0],e[1]\n",
    "        ref.append(tuple)\n",
    "ref"
   ]
  },
  {
   "cell_type": "code",
   "execution_count": 30,
   "metadata": {
    "collapsed": false
   },
   "outputs": [
    {
     "data": {
      "text/plain": [
       "['b', 'a']"
      ]
     },
     "execution_count": 30,
     "metadata": {},
     "output_type": "execute_result"
    }
   ],
   "source": [
    "seen"
   ]
  },
  {
   "cell_type": "code",
   "execution_count": 25,
   "metadata": {
    "collapsed": false
   },
   "outputs": [
    {
     "data": {
      "text/plain": [
       "['b', 'a']"
      ]
     },
     "execution_count": 25,
     "metadata": {},
     "output_type": "execute_result"
    }
   ],
   "source": [
    "seen"
   ]
  },
  {
   "cell_type": "code",
   "execution_count": 26,
   "metadata": {
    "collapsed": false
   },
   "outputs": [
    {
     "data": {
      "text/plain": [
       "[(0, ('541', 'b')), (2, ('542', 'a'))]"
      ]
     },
     "execution_count": 26,
     "metadata": {},
     "output_type": "execute_result"
    }
   ],
   "source": [
    "ref"
   ]
  },
  {
   "cell_type": "code",
   "execution_count": null,
   "metadata": {
    "collapsed": true
   },
   "outputs": [],
   "source": [
    "seen = []\n",
    "ref = []\n",
    "for i,e in enumerate(lis):\n",
    "    if e[1] not in seen:\n",
    "        seen.append(e[1])\n",
    "        tuple = i,e\n",
    "        ref.append(tuple)"
   ]
  },
  {
   "cell_type": "code",
   "execution_count": 31,
   "metadata": {
    "collapsed": false
   },
   "outputs": [
    {
     "data": {
      "text/plain": [
       "{'a', 'b'}"
      ]
     },
     "execution_count": 31,
     "metadata": {},
     "output_type": "execute_result"
    }
   ],
   "source": [
    "sets = set(seen)\n",
    "sets"
   ]
  },
  {
   "cell_type": "code",
   "execution_count": 8,
   "metadata": {
    "collapsed": true
   },
   "outputs": [],
   "source": [
    "import pandas as pd\n",
    "import numpy as np\n",
    "import matplotlib.pyplot as plt"
   ]
  },
  {
   "cell_type": "code",
   "execution_count": 13,
   "metadata": {
    "collapsed": false
   },
   "outputs": [
    {
     "data": {
      "text/plain": [
       "(-3.0, 3.0, -0.5, 5.5)"
      ]
     },
     "execution_count": 13,
     "metadata": {},
     "output_type": "execute_result"
    },
    {
     "data": {
      "image/png": "[encoded data removed]",
      "text/plain": [
       "<matplotlib.figure.Figure at 0x110187690>"
      ]
     },
     "metadata": {},
     "output_type": "display_data"
    }
   ],
   "source": [
    "%matplotlib inline\n",
    "df = pd.DataFrame({'score':np.random.randn(6),\n",
    "                   'person':[x*3 for x in list('ABCDEF')]})\n",
    "\n",
    "ax = plt.subplot(111)\n",
    "df.score.plot(ax=ax, kind='barh', color=list('rgbkym'), title='ranking')\n",
    "ax.axis('off')\n",
    "for i, x in enumerate(df.person):\n",
    "    ax.text(0, i + .5, x, ha='right', fontsize='large')"
   ]
  },
  {
   "cell_type": "code",
   "execution_count": null,
   "metadata": {
    "collapsed": true
   },
   "outputs": [],
   "source": []
  }
 ],
 "metadata": {
  "kernelspec": {
   "display_name": "py2",
   "language": "python",
   "name": "py2"
  },
  "language_info": {
   "codemirror_mode": {
    "name": "ipython",
    "version": 2
   },
   "file_extension": ".py",
   "mimetype": "text/x-python",
   "name": "python",
   "nbconvert_exporter": "python",
   "pygments_lexer": "ipython2",
   "version": "2.7.13"
  }
 },
 "nbformat": 4,
 "nbformat_minor": 0
}
