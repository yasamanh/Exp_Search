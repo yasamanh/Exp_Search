{
 "cells": [
  {
   "cell_type": "code",
   "execution_count": 1,
   "metadata": {
    "collapsed": true
   },
   "outputs": [],
   "source": [
    "import pandas as pd\n",
    "import matplotlib.pyplot as plt\n",
    "from collections import defaultdict, Counter\n",
    "from operator import itemgetter\n",
    "from nltk.tokenize import TweetTokenizer"
   ]
  },
  {
   "cell_type": "code",
   "execution_count": 57,
   "metadata": {},
   "outputs": [
    {
     "data": {
      "text/plain": [
       "230"
      ]
     },
     "execution_count": 57,
     "metadata": {},
     "output_type": "execute_result"
    }
   ],
   "source": [
    "import json\n",
    "tweets_data_file = open('/Users/alinamazi/Data/results/April/26-01-1st/aa.json','r')\n",
    "\n",
    "tweet_data = json.load(tweets_data_file)\n",
    "len(tweet_data['tweets'])"
   ]
  },
  {
   "cell_type": "code",
   "execution_count": 58,
   "metadata": {
    "collapsed": true
   },
   "outputs": [],
   "source": [
    "data = map(lambda tweet: tweet[\"text\"].encode('utf-8').lower().replace('\\n',' '), tweet_data['tweets'])\n"
   ]
  },
  {
   "cell_type": "code",
   "execution_count": 59,
   "metadata": {},
   "outputs": [
    {
     "data": {
      "text/plain": [
       "'@americanair this is what happened. i spent 9 hours at the mco  to catch a 45 mins flight to mia because and not even a bottle of water'"
      ]
     },
     "execution_count": 59,
     "metadata": {},
     "output_type": "execute_result"
    }
   ],
   "source": [
    "data[1]"
   ]
  },
  {
   "cell_type": "code",
   "execution_count": 60,
   "metadata": {
    "collapsed": true
   },
   "outputs": [],
   "source": [
    "output_file = open('/Users/alinamazi/Data/results/April/26-01-1st/aa.txt','w')\n",
    "output_file.write(\"\".join(\"%s\\n\" % e for e in data))"
   ]
  },
  {
   "cell_type": "code",
   "execution_count": 21,
   "metadata": {
    "collapsed": true
   },
   "outputs": [],
   "source": [
    "###############################"
   ]
  },
  {
   "cell_type": "code",
   "execution_count": 39,
   "metadata": {
    "collapsed": true
   },
   "outputs": [],
   "source": [
    "def jdefault(o):\n",
    "    return o.__dict__"
   ]
  },
  {
   "cell_type": "code",
   "execution_count": 55,
   "metadata": {},
   "outputs": [
    {
     "name": "stdout",
     "output_type": "stream",
     "text": [
      "2017-04-23\n",
      "2017-04-23\n",
      "2017-04-23\n",
      "2017-04-23\n",
      "2017-04-23\n",
      "2017-04-23\n",
      "2017-04-23\n",
      "2017-04-23\n",
      "2017-04-23\n",
      "2017-04-23\n",
      "2017-04-23\n",
      "2017-04-23\n",
      "2017-04-23\n",
      "2017-04-23\n",
      "2017-04-23\n",
      "2017-04-23\n",
      "2017-04-23\n",
      "2017-04-23\n",
      "2017-04-23\n",
      "2017-04-23\n",
      "2017-04-23\n",
      "2017-04-23\n",
      "2017-04-23\n",
      "2017-04-23\n",
      "2017-04-23\n",
      "2017-04-23\n",
      "2017-04-23\n",
      "2017-04-23\n",
      "2017-04-23\n",
      "2017-04-23\n",
      "2017-04-23\n",
      "2017-04-23\n",
      "2017-04-23\n",
      "2017-04-23\n",
      "2017-04-23\n",
      "2017-04-23\n",
      "2017-04-23\n",
      "2017-04-23\n",
      "2017-04-23\n",
      "2017-04-23\n",
      "2017-04-23\n",
      "2017-04-23\n",
      "2017-04-23\n",
      "2017-04-23\n",
      "2017-04-23\n",
      "2017-04-23\n",
      "2017-04-23\n",
      "2017-04-23\n",
      "2017-04-23\n",
      "2017-04-23\n",
      "2017-04-23\n",
      "2017-04-23\n",
      "2017-04-23\n",
      "2017-04-23\n",
      "2017-04-23\n",
      "2017-04-23\n",
      "2017-04-23\n",
      "2017-04-23\n",
      "2017-04-23\n",
      "2017-04-23\n",
      "2017-04-23\n",
      "2017-04-23\n",
      "2017-04-23\n",
      "2017-04-23\n",
      "2017-04-23\n",
      "2017-04-23\n",
      "2017-04-23\n",
      "2017-04-23\n",
      "2017-04-23\n",
      "2017-04-23\n",
      "2017-04-23\n",
      "2017-04-23\n",
      "2017-04-23\n",
      "2017-04-23\n",
      "2017-04-23\n",
      "2017-04-23\n",
      "2017-04-23\n",
      "2017-04-23\n",
      "2017-04-23\n",
      "2017-04-23\n",
      "2017-04-23\n",
      "2017-04-23\n",
      "2017-04-23\n",
      "2017-04-23\n",
      "2017-04-23\n",
      "2017-04-23\n",
      "2017-04-23\n",
      "2017-04-23\n",
      "2017-04-23\n",
      "2017-04-23\n",
      "2017-04-23\n",
      "2017-04-23\n",
      "2017-04-23\n",
      "2017-04-23\n",
      "2017-04-23\n",
      "2017-04-23\n",
      "2017-04-23\n",
      "2017-04-23\n",
      "2017-04-23\n",
      "2017-04-23\n",
      "2017-04-23\n",
      "2017-04-23\n",
      "2017-04-23\n",
      "2017-04-23\n",
      "2017-04-23\n",
      "2017-04-23\n",
      "2017-04-23\n",
      "2017-04-23\n",
      "2017-04-23\n",
      "2017-04-23\n",
      "2017-04-24\n",
      "2017-04-24\n",
      "2017-04-24\n",
      "2017-04-24\n",
      "2017-04-24\n",
      "2017-04-24\n",
      "2017-04-24\n",
      "2017-04-24\n",
      "2017-04-24\n",
      "2017-04-24\n",
      "2017-04-24\n",
      "2017-04-24\n",
      "2017-04-24\n",
      "2017-04-24\n",
      "2017-04-24\n",
      "2017-04-24\n",
      "2017-04-24\n",
      "2017-04-24\n",
      "2017-04-24\n",
      "2017-04-24\n",
      "2017-04-24\n",
      "2017-04-24\n",
      "2017-04-24\n",
      "2017-04-24\n",
      "2017-04-24\n",
      "2017-04-24\n",
      "2017-04-24\n",
      "2017-04-24\n",
      "2017-04-24\n",
      "2017-04-24\n",
      "2017-04-24\n",
      "2017-04-24\n",
      "2017-04-24\n",
      "2017-04-24\n",
      "2017-04-24\n",
      "2017-04-24\n",
      "2017-04-24\n",
      "2017-04-24\n",
      "2017-04-24\n",
      "2017-04-24\n",
      "2017-04-24\n",
      "2017-04-24\n",
      "2017-04-24\n",
      "2017-04-24\n",
      "2017-04-24\n",
      "2017-04-24\n",
      "2017-04-24\n",
      "2017-04-24\n",
      "2017-04-24\n",
      "2017-04-24\n",
      "2017-04-24\n",
      "2017-04-24\n",
      "2017-04-24\n",
      "2017-04-24\n",
      "2017-04-24\n",
      "2017-04-24\n",
      "2017-04-24\n",
      "2017-04-24\n",
      "2017-04-24\n",
      "2017-04-24\n",
      "2017-04-24\n",
      "2017-04-24\n",
      "2017-04-24\n",
      "2017-04-24\n",
      "2017-04-24\n",
      "2017-04-24\n",
      "2017-04-24\n",
      "2017-04-24\n",
      "2017-04-24\n",
      "2017-04-24\n",
      "2017-04-24\n",
      "2017-04-25\n",
      "2017-04-25\n",
      "2017-04-25\n",
      "2017-04-25\n",
      "2017-04-25\n",
      "2017-04-25\n",
      "2017-04-25\n",
      "2017-04-25\n",
      "2017-04-25\n",
      "2017-04-25\n",
      "2017-04-25\n",
      "2017-04-25\n",
      "2017-04-25\n",
      "2017-04-25\n",
      "2017-04-25\n",
      "2017-04-25\n",
      "2017-04-25\n",
      "2017-04-25\n",
      "2017-04-25\n",
      "2017-04-25\n",
      "2017-04-25\n",
      "2017-04-25\n",
      "2017-04-25\n",
      "2017-04-25\n",
      "2017-04-25\n",
      "2017-04-25\n",
      "2017-04-25\n",
      "2017-04-25\n",
      "2017-04-25\n",
      "2017-04-25\n",
      "2017-04-26\n",
      "2017-04-26\n",
      "2017-04-26\n",
      "2017-04-26\n",
      "2017-04-26\n",
      "2017-04-26\n",
      "2017-04-26\n",
      "2017-04-26\n",
      "2017-04-26\n"
     ]
    }
   ],
   "source": [
    "import time\n",
    "\n",
    "json_output = open('/Users/alinamazi/Data/results/April/23-26-5th/aa.json','w')\n",
    "json_data = {}\n",
    "tweet_list = []\n",
    "\n",
    "\n",
    "for t in tweet_data['tweets']:\n",
    "    ts = time.strftime('%Y-%m-%d', time.strptime(t['created_at'],'%a %b %d %H:%M:%S +0000 %Y'))\n",
    "    #if (ts.startswith('2017-03')) or (ts.startswith('2017-04-01')): \n",
    "    #if (ts.startswith('2017-04-02')) or (ts.startswith('2017-04-03')) or (ts.startswith('2017-04-04')) or (ts.startswith('2017-04-05')) or (ts.startswith('2017-04-06')) or (ts.startswith('2017-04-07')) or (ts.startswith('2017-04-08')): \n",
    "    #if (ts.startswith('2017-04-09')) or (ts.startswith('2017-04-10')) or (ts.startswith('2017-04-11')) or (ts.startswith('2017-04-12')) or (ts.startswith('2017-04-13')) or (ts.startswith('2017-04-14')) or (ts.startswith('2017-04-15')): \n",
    "    #if (ts.startswith('2017-04-16')) or (ts.startswith('2017-04-17')) or (ts.startswith('2017-04-18')) or (ts.startswith('2017-04-19')) or (ts.startswith('2017-04-20')) or (ts.startswith('2017-04-21')) or (ts.startswith('2017-04-22')): \n",
    "    if (ts.startswith('2017-04-23')) or (ts.startswith('2017-04-24')) or (ts.startswith('2017-04-25')) or (ts.startswith('2017-04-26')): \n",
    "        tweet_list.append(t)\n",
    "        print ts\n",
    "\n",
    "        \n",
    "json_data['tweets'] = tweet_list\n",
    "json_data = json.dumps(json_data, default=jdefault)\n",
    "json_output.writelines(json_data)\n",
    "\n",
    "json_output.close()"
   ]
  },
  {
   "cell_type": "code",
   "execution_count": 43,
   "metadata": {},
   "outputs": [
    {
     "data": {
      "text/plain": [
       "{}"
      ]
     },
     "execution_count": 43,
     "metadata": {},
     "output_type": "execute_result"
    }
   ],
   "source": [
    "json_data"
   ]
  },
  {
   "cell_type": "code",
   "execution_count": 56,
   "metadata": {},
   "outputs": [
    {
     "data": {
      "text/plain": [
       "220"
      ]
     },
     "execution_count": 56,
     "metadata": {},
     "output_type": "execute_result"
    }
   ],
   "source": [
    "len(tweet_list)"
   ]
  },
  {
   "cell_type": "code",
   "execution_count": null,
   "metadata": {
    "collapsed": true
   },
   "outputs": [],
   "source": []
  }
 ],
 "metadata": {
  "kernelspec": {
   "display_name": "Python 2",
   "language": "python",
   "name": "python2"
  },
  "language_info": {
   "codemirror_mode": {
    "name": "ipython",
    "version": 2
   },
   "file_extension": ".py",
   "mimetype": "text/x-python",
   "name": "python",
   "nbconvert_exporter": "python",
   "pygments_lexer": "ipython2",
   "version": "2.7.13"
  }
 },
 "nbformat": 4,
 "nbformat_minor": 2
}
