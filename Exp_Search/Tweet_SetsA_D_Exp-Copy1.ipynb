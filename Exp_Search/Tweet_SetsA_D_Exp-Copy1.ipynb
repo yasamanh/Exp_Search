{
 "cells": [
  {
   "cell_type": "code",
   "execution_count": 1,
   "metadata": {
    "collapsed": false
   },
   "outputs": [],
   "source": [
    "from operator import itemgetter\n",
    "from collections import Counter\n",
    "import json\n",
    "import gzip\n",
    "from pprint import pprint\n",
    "import os"
   ]
  },
  {
   "cell_type": "code",
   "execution_count": 83,
   "metadata": {
    "collapsed": false
   },
   "outputs": [
    {
     "name": "stdout",
     "output_type": "stream",
     "text": [
      "done with file:  statuses.log.2015-04-03-00.gz\n",
      "done with file:  statuses.log.2015-04-03-01.gz\n",
      "done with file:  statuses.log.2015-04-03-02.gz\n",
      "done with file:  statuses.log.2015-04-03-03.gz\n",
      "done with file:  statuses.log.2015-04-03-04.gz\n",
      "done with file:  statuses.log.2015-04-03-05.gz\n",
      "done with file:  statuses.log.2015-04-03-06.gz\n",
      "done with file:  statuses.log.2015-04-03-07.gz\n",
      "done with file:  statuses.log.2015-04-03-08.gz\n",
      "done with file:  statuses.log.2015-04-03-09.gz\n",
      "done with file:  statuses.log.2015-04-03-10.gz\n",
      "done with file:  statuses.log.2015-04-03-11.gz\n",
      "done with file:  statuses.log.2015-04-03-12.gz\n",
      "done with file:  statuses.log.2015-04-03-13.gz\n",
      "done with file:  statuses.log.2015-04-03-14.gz\n",
      "done with file:  statuses.log.2015-04-03-15.gz\n",
      "done with file:  statuses.log.2015-04-03-16.gz\n",
      "done with file:  statuses.log.2015-04-03-17.gz\n",
      "done with file:  statuses.log.2015-04-03-18.gz\n",
      "done with file:  statuses.log.2015-04-03-19.gz\n",
      "done with file:  statuses.log.2015-04-03-20.gz\n",
      "done with file:  statuses.log.2015-04-03-21.gz\n",
      "done with file:  statuses.log.2015-04-03-22.gz\n",
      "done with file:  statuses.log.2015-04-03-23.gz\n"
     ]
    }
   ],
   "source": [
    "\n",
    "\n",
    "#i_f = '/Users/ynh3/Data/TweetsGZ/statuses.log.2015-03-31-05.gz'\n",
    "#o_f = '/Users/ynh3/Data/Intermediate/statuses.log.2015-03-31-05-re2'\n",
    "#f = gzip.open(i_f, 'rb')\n",
    "\n",
    "data = []\n",
    "\n",
    "setA = []\n",
    "setB = []\n",
    "setC = []\n",
    "setD = []\n",
    "\n",
    "setMention = []\n",
    "\n",
    "follower_count = 0\n",
    "re_follower_count = 0\n",
    "eng_count = 0\n",
    "mention_count = 0\n",
    "re_count = 0\n",
    "re_count_m = 0\n",
    "re_status = 0\n",
    "url_count = 0\n",
    "tweet_count = 0\n",
    "eng_tweet_count = 0\n",
    "follower_count_setA = 0\n",
    "\n",
    "json_count = 0\n",
    "\n",
    "for file in os.listdir(\"/Users/ynh3/Data/TweetsGZ/\"):\n",
    "    if file.endswith(\".gz\"):\n",
    "        #print(file)\n",
    "        f=gzip.open(\"/Users/ynh3/Data/TweetsGZ/\"+file,'rb')\n",
    "\n",
    "        for l in f:\n",
    "            l = l.decode(\"ascii\",\"ignore\").encode(\"ascii\")\n",
    "            data = json.loads(l)\n",
    "            #pprint(data)\n",
    "\n",
    "            if \"lang\" in data:\n",
    "                if data[\"lang\"] == 'en':\n",
    "                    eng_count += 1\n",
    "\n",
    "                    if \"text\" in data:\n",
    "                        if \"http://\" in data[\"text\"] or \"https://\" in data[\"text\"]:\n",
    "                            url_count += 1\n",
    "\n",
    "                            if data[\"text\"].startswith(\"RT\") or data[\"text\"].startswith(\"rt\") and data[\"retweet_count\"] > 2: \n",
    "                                \n",
    "                                #if data[\"text\"].split()[1].startswith(\"@\"):\n",
    "                                #    re_count_m += 1\n",
    "                                \n",
    "                                #else:\n",
    "                                re_count += 1\n",
    "                                setB.append(data[\"text\"])\n",
    "                                if \"user\" in data:\n",
    "                                    if \"followers_count\" in data[\"user\"]:\n",
    "                                        if data[\"user\"][\"followers_count\"] > 1000:\n",
    "                                            #print data[\"user\"][\"screen_name\"],data[\"user\"][\"followers_count\"]\n",
    "                                            re_follower_count += 1\n",
    "                                            setD.append(data[\"text\"])\n",
    "\n",
    "\n",
    "                            elif data[\"text\"].startswith(\"@\"):\n",
    "                                mention_count += 1\n",
    "                                setMention.append(data[\"text\"])\n",
    "\n",
    "                            else:\n",
    "                                eng_tweet_count += 1\n",
    "                                #setA.append(data[\"text\"])\n",
    "\n",
    "                                if \"user\" in data:\n",
    "                                    if \"followers_count\" in data[\"user\"]:\n",
    "                                        if data[\"user\"][\"followers_count\"] > 1000:\n",
    "                                            #print data[\"user\"][\"screen_name\"],data[\"user\"][\"followers_count\"]\n",
    "                                            follower_count_setA += 1\n",
    "                                            setA.append(data[\"text\"])\n",
    "                                        if data[\"user\"][\"followers_count\"] > 10000:\n",
    "                                            #print data[\"user\"][\"screen_name\"],data[\"user\"][\"followers_count\"]\n",
    "                                            follower_count += 1\n",
    "                                            setC.append(data[\"text\"])\n",
    "\n",
    "\n",
    "            if \"text\" in data and \"created_at\" in data and \"id_str\" in data:\n",
    "                tweet_count += 1\n",
    "\n",
    "            json_count += 1\n",
    "            #if json_count >1000:\n",
    "            #    break\n",
    "        f.close()\n",
    "        print \"done with file: \", file"
   ]
  },
  {
   "cell_type": "code",
   "execution_count": 84,
   "metadata": {
    "collapsed": false
   },
   "outputs": [
    {
     "name": "stdout",
     "output_type": "stream",
     "text": [
      "total json count:  5677273\n",
      "total tweets:  4516288\n",
      "total english: 1385139\n",
      "total url count 589109\n",
      "\n",
      "english percentage:  0.306698554211\n",
      "\n",
      "setA: english & tweets with urls and non-mention and followers > 1000:  76725.0\n",
      "setC: english & tweets with urls & followers more than 10k count:  14095.0\n",
      "\n",
      "setB: english & retweets > 2 with urls:  298860.0\n",
      "setD: english & re tweets > 2 with urls & followers more than 1k count:  89766.0\n",
      "\n",
      "english & mention tweets:  27388.0\n"
     ]
    }
   ],
   "source": [
    "print \"total json count: \", json_count\n",
    "print \"total tweets: \", tweet_count\n",
    "print \"total english:\", eng_count\n",
    "print \"total url count\", url_count\n",
    "print\n",
    "print \"english percentage: \", float(eng_count)/float(tweet_count)\n",
    "print\n",
    "print \"setA: english & tweets with urls and non-mention and followers > 1000: \", float(follower_count_setA)#/float(tweet_count)\n",
    "print \"setC: english & tweets with urls & followers more than 10k count: \", float(follower_count)#/float(tweet_count)\n",
    "print\n",
    "print \"setB: english & retweets > 2 with urls: \", float(re_count)#/float(tweet_count)\n",
    "print \"setD: english & re tweets > 2 with urls & followers more than 1k count: \", float(re_follower_count)#/float(tweet_count)\n",
    "print\n",
    "print \"english & mention tweets: \", float(mention_count)#/float(tweet_count)\n"
   ]
  },
  {
   "cell_type": "code",
   "execution_count": 85,
   "metadata": {
    "collapsed": false
   },
   "outputs": [
    {
     "data": {
      "text/plain": [
       "[u'RT @HeyItsTifanny: \"@UNDRESSINGNATE: quote this with a selfie bc I wanna see yall\" http://t.co/TrMZw5XTyy',\n",
       " u'RT @connectegrate: Digital transformation and the CMO: an innovative CIO partnership http://t.co/JLbFmyvD7X #Digitaltransformation',\n",
       " u'RT @1027KIISFM: . @justinbieber will be at #WangoTango on 5/9! Tickets go on-sale to VIPs tomorrow at 10a! http://t.co/UPMNWj01Qu http://t.\\u2026',\n",
       " u'RT @malcrealtalk: When your parents give the reason \"Because I said so!\" https://t.co/mqnknJhujN',\n",
       " u'RT @malcrealtalk: When your parents give the reason \"Because I said so!\" https://t.co/mqnknJhujN',\n",
       " u'RT @malcrealtalk: When your parents give the reason \"Because I said so!\" https://t.co/mqnknJhujN',\n",
       " u'RT @betterjobsearch: How the Affordable Care Act Can Help You Land Your Dream Job - SELF - http://t.co/PI8nYsNCvs http://t.co/LqgfckG7Db',\n",
       " u'RT @5SOStag: When u bae af http://t.co/gqvnXj5Pql',\n",
       " u'RT @ComedyCentral: Download @Shots to find more fan reactions to the #BIEBERROAST\\nhttps://t.co/h0ZIGT5oMt',\n",
       " u'RT @NaturalBadAssss: When somebody gets behind me at a club \\u270b\\U0001f612 https://t.co/e7O1uB1crT',\n",
       " u'RT @MichelleFOX47: Landlord seeks rent/damages for apt. where #TonyRobinson lived during the time of shooting. http://t.co/VneEccGkYH http:\\u2026',\n",
       " u'RT @LynneCampbell10: My Course in Magick is avail at: http://t.co/iaxIEoW3gg For Kindle at: http://t.co/hXEmIN0N9e http://t.co/56bWW5RDhf h\\u2026',\n",
       " u'RT @jackieperezx: \\u201c@_Kwandell: Quote with any picture\\u201davi\\U0001f380 http://t.co/fH7imfUhcC',\n",
       " u'RT @stilinski24_7: Good night everyone #VoteThomasMTV http://t.co/kmw3kwnVhm',\n",
       " u'RT @buzzedhoneys: Urban #honey from #losangeles just seen in the window of @cafedemitasse 135 S. San Pedro St, Los\\u2026 https://t.co/m4lqnihVi2',\n",
       " u'RT @lovingoodmusic: \\u2b50FAVE\\u2b50 if you think they are hottt!!! \\U0001f525\\U0001f60d\\U0001f525\\U0001f495\\U0001f525 ... skirts and much more  available at  at   \\u2728http://t.co/vBiPjkKjiG\\u2728 http:\\u2026',\n",
       " u'RT @inds___: me at carnival tbh https://t.co/wcnwr84mY8',\n",
       " u'RT @ProofIess: I WANNA GO HERE \\U0001f633\\U0001f60d http://t.co/ULucPlHFDL',\n",
       " u'RT @KTothSmith: Overcoming Impostor Syndrome http://t.co/7ZMNObcfHh http://t.co/R7ff9MswE4',\n",
       " u'RT @galinadx1: This Girl Removed Her Mask After 2 Years These 9 Photos Will Leave You Speechless https://t.co/Zd5RC95XFc']"
      ]
     },
     "execution_count": 85,
     "metadata": {},
     "output_type": "execute_result"
    }
   ],
   "source": [
    "setD[:20]"
   ]
  },
  {
   "cell_type": "code",
   "execution_count": 8,
   "metadata": {
    "collapsed": false
   },
   "outputs": [
    {
     "data": {
      "text/plain": [
       "1385139"
      ]
     },
     "execution_count": 8,
     "metadata": {},
     "output_type": "execute_result"
    }
   ],
   "source": [
    "eng_count"
   ]
  },
  {
   "cell_type": "code",
   "execution_count": 9,
   "metadata": {
    "collapsed": false
   },
   "outputs": [
    {
     "data": {
      "text/plain": [
       "589109"
      ]
     },
     "execution_count": 9,
     "metadata": {},
     "output_type": "execute_result"
    }
   ],
   "source": [
    "url_count"
   ]
  },
  {
   "cell_type": "code",
   "execution_count": 10,
   "metadata": {
    "collapsed": false
   },
   "outputs": [
    {
     "data": {
      "text/plain": [
       "1520"
      ]
     },
     "execution_count": 10,
     "metadata": {},
     "output_type": "execute_result"
    }
   ],
   "source": [
    "re_count"
   ]
  },
  {
   "cell_type": "code",
   "execution_count": 87,
   "metadata": {
    "collapsed": false
   },
   "outputs": [
    {
     "data": {
      "text/plain": [
       "12"
      ]
     },
     "execution_count": 87,
     "metadata": {},
     "output_type": "execute_result"
    }
   ],
   "source": [
    "germanwings = [e for e in setC if \"germanwings\" in e.lower()]\n",
    "len(germanwings)"
   ]
  },
  {
   "cell_type": "code",
   "execution_count": 13,
   "metadata": {
    "collapsed": false
   },
   "outputs": [],
   "source": [
    "###documents\n",
    "stoplist = set([line.replace(\"\\n\",\"\") for line in open('/Users/ynh3/Data/stopword-list.txt')])\n",
    "pun = [',', '-','.', ':', '(', ')', '--', ';', '...', 'may', 'must', 'us', 'via','a','the', 'rt', 'gg', 'gt', 'lt', 'la', 'de', 'te', 'lol', 'follow', 'followers', 'unfollow', 'unfollowers', 'unfollower', 'follower']\n",
    "#stoplist = set('for a of the and to in'.split())\n",
    "#texts = [[word for word in document.lower().split() if word not in stoplist and word not in pun]\n",
    "#        for document in setA]"
   ]
  },
  {
   "cell_type": "code",
   "execution_count": 27,
   "metadata": {
    "collapsed": false
   },
   "outputs": [
    {
     "data": {
      "text/plain": [
       "262861"
      ]
     },
     "execution_count": 27,
     "metadata": {},
     "output_type": "execute_result"
    }
   ],
   "source": [
    "len(texts)"
   ]
  },
  {
   "cell_type": "code",
   "execution_count": 88,
   "metadata": {
    "collapsed": false
   },
   "outputs": [
    {
     "data": {
      "text/plain": [
       "298860"
      ]
     },
     "execution_count": 88,
     "metadata": {},
     "output_type": "execute_result"
    }
   ],
   "source": [
    "len(setB)"
   ]
  },
  {
   "cell_type": "code",
   "execution_count": 41,
   "metadata": {
    "collapsed": false
   },
   "outputs": [],
   "source": [
    "setB = [e.replace(\"\\r\",\" \") for e in setB]"
   ]
  },
  {
   "cell_type": "code",
   "execution_count": 43,
   "metadata": {
    "collapsed": false
   },
   "outputs": [
    {
     "data": {
      "text/plain": [
       "1520"
      ]
     },
     "execution_count": 43,
     "metadata": {},
     "output_type": "execute_result"
    }
   ],
   "source": [
    "## For later\n",
    "import CMUTweetTagger\n",
    "\n",
    "tagged_list = CMUTweetTagger.runtagger_parse(setB)\n",
    "len(tagged_list)"
   ]
  },
  {
   "cell_type": "code",
   "execution_count": 44,
   "metadata": {
    "collapsed": false
   },
   "outputs": [],
   "source": [
    "## For later \n",
    "tweets_entity_list=[]\n",
    "tweets_list = []\n",
    "#keep a list of actual tweets\n",
    "tweets_entity_list=[]\n",
    "for y in tagged_list:\n",
    "    entity=[]\n",
    "    for e in y:\n",
    "        if e[1]=='^':\n",
    "            entity.append(e[0])\n",
    "    \n",
    "    if len(entity) > 0: \n",
    "        tweets_entity_list.append(entity)\n",
    "        i = tagged_list.index(y)\n",
    "        tweets_list.append(setB[i])\n",
    "            "
   ]
  },
  {
   "cell_type": "code",
   "execution_count": 100,
   "metadata": {
    "collapsed": false
   },
   "outputs": [
    {
     "name": "stdout",
     "output_type": "stream",
     "text": [
      "Done with tokenizations. tweets count:  88758\n"
     ]
    }
   ],
   "source": [
    "from nltk.tokenize import TweetTokenizer\n",
    "\n",
    "tknzr = TweetTokenizer()   \n",
    "tweet_count = 0\n",
    "tweet_tokens=[]\n",
    "new_tweet_list=[]\n",
    "i = 0\n",
    "\n",
    "for line in setD:\n",
    "\n",
    "    new_l = tknzr.tokenize(line)\n",
    "    lower_l = [e.lower() for e in new_l]\n",
    "    new_ll = [e for e in lower_l if e not in stoplist and e not in pun and e.isalpha() and len(e) > 2]\n",
    "\n",
    "    if len(new_ll) > 0:\n",
    "        tweet_tokens.append(new_ll)\n",
    "        tweet_count += 1\n",
    "        new_tweet_list.append(line)\n",
    "    i += 1\n",
    "\n",
    "print \"Done with tokenizations. tweets count: \" , tweet_count\n"
   ]
  },
  {
   "cell_type": "code",
   "execution_count": 101,
   "metadata": {
    "collapsed": false
   },
   "outputs": [
    {
     "name": "stdout",
     "output_type": "stream",
     "text": [
      "Dictionary(31998 unique tokens: [u'tilton', u'woods', u'spiders', u'francesco', u'woody']...)\n"
     ]
    }
   ],
   "source": [
    "from gensim import corpora, models\n",
    "\n",
    "dictionary = corpora.Dictionary(tweet_tokens)\n",
    "dictionary.save('/tmp/AP890101.dict') # store the dictionary, for future reference\n",
    "print(dictionary)"
   ]
  },
  {
   "cell_type": "code",
   "execution_count": 102,
   "metadata": {
    "collapsed": false
   },
   "outputs": [],
   "source": [
    "corpus = [dictionary.doc2bow(t) for t in tweet_tokens]"
   ]
  },
  {
   "cell_type": "code",
   "execution_count": 92,
   "metadata": {
    "collapsed": false
   },
   "outputs": [
    {
     "data": {
      "text/plain": [
       "294952"
      ]
     },
     "execution_count": 92,
     "metadata": {},
     "output_type": "execute_result"
    }
   ],
   "source": [
    "len(corpus)"
   ]
  },
  {
   "cell_type": "code",
   "execution_count": 103,
   "metadata": {
    "collapsed": false
   },
   "outputs": [],
   "source": [
    "tfidf = models.TfidfModel(corpus)\n",
    "corpus_tfidf = tfidf[corpus]"
   ]
  },
  {
   "cell_type": "code",
   "execution_count": 104,
   "metadata": {
    "collapsed": false
   },
   "outputs": [],
   "source": [
    "n_cluster = 100\n",
    "# LSI computing\n",
    "lsi = models.LsiModel(corpus, id2word=dictionary, num_topics=n_cluster) # initialize an LSI transformation\n",
    "corpus_lsi = lsi[corpus]"
   ]
  },
  {
   "cell_type": "code",
   "execution_count": 95,
   "metadata": {
    "collapsed": false
   },
   "outputs": [
    {
     "data": {
      "text/plain": [
       "u'0.603*\"day\" + 0.447*\"happy\" + -0.209*\"best\" + 0.205*\"time\" + -0.202*\"will\" + 0.179*\"http\" + 0.177*\"birthday\" + 0.146*\"today\" + -0.129*\"can\" + -0.118*\"now\"'"
      ]
     },
     "execution_count": 95,
     "metadata": {},
     "output_type": "execute_result"
    }
   ],
   "source": [
    "lsi.print_topic(16,topn=10)"
   ]
  },
  {
   "cell_type": "code",
   "execution_count": 105,
   "metadata": {
    "collapsed": false
   },
   "outputs": [],
   "source": [
    "import numpy as np\n",
    "j = 0\n",
    "lsi_topic_labels=[]\n",
    "for i,doc in enumerate(lsi[corpus_tfidf]):\n",
    "    a = np.array(doc)\n",
    "    absA= abs(a)\n",
    "    if (len(a)==0):\n",
    "        cluster_id=0\n",
    "        prob_value=0.0\n",
    "        j=j+1\n",
    "    else:\n",
    "        try:\n",
    "            topicmax = absA.argmax(axis=0)\n",
    "        except ValueError:\n",
    "            print \"ValueError at\"\n",
    "            print i\n",
    "            #print a\n",
    "        cluster_id = a[topicmax.item(1)][0]\n",
    "        prob_value = abs(a[topicmax.item(1)][1])\n",
    "\n",
    "    triple = i, cluster_id, prob_value\n",
    "    lsi_topic_labels.append(triple)\n",
    "    #print triple\n",
    "    l = lsi.print_topic(cluster_id,topn=10)\n",
    "    prob_list = [(abs(float(a[:5])),a[6:])  for a in (l.split('+ '))]\n",
    "    sorted(prob_list)\n",
    "    t_words = [w[1] for w in prob_list]\n",
    "    #if i < 10: print \"Tweet #\",i, \":\", \"topic:\",cluster_id, \",\",t_words\n",
    "    #else: break\n",
    "    i=i+1"
   ]
  },
  {
   "cell_type": "code",
   "execution_count": 106,
   "metadata": {
    "collapsed": false
   },
   "outputs": [
    {
     "name": "stdout",
     "output_type": "stream",
     "text": [
      "length of lsi_topic_labels is 88758\n",
      "length of cluster_list is 88758\n",
      "length of counter_sort is 100\n",
      "n_cluster is 100\n",
      "cid_sort is 100\n"
     ]
    }
   ],
   "source": [
    "topics = []\n",
    "for i in range(0, n_cluster):\n",
    "    l = lsi.print_topic(i,topn=5)\n",
    "    prob_list = [(abs(float(a[:5])),a[6:])  for a in (l.split('+ ')) if abs(float(a[:5])) > 0.3]\n",
    "    sorted(prob_list)\n",
    "    topics.append(prob_list)\n",
    "\n",
    "\n",
    "###MAKING READY FOR\n",
    "cluster_topic_list = sorted(lsi_topic_labels,key=itemgetter(1,2), reverse=True)\n",
    "\n",
    "cluster_list = sorted(lsi_topic_labels,key=lambda x: x[1])\n",
    "counter = Counter(b for a,b,c in cluster_list)\n",
    "counter_sort = counter.most_common(n_cluster)\n",
    "cid_sort = [e[0] for e in counter_sort]\n",
    "\n",
    "print 'length of lsi_topic_labels is {}'.format(len(lsi_topic_labels))\n",
    "print 'length of cluster_list is {}'.format(len(cluster_list))\n",
    "print 'length of counter_sort is {}'.format(len(counter_sort))\n",
    "print 'n_cluster is {}'.format(n_cluster)\n",
    "print 'cid_sort is {}'.format(len(cid_sort))\n"
   ]
  },
  {
   "cell_type": "code",
   "execution_count": 107,
   "metadata": {
    "collapsed": false
   },
   "outputs": [
    {
     "name": "stdout",
     "output_type": "stream",
     "text": [
      "Total number of tweets is 88758\n"
     ]
    }
   ],
   "source": [
    "fpath = \"/Users/ynh3/Documents/ExS/results/\"\n",
    "output_file = open(fpath + 'tweet-topic-setD-original-100cluster.txt', 'w')\n",
    "\n",
    "data_list=[]\n",
    "data = {}\n",
    "count=0\n",
    "i=0\n",
    "\n",
    "for i in range(0, len(cid_sort)):\n",
    "    sublist = [e for e in cluster_topic_list if e[1] == cid_sort[i]]\n",
    "    \n",
    "    t_index = int(cid_sort[i])\n",
    "    topic = topics[t_index]\n",
    "    string = [x[1] for x in topic]\n",
    "    string = ' '.join(string)\n",
    "    topic_str = string.replace(\"\\\"\",\"\")\n",
    "    output_file.write(topic_str.encode('utf-8')+'\\n')\n",
    "    output_file.write('-----------------------\\n')\n",
    "    \n",
    "    for j in range(0,len(sublist)):\n",
    "        data = {}\n",
    "        index = sublist[j][0]\n",
    "        if (index >= len(new_tweet_list)):\n",
    "            print index, i, j\n",
    "            break\n",
    "        tweet_str = new_tweet_list[index]\n",
    "        \n",
    "        data['id']=int(count+1)\n",
    "        data['topic']=topic_str\n",
    "        data['tweet']=tweet_str\n",
    "        data_list.append(data)\n",
    "        #k = k+1\n",
    "        count=count+1\n",
    "        output_file.write(tweet_str.encode('utf-8')+'\\n')\n",
    "      \n",
    "\n",
    "        count_str = str(count)\n",
    "\n",
    "print(\"Total number of tweets is {}\".format(count))\n",
    "output_file.close()\n"
   ]
  },
  {
   "cell_type": "code",
   "execution_count": null,
   "metadata": {
    "collapsed": false
   },
   "outputs": [],
   "source": []
  }
 ],
 "metadata": {
  "kernelspec": {
   "display_name": "Python 2",
   "language": "python",
   "name": "python2"
  },
  "language_info": {
   "codemirror_mode": {
    "name": "ipython",
    "version": 2
   },
   "file_extension": ".py",
   "mimetype": "text/x-python",
   "name": "python",
   "nbconvert_exporter": "python",
   "pygments_lexer": "ipython2",
   "version": "2.7.10"
  }
 },
 "nbformat": 4,
 "nbformat_minor": 0
}
