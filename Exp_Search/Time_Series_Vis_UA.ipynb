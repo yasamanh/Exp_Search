{
 "cells": [
  {
   "cell_type": "code",
   "execution_count": 2,
   "metadata": {
    "collapsed": true
   },
   "outputs": [],
   "source": [
    "import json\n",
    "import pandas as pd\n",
    "import matplotlib.pyplot as plt\n",
    "from collections import defaultdict, Counter\n",
    "from operator import itemgetter\n",
    "from nltk.tokenize import TweetTokenizer\n",
    "from pprint import pprint"
   ]
  },
  {
   "cell_type": "code",
   "execution_count": 3,
   "metadata": {
    "collapsed": true
   },
   "outputs": [],
   "source": [
    "import vincent"
   ]
  },
  {
   "cell_type": "code",
   "execution_count": 4,
   "metadata": {},
   "outputs": [
    {
     "name": "stdout",
     "output_type": "stream",
     "text": [
      "[u'rt', u'example', u'just', u'an']\n"
     ]
    }
   ],
   "source": [
    "import re\n",
    " \n",
    "emoticons_str = r\"\"\"\n",
    "    (?:\n",
    "        [:=;] # Eyes\n",
    "        [oO\\-]? # Nose (optional)\n",
    "        [D\\)\\]\\(\\]/\\\\OpP] # Mouth\n",
    "    )\"\"\"\n",
    " \n",
    "regex_str = [\n",
    "    emoticons_str,\n",
    "    r'<[^>]+>', # HTML tags\n",
    "    r'(?:@[\\w_]+)', # @-mentions\n",
    "    r\"(?:\\#+[\\w_]+[\\w\\'_\\-]*[\\w_]+)\", # hash-tags\n",
    "    r'http[s]?://(?:[a-z]|[0-9]|[$-_@.&amp;+]|[!*\\(\\),]|(?:%[0-9a-f][0-9a-f]))+', # URLs\n",
    " \n",
    "    r'(?:(?:\\d+,?)+(?:\\.?\\d+)?)', # numbers\n",
    "    r\"(?:[a-z][a-z'\\-_]+[a-z])\", # words with - and '\n",
    "    r'(?:[\\w_]+)', # other words\n",
    "    r'(?:\\S)' # anything else\n",
    "]\n",
    "    \n",
    "tokens_re = re.compile(r'('+'|'.join(regex_str)+')', re.VERBOSE | re.IGNORECASE)\n",
    "emoticon_re = re.compile(r'^'+emoticons_str+'$', re.VERBOSE | re.IGNORECASE)\n",
    " \n",
    "def tokenize(s):\n",
    "    return tokens_re.findall(s)\n",
    " \n",
    "def preprocess(s, lowercase=True):\n",
    "    tknzr = TweetTokenizer()\n",
    "    ttokens = tknzr.tokenize(s)\n",
    "    \n",
    "    tokens = tokenize(\" \".join(ttokens))\n",
    "    if lowercase:\n",
    "        #tokens = [token if emoticon_re.search(token) else token.lower() for token in tokens]\n",
    "        tokens = [token.lower() for token in tokens if token.isalpha()]\n",
    "        tokens = set(tokens)\n",
    "    return list(tokens)\n",
    " \n",
    "tweet = 'RT  Example @marcobonzanini: just an example! :D http://example.com #NLP\\u2025'\n",
    "print(preprocess(tweet))\n",
    "# ['RT', '@marcobonzanini', ':', 'just', 'an', 'example', '!', ':D', 'http://exampl"
   ]
  },
  {
   "cell_type": "code",
   "execution_count": 5,
   "metadata": {
    "collapsed": true
   },
   "outputs": [],
   "source": [
    "import pandas\n",
    "import json\n",
    "\n",
    "#f = open('/Users/alinamazi/Data/results/04_11/Exp2_3h/ua.json','r')\n",
    "\n",
    "\n",
    "dates_UNITED = []\n",
    "#import json as simplejson\n",
    "import json\n",
    "#tweets_data_file = open('/Users/alinamazi/Data/results/04_09_14_Merge/Exp1/ua_merge.json','r')\n",
    "tweets_data_file = open('/Users/alinamazi/Data/results/April/Exp1/ua.json','r')\n",
    "tweets_data_file_aa = open('/Users/alinamazi/Data/results/April/Exp1/aa.json','r')\n",
    "\n",
    "\n",
    "tweet_data = json.load(tweets_data_file)\n",
    "tweet_data_aa = json.load(tweets_data_file_aa)\n",
    "\n",
    "#com = defaultdict(lambda : defaultdict(int))\n",
    "\n",
    "tweets = pd.DataFrame()\n",
    "\n",
    "dates_UNITED = map(lambda tweet: tweet['created_at'], tweet_data['tweets'])\n",
    "dates_AA = map(lambda tweet: tweet['created_at'], tweet_data_aa['tweets'])"
   ]
  },
  {
   "cell_type": "code",
   "execution_count": 6,
   "metadata": {
    "collapsed": true
   },
   "outputs": [],
   "source": [
    "# a list of \"1\" to count the hashtags\n",
    "ones = [1]*len(dates_UNITED)\n",
    "ones_aa = [1]*len(dates_AA)\n",
    "\n",
    "\n",
    "# the index of the series\n",
    "idx = pandas.DatetimeIndex(dates_UNITED)\n",
    "# the actual series (at series of 1s for the moment)\n",
    "UNITED = pandas.Series(ones, index=idx)\n",
    "\n",
    "idx_aa = pandas.DatetimeIndex(dates_AA)\n",
    "AA = pandas.Series(ones_aa, index=idx_aa)\n",
    "\n",
    " \n",
    "# Resampling / bucketing\n",
    "per_minute = UNITED.resample('60Min').sum().fillna(0)\n",
    "per_minute_aa = AA.resample('60Min').sum().fillna(0)"
   ]
  },
  {
   "cell_type": "code",
   "execution_count": 7,
   "metadata": {
    "collapsed": true
   },
   "outputs": [],
   "source": [
    "time_chart = vincent.Line(UNITED)\n",
    "time_chart = vincent.Line(per_minute)\n",
    "time_chart.axis_titles(x='Time', y='Freq')\n",
    "#time_chart.to_json('time_chart.json')"
   ]
  },
  {
   "cell_type": "code",
   "execution_count": 15,
   "metadata": {},
   "outputs": [
    {
     "ename": "SyntaxError",
     "evalue": "invalid syntax (<ipython-input-15-5c1559c6227b>, line 16)",
     "output_type": "error",
     "traceback": [
      "\u001b[0;36m  File \u001b[0;32m\"<ipython-input-15-5c1559c6227b>\"\u001b[0;36m, line \u001b[0;32m16\u001b[0m\n\u001b[0;31m    time_chart.axes((conv('2013-05-14'), color='r', zorder=0))\u001b[0m\n\u001b[0m                                              ^\u001b[0m\n\u001b[0;31mSyntaxError\u001b[0m\u001b[0;31m:\u001b[0m invalid syntax\n"
     ]
    }
   ],
   "source": [
    "# all the data together\n",
    "#match_data = dict(UNITED=per_minute)\n",
    "match_data = dict(UNITED=per_minute, AA=per_minute_aa)\n",
    "\n",
    "# we need a DataFrame, to accommodate multiple series\n",
    "all_matches = pandas.DataFrame(data=match_data,\n",
    "                               index=per_minute.index)\n",
    "# Resampling as above\n",
    "all_matches = all_matches.resample('60Min').sum().fillna(0)\n",
    " \n",
    "# and now the plotting\n",
    "time_chart = vincent.Line(all_matches[['UNITED','AA']])\n",
    "time_chart.axis_titles(x='Time', y='Freq')\n",
    "time_chart.legend(title='Matches')\n",
    "#time_chart.axes.axhline(100,linestyle='--',color='b')\n",
    "#time_chart.axes((conv('2013-05-14'), color='r', zorder=0))\n",
    "\n",
    "#time_chart.to_json('time_chart.json')"
   ]
  },
  {
   "cell_type": "code",
   "execution_count": 66,
   "metadata": {
    "collapsed": true
   },
   "outputs": [],
   "source": [
    "%matplotlib inline\n",
    "time_chart.to_json('term_freq.json', html_out=True, html_path='chart8.html')\n"
   ]
  },
  {
   "cell_type": "code",
   "execution_count": null,
   "metadata": {
    "collapsed": true
   },
   "outputs": [],
   "source": []
  }
 ],
 "metadata": {
  "kernelspec": {
   "display_name": "Python 2",
   "language": "python",
   "name": "python2"
  },
  "language_info": {
   "codemirror_mode": {
    "name": "ipython",
    "version": 2
   },
   "file_extension": ".py",
   "mimetype": "text/x-python",
   "name": "python",
   "nbconvert_exporter": "python",
   "pygments_lexer": "ipython2",
   "version": "2.7.13"
  }
 },
 "nbformat": 4,
 "nbformat_minor": 2
}
