{
 "metadata": {
  "name": "",
  "signature": "sha256:654af6ff0f0f44929122f3a1febdaedf495b9ff9c5c77fad0edb60a403f58bf2"
 },
 "nbformat": 3,
 "nbformat_minor": 0,
 "worksheets": [
  {
   "cells": [
    {
     "cell_type": "code",
     "collapsed": false,
     "input": [
      ">>> from gensim import corpora, models, similarities\n",
      ">>>\n",
      ">>> documents = [\"Human machine interface for lab abc computer applications\",\n",
      "                 \"The generation of random binary unordered trees\"]"
     ],
     "language": "python",
     "metadata": {},
     "outputs": [],
     "prompt_number": 134
    },
    {
     "cell_type": "code",
     "collapsed": false,
     "input": [
      "f = '/Users/ynh3/Data/AP/AP102'\n",
      "#f = '/Users/ynh3/Data/AP/AP101.txt'\n",
      "\n",
      "with open(f, 'r') as content_file:\n",
      "    content = content_file.read()\n",
      "\n",
      "documents = list(content.replace(\"\\n\",\"\"))"
     ],
     "language": "python",
     "metadata": {},
     "outputs": [],
     "prompt_number": 160
    },
    {
     "cell_type": "code",
     "collapsed": false,
     "input": [
      "import re\n",
      "\n",
      "documents = re.sub(\"[^\\w]\", \" \",  content).split()\n",
      "stoplist = set('for a of the and to in'.split())\n",
      "texts = [[word.lower() for word in documents if word not in stoplist]]\n",
      "        "
     ],
     "language": "python",
     "metadata": {},
     "outputs": [],
     "prompt_number": 166
    },
    {
     "cell_type": "code",
     "collapsed": false,
     "input": [
      "len(texts)"
     ],
     "language": "python",
     "metadata": {},
     "outputs": [
      {
       "metadata": {},
       "output_type": "pyout",
       "prompt_number": 167,
       "text": [
        "1"
       ]
      }
     ],
     "prompt_number": 167
    },
    {
     "cell_type": "code",
     "collapsed": false,
     "input": [
      "#documents"
     ],
     "language": "python",
     "metadata": {},
     "outputs": [],
     "prompt_number": 168
    },
    {
     "cell_type": "code",
     "collapsed": false,
     "input": [
      ">>> stoplist = set('for a of the and to in'.split())\n",
      ">>> texts = [[word for word in document.lower().split() if word not in stoplist]\n",
      ">>>          for document in documents]"
     ],
     "language": "python",
     "metadata": {},
     "outputs": [],
     "prompt_number": 169
    },
    {
     "cell_type": "code",
     "collapsed": false,
     "input": [
      "len(documents)"
     ],
     "language": "python",
     "metadata": {},
     "outputs": [
      {
       "metadata": {},
       "output_type": "pyout",
       "prompt_number": 170,
       "text": [
        "384"
       ]
      }
     ],
     "prompt_number": 170
    },
    {
     "cell_type": "code",
     "collapsed": false,
     "input": [
      "#texts"
     ],
     "language": "python",
     "metadata": {},
     "outputs": [],
     "prompt_number": 150
    },
    {
     "cell_type": "code",
     "collapsed": false,
     "input": [
      ">>> from collections import defaultdict\n",
      ">>> frequency = defaultdict(int)\n",
      "\n",
      ">>> texts = [[token for token in text]\n",
      ">>>          for text in texts]\n",
      ">>>\n",
      ">>> from pprint import pprint   # pretty-printer\n",
      "#pprint(texts)"
     ],
     "language": "python",
     "metadata": {},
     "outputs": [],
     "prompt_number": 164
    },
    {
     "cell_type": "code",
     "collapsed": false,
     "input": [
      ">>> dictionary = corpora.Dictionary(texts)\n",
      ">>> dictionary.save('/tmp/deerwester.dict') # store the dictionary, for future reference\n",
      ">>> print(dictionary)"
     ],
     "language": "python",
     "metadata": {},
     "outputs": [
      {
       "output_type": "stream",
       "stream": "stdout",
       "text": [
        "Dictionary(36 unique tokens: [u\"'\", u'-', u',', u'.', u'1']...)\n"
       ]
      }
     ],
     "prompt_number": 165
    },
    {
     "cell_type": "code",
     "collapsed": false,
     "input": [
      "corpus = [dictionary.doc2bow(t) for t in texts]"
     ],
     "language": "python",
     "metadata": {},
     "outputs": [],
     "prompt_number": 153
    },
    {
     "cell_type": "code",
     "collapsed": false,
     "input": [
      "len(corpus)\n"
     ],
     "language": "python",
     "metadata": {},
     "outputs": [
      {
       "metadata": {},
       "output_type": "pyout",
       "prompt_number": 154,
       "text": [
        "384"
       ]
      }
     ],
     "prompt_number": 154
    },
    {
     "cell_type": "code",
     "collapsed": false,
     "input": [
      "len(texts[0])"
     ],
     "language": "python",
     "metadata": {},
     "outputs": [
      {
       "metadata": {},
       "output_type": "pyout",
       "prompt_number": 155,
       "text": [
        "0"
       ]
      }
     ],
     "prompt_number": 155
    },
    {
     "cell_type": "code",
     "collapsed": false,
     "input": [
      "tfidf = models.TfidfModel(corpus)\n",
      "corpus_tfidf = tfidf[corpus]"
     ],
     "language": "python",
     "metadata": {},
     "outputs": [],
     "prompt_number": 156
    },
    {
     "cell_type": "code",
     "collapsed": false,
     "input": [
      "n_cluster = 1\n",
      "# LSI computing\n",
      "lsi = models.LsiModel(corpus_tfidf, id2word=dictionary, num_topics=n_cluster) # initialize an LSI transformation\n",
      "corpus_lsi = lsi[corpus_tfidf] # create a double wrapper over the original corpus: bow->tfidf->fold-in-lsi\n"
     ],
     "language": "python",
     "metadata": {},
     "outputs": []
    },
    {
     "cell_type": "code",
     "collapsed": false,
     "input": [
      "lsi.print_topics()"
     ],
     "language": "python",
     "metadata": {},
     "outputs": [
      {
       "metadata": {},
       "output_type": "pyout",
       "prompt_number": 158,
       "text": [
        "[u'1.000*\"vietnam\" + 0.001*\"think\" + -0.001*\"force\" + -0.001*\"military\" + -0.001*\"society\" + 0.001*\"empty\" + -0.001*\"others\" + -0.001*\"anderson\" + -0.001*\"shaped\" + -0.001*\"film\"',\n",
        " u'-0.756*\"platoon\" + -0.607*\"who\" + -0.195*\"that\" + 0.149*\"said\" + 0.003*\"is\" + 0.002*\"screenplay\" + -0.002*\"publicity\" + 0.002*\"curious\" + 0.002*\"palm\" + 0.002*\"will\"',\n",
        " u'-0.862*\"that\" + 0.479*\"who\" + -0.165*\"platoon\" + -0.013*\"said\" + -0.003*\"robert\" + -0.003*\"referring\" + 0.002*\"film\" + -0.002*\"senior\" + 0.002*\"screen\" + -0.002*\"passed\"',\n",
        " u'-0.595*\"who\" + 0.492*\"platoon\" + -0.479*\"said\" + -0.418*\"that\" + 0.004*\"jacket\" + 0.003*\"new\" + 0.003*\"passage\" + 0.002*\"think\" + -0.002*\"professor\" + -0.002*\"friedman\"',\n",
        " u'-0.865*\"said\" + -0.400*\"platoon\" + 0.218*\"who\" + 0.211*\"that\" + -0.004*\"me\" + 0.004*\"think\" + 0.004*\"winning\" + 0.004*\"gerolmo\" + 0.003*\"cried\" + -0.003*\"oliver\"']"
       ]
      }
     ],
     "prompt_number": 158
    },
    {
     "cell_type": "code",
     "collapsed": false,
     "input": [
      "lsi.print_topic(1,topn=5)"
     ],
     "language": "python",
     "metadata": {},
     "outputs": [
      {
       "metadata": {},
       "output_type": "pyout",
       "prompt_number": 172,
       "text": [
        "u'-0.756*\"platoon\" + -0.607*\"who\" + -0.195*\"that\" + 0.149*\"said\" + 0.003*\"is\"'"
       ]
      }
     ],
     "prompt_number": 172
    },
    {
     "cell_type": "code",
     "collapsed": false,
     "input": [
      "lsi.num_topics"
     ],
     "language": "python",
     "metadata": {},
     "outputs": [
      {
       "metadata": {},
       "output_type": "pyout",
       "prompt_number": 159,
       "text": [
        "5"
       ]
      }
     ],
     "prompt_number": 159
    },
    {
     "cell_type": "code",
     "collapsed": false,
     "input": [
      "#corpus"
     ],
     "language": "python",
     "metadata": {},
     "outputs": [],
     "prompt_number": 56
    },
    {
     "cell_type": "code",
     "collapsed": false,
     "input": [
      "    import time\n",
      "    import numpy as np\n",
      "    \n",
      "    n_cluster = 5\n",
      "    # LSI computing\n",
      "    t1=time.time()\n",
      "    lsi = models.LsiModel(corpus_tfidf, id2word=dictionary, num_topics=n_cluster) # initialize an LSI transformation\n",
      "    corpus_lsi = lsi[corpus_tfidf] # create a double wrapper over the original corpus: bow->tfidf->fold-in-lsi\n",
      "    t2 = time.time()\n",
      "    print 'LSI model takes {} seconds'.format(t2 - t1)\n",
      "\n",
      "    # Creating LSI Label for each document\n",
      "    lsi_topic_labels=[]\n",
      "    i = 0\n",
      "    j = 0\n",
      "\n",
      "    t1=time.time()\n",
      "    #topicmax is numpy.ndarray\n",
      "    for i,doc in enumerate(lsi[corpus_tfidf]):\n",
      "        a = np.array(doc)\n",
      "        absA= abs(a)\n",
      "        if (len(a)==0):\n",
      "            cluster_id=0\n",
      "            prob_value=0.0\n",
      "            j=j+1\n",
      "        else:\n",
      "            try:\n",
      "                topicmax = absA.argmax(axis=0)\n",
      "            except ValueError:\n",
      "                print \"ValueError at\"\n",
      "                print i\n",
      "                #print a\n",
      "            cluster_id = a[topicmax.item(1)][0]\n",
      "            prob_value = abs(a[topicmax.item(1)][1])\n",
      "\n",
      "        triple = i, cluster_id, prob_value\n",
      "        lsi_topic_labels.append(triple)\n",
      "        i=i+1\n",
      "    t2=time.time()\n",
      "    print 'lsi is taking {} seconds'.format(t2-t1)"
     ],
     "language": "python",
     "metadata": {},
     "outputs": [
      {
       "output_type": "stream",
       "stream": "stdout",
       "text": [
        "LSI model takes 0.00437808036804 seconds\n",
        "lsi is taking 0.000761985778809 seconds\n"
       ]
      }
     ],
     "prompt_number": 132
    },
    {
     "cell_type": "code",
     "collapsed": false,
     "input": [
      "    from operator import itemgetter\n",
      "    from collections import Counter\n",
      "    topics = []\n",
      "    for i in range(0, n_cluster):\n",
      "        l = lsi.print_topic(i,topn=5)\n",
      "        prob_list = [(abs(float(a[:5])),a[6:])  for a in (l.split('+ ')) if abs(float(a[:5])) > 0.3]\n",
      "        sorted(prob_list)\n",
      "        topics.append(prob_list)\n",
      "\n",
      "\n",
      "    ###MAKING READY FOR\n",
      "    cluster_topic_list = sorted(lsi_topic_labels,key=itemgetter(1,2), reverse=True)\n",
      "\n",
      "    cluster_list = sorted(lsi_topic_labels,key=lambda x: x[1])\n",
      "    counter = Counter(b for a,b,c in cluster_list)\n",
      "    counter_sort = counter.most_common(n_cluster)\n",
      "    cid_sort = [e[0] for e in counter_sort]\n",
      "\n",
      "    print 'length of lsi_topic_labels is {}'.format(len(lsi_topic_labels))\n",
      "    print 'length of cluster_list is {}'.format(len(cluster_list))\n",
      "    print 'length of counter_sort is {}'.format(len(counter_sort))\n",
      "    print 'n_cluster is {}'.format(n_cluster)\n",
      "    print 'cid_sort is {}'.format(len(cid_sort))\n"
     ],
     "language": "python",
     "metadata": {},
     "outputs": [
      {
       "ename": "ValueError",
       "evalue": "could not convert string to float: ",
       "output_type": "pyerr",
       "traceback": [
        "\u001b[0;31m---------------------------------------------------------------------------\u001b[0m\n\u001b[0;31mValueError\u001b[0m                                Traceback (most recent call last)",
        "\u001b[0;32m<ipython-input-133-12e0f096060e>\u001b[0m in \u001b[0;36m<module>\u001b[0;34m()\u001b[0m\n\u001b[1;32m      4\u001b[0m \u001b[0;32mfor\u001b[0m \u001b[0mi\u001b[0m \u001b[0;32min\u001b[0m \u001b[0mrange\u001b[0m\u001b[0;34m(\u001b[0m\u001b[0;36m0\u001b[0m\u001b[0;34m,\u001b[0m \u001b[0mn_cluster\u001b[0m\u001b[0;34m)\u001b[0m\u001b[0;34m:\u001b[0m\u001b[0;34m\u001b[0m\u001b[0m\n\u001b[1;32m      5\u001b[0m     \u001b[0ml\u001b[0m \u001b[0;34m=\u001b[0m \u001b[0mlsi\u001b[0m\u001b[0;34m.\u001b[0m\u001b[0mprint_topic\u001b[0m\u001b[0;34m(\u001b[0m\u001b[0mi\u001b[0m\u001b[0;34m,\u001b[0m\u001b[0mtopn\u001b[0m\u001b[0;34m=\u001b[0m\u001b[0;36m5\u001b[0m\u001b[0;34m)\u001b[0m\u001b[0;34m\u001b[0m\u001b[0m\n\u001b[0;32m----> 6\u001b[0;31m     \u001b[0mprob_list\u001b[0m \u001b[0;34m=\u001b[0m \u001b[0;34m[\u001b[0m\u001b[0;34m(\u001b[0m\u001b[0mabs\u001b[0m\u001b[0;34m(\u001b[0m\u001b[0mfloat\u001b[0m\u001b[0;34m(\u001b[0m\u001b[0ma\u001b[0m\u001b[0;34m[\u001b[0m\u001b[0;34m:\u001b[0m\u001b[0;36m5\u001b[0m\u001b[0;34m]\u001b[0m\u001b[0;34m)\u001b[0m\u001b[0;34m)\u001b[0m\u001b[0;34m,\u001b[0m\u001b[0ma\u001b[0m\u001b[0;34m[\u001b[0m\u001b[0;36m6\u001b[0m\u001b[0;34m:\u001b[0m\u001b[0;34m]\u001b[0m\u001b[0;34m)\u001b[0m  \u001b[0;32mfor\u001b[0m \u001b[0ma\u001b[0m \u001b[0;32min\u001b[0m \u001b[0;34m(\u001b[0m\u001b[0ml\u001b[0m\u001b[0;34m.\u001b[0m\u001b[0msplit\u001b[0m\u001b[0;34m(\u001b[0m\u001b[0;34m'+ '\u001b[0m\u001b[0;34m)\u001b[0m\u001b[0;34m)\u001b[0m \u001b[0;32mif\u001b[0m \u001b[0mabs\u001b[0m\u001b[0;34m(\u001b[0m\u001b[0mfloat\u001b[0m\u001b[0;34m(\u001b[0m\u001b[0ma\u001b[0m\u001b[0;34m[\u001b[0m\u001b[0;34m:\u001b[0m\u001b[0;36m5\u001b[0m\u001b[0;34m]\u001b[0m\u001b[0;34m)\u001b[0m\u001b[0;34m)\u001b[0m \u001b[0;34m>\u001b[0m \u001b[0;36m0.3\u001b[0m\u001b[0;34m]\u001b[0m\u001b[0;34m\u001b[0m\u001b[0m\n\u001b[0m\u001b[1;32m      7\u001b[0m     \u001b[0msorted\u001b[0m\u001b[0;34m(\u001b[0m\u001b[0mprob_list\u001b[0m\u001b[0;34m)\u001b[0m\u001b[0;34m\u001b[0m\u001b[0m\n\u001b[1;32m      8\u001b[0m     \u001b[0mtopics\u001b[0m\u001b[0;34m.\u001b[0m\u001b[0mappend\u001b[0m\u001b[0;34m(\u001b[0m\u001b[0mprob_list\u001b[0m\u001b[0;34m)\u001b[0m\u001b[0;34m\u001b[0m\u001b[0m\n",
        "\u001b[0;31mValueError\u001b[0m: could not convert string to float: "
       ]
      }
     ],
     "prompt_number": 133
    },
    {
     "cell_type": "code",
     "collapsed": false,
     "input": [
      "topics"
     ],
     "language": "python",
     "metadata": {},
     "outputs": [
      {
       "metadata": {},
       "output_type": "pyout",
       "prompt_number": 123,
       "text": [
        "[[(1.0, u'\"1960s\" ')]]"
       ]
      }
     ],
     "prompt_number": 123
    },
    {
     "cell_type": "code",
     "collapsed": false,
     "input": [],
     "language": "python",
     "metadata": {},
     "outputs": []
    }
   ],
   "metadata": {}
  }
 ]
}